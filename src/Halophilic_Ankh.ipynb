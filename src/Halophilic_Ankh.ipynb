{
  "cells": [
    {
      "cell_type": "code",
      "execution_count": null,
      "id": "WHp-FeOM0qyZ",
      "metadata": {
        "colab": {
          "base_uri": "https://localhost:8080/",
          "height": 1000
        },
        "id": "WHp-FeOM0qyZ",
        "outputId": "24e87dcb-b1f4-47d9-9762-12124292d851"
      },
      "outputs": [
        {
          "output_type": "stream",
          "name": "stdout",
          "text": [
            "Collecting tensorflow==2.12\n",
            "  Downloading tensorflow-2.12.0-cp310-cp310-manylinux_2_17_x86_64.manylinux2014_x86_64.whl (585.9 MB)\n",
            "\u001b[2K     \u001b[90m━━━━━━━━━━━━━━━━━━━━━━━━━━━━━━━━━━━━━━━━\u001b[0m \u001b[32m585.9/585.9 MB\u001b[0m \u001b[31m2.5 MB/s\u001b[0m eta \u001b[36m0:00:00\u001b[0m\n",
            "\u001b[?25hRequirement already satisfied: absl-py>=1.0.0 in /usr/local/lib/python3.10/dist-packages (from tensorflow==2.12) (1.4.0)\n",
            "Requirement already satisfied: astunparse>=1.6.0 in /usr/local/lib/python3.10/dist-packages (from tensorflow==2.12) (1.6.3)\n",
            "Requirement already satisfied: flatbuffers>=2.0 in /usr/local/lib/python3.10/dist-packages (from tensorflow==2.12) (24.3.25)\n",
            "Collecting gast<=0.4.0,>=0.2.1 (from tensorflow==2.12)\n",
            "  Downloading gast-0.4.0-py3-none-any.whl (9.8 kB)\n",
            "Requirement already satisfied: google-pasta>=0.1.1 in /usr/local/lib/python3.10/dist-packages (from tensorflow==2.12) (0.2.0)\n",
            "Requirement already satisfied: grpcio<2.0,>=1.24.3 in /usr/local/lib/python3.10/dist-packages (from tensorflow==2.12) (1.64.1)\n",
            "Requirement already satisfied: h5py>=2.9.0 in /usr/local/lib/python3.10/dist-packages (from tensorflow==2.12) (3.9.0)\n",
            "Requirement already satisfied: jax>=0.3.15 in /usr/local/lib/python3.10/dist-packages (from tensorflow==2.12) (0.4.26)\n",
            "Collecting keras<2.13,>=2.12.0 (from tensorflow==2.12)\n",
            "  Downloading keras-2.12.0-py2.py3-none-any.whl (1.7 MB)\n",
            "\u001b[2K     \u001b[90m━━━━━━━━━━━━━━━━━━━━━━━━━━━━━━━━━━━━━━━━\u001b[0m \u001b[32m1.7/1.7 MB\u001b[0m \u001b[31m62.2 MB/s\u001b[0m eta \u001b[36m0:00:00\u001b[0m\n",
            "\u001b[?25hRequirement already satisfied: libclang>=13.0.0 in /usr/local/lib/python3.10/dist-packages (from tensorflow==2.12) (18.1.1)\n",
            "Collecting numpy<1.24,>=1.22 (from tensorflow==2.12)\n",
            "  Downloading numpy-1.23.5-cp310-cp310-manylinux_2_17_x86_64.manylinux2014_x86_64.whl (17.1 MB)\n",
            "\u001b[2K     \u001b[90m━━━━━━━━━━━━━━━━━━━━━━━━━━━━━━━━━━━━━━━━\u001b[0m \u001b[32m17.1/17.1 MB\u001b[0m \u001b[31m81.5 MB/s\u001b[0m eta \u001b[36m0:00:00\u001b[0m\n",
            "\u001b[?25hRequirement already satisfied: opt-einsum>=2.3.2 in /usr/local/lib/python3.10/dist-packages (from tensorflow==2.12) (3.3.0)\n",
            "Requirement already satisfied: packaging in /usr/local/lib/python3.10/dist-packages (from tensorflow==2.12) (24.1)\n",
            "Requirement already satisfied: protobuf!=4.21.0,!=4.21.1,!=4.21.2,!=4.21.3,!=4.21.4,!=4.21.5,<5.0.0dev,>=3.20.3 in /usr/local/lib/python3.10/dist-packages (from tensorflow==2.12) (3.20.3)\n",
            "Requirement already satisfied: setuptools in /usr/local/lib/python3.10/dist-packages (from tensorflow==2.12) (67.7.2)\n",
            "Requirement already satisfied: six>=1.12.0 in /usr/local/lib/python3.10/dist-packages (from tensorflow==2.12) (1.16.0)\n",
            "Collecting tensorboard<2.13,>=2.12 (from tensorflow==2.12)\n",
            "  Downloading tensorboard-2.12.3-py3-none-any.whl (5.6 MB)\n",
            "\u001b[2K     \u001b[90m━━━━━━━━━━━━━━━━━━━━━━━━━━━━━━━━━━━━━━━━\u001b[0m \u001b[32m5.6/5.6 MB\u001b[0m \u001b[31m94.9 MB/s\u001b[0m eta \u001b[36m0:00:00\u001b[0m\n",
            "\u001b[?25hCollecting tensorflow-estimator<2.13,>=2.12.0 (from tensorflow==2.12)\n",
            "  Downloading tensorflow_estimator-2.12.0-py2.py3-none-any.whl (440 kB)\n",
            "\u001b[2K     \u001b[90m━━━━━━━━━━━━━━━━━━━━━━━━━━━━━━━━━━━━━━━━\u001b[0m \u001b[32m440.7/440.7 kB\u001b[0m \u001b[31m49.5 MB/s\u001b[0m eta \u001b[36m0:00:00\u001b[0m\n",
            "\u001b[?25hRequirement already satisfied: termcolor>=1.1.0 in /usr/local/lib/python3.10/dist-packages (from tensorflow==2.12) (2.4.0)\n",
            "Requirement already satisfied: typing-extensions>=3.6.6 in /usr/local/lib/python3.10/dist-packages (from tensorflow==2.12) (4.12.2)\n",
            "Requirement already satisfied: wrapt<1.15,>=1.11.0 in /usr/local/lib/python3.10/dist-packages (from tensorflow==2.12) (1.14.1)\n",
            "Requirement already satisfied: tensorflow-io-gcs-filesystem>=0.23.1 in /usr/local/lib/python3.10/dist-packages (from tensorflow==2.12) (0.37.0)\n",
            "Requirement already satisfied: wheel<1.0,>=0.23.0 in /usr/local/lib/python3.10/dist-packages (from astunparse>=1.6.0->tensorflow==2.12) (0.43.0)\n",
            "Requirement already satisfied: ml-dtypes>=0.2.0 in /usr/local/lib/python3.10/dist-packages (from jax>=0.3.15->tensorflow==2.12) (0.2.0)\n",
            "Requirement already satisfied: scipy>=1.9 in /usr/local/lib/python3.10/dist-packages (from jax>=0.3.15->tensorflow==2.12) (1.11.4)\n",
            "Requirement already satisfied: google-auth<3,>=1.6.3 in /usr/local/lib/python3.10/dist-packages (from tensorboard<2.13,>=2.12->tensorflow==2.12) (2.27.0)\n",
            "Collecting google-auth-oauthlib<1.1,>=0.5 (from tensorboard<2.13,>=2.12->tensorflow==2.12)\n",
            "  Downloading google_auth_oauthlib-1.0.0-py2.py3-none-any.whl (18 kB)\n",
            "Requirement already satisfied: markdown>=2.6.8 in /usr/local/lib/python3.10/dist-packages (from tensorboard<2.13,>=2.12->tensorflow==2.12) (3.6)\n",
            "Requirement already satisfied: requests<3,>=2.21.0 in /usr/local/lib/python3.10/dist-packages (from tensorboard<2.13,>=2.12->tensorflow==2.12) (2.31.0)\n",
            "Requirement already satisfied: tensorboard-data-server<0.8.0,>=0.7.0 in /usr/local/lib/python3.10/dist-packages (from tensorboard<2.13,>=2.12->tensorflow==2.12) (0.7.2)\n",
            "Requirement already satisfied: werkzeug>=1.0.1 in /usr/local/lib/python3.10/dist-packages (from tensorboard<2.13,>=2.12->tensorflow==2.12) (3.0.3)\n",
            "Requirement already satisfied: cachetools<6.0,>=2.0.0 in /usr/local/lib/python3.10/dist-packages (from google-auth<3,>=1.6.3->tensorboard<2.13,>=2.12->tensorflow==2.12) (5.3.3)\n",
            "Requirement already satisfied: pyasn1-modules>=0.2.1 in /usr/local/lib/python3.10/dist-packages (from google-auth<3,>=1.6.3->tensorboard<2.13,>=2.12->tensorflow==2.12) (0.4.0)\n",
            "Requirement already satisfied: rsa<5,>=3.1.4 in /usr/local/lib/python3.10/dist-packages (from google-auth<3,>=1.6.3->tensorboard<2.13,>=2.12->tensorflow==2.12) (4.9)\n",
            "Requirement already satisfied: requests-oauthlib>=0.7.0 in /usr/local/lib/python3.10/dist-packages (from google-auth-oauthlib<1.1,>=0.5->tensorboard<2.13,>=2.12->tensorflow==2.12) (1.3.1)\n",
            "Requirement already satisfied: charset-normalizer<4,>=2 in /usr/local/lib/python3.10/dist-packages (from requests<3,>=2.21.0->tensorboard<2.13,>=2.12->tensorflow==2.12) (3.3.2)\n",
            "Requirement already satisfied: idna<4,>=2.5 in /usr/local/lib/python3.10/dist-packages (from requests<3,>=2.21.0->tensorboard<2.13,>=2.12->tensorflow==2.12) (3.7)\n",
            "Requirement already satisfied: urllib3<3,>=1.21.1 in /usr/local/lib/python3.10/dist-packages (from requests<3,>=2.21.0->tensorboard<2.13,>=2.12->tensorflow==2.12) (2.0.7)\n",
            "Requirement already satisfied: certifi>=2017.4.17 in /usr/local/lib/python3.10/dist-packages (from requests<3,>=2.21.0->tensorboard<2.13,>=2.12->tensorflow==2.12) (2024.6.2)\n",
            "Requirement already satisfied: MarkupSafe>=2.1.1 in /usr/local/lib/python3.10/dist-packages (from werkzeug>=1.0.1->tensorboard<2.13,>=2.12->tensorflow==2.12) (2.1.5)\n",
            "Requirement already satisfied: pyasn1<0.7.0,>=0.4.6 in /usr/local/lib/python3.10/dist-packages (from pyasn1-modules>=0.2.1->google-auth<3,>=1.6.3->tensorboard<2.13,>=2.12->tensorflow==2.12) (0.6.0)\n",
            "Requirement already satisfied: oauthlib>=3.0.0 in /usr/local/lib/python3.10/dist-packages (from requests-oauthlib>=0.7.0->google-auth-oauthlib<1.1,>=0.5->tensorboard<2.13,>=2.12->tensorflow==2.12) (3.2.2)\n",
            "Installing collected packages: tensorflow-estimator, numpy, keras, gast, google-auth-oauthlib, tensorboard, tensorflow\n",
            "  Attempting uninstall: tensorflow-estimator\n",
            "    Found existing installation: tensorflow-estimator 2.15.0\n",
            "    Uninstalling tensorflow-estimator-2.15.0:\n",
            "      Successfully uninstalled tensorflow-estimator-2.15.0\n",
            "  Attempting uninstall: numpy\n",
            "    Found existing installation: numpy 1.25.2\n",
            "    Uninstalling numpy-1.25.2:\n",
            "      Successfully uninstalled numpy-1.25.2\n",
            "  Attempting uninstall: keras\n",
            "    Found existing installation: keras 2.15.0\n",
            "    Uninstalling keras-2.15.0:\n",
            "      Successfully uninstalled keras-2.15.0\n",
            "  Attempting uninstall: gast\n",
            "    Found existing installation: gast 0.5.4\n",
            "    Uninstalling gast-0.5.4:\n",
            "      Successfully uninstalled gast-0.5.4\n",
            "  Attempting uninstall: google-auth-oauthlib\n",
            "    Found existing installation: google-auth-oauthlib 1.2.0\n",
            "    Uninstalling google-auth-oauthlib-1.2.0:\n",
            "      Successfully uninstalled google-auth-oauthlib-1.2.0\n",
            "  Attempting uninstall: tensorboard\n",
            "    Found existing installation: tensorboard 2.15.2\n",
            "    Uninstalling tensorboard-2.15.2:\n",
            "      Successfully uninstalled tensorboard-2.15.2\n",
            "  Attempting uninstall: tensorflow\n",
            "    Found existing installation: tensorflow 2.15.0\n",
            "    Uninstalling tensorflow-2.15.0:\n",
            "      Successfully uninstalled tensorflow-2.15.0\n",
            "\u001b[31mERROR: pip's dependency resolver does not currently take into account all the packages that are installed. This behaviour is the source of the following dependency conflicts.\n",
            "chex 0.1.86 requires numpy>=1.24.1, but you have numpy 1.23.5 which is incompatible.\n",
            "pandas-stubs 2.0.3.230814 requires numpy>=1.25.0; python_version >= \"3.9\", but you have numpy 1.23.5 which is incompatible.\n",
            "tf-keras 2.15.1 requires tensorflow<2.16,>=2.15, but you have tensorflow 2.12.0 which is incompatible.\u001b[0m\u001b[31m\n",
            "\u001b[0mSuccessfully installed gast-0.4.0 google-auth-oauthlib-1.0.0 keras-2.12.0 numpy-1.23.5 tensorboard-2.12.3 tensorflow-2.12.0 tensorflow-estimator-2.12.0\n"
          ]
        },
        {
          "output_type": "display_data",
          "data": {
            "application/vnd.colab-display-data+json": {
              "pip_warning": {
                "packages": [
                  "numpy"
                ]
              },
              "id": "1459dbcfe0e148d7bd7300d4329e8d83"
            }
          },
          "metadata": {}
        }
      ],
      "source": [
        "pip install tensorflow==2.12"
      ]
    },
    {
      "cell_type": "markdown",
      "id": "fb6aac13",
      "metadata": {
        "id": "fb6aac13"
      },
      "source": [
        "### Setup."
      ]
    },
    {
      "cell_type": "code",
      "execution_count": null,
      "id": "GFKdaYKdgWeD",
      "metadata": {
        "colab": {
          "base_uri": "https://localhost:8080/"
        },
        "id": "GFKdaYKdgWeD",
        "outputId": "f84f88bd-0005-460b-c8e5-26ab9cbf4c29"
      },
      "outputs": [
        {
          "output_type": "stream",
          "name": "stdout",
          "text": [
            "Collecting ankh\n",
            "  Downloading ankh-1.10.0-py3-none-any.whl (31 kB)\n",
            "Collecting biopython<2.0,>=1.80 (from ankh)\n",
            "  Downloading biopython-1.83-cp310-cp310-manylinux_2_17_x86_64.manylinux2014_x86_64.whl (3.1 MB)\n",
            "\u001b[2K     \u001b[90m━━━━━━━━━━━━━━━━━━━━━━━━━━━━━━━━━━━━━━━━\u001b[0m \u001b[32m3.1/3.1 MB\u001b[0m \u001b[31m13.3 MB/s\u001b[0m eta \u001b[36m0:00:00\u001b[0m\n",
            "\u001b[?25hCollecting datasets<3.0.0,>=2.7.1 (from ankh)\n",
            "  Downloading datasets-2.20.0-py3-none-any.whl (547 kB)\n",
            "\u001b[2K     \u001b[90m━━━━━━━━━━━━━━━━━━━━━━━━━━━━━━━━━━━━━━━━\u001b[0m \u001b[32m547.8/547.8 kB\u001b[0m \u001b[31m21.4 MB/s\u001b[0m eta \u001b[36m0:00:00\u001b[0m\n",
            "\u001b[?25hRequirement already satisfied: sentencepiece<0.2.0,>=0.1.97 in /usr/local/lib/python3.10/dist-packages (from ankh) (0.1.99)\n",
            "Requirement already satisfied: transformers<5.0.0,>=4.25.1 in /usr/local/lib/python3.10/dist-packages (from ankh) (4.41.2)\n",
            "Requirement already satisfied: numpy in /usr/local/lib/python3.10/dist-packages (from biopython<2.0,>=1.80->ankh) (1.23.5)\n",
            "Requirement already satisfied: filelock in /usr/local/lib/python3.10/dist-packages (from datasets<3.0.0,>=2.7.1->ankh) (3.14.0)\n",
            "Collecting pyarrow>=15.0.0 (from datasets<3.0.0,>=2.7.1->ankh)\n",
            "  Downloading pyarrow-16.1.0-cp310-cp310-manylinux_2_28_x86_64.whl (40.8 MB)\n",
            "\u001b[2K     \u001b[90m━━━━━━━━━━━━━━━━━━━━━━━━━━━━━━━━━━━━━━━━\u001b[0m \u001b[32m40.8/40.8 MB\u001b[0m \u001b[31m41.9 MB/s\u001b[0m eta \u001b[36m0:00:00\u001b[0m\n",
            "\u001b[?25hRequirement already satisfied: pyarrow-hotfix in /usr/local/lib/python3.10/dist-packages (from datasets<3.0.0,>=2.7.1->ankh) (0.6)\n",
            "Collecting dill<0.3.9,>=0.3.0 (from datasets<3.0.0,>=2.7.1->ankh)\n",
            "  Downloading dill-0.3.8-py3-none-any.whl (116 kB)\n",
            "\u001b[2K     \u001b[90m━━━━━━━━━━━━━━━━━━━━━━━━━━━━━━━━━━━━━━━━\u001b[0m \u001b[32m116.3/116.3 kB\u001b[0m \u001b[31m21.2 MB/s\u001b[0m eta \u001b[36m0:00:00\u001b[0m\n",
            "\u001b[?25hRequirement already satisfied: pandas in /usr/local/lib/python3.10/dist-packages (from datasets<3.0.0,>=2.7.1->ankh) (2.0.3)\n",
            "Collecting requests>=2.32.2 (from datasets<3.0.0,>=2.7.1->ankh)\n",
            "  Downloading requests-2.32.3-py3-none-any.whl (64 kB)\n",
            "\u001b[2K     \u001b[90m━━━━━━━━━━━━━━━━━━━━━━━━━━━━━━━━━━━━━━━━\u001b[0m \u001b[32m64.9/64.9 kB\u001b[0m \u001b[31m11.3 MB/s\u001b[0m eta \u001b[36m0:00:00\u001b[0m\n",
            "\u001b[?25hRequirement already satisfied: tqdm>=4.66.3 in /usr/local/lib/python3.10/dist-packages (from datasets<3.0.0,>=2.7.1->ankh) (4.66.4)\n",
            "Collecting xxhash (from datasets<3.0.0,>=2.7.1->ankh)\n",
            "  Downloading xxhash-3.4.1-cp310-cp310-manylinux_2_17_x86_64.manylinux2014_x86_64.whl (194 kB)\n",
            "\u001b[2K     \u001b[90m━━━━━━━━━━━━━━━━━━━━━━━━━━━━━━━━━━━━━━━━\u001b[0m \u001b[32m194.1/194.1 kB\u001b[0m \u001b[31m30.2 MB/s\u001b[0m eta \u001b[36m0:00:00\u001b[0m\n",
            "\u001b[?25hCollecting multiprocess (from datasets<3.0.0,>=2.7.1->ankh)\n",
            "  Downloading multiprocess-0.70.16-py310-none-any.whl (134 kB)\n",
            "\u001b[2K     \u001b[90m━━━━━━━━━━━━━━━━━━━━━━━━━━━━━━━━━━━━━━━━\u001b[0m \u001b[32m134.8/134.8 kB\u001b[0m \u001b[31m23.2 MB/s\u001b[0m eta \u001b[36m0:00:00\u001b[0m\n",
            "\u001b[?25hRequirement already satisfied: fsspec[http]<=2024.5.0,>=2023.1.0 in /usr/local/lib/python3.10/dist-packages (from datasets<3.0.0,>=2.7.1->ankh) (2023.6.0)\n",
            "Requirement already satisfied: aiohttp in /usr/local/lib/python3.10/dist-packages (from datasets<3.0.0,>=2.7.1->ankh) (3.9.5)\n",
            "Requirement already satisfied: huggingface-hub>=0.21.2 in /usr/local/lib/python3.10/dist-packages (from datasets<3.0.0,>=2.7.1->ankh) (0.23.3)\n",
            "Requirement already satisfied: packaging in /usr/local/lib/python3.10/dist-packages (from datasets<3.0.0,>=2.7.1->ankh) (24.1)\n",
            "Requirement already satisfied: pyyaml>=5.1 in /usr/local/lib/python3.10/dist-packages (from datasets<3.0.0,>=2.7.1->ankh) (6.0.1)\n",
            "Requirement already satisfied: regex!=2019.12.17 in /usr/local/lib/python3.10/dist-packages (from transformers<5.0.0,>=4.25.1->ankh) (2024.5.15)\n",
            "Requirement already satisfied: tokenizers<0.20,>=0.19 in /usr/local/lib/python3.10/dist-packages (from transformers<5.0.0,>=4.25.1->ankh) (0.19.1)\n",
            "Requirement already satisfied: safetensors>=0.4.1 in /usr/local/lib/python3.10/dist-packages (from transformers<5.0.0,>=4.25.1->ankh) (0.4.3)\n",
            "Requirement already satisfied: aiosignal>=1.1.2 in /usr/local/lib/python3.10/dist-packages (from aiohttp->datasets<3.0.0,>=2.7.1->ankh) (1.3.1)\n",
            "Requirement already satisfied: attrs>=17.3.0 in /usr/local/lib/python3.10/dist-packages (from aiohttp->datasets<3.0.0,>=2.7.1->ankh) (23.2.0)\n",
            "Requirement already satisfied: frozenlist>=1.1.1 in /usr/local/lib/python3.10/dist-packages (from aiohttp->datasets<3.0.0,>=2.7.1->ankh) (1.4.1)\n",
            "Requirement already satisfied: multidict<7.0,>=4.5 in /usr/local/lib/python3.10/dist-packages (from aiohttp->datasets<3.0.0,>=2.7.1->ankh) (6.0.5)\n",
            "Requirement already satisfied: yarl<2.0,>=1.0 in /usr/local/lib/python3.10/dist-packages (from aiohttp->datasets<3.0.0,>=2.7.1->ankh) (1.9.4)\n",
            "Requirement already satisfied: async-timeout<5.0,>=4.0 in /usr/local/lib/python3.10/dist-packages (from aiohttp->datasets<3.0.0,>=2.7.1->ankh) (4.0.3)\n",
            "Requirement already satisfied: typing-extensions>=3.7.4.3 in /usr/local/lib/python3.10/dist-packages (from huggingface-hub>=0.21.2->datasets<3.0.0,>=2.7.1->ankh) (4.12.2)\n",
            "Requirement already satisfied: charset-normalizer<4,>=2 in /usr/local/lib/python3.10/dist-packages (from requests>=2.32.2->datasets<3.0.0,>=2.7.1->ankh) (3.3.2)\n",
            "Requirement already satisfied: idna<4,>=2.5 in /usr/local/lib/python3.10/dist-packages (from requests>=2.32.2->datasets<3.0.0,>=2.7.1->ankh) (3.7)\n",
            "Requirement already satisfied: urllib3<3,>=1.21.1 in /usr/local/lib/python3.10/dist-packages (from requests>=2.32.2->datasets<3.0.0,>=2.7.1->ankh) (2.0.7)\n",
            "Requirement already satisfied: certifi>=2017.4.17 in /usr/local/lib/python3.10/dist-packages (from requests>=2.32.2->datasets<3.0.0,>=2.7.1->ankh) (2024.6.2)\n",
            "Requirement already satisfied: python-dateutil>=2.8.2 in /usr/local/lib/python3.10/dist-packages (from pandas->datasets<3.0.0,>=2.7.1->ankh) (2.8.2)\n",
            "Requirement already satisfied: pytz>=2020.1 in /usr/local/lib/python3.10/dist-packages (from pandas->datasets<3.0.0,>=2.7.1->ankh) (2023.4)\n",
            "Requirement already satisfied: tzdata>=2022.1 in /usr/local/lib/python3.10/dist-packages (from pandas->datasets<3.0.0,>=2.7.1->ankh) (2024.1)\n",
            "Requirement already satisfied: six>=1.5 in /usr/local/lib/python3.10/dist-packages (from python-dateutil>=2.8.2->pandas->datasets<3.0.0,>=2.7.1->ankh) (1.16.0)\n",
            "Installing collected packages: xxhash, requests, pyarrow, dill, biopython, multiprocess, datasets, ankh\n",
            "  Attempting uninstall: requests\n",
            "    Found existing installation: requests 2.31.0\n",
            "    Uninstalling requests-2.31.0:\n",
            "      Successfully uninstalled requests-2.31.0\n",
            "  Attempting uninstall: pyarrow\n",
            "    Found existing installation: pyarrow 14.0.2\n",
            "    Uninstalling pyarrow-14.0.2:\n",
            "      Successfully uninstalled pyarrow-14.0.2\n",
            "\u001b[31mERROR: pip's dependency resolver does not currently take into account all the packages that are installed. This behaviour is the source of the following dependency conflicts.\n",
            "cudf-cu12 24.4.1 requires pyarrow<15.0.0a0,>=14.0.1, but you have pyarrow 16.1.0 which is incompatible.\n",
            "google-colab 1.0.0 requires requests==2.31.0, but you have requests 2.32.3 which is incompatible.\n",
            "ibis-framework 8.0.0 requires pyarrow<16,>=2, but you have pyarrow 16.1.0 which is incompatible.\n",
            "tf-keras 2.15.1 requires tensorflow<2.16,>=2.15, but you have tensorflow 2.12.0 which is incompatible.\u001b[0m\u001b[31m\n",
            "\u001b[0mSuccessfully installed ankh-1.10.0 biopython-1.83 datasets-2.20.0 dill-0.3.8 multiprocess-0.70.16 pyarrow-16.1.0 requests-2.32.3 xxhash-3.4.1\n"
          ]
        }
      ],
      "source": [
        "!pip install ankh"
      ]
    },
    {
      "cell_type": "code",
      "execution_count": null,
      "id": "diHwyMRFoV7F",
      "metadata": {
        "colab": {
          "base_uri": "https://localhost:8080/"
        },
        "id": "diHwyMRFoV7F",
        "outputId": "e50091a0-73a6-4378-b5e9-fd483dacdbbd"
      },
      "outputs": [
        {
          "output_type": "stream",
          "name": "stdout",
          "text": [
            "Requirement already satisfied: transformers[torch] in /usr/local/lib/python3.10/dist-packages (4.41.2)\n",
            "Requirement already satisfied: filelock in /usr/local/lib/python3.10/dist-packages (from transformers[torch]) (3.14.0)\n",
            "Requirement already satisfied: huggingface-hub<1.0,>=0.23.0 in /usr/local/lib/python3.10/dist-packages (from transformers[torch]) (0.23.3)\n",
            "Requirement already satisfied: numpy>=1.17 in /usr/local/lib/python3.10/dist-packages (from transformers[torch]) (1.23.5)\n",
            "Requirement already satisfied: packaging>=20.0 in /usr/local/lib/python3.10/dist-packages (from transformers[torch]) (24.1)\n",
            "Requirement already satisfied: pyyaml>=5.1 in /usr/local/lib/python3.10/dist-packages (from transformers[torch]) (6.0.1)\n",
            "Requirement already satisfied: regex!=2019.12.17 in /usr/local/lib/python3.10/dist-packages (from transformers[torch]) (2024.5.15)\n",
            "Requirement already satisfied: requests in /usr/local/lib/python3.10/dist-packages (from transformers[torch]) (2.32.3)\n",
            "Requirement already satisfied: tokenizers<0.20,>=0.19 in /usr/local/lib/python3.10/dist-packages (from transformers[torch]) (0.19.1)\n",
            "Requirement already satisfied: safetensors>=0.4.1 in /usr/local/lib/python3.10/dist-packages (from transformers[torch]) (0.4.3)\n",
            "Requirement already satisfied: tqdm>=4.27 in /usr/local/lib/python3.10/dist-packages (from transformers[torch]) (4.66.4)\n",
            "Requirement already satisfied: torch in /usr/local/lib/python3.10/dist-packages (from transformers[torch]) (2.3.0+cu121)\n",
            "Collecting accelerate>=0.21.0 (from transformers[torch])\n",
            "  Downloading accelerate-0.31.0-py3-none-any.whl (309 kB)\n",
            "\u001b[2K     \u001b[90m━━━━━━━━━━━━━━━━━━━━━━━━━━━━━━━━━━━━━━━━\u001b[0m \u001b[32m309.4/309.4 kB\u001b[0m \u001b[31m6.0 MB/s\u001b[0m eta \u001b[36m0:00:00\u001b[0m\n",
            "\u001b[?25hRequirement already satisfied: psutil in /usr/local/lib/python3.10/dist-packages (from accelerate>=0.21.0->transformers[torch]) (5.9.5)\n",
            "Requirement already satisfied: fsspec>=2023.5.0 in /usr/local/lib/python3.10/dist-packages (from huggingface-hub<1.0,>=0.23.0->transformers[torch]) (2023.6.0)\n",
            "Requirement already satisfied: typing-extensions>=3.7.4.3 in /usr/local/lib/python3.10/dist-packages (from huggingface-hub<1.0,>=0.23.0->transformers[torch]) (4.12.2)\n",
            "Requirement already satisfied: sympy in /usr/local/lib/python3.10/dist-packages (from torch->transformers[torch]) (1.12.1)\n",
            "Requirement already satisfied: networkx in /usr/local/lib/python3.10/dist-packages (from torch->transformers[torch]) (3.3)\n",
            "Requirement already satisfied: jinja2 in /usr/local/lib/python3.10/dist-packages (from torch->transformers[torch]) (3.1.4)\n",
            "Collecting nvidia-cuda-nvrtc-cu12==12.1.105 (from torch->transformers[torch])\n",
            "  Using cached nvidia_cuda_nvrtc_cu12-12.1.105-py3-none-manylinux1_x86_64.whl (23.7 MB)\n",
            "Collecting nvidia-cuda-runtime-cu12==12.1.105 (from torch->transformers[torch])\n",
            "  Using cached nvidia_cuda_runtime_cu12-12.1.105-py3-none-manylinux1_x86_64.whl (823 kB)\n",
            "Collecting nvidia-cuda-cupti-cu12==12.1.105 (from torch->transformers[torch])\n",
            "  Using cached nvidia_cuda_cupti_cu12-12.1.105-py3-none-manylinux1_x86_64.whl (14.1 MB)\n",
            "Collecting nvidia-cudnn-cu12==8.9.2.26 (from torch->transformers[torch])\n",
            "  Using cached nvidia_cudnn_cu12-8.9.2.26-py3-none-manylinux1_x86_64.whl (731.7 MB)\n",
            "Collecting nvidia-cublas-cu12==12.1.3.1 (from torch->transformers[torch])\n",
            "  Using cached nvidia_cublas_cu12-12.1.3.1-py3-none-manylinux1_x86_64.whl (410.6 MB)\n",
            "Collecting nvidia-cufft-cu12==11.0.2.54 (from torch->transformers[torch])\n",
            "  Using cached nvidia_cufft_cu12-11.0.2.54-py3-none-manylinux1_x86_64.whl (121.6 MB)\n",
            "Collecting nvidia-curand-cu12==10.3.2.106 (from torch->transformers[torch])\n",
            "  Using cached nvidia_curand_cu12-10.3.2.106-py3-none-manylinux1_x86_64.whl (56.5 MB)\n",
            "Collecting nvidia-cusolver-cu12==11.4.5.107 (from torch->transformers[torch])\n",
            "  Using cached nvidia_cusolver_cu12-11.4.5.107-py3-none-manylinux1_x86_64.whl (124.2 MB)\n",
            "Collecting nvidia-cusparse-cu12==12.1.0.106 (from torch->transformers[torch])\n",
            "  Using cached nvidia_cusparse_cu12-12.1.0.106-py3-none-manylinux1_x86_64.whl (196.0 MB)\n",
            "Collecting nvidia-nccl-cu12==2.20.5 (from torch->transformers[torch])\n",
            "  Using cached nvidia_nccl_cu12-2.20.5-py3-none-manylinux2014_x86_64.whl (176.2 MB)\n",
            "Collecting nvidia-nvtx-cu12==12.1.105 (from torch->transformers[torch])\n",
            "  Using cached nvidia_nvtx_cu12-12.1.105-py3-none-manylinux1_x86_64.whl (99 kB)\n",
            "Requirement already satisfied: triton==2.3.0 in /usr/local/lib/python3.10/dist-packages (from torch->transformers[torch]) (2.3.0)\n",
            "Collecting nvidia-nvjitlink-cu12 (from nvidia-cusolver-cu12==11.4.5.107->torch->transformers[torch])\n",
            "  Downloading nvidia_nvjitlink_cu12-12.5.40-py3-none-manylinux2014_x86_64.whl (21.3 MB)\n",
            "\u001b[2K     \u001b[90m━━━━━━━━━━━━━━━━━━━━━━━━━━━━━━━━━━━━━━━━\u001b[0m \u001b[32m21.3/21.3 MB\u001b[0m \u001b[31m58.2 MB/s\u001b[0m eta \u001b[36m0:00:00\u001b[0m\n",
            "\u001b[?25hRequirement already satisfied: charset-normalizer<4,>=2 in /usr/local/lib/python3.10/dist-packages (from requests->transformers[torch]) (3.3.2)\n",
            "Requirement already satisfied: idna<4,>=2.5 in /usr/local/lib/python3.10/dist-packages (from requests->transformers[torch]) (3.7)\n",
            "Requirement already satisfied: urllib3<3,>=1.21.1 in /usr/local/lib/python3.10/dist-packages (from requests->transformers[torch]) (2.0.7)\n",
            "Requirement already satisfied: certifi>=2017.4.17 in /usr/local/lib/python3.10/dist-packages (from requests->transformers[torch]) (2024.6.2)\n",
            "Requirement already satisfied: MarkupSafe>=2.0 in /usr/local/lib/python3.10/dist-packages (from jinja2->torch->transformers[torch]) (2.1.5)\n",
            "Requirement already satisfied: mpmath<1.4.0,>=1.1.0 in /usr/local/lib/python3.10/dist-packages (from sympy->torch->transformers[torch]) (1.3.0)\n",
            "Installing collected packages: nvidia-nvtx-cu12, nvidia-nvjitlink-cu12, nvidia-nccl-cu12, nvidia-curand-cu12, nvidia-cufft-cu12, nvidia-cuda-runtime-cu12, nvidia-cuda-nvrtc-cu12, nvidia-cuda-cupti-cu12, nvidia-cublas-cu12, nvidia-cusparse-cu12, nvidia-cudnn-cu12, nvidia-cusolver-cu12, accelerate\n",
            "Successfully installed accelerate-0.31.0 nvidia-cublas-cu12-12.1.3.1 nvidia-cuda-cupti-cu12-12.1.105 nvidia-cuda-nvrtc-cu12-12.1.105 nvidia-cuda-runtime-cu12-12.1.105 nvidia-cudnn-cu12-8.9.2.26 nvidia-cufft-cu12-11.0.2.54 nvidia-curand-cu12-10.3.2.106 nvidia-cusolver-cu12-11.4.5.107 nvidia-cusparse-cu12-12.1.0.106 nvidia-nccl-cu12-2.20.5 nvidia-nvjitlink-cu12-12.5.40 nvidia-nvtx-cu12-12.1.105\n"
          ]
        }
      ],
      "source": [
        "!pip install transformers[torch]"
      ]
    },
    {
      "cell_type": "code",
      "execution_count": null,
      "id": "qsR4U9Iw0yMB",
      "metadata": {
        "colab": {
          "base_uri": "https://localhost:8080/"
        },
        "id": "qsR4U9Iw0yMB",
        "outputId": "9e642fdb-973a-47f4-bfaf-0ddbeb206ffb"
      },
      "outputs": [
        {
          "output_type": "stream",
          "name": "stdout",
          "text": [
            "Collecting xlsxwriter\n",
            "  Downloading XlsxWriter-3.2.0-py3-none-any.whl (159 kB)\n",
            "\u001b[2K     \u001b[90m━━━━━━━━━━━━━━━━━━━━━━━━━━━━━━━━━━━━━━━━\u001b[0m \u001b[32m159.9/159.9 kB\u001b[0m \u001b[31m312.7 kB/s\u001b[0m eta \u001b[36m0:00:00\u001b[0m\n",
            "\u001b[?25hInstalling collected packages: xlsxwriter\n",
            "Successfully installed xlsxwriter-3.2.0\n"
          ]
        }
      ],
      "source": [
        "!pip install xlsxwriter"
      ]
    },
    {
      "cell_type": "code",
      "execution_count": null,
      "id": "cEO_MFcFfY7z",
      "metadata": {
        "colab": {
          "base_uri": "https://localhost:8080/"
        },
        "id": "cEO_MFcFfY7z",
        "outputId": "a8ad27be-ae8d-4c43-aa10-39c802414037"
      },
      "outputs": [
        {
          "output_type": "stream",
          "name": "stdout",
          "text": [
            "Collecting sklearn-evaluation\n",
            "  Downloading sklearn_evaluation-0.12.1-py3-none-any.whl (111 kB)\n",
            "\u001b[2K     \u001b[90m━━━━━━━━━━━━━━━━━━━━━━━━━━━━━━━━━━━━━━━━\u001b[0m \u001b[32m111.2/111.2 kB\u001b[0m \u001b[31m3.7 MB/s\u001b[0m eta \u001b[36m0:00:00\u001b[0m\n",
            "\u001b[?25hCollecting ploomber-core>=0.2.6 (from sklearn-evaluation)\n",
            "  Downloading ploomber_core-0.2.25-py3-none-any.whl (22 kB)\n",
            "Collecting ploomber-extension (from sklearn-evaluation)\n",
            "  Downloading ploomber_extension-0.1.1-py3-none-any.whl (193 kB)\n",
            "\u001b[2K     \u001b[90m━━━━━━━━━━━━━━━━━━━━━━━━━━━━━━━━━━━━━━━━\u001b[0m \u001b[32m193.1/193.1 kB\u001b[0m \u001b[31m7.9 MB/s\u001b[0m eta \u001b[36m0:00:00\u001b[0m\n",
            "\u001b[?25hRequirement already satisfied: scikit-learn in /usr/local/lib/python3.10/dist-packages (from sklearn-evaluation) (1.2.2)\n",
            "Requirement already satisfied: matplotlib in /usr/local/lib/python3.10/dist-packages (from sklearn-evaluation) (3.7.1)\n",
            "Requirement already satisfied: decorator in /usr/local/lib/python3.10/dist-packages (from sklearn-evaluation) (4.4.2)\n",
            "Requirement already satisfied: tabulate in /usr/local/lib/python3.10/dist-packages (from sklearn-evaluation) (0.9.0)\n",
            "Requirement already satisfied: jinja2 in /usr/local/lib/python3.10/dist-packages (from sklearn-evaluation) (3.1.4)\n",
            "Requirement already satisfied: mistune in /usr/local/lib/python3.10/dist-packages (from sklearn-evaluation) (0.8.4)\n",
            "Requirement already satisfied: pandas in /usr/local/lib/python3.10/dist-packages (from sklearn-evaluation) (2.0.3)\n",
            "Requirement already satisfied: nbformat in /usr/local/lib/python3.10/dist-packages (from sklearn-evaluation) (5.10.4)\n",
            "Requirement already satisfied: ipython in /usr/local/lib/python3.10/dist-packages (from sklearn-evaluation) (7.34.0)\n",
            "Collecting black (from sklearn-evaluation)\n",
            "  Downloading black-24.4.2-cp310-cp310-manylinux_2_17_x86_64.manylinux2014_x86_64.whl (1.8 MB)\n",
            "\u001b[2K     \u001b[90m━━━━━━━━━━━━━━━━━━━━━━━━━━━━━━━━━━━━━━━━\u001b[0m \u001b[32m1.8/1.8 MB\u001b[0m \u001b[31m14.3 MB/s\u001b[0m eta \u001b[36m0:00:00\u001b[0m\n",
            "\u001b[?25hRequirement already satisfied: parso in /usr/local/lib/python3.10/dist-packages (from sklearn-evaluation) (0.8.4)\n",
            "Requirement already satisfied: pyyaml in /usr/local/lib/python3.10/dist-packages (from ploomber-core>=0.2.6->sklearn-evaluation) (6.0.1)\n",
            "Collecting posthog (from ploomber-core>=0.2.6->sklearn-evaluation)\n",
            "  Downloading posthog-3.5.0-py2.py3-none-any.whl (41 kB)\n",
            "\u001b[2K     \u001b[90m━━━━━━━━━━━━━━━━━━━━━━━━━━━━━━━━━━━━━━━━\u001b[0m \u001b[32m41.3/41.3 kB\u001b[0m \u001b[31m7.1 MB/s\u001b[0m eta \u001b[36m0:00:00\u001b[0m\n",
            "\u001b[?25hRequirement already satisfied: click>=8.0.0 in /usr/local/lib/python3.10/dist-packages (from black->sklearn-evaluation) (8.1.7)\n",
            "Collecting mypy-extensions>=0.4.3 (from black->sklearn-evaluation)\n",
            "  Downloading mypy_extensions-1.0.0-py3-none-any.whl (4.7 kB)\n",
            "Requirement already satisfied: packaging>=22.0 in /usr/local/lib/python3.10/dist-packages (from black->sklearn-evaluation) (24.1)\n",
            "Collecting pathspec>=0.9.0 (from black->sklearn-evaluation)\n",
            "  Downloading pathspec-0.12.1-py3-none-any.whl (31 kB)\n",
            "Requirement already satisfied: platformdirs>=2 in /usr/local/lib/python3.10/dist-packages (from black->sklearn-evaluation) (4.2.2)\n",
            "Requirement already satisfied: tomli>=1.1.0 in /usr/local/lib/python3.10/dist-packages (from black->sklearn-evaluation) (2.0.1)\n",
            "Requirement already satisfied: typing-extensions>=4.0.1 in /usr/local/lib/python3.10/dist-packages (from black->sklearn-evaluation) (4.12.2)\n",
            "Requirement already satisfied: setuptools>=18.5 in /usr/local/lib/python3.10/dist-packages (from ipython->sklearn-evaluation) (67.7.2)\n",
            "Collecting jedi>=0.16 (from ipython->sklearn-evaluation)\n",
            "  Downloading jedi-0.19.1-py2.py3-none-any.whl (1.6 MB)\n",
            "\u001b[2K     \u001b[90m━━━━━━━━━━━━━━━━━━━━━━━━━━━━━━━━━━━━━━━━\u001b[0m \u001b[32m1.6/1.6 MB\u001b[0m \u001b[31m23.9 MB/s\u001b[0m eta \u001b[36m0:00:00\u001b[0m\n",
            "\u001b[?25hRequirement already satisfied: pickleshare in /usr/local/lib/python3.10/dist-packages (from ipython->sklearn-evaluation) (0.7.5)\n",
            "Requirement already satisfied: traitlets>=4.2 in /usr/local/lib/python3.10/dist-packages (from ipython->sklearn-evaluation) (5.7.1)\n",
            "Requirement already satisfied: prompt-toolkit!=3.0.0,!=3.0.1,<3.1.0,>=2.0.0 in /usr/local/lib/python3.10/dist-packages (from ipython->sklearn-evaluation) (3.0.47)\n",
            "Requirement already satisfied: pygments in /usr/local/lib/python3.10/dist-packages (from ipython->sklearn-evaluation) (2.16.1)\n",
            "Requirement already satisfied: backcall in /usr/local/lib/python3.10/dist-packages (from ipython->sklearn-evaluation) (0.2.0)\n",
            "Requirement already satisfied: matplotlib-inline in /usr/local/lib/python3.10/dist-packages (from ipython->sklearn-evaluation) (0.1.7)\n",
            "Requirement already satisfied: pexpect>4.3 in /usr/local/lib/python3.10/dist-packages (from ipython->sklearn-evaluation) (4.9.0)\n",
            "Requirement already satisfied: MarkupSafe>=2.0 in /usr/local/lib/python3.10/dist-packages (from jinja2->sklearn-evaluation) (2.1.5)\n",
            "Requirement already satisfied: contourpy>=1.0.1 in /usr/local/lib/python3.10/dist-packages (from matplotlib->sklearn-evaluation) (1.2.1)\n",
            "Requirement already satisfied: cycler>=0.10 in /usr/local/lib/python3.10/dist-packages (from matplotlib->sklearn-evaluation) (0.12.1)\n",
            "Requirement already satisfied: fonttools>=4.22.0 in /usr/local/lib/python3.10/dist-packages (from matplotlib->sklearn-evaluation) (4.53.0)\n",
            "Requirement already satisfied: kiwisolver>=1.0.1 in /usr/local/lib/python3.10/dist-packages (from matplotlib->sklearn-evaluation) (1.4.5)\n",
            "Requirement already satisfied: numpy>=1.20 in /usr/local/lib/python3.10/dist-packages (from matplotlib->sklearn-evaluation) (1.23.5)\n",
            "Requirement already satisfied: pillow>=6.2.0 in /usr/local/lib/python3.10/dist-packages (from matplotlib->sklearn-evaluation) (9.4.0)\n",
            "Requirement already satisfied: pyparsing>=2.3.1 in /usr/local/lib/python3.10/dist-packages (from matplotlib->sklearn-evaluation) (3.1.2)\n",
            "Requirement already satisfied: python-dateutil>=2.7 in /usr/local/lib/python3.10/dist-packages (from matplotlib->sklearn-evaluation) (2.8.2)\n",
            "Requirement already satisfied: fastjsonschema>=2.15 in /usr/local/lib/python3.10/dist-packages (from nbformat->sklearn-evaluation) (2.19.1)\n",
            "Requirement already satisfied: jsonschema>=2.6 in /usr/local/lib/python3.10/dist-packages (from nbformat->sklearn-evaluation) (4.19.2)\n",
            "Requirement already satisfied: jupyter-core!=5.0.*,>=4.12 in /usr/local/lib/python3.10/dist-packages (from nbformat->sklearn-evaluation) (5.7.2)\n",
            "Requirement already satisfied: pytz>=2020.1 in /usr/local/lib/python3.10/dist-packages (from pandas->sklearn-evaluation) (2023.4)\n",
            "Requirement already satisfied: tzdata>=2022.1 in /usr/local/lib/python3.10/dist-packages (from pandas->sklearn-evaluation) (2024.1)\n",
            "Requirement already satisfied: scipy>=1.3.2 in /usr/local/lib/python3.10/dist-packages (from scikit-learn->sklearn-evaluation) (1.11.4)\n",
            "Requirement already satisfied: joblib>=1.1.1 in /usr/local/lib/python3.10/dist-packages (from scikit-learn->sklearn-evaluation) (1.4.2)\n",
            "Requirement already satisfied: threadpoolctl>=2.0.0 in /usr/local/lib/python3.10/dist-packages (from scikit-learn->sklearn-evaluation) (3.5.0)\n",
            "Requirement already satisfied: attrs>=22.2.0 in /usr/local/lib/python3.10/dist-packages (from jsonschema>=2.6->nbformat->sklearn-evaluation) (23.2.0)\n",
            "Requirement already satisfied: jsonschema-specifications>=2023.03.6 in /usr/local/lib/python3.10/dist-packages (from jsonschema>=2.6->nbformat->sklearn-evaluation) (2023.12.1)\n",
            "Requirement already satisfied: referencing>=0.28.4 in /usr/local/lib/python3.10/dist-packages (from jsonschema>=2.6->nbformat->sklearn-evaluation) (0.35.1)\n",
            "Requirement already satisfied: rpds-py>=0.7.1 in /usr/local/lib/python3.10/dist-packages (from jsonschema>=2.6->nbformat->sklearn-evaluation) (0.18.1)\n",
            "Requirement already satisfied: ptyprocess>=0.5 in /usr/local/lib/python3.10/dist-packages (from pexpect>4.3->ipython->sklearn-evaluation) (0.7.0)\n",
            "Requirement already satisfied: wcwidth in /usr/local/lib/python3.10/dist-packages (from prompt-toolkit!=3.0.0,!=3.0.1,<3.1.0,>=2.0.0->ipython->sklearn-evaluation) (0.2.13)\n",
            "Requirement already satisfied: six>=1.5 in /usr/local/lib/python3.10/dist-packages (from python-dateutil>=2.7->matplotlib->sklearn-evaluation) (1.16.0)\n",
            "Requirement already satisfied: requests<3.0,>=2.7 in /usr/local/lib/python3.10/dist-packages (from posthog->ploomber-core>=0.2.6->sklearn-evaluation) (2.32.3)\n",
            "Collecting monotonic>=1.5 (from posthog->ploomber-core>=0.2.6->sklearn-evaluation)\n",
            "  Downloading monotonic-1.6-py2.py3-none-any.whl (8.2 kB)\n",
            "Collecting backoff>=1.10.0 (from posthog->ploomber-core>=0.2.6->sklearn-evaluation)\n",
            "  Downloading backoff-2.2.1-py3-none-any.whl (15 kB)\n",
            "Requirement already satisfied: charset-normalizer<4,>=2 in /usr/local/lib/python3.10/dist-packages (from requests<3.0,>=2.7->posthog->ploomber-core>=0.2.6->sklearn-evaluation) (3.3.2)\n",
            "Requirement already satisfied: idna<4,>=2.5 in /usr/local/lib/python3.10/dist-packages (from requests<3.0,>=2.7->posthog->ploomber-core>=0.2.6->sklearn-evaluation) (3.7)\n",
            "Requirement already satisfied: urllib3<3,>=1.21.1 in /usr/local/lib/python3.10/dist-packages (from requests<3.0,>=2.7->posthog->ploomber-core>=0.2.6->sklearn-evaluation) (2.0.7)\n",
            "Requirement already satisfied: certifi>=2017.4.17 in /usr/local/lib/python3.10/dist-packages (from requests<3.0,>=2.7->posthog->ploomber-core>=0.2.6->sklearn-evaluation) (2024.6.2)\n",
            "Installing collected packages: monotonic, pathspec, mypy-extensions, jedi, backoff, posthog, black, ploomber-core, ploomber-extension, sklearn-evaluation\n",
            "Successfully installed backoff-2.2.1 black-24.4.2 jedi-0.19.1 monotonic-1.6 mypy-extensions-1.0.0 pathspec-0.12.1 ploomber-core-0.2.25 ploomber-extension-0.1.1 posthog-3.5.0 sklearn-evaluation-0.12.1\n"
          ]
        }
      ],
      "source": [
        "!pip install sklearn-evaluation"
      ]
    },
    {
      "cell_type": "code",
      "execution_count": null,
      "id": "0f7cbaad",
      "metadata": {
        "id": "0f7cbaad",
        "colab": {
          "base_uri": "https://localhost:8080/"
        },
        "outputId": "9d1e817f-dc4d-4394-b500-a8f6be0afe45"
      },
      "outputs": [
        {
          "output_type": "stream",
          "name": "stdout",
          "text": [
            "Deploy Flask apps for free on Ploomber Cloud! Learn more: https://ploomber.io/s/signup\n"
          ]
        }
      ],
      "source": [
        "import os\n",
        "os.environ[\"CUBLAS_WORKSPACE_CONFIG\"] = \":4096:8\"\n",
        "os.environ['CUDA_VISIBLE_DEVICES'] = '0'\n",
        "\n",
        "import torch\n",
        "import numpy as np\n",
        "import random\n",
        "\n",
        "seed = 7\n",
        "\n",
        "torch.manual_seed(seed)\n",
        "np.random.seed(seed)\n",
        "random.seed(seed)\n",
        "\n",
        "import ankh\n",
        "\n",
        "from torch import nn\n",
        "from torch.utils.data import Dataset, DataLoader\n",
        "\n",
        "from transformers import Trainer, TrainingArguments, EvalPrediction\n",
        "from datasets import load_dataset\n",
        "\n",
        "from sklearn import metrics\n",
        "from scipy import stats\n",
        "from functools import partial\n",
        "import pandas as pd\n",
        "from tqdm.auto import tqdm\n",
        "\n",
        "from sklearn.metrics import matthews_corrcoef\n",
        "from sklearn.model_selection import cross_val_score\n",
        "from sklearn_evaluation import plot\n",
        "from sklearn.metrics import accuracy_score, make_scorer, f1_score"
      ]
    },
    {
      "cell_type": "code",
      "execution_count": null,
      "id": "838401df",
      "metadata": {
        "id": "838401df"
      },
      "outputs": [],
      "source": [
        "def get_num_params(model):\n",
        "    return sum(p.numel() for p in model.parameters())"
      ]
    },
    {
      "cell_type": "code",
      "execution_count": null,
      "id": "JwkWFNjb08mV",
      "metadata": {
        "colab": {
          "base_uri": "https://localhost:8080/"
        },
        "id": "JwkWFNjb08mV",
        "outputId": "e6fea78a-3108-49f2-d1a0-022ba82b133c"
      },
      "outputs": [
        {
          "output_type": "stream",
          "name": "stdout",
          "text": [
            "Mounted at /content/drive\n"
          ]
        }
      ],
      "source": [
        "from google.colab import drive\n",
        "drive.mount('/content/drive')"
      ]
    },
    {
      "cell_type": "markdown",
      "id": "916de6b1",
      "metadata": {
        "id": "916de6b1"
      },
      "source": [
        "### Select the available device."
      ]
    },
    {
      "cell_type": "code",
      "execution_count": null,
      "id": "79c4b596",
      "metadata": {
        "colab": {
          "base_uri": "https://localhost:8080/"
        },
        "id": "79c4b596",
        "outputId": "93eb80da-3005-428e-ed3d-ab56e305e161"
      },
      "outputs": [
        {
          "output_type": "stream",
          "name": "stdout",
          "text": [
            "Available device: cuda:0\n"
          ]
        }
      ],
      "source": [
        "device = torch.device('cuda:0' if torch.cuda.is_available() else 'cpu')\n",
        "print('Available device:', device)"
      ]
    },
    {
      "cell_type": "markdown",
      "id": "079738e9",
      "metadata": {
        "id": "079738e9"
      },
      "source": [
        "### Load Ankh large model."
      ]
    },
    {
      "cell_type": "code",
      "execution_count": null,
      "id": "25b0c494",
      "metadata": {
        "colab": {
          "base_uri": "https://localhost:8080/",
          "referenced_widgets": [
            "4f87d42f77af4c9e861291968766860f",
            "7bd94016048d4ef6b03315a2d8d2004d",
            "3110a587af094092af6b30242b81be57",
            "f820a008a2654a26a62e010fd6a580c2",
            "7afdb8a199d644e8b9ee911ddb3413b9",
            "446c5b25f9344d048895d257ca3967b1",
            "0fdaa3cf16d341888aa427cc01d66f39",
            "1bb7a61d612f4348b5f11f50af804653",
            "63715e73931c46f9835517cea227d23c",
            "ab00bb16062e448cad47c34f96b29ee4",
            "abd91905d1d34e368459dff171f9e6c5",
            "f3fad6b95ee044119da29a8fb30d2311",
            "4171937285ba44c08244fdf9a90b9282",
            "01e42c1bbdbe41db8e86af2652dfb9d1",
            "b48668823aef46e0aa4a3294274bd3f3",
            "dd9cdfe38dbd434aba13dd1d484617c1",
            "065f36a951b04766908d9dd54d43c959",
            "94521ac20c4348258f0989525a8fe75e",
            "d06c2f8c7328492a884e3948252d6b89",
            "c558187fe42c45f98e603e9294728083",
            "40417f583bbd45a8b80532959b5f79bf",
            "72e31d16eb3b4f66964ca74b8ed3f25e",
            "5428e117562f469d8eb1abcbb1c62967",
            "2b83506ff81d4d71bb159e96d174a474",
            "88b01fcf17794fd6a8f1b5e09ea6153f",
            "f371a1f2d76b42ec9a93f2259ee6ff64",
            "6fe4017833c745e28619e72712840b66",
            "d956c67f468e4651b3a79285f7985274",
            "198a35f133ff4576bebb68dbc685838a",
            "c11a2f4f57714945af2ee3530c5e999b",
            "18ae3cd6e8e44d948ac97ea061967d23",
            "e48446532d244c2f9d8741265f9d41fc",
            "607a3c6c8a7b4eb2a2b3027c63fffa0c",
            "3a7227c7e9cd42d998b2e96804d35bcd",
            "e45e0da6ec1b4e9588427da85e056099",
            "fcbe55b64a9f457689d503b70805d328",
            "dbfc0d64247f42379a2a20f9adeba7f3",
            "baad3a5a54a148fba2baca5715235f85",
            "a48ea3207c944cb2b796b14661bd141d",
            "3973c595a3c34e6285551b1ff1305662",
            "5d4d7d06269646ec9c941bfedc277a18",
            "b7e31f6e5f614814871b79868fee997a",
            "9d76f7eaec424593b5c6faebfce935f3",
            "984cece49a2c41c6a3874f2bbfdccad8",
            "a543d1d50f5d4a42a06be92d0f059256",
            "9e56d9a469c044ba8917dff9904d5736",
            "12fb9600071c40d1be090d85b47200da",
            "50dabbb7ced94251816ebbc81c09980f",
            "dec96ceaf76a4d568a6cd97b5dc89807",
            "fb90e00e4e6a47599079daabefd3cc1b",
            "24fd9f2ac95943ff80fde9c2ee5da617",
            "6247e3b2eab444dba432758d956b7b6b",
            "00cfe8e6000346779801fad44d46f5fe",
            "d9b6045f568747988d35d98c4958e96b",
            "4596ebb310cd4bf6ab8b6e76e97048ef"
          ]
        },
        "id": "25b0c494",
        "outputId": "33a1ee00-da49-41cd-9806-896fe0aee6a7"
      },
      "outputs": [
        {
          "output_type": "stream",
          "name": "stderr",
          "text": [
            "/usr/local/lib/python3.10/dist-packages/huggingface_hub/utils/_token.py:89: UserWarning: \n",
            "The secret `HF_TOKEN` does not exist in your Colab secrets.\n",
            "To authenticate with the Hugging Face Hub, create a token in your settings tab (https://huggingface.co/settings/tokens), set it as secret in your Google Colab and restart your session.\n",
            "You will be able to reuse this secret in all of your notebooks.\n",
            "Please note that authentication is recommended but still optional to access public models or datasets.\n",
            "  warnings.warn(\n"
          ]
        },
        {
          "output_type": "display_data",
          "data": {
            "text/plain": [
              "tokenizer_config.json:   0%|          | 0.00/2.85k [00:00<?, ?B/s]"
            ],
            "application/vnd.jupyter.widget-view+json": {
              "version_major": 2,
              "version_minor": 0,
              "model_id": "4f87d42f77af4c9e861291968766860f"
            }
          },
          "metadata": {}
        },
        {
          "output_type": "display_data",
          "data": {
            "text/plain": [
              "tokenizer.json:   0%|          | 0.00/31.2k [00:00<?, ?B/s]"
            ],
            "application/vnd.jupyter.widget-view+json": {
              "version_major": 2,
              "version_minor": 0,
              "model_id": "f3fad6b95ee044119da29a8fb30d2311"
            }
          },
          "metadata": {}
        },
        {
          "output_type": "display_data",
          "data": {
            "text/plain": [
              "special_tokens_map.json:   0%|          | 0.00/2.58k [00:00<?, ?B/s]"
            ],
            "application/vnd.jupyter.widget-view+json": {
              "version_major": 2,
              "version_minor": 0,
              "model_id": "5428e117562f469d8eb1abcbb1c62967"
            }
          },
          "metadata": {}
        },
        {
          "output_type": "display_data",
          "data": {
            "text/plain": [
              "config.json:   0%|          | 0.00/849 [00:00<?, ?B/s]"
            ],
            "application/vnd.jupyter.widget-view+json": {
              "version_major": 2,
              "version_minor": 0,
              "model_id": "3a7227c7e9cd42d998b2e96804d35bcd"
            }
          },
          "metadata": {}
        },
        {
          "output_type": "display_data",
          "data": {
            "text/plain": [
              "pytorch_model.bin:   0%|          | 0.00/7.52G [00:00<?, ?B/s]"
            ],
            "application/vnd.jupyter.widget-view+json": {
              "version_major": 2,
              "version_minor": 0,
              "model_id": "a543d1d50f5d4a42a06be92d0f059256"
            }
          },
          "metadata": {}
        },
        {
          "output_type": "execute_result",
          "data": {
            "text/plain": [
              "T5EncoderModel(\n",
              "  (shared): Embedding(144, 1536)\n",
              "  (encoder): T5Stack(\n",
              "    (embed_tokens): Embedding(144, 1536)\n",
              "    (block): ModuleList(\n",
              "      (0): T5Block(\n",
              "        (layer): ModuleList(\n",
              "          (0): T5LayerSelfAttention(\n",
              "            (SelfAttention): T5Attention(\n",
              "              (q): Linear(in_features=1536, out_features=1024, bias=False)\n",
              "              (k): Linear(in_features=1536, out_features=1024, bias=False)\n",
              "              (v): Linear(in_features=1536, out_features=1024, bias=False)\n",
              "              (o): Linear(in_features=1024, out_features=1536, bias=False)\n",
              "              (relative_attention_bias): Embedding(64, 16)\n",
              "            )\n",
              "            (layer_norm): T5LayerNorm()\n",
              "            (dropout): Dropout(p=0.0, inplace=False)\n",
              "          )\n",
              "          (1): T5LayerFF(\n",
              "            (DenseReluDense): T5DenseGatedActDense(\n",
              "              (wi_0): Linear(in_features=1536, out_features=3840, bias=False)\n",
              "              (wi_1): Linear(in_features=1536, out_features=3840, bias=False)\n",
              "              (wo): Linear(in_features=3840, out_features=1536, bias=False)\n",
              "              (dropout): Dropout(p=0.0, inplace=False)\n",
              "              (act): NewGELUActivation()\n",
              "            )\n",
              "            (layer_norm): T5LayerNorm()\n",
              "            (dropout): Dropout(p=0.0, inplace=False)\n",
              "          )\n",
              "        )\n",
              "      )\n",
              "      (1-47): 47 x T5Block(\n",
              "        (layer): ModuleList(\n",
              "          (0): T5LayerSelfAttention(\n",
              "            (SelfAttention): T5Attention(\n",
              "              (q): Linear(in_features=1536, out_features=1024, bias=False)\n",
              "              (k): Linear(in_features=1536, out_features=1024, bias=False)\n",
              "              (v): Linear(in_features=1536, out_features=1024, bias=False)\n",
              "              (o): Linear(in_features=1024, out_features=1536, bias=False)\n",
              "            )\n",
              "            (layer_norm): T5LayerNorm()\n",
              "            (dropout): Dropout(p=0.0, inplace=False)\n",
              "          )\n",
              "          (1): T5LayerFF(\n",
              "            (DenseReluDense): T5DenseGatedActDense(\n",
              "              (wi_0): Linear(in_features=1536, out_features=3840, bias=False)\n",
              "              (wi_1): Linear(in_features=1536, out_features=3840, bias=False)\n",
              "              (wo): Linear(in_features=3840, out_features=1536, bias=False)\n",
              "              (dropout): Dropout(p=0.0, inplace=False)\n",
              "              (act): NewGELUActivation()\n",
              "            )\n",
              "            (layer_norm): T5LayerNorm()\n",
              "            (dropout): Dropout(p=0.0, inplace=False)\n",
              "          )\n",
              "        )\n",
              "      )\n",
              "    )\n",
              "    (final_layer_norm): T5LayerNorm()\n",
              "    (dropout): Dropout(p=0.0, inplace=False)\n",
              "  )\n",
              ")"
            ]
          },
          "metadata": {},
          "execution_count": 9
        }
      ],
      "source": [
        "model, tokenizer = ankh.load_large_model()\n",
        "model.eval()\n",
        "model.to(device=device)"
      ]
    },
    {
      "cell_type": "code",
      "execution_count": null,
      "id": "fb329135",
      "metadata": {
        "colab": {
          "base_uri": "https://localhost:8080/"
        },
        "id": "fb329135",
        "outputId": "f60eff42-0315-4a26-aea1-5885452bad20"
      },
      "outputs": [
        {
          "output_type": "stream",
          "name": "stdout",
          "text": [
            "Number of parameters: 1151707648\n"
          ]
        }
      ],
      "source": [
        "print(f\"Number of parameters:\", get_num_params(model))"
      ]
    },
    {
      "cell_type": "markdown",
      "id": "1TeyXZQ6FowR",
      "metadata": {
        "id": "1TeyXZQ6FowR"
      },
      "source": [
        "# Load Data"
      ]
    },
    {
      "cell_type": "code",
      "execution_count": null,
      "id": "muVoUE5CFsF8",
      "metadata": {
        "colab": {
          "base_uri": "https://localhost:8080/"
        },
        "id": "muVoUE5CFsF8",
        "outputId": "70a69e67-f9c2-407b-bf6d-1f7357d6cee4"
      },
      "outputs": [
        {
          "output_type": "stream",
          "name": "stdout",
          "text": [
            "--2024-06-17 01:23:44--  https://raw.githubusercontent.com/33220311/halophilic/main/dataset/haloAdd.csv\n",
            "Resolving raw.githubusercontent.com (raw.githubusercontent.com)... 185.199.111.133, 185.199.108.133, 185.199.110.133, ...\n",
            "Connecting to raw.githubusercontent.com (raw.githubusercontent.com)|185.199.111.133|:443... connected.\n",
            "HTTP request sent, awaiting response... 200 OK\n",
            "Length: 1362849 (1.3M) [text/plain]\n",
            "Saving to: ‘haloAdd.csv’\n",
            "\n",
            "haloAdd.csv         100%[===================>]   1.30M  --.-KB/s    in 0.05s   \n",
            "\n",
            "2024-06-17 01:23:45 (28.3 MB/s) - ‘haloAdd.csv’ saved [1362849/1362849]\n",
            "\n"
          ]
        }
      ],
      "source": [
        "!wget https://raw.githubusercontent.com/33220311/halophilic/main/dataset/haloAdd.csv"
      ]
    },
    {
      "cell_type": "markdown",
      "id": "3e8b01ed",
      "metadata": {
        "id": "3e8b01ed"
      },
      "source": [
        "### Load the datasets"
      ]
    },
    {
      "cell_type": "code",
      "execution_count": null,
      "id": "Z7lNxIYAF3v6",
      "metadata": {
        "id": "Z7lNxIYAF3v6"
      },
      "outputs": [],
      "source": [
        "df = pd.read_csv('haloAdd.csv')\n",
        "df = df.drop('identifier', axis=1)"
      ]
    },
    {
      "cell_type": "code",
      "execution_count": null,
      "id": "Ezz_PRuPHl4J",
      "metadata": {
        "id": "Ezz_PRuPHl4J"
      },
      "outputs": [],
      "source": [
        "df_train = df[df.set == \"train\"]\n",
        "df_test = df[df.set == \"test\"]\n",
        "\n",
        "df_train=df_train.reset_index(drop=True)\n",
        "df_test=df_test.reset_index(drop=True)"
      ]
    },
    {
      "cell_type": "code",
      "execution_count": null,
      "id": "2KoElLs8GxeA",
      "metadata": {
        "id": "2KoElLs8GxeA"
      },
      "outputs": [],
      "source": [
        "#from sklearn.model_selection import train_test_split"
      ]
    },
    {
      "cell_type": "code",
      "execution_count": null,
      "id": "a5QuU9gcGyZY",
      "metadata": {
        "id": "a5QuU9gcGyZY"
      },
      "outputs": [],
      "source": [
        "# Assuming your dataframe (df) has a column named \"set\" with values like \"train\" or \"test\" (or any other indicator for validation)\n",
        "#training_sequences, validation_sequences, training_labels, validation_labels = train_test_split(df_train.drop('set', axis=1), df_train['label'], test_size=0.2, random_state=42)\n",
        "training_sequences, training_labels = df_train['sequence'], df_train['label']\n",
        "test_sequences, test_labels = df_test['sequence'], df_test['label']"
      ]
    },
    {
      "cell_type": "code",
      "execution_count": null,
      "id": "TVc20REdweZM",
      "metadata": {
        "id": "TVc20REdweZM"
      },
      "outputs": [],
      "source": [
        "#training_sequences = training_sequences['sequence']\n",
        "#validation_sequences = validation_sequences['sequence']"
      ]
    },
    {
      "cell_type": "code",
      "execution_count": null,
      "id": "o7Z8OtcL6UC8",
      "metadata": {
        "id": "o7Z8OtcL6UC8"
      },
      "outputs": [],
      "source": [
        "#training_sequences = training_sequences.tolist()\n",
        "#validation_sequences = validation_sequences.tolist()\n",
        "#validation_sequences"
      ]
    },
    {
      "cell_type": "code",
      "execution_count": null,
      "id": "660ff8a6",
      "metadata": {
        "id": "660ff8a6"
      },
      "outputs": [],
      "source": [
        "#dataset = load_dataset(\"proteinea/Solubility\")"
      ]
    },
    {
      "cell_type": "code",
      "execution_count": null,
      "id": "b060c241",
      "metadata": {
        "id": "b060c241"
      },
      "outputs": [],
      "source": [
        "#training_sequences, training_labels = dataset['train']['sequences'], dataset['train']['labels']\n",
        "#validation_sequences, validation_labels = dataset['validation']['sequences'], dataset['validation']['labels']\n",
        "#test_sequences, test_labels = dataset['test']['sequences'], dataset['test']['labels']"
      ]
    },
    {
      "cell_type": "code",
      "execution_count": null,
      "id": "2cc1f50c",
      "metadata": {
        "id": "2cc1f50c"
      },
      "outputs": [],
      "source": [
        "def preprocess_dataset(sequences, labels, max_length=None):\n",
        "    '''\n",
        "        Args:\n",
        "            sequences: list, the list which contains the protein primary sequences.\n",
        "            labels: list, the list which contains the dataset labels.\n",
        "            max_length, Integer, the maximum sequence length,\n",
        "            if there is a sequence that is larger than the specified sequence length will be post-truncated.\n",
        "    '''\n",
        "    if max_length is None:\n",
        "        max_length = len(max(training_sequences, key=lambda x: len(x)))\n",
        "    splitted_sequences = [list(seq[:max_length]) for seq in sequences]\n",
        "    return splitted_sequences, labels"
      ]
    },
    {
      "cell_type": "code",
      "execution_count": null,
      "id": "51cea65b",
      "metadata": {
        "id": "51cea65b"
      },
      "outputs": [],
      "source": [
        "def embed_dataset(model, sequences, shift_left = 0, shift_right = -1):\n",
        "    inputs_embedding = []\n",
        "    with torch.no_grad():\n",
        "        for sample in tqdm(sequences):\n",
        "            ids = tokenizer.batch_encode_plus([sample], add_special_tokens=True,\n",
        "                                              padding=True, is_split_into_words=True,\n",
        "                                              return_tensors=\"pt\")\n",
        "            embedding = model(input_ids=ids['input_ids'].to(device))[0]\n",
        "            embedding = embedding[0].detach().cpu().numpy()[shift_left:shift_right]\n",
        "            inputs_embedding.append(embedding)\n",
        "    return inputs_embedding"
      ]
    },
    {
      "cell_type": "markdown",
      "id": "fb692b1b",
      "metadata": {
        "id": "fb692b1b"
      },
      "source": [
        "### Preprocess the dataset."
      ]
    },
    {
      "cell_type": "code",
      "execution_count": null,
      "id": "6994186e",
      "metadata": {
        "id": "6994186e"
      },
      "outputs": [],
      "source": [
        "training_sequences, training_labels = preprocess_dataset(training_sequences, training_labels)\n",
        "#validation_sequences, validation_labels = preprocess_dataset(validation_sequences, validation_labels)\n",
        "test_sequences, testing_labels = preprocess_dataset(test_sequences, test_labels)"
      ]
    },
    {
      "cell_type": "markdown",
      "id": "3b3c15c7",
      "metadata": {
        "id": "3b3c15c7"
      },
      "source": [
        "### Extract sequences embeddings."
      ]
    },
    {
      "cell_type": "code",
      "execution_count": null,
      "id": "d89efc17",
      "metadata": {
        "colab": {
          "base_uri": "https://localhost:8080/",
          "height": 81,
          "referenced_widgets": [
            "6807f58e66e64c239f924ae224ea92e0",
            "d1e896e897434d5c8f0dc05745489d91",
            "307280f17ece441aa34f4e3543eb3d02",
            "e75c85e88d2b4dcd90311fac58eb46cc",
            "e9c2a8352c7a4afbbc2c0f1e485463b4",
            "7112db0146124974868c683827523003",
            "fddb0b96506f45a2ab9910aba8fde5dc",
            "e199957f60934e5f84a62704722e3851",
            "e6026b80ae674186b5d21821153fd797",
            "2bf38765d3394d0da1b7a58e72f515c7",
            "d4cf27704ff94762889b32adab61c124",
            "909bfefc3d2d4d539af126fdbb1fa931",
            "0a19159783ee4896a14cfafe7f9d353f",
            "cc7a9fa6d3d04c669a2e33c13565c485",
            "5dfee50174b644db8a1d993a70d7da7a",
            "1e8f1a59c7684c53ad2063fd1bcd2eb1",
            "bb8ff7d045544b93af7b389f4838a094",
            "723795e184ef476ba82c39a17e40c8ef",
            "503dc6c2bc6343edaa57532f4a0aa92d",
            "e3208c1a598c484a8942508956d8596a",
            "3c224faef4f84ef5953ceb87b83dcb78",
            "5bfaed4fd07a43ec9578d83d5da5bfc0"
          ]
        },
        "id": "d89efc17",
        "outputId": "1ef5c983-8b6b-4053-a526-c1c067fbd7ef"
      },
      "outputs": [
        {
          "output_type": "display_data",
          "data": {
            "text/plain": [
              "  0%|          | 0/5670 [00:00<?, ?it/s]"
            ],
            "application/vnd.jupyter.widget-view+json": {
              "version_major": 2,
              "version_minor": 0,
              "model_id": "6807f58e66e64c239f924ae224ea92e0"
            }
          },
          "metadata": {}
        },
        {
          "output_type": "display_data",
          "data": {
            "text/plain": [
              "  0%|          | 0/1356 [00:00<?, ?it/s]"
            ],
            "application/vnd.jupyter.widget-view+json": {
              "version_major": 2,
              "version_minor": 0,
              "model_id": "909bfefc3d2d4d539af126fdbb1fa931"
            }
          },
          "metadata": {}
        }
      ],
      "source": [
        "training_embeddings = embed_dataset(model, training_sequences)\n",
        "#validation_embeddings = embed_dataset(model, validation_sequences)\n",
        "test_embeddings = embed_dataset(model, test_sequences)"
      ]
    },
    {
      "cell_type": "code",
      "execution_count": null,
      "id": "sC-DFLpEfFES",
      "metadata": {
        "id": "sC-DFLpEfFES"
      },
      "outputs": [],
      "source": [
        "training_per_protein = []\n",
        "for sample in training_embeddings:\n",
        "    # Calculate the mean for each sample's embedding values (replace with your logic to access embeddings)\n",
        "    sample_mean = np.mean(sample, axis=0)  # Assuming embeddings are stored in a list/array within each sample\n",
        "    training_per_protein.append(sample_mean[np.newaxis, :])  # Add the mean with a n"
      ]
    },
    {
      "cell_type": "code",
      "execution_count": null,
      "id": "wf49gToofte4",
      "metadata": {
        "id": "wf49gToofte4"
      },
      "outputs": [],
      "source": [
        "test_per_protein = []\n",
        "for sample in test_embeddings:\n",
        "    # Calculate the mean for each sample's embedding values (replace with your logic to access embeddings)\n",
        "    sample_mean = np.mean(sample, axis=0)  # Assuming embeddings are stored in a list/array within each sample\n",
        "    test_per_protein.append(sample_mean[np.newaxis, :])  # Add the mean with a n"
      ]
    },
    {
      "cell_type": "code",
      "execution_count": null,
      "id": "f13914f6",
      "metadata": {
        "id": "f13914f6"
      },
      "outputs": [],
      "source": [
        "class SolubilityDataset(Dataset):\n",
        "    def __init__(self, sequences, labels):\n",
        "        self.sequences = sequences\n",
        "        self.labels = labels\n",
        "\n",
        "    def __getitem__(self, idx):\n",
        "        embedding = self.sequences[idx]\n",
        "        label = self.labels[idx]\n",
        "        return {'embed':torch.tensor(embedding), 'labels': torch.tensor(label, dtype=torch.float32).unsqueeze(-1)}\n",
        "\n",
        "    def __len__(self):\n",
        "        return len(self.sequences)"
      ]
    },
    {
      "cell_type": "code",
      "execution_count": null,
      "id": "0b8a153f",
      "metadata": {
        "id": "0b8a153f"
      },
      "outputs": [],
      "source": [
        "#training_dataset = SolubilityDataset(training_embeddings, training_labels)\n",
        "#validation_dataset = SolubilityDataset(validation_embeddings, validation_labels)\n",
        "#test_dataset = SolubilityDataset(test_embeddings, test_labels)"
      ]
    },
    {
      "cell_type": "markdown",
      "id": "4297c663",
      "metadata": {
        "id": "4297c663"
      },
      "source": [
        "### Model initialization function for HuggingFace's trainer."
      ]
    },
    {
      "cell_type": "code",
      "execution_count": null,
      "id": "9f5c3ce9",
      "metadata": {
        "id": "9f5c3ce9"
      },
      "outputs": [],
      "source": [
        "def model_init(embed_dim):\n",
        "    hidden_dim = int(embed_dim / 2)\n",
        "    num_hidden_layers = 1 # Number of hidden layers in ConvBert.\n",
        "    nlayers = 1 # Number of ConvBert layers.\n",
        "    nhead = 4\n",
        "    dropout = 0.2\n",
        "    conv_kernel_size = 7\n",
        "    pooling = 'max' # available pooling methods ['avg', 'max']\n",
        "    downstream_model = ankh.ConvBertForBinaryClassification(input_dim=embed_dim,\n",
        "                                                            nhead=nhead,\n",
        "                                                            hidden_dim=hidden_dim,\n",
        "                                                            num_hidden_layers=num_hidden_layers,\n",
        "                                                            num_layers=nlayers,\n",
        "                                                            kernel_size=conv_kernel_size,\n",
        "                                                            dropout=dropout,\n",
        "                                                            pooling=pooling)\n",
        "    return downstream_model.cuda()"
      ]
    },
    {
      "cell_type": "markdown",
      "id": "70dbc2c0",
      "metadata": {
        "id": "70dbc2c0"
      },
      "source": [
        "### Function for computing metrics, Accuracy is used in this task."
      ]
    },
    {
      "cell_type": "code",
      "execution_count": null,
      "id": "2795ebe6",
      "metadata": {
        "id": "2795ebe6"
      },
      "outputs": [],
      "source": [
        "def compute_metrics(p: EvalPrediction):\n",
        "    preds = (torch.sigmoid(torch.tensor(p.predictions)).numpy() > 0.5).tolist()\n",
        "    labels = p.label_ids.tolist()\n",
        "    return {\n",
        "        \"accuracy\": metrics.accuracy_score(labels, preds),\n",
        "        \"precision\": metrics.precision_score(labels, preds),\n",
        "        \"recall\": metrics.recall_score(labels, preds),\n",
        "        \"f1\": metrics.f1_score(labels, preds),\n",
        "        \"MCC\":metrics.matthews_corrcoef(labels, preds),\n",
        "    }"
      ]
    },
    {
      "cell_type": "markdown",
      "id": "6281f193",
      "metadata": {
        "id": "6281f193"
      },
      "source": [
        "### Create and configure HuggingFace's TrainingArguments instance."
      ]
    },
    {
      "cell_type": "code",
      "execution_count": null,
      "id": "1fc9190f",
      "metadata": {
        "id": "1fc9190f"
      },
      "outputs": [],
      "source": [
        "model_type = 'ankh_large'\n",
        "experiment = f'solubility_{model_type}'\n",
        "\n",
        "training_args = TrainingArguments(\n",
        "    output_dir=f'./results_{experiment}',\n",
        "    num_train_epochs=5,\n",
        "    per_device_train_batch_size=1,\n",
        "    per_device_eval_batch_size=1,\n",
        "    warmup_steps=1000,\n",
        "    learning_rate=1e-03,\n",
        "    weight_decay=0.0,\n",
        "    logging_dir=f'./logs_{experiment}',\n",
        "    logging_steps=200,\n",
        "    do_train=True,\n",
        "    do_eval=True,\n",
        "    evaluation_strategy=\"epoch\",\n",
        "    gradient_accumulation_steps=16,\n",
        "    fp16=False,\n",
        "    fp16_opt_level=\"02\",\n",
        "    run_name=experiment,\n",
        "    seed=seed,\n",
        "    load_best_model_at_end=True,\n",
        "    metric_for_best_model=\"eval_accuracy\",\n",
        "    greater_is_better=True,\n",
        "    save_strategy=\"epoch\"\n",
        ")"
      ]
    },
    {
      "cell_type": "markdown",
      "id": "2f5c7d82",
      "metadata": {
        "id": "2f5c7d82"
      },
      "source": [
        "### Create HuggingFace Trainer."
      ]
    },
    {
      "cell_type": "code",
      "execution_count": null,
      "id": "4201dbdd",
      "metadata": {
        "colab": {
          "base_uri": "https://localhost:8080/",
          "height": 211
        },
        "id": "4201dbdd",
        "outputId": "bb69d6fe-1771-473a-c85a-122faa338c5f"
      },
      "outputs": [
        {
          "ename": "NameError",
          "evalue": "name 'training_dataset' is not defined",
          "output_type": "error",
          "traceback": [
            "\u001b[0;31m---------------------------------------------------------------------------\u001b[0m",
            "\u001b[0;31mNameError\u001b[0m                                 Traceback (most recent call last)",
            "\u001b[0;32m<ipython-input-32-49d1a26bd1a2>\u001b[0m in \u001b[0;36m<cell line: 3>\u001b[0;34m()\u001b[0m\n\u001b[1;32m      4\u001b[0m     \u001b[0mmodel_init\u001b[0m\u001b[0;34m=\u001b[0m\u001b[0mpartial\u001b[0m\u001b[0;34m(\u001b[0m\u001b[0mmodel_init\u001b[0m\u001b[0;34m,\u001b[0m \u001b[0membed_dim\u001b[0m\u001b[0;34m=\u001b[0m\u001b[0mmodel_embed_dim\u001b[0m\u001b[0;34m)\u001b[0m\u001b[0;34m,\u001b[0m\u001b[0;34m\u001b[0m\u001b[0;34m\u001b[0m\u001b[0m\n\u001b[1;32m      5\u001b[0m     \u001b[0margs\u001b[0m\u001b[0;34m=\u001b[0m\u001b[0mtraining_args\u001b[0m\u001b[0;34m,\u001b[0m\u001b[0;34m\u001b[0m\u001b[0;34m\u001b[0m\u001b[0m\n\u001b[0;32m----> 6\u001b[0;31m     \u001b[0mtrain_dataset\u001b[0m\u001b[0;34m=\u001b[0m\u001b[0mtraining_dataset\u001b[0m\u001b[0;34m,\u001b[0m\u001b[0;34m\u001b[0m\u001b[0;34m\u001b[0m\u001b[0m\n\u001b[0m\u001b[1;32m      7\u001b[0m     \u001b[0meval_dataset\u001b[0m\u001b[0;34m=\u001b[0m\u001b[0mvalidation_dataset\u001b[0m\u001b[0;34m,\u001b[0m\u001b[0;34m\u001b[0m\u001b[0;34m\u001b[0m\u001b[0m\n\u001b[1;32m      8\u001b[0m     \u001b[0mcompute_metrics\u001b[0m\u001b[0;34m=\u001b[0m\u001b[0mcompute_metrics\u001b[0m\u001b[0;34m,\u001b[0m\u001b[0;34m\u001b[0m\u001b[0;34m\u001b[0m\u001b[0m\n",
            "\u001b[0;31mNameError\u001b[0m: name 'training_dataset' is not defined"
          ]
        }
      ],
      "source": [
        "model_embed_dim = 1536 # Embedding dimension for ankh large.\n",
        "\n",
        "trainer = Trainer(\n",
        "    model_init=partial(model_init, embed_dim=model_embed_dim),\n",
        "    args=training_args,\n",
        "    train_dataset=training_dataset,\n",
        "    eval_dataset=validation_dataset,\n",
        "    compute_metrics=compute_metrics,\n",
        ")"
      ]
    },
    {
      "cell_type": "markdown",
      "id": "1983f0e8",
      "metadata": {
        "id": "1983f0e8"
      },
      "source": [
        "### Train the model."
      ]
    },
    {
      "cell_type": "code",
      "execution_count": null,
      "id": "521367e8",
      "metadata": {
        "id": "521367e8"
      },
      "outputs": [],
      "source": [
        "#trainer.train()"
      ]
    },
    {
      "cell_type": "code",
      "execution_count": null,
      "id": "3c904201",
      "metadata": {
        "id": "3c904201"
      },
      "outputs": [],
      "source": [
        "predictions, labels, metrics_output = trainer.predict(test_dataset)"
      ]
    },
    {
      "cell_type": "code",
      "execution_count": null,
      "id": "2eca0287",
      "metadata": {
        "id": "2eca0287"
      },
      "outputs": [],
      "source": [
        "metrics_output"
      ]
    },
    {
      "cell_type": "code",
      "execution_count": null,
      "id": "b954ed85",
      "metadata": {
        "id": "b954ed85"
      },
      "outputs": [],
      "source": [
        "def specificity_score(y_true, y_pred):\n",
        "    tn, fp, fn, tp = confusion_matrix(y_true, y_pred).ravel()\n",
        "    return tn / (tn + fp)"
      ]
    },
    {
      "cell_type": "code",
      "execution_count": null,
      "id": "MsISC1hUk2jl",
      "metadata": {
        "id": "MsISC1hUk2jl"
      },
      "outputs": [],
      "source": [
        "def error_rate(testing_labels, predicted_testing_labels):\n",
        "    from sklearn.metrics import f1_score, matthews_corrcoef, accuracy_score, classification_report, recall_score, confusion_matrix\n",
        "    import numpy as np\n",
        "\n",
        "    bootstrap_performances = list()\n",
        "    performances = list()\n",
        "    f1_performances = list()\n",
        "    sn = list()\n",
        "    sp = list()\n",
        "    Y = np.array(testing_labels)  # convert list of groundtruths to numpy\n",
        "    Yhat = np.array(predicted_testing_labels)  # same same for predictions\n",
        "    n_samples = len(Y)  # get number of samples\n",
        "    n_bootstrap = 1000  # number of bootstrap iterations\n",
        "\n",
        "    for i in range(n_bootstrap):  # for each bootstrap draw\n",
        "        subset = np.random.choice(n_samples, n_samples, replace=True)\n",
        "        # create a random subset of your predictions/targets with replacement\n",
        "        Y_subset = Y[subset]\n",
        "        Yhat_subset = Yhat[subset]\n",
        "\n",
        "        bootstrap_performances.append(matthews_corrcoef(Y_subset, Yhat_subset))\n",
        "        performances.append(accuracy_score(Y_subset, Yhat_subset))\n",
        "        f1_performances.append(f1_score(Y_subset, Yhat_subset))\n",
        "        sn.append(recall_score(Y_subset, Yhat_subset))\n",
        "\n",
        "        tn, fp, fn, tp = confusion_matrix(Y_subset, Yhat_subset).ravel()\n",
        "        sp.append(tn / (tn + fp))\n",
        "\n",
        "    sd_mcc = np.std(bootstrap_performances)  # compute std deviation over the bootstrapped performances\n",
        "    sd_acc = np.std(performances)\n",
        "    sd_f1 = np.std(f1_performances)\n",
        "    sd_sn = np.std(sn)\n",
        "    sd_sp = np.std(sp)\n",
        "\n",
        "    print('acc:', accuracy_score(testing_labels, predicted_testing_labels))\n",
        "    print('f1:', f1_score(testing_labels, predicted_testing_labels))\n",
        "    print('mcc:', matthews_corrcoef(testing_labels, predicted_testing_labels))\n",
        "\n",
        "    tn, fp, fn, tp = confusion_matrix(testing_labels, predicted_testing_labels).ravel()\n",
        "    specificity = tn / (tn + fp)\n",
        "\n",
        "    print('sn:', recall_score(testing_labels, predicted_testing_labels))\n",
        "    print('sp:', specificity)\n",
        "    print('sd_acc:', sd_acc)\n",
        "    print('sd_f1:', sd_f1)\n",
        "    print('sd_mcc:', sd_mcc)\n",
        "    print('sd_sn:', sd_sn)\n",
        "    print('sd_sp:', sd_sp)\n",
        "    print(classification_report(testing_labels, predicted_testing_labels))\n",
        "\n",
        "    return (sd_acc, sd_mcc, sd_f1)\n"
      ]
    },
    {
      "cell_type": "code",
      "execution_count": null,
      "id": "s2HxN_BMs_ki",
      "metadata": {
        "colab": {
          "background_save": true
        },
        "id": "s2HxN_BMs_ki"
      },
      "outputs": [],
      "source": [
        "def conf_matrix(confusion_matrix_data):\n",
        "  from mlxtend.plotting import plot_confusion_matrix\n",
        "  fig, ax = plot_confusion_matrix(conf_mat =confusion_matrix_data,\n",
        "                                show_absolute=True,\n",
        "                                show_normed=True,\n",
        "                                #display_labels=class_dict.values(),\n",
        "                                colorbar=True)\n",
        "  labels = ['Non-halophilic', 'Halophilic']\n",
        "  ax.set_xticklabels([''] + labels)\n",
        "  ax.set_yticklabels([''] + labels)\n",
        "  plt.show()\n"
      ]
    },
    {
      "cell_type": "markdown",
      "id": "o0gDV5IM2MYT",
      "metadata": {
        "id": "o0gDV5IM2MYT"
      },
      "source": [
        "# Training"
      ]
    },
    {
      "cell_type": "code",
      "execution_count": null,
      "id": "SAypz2002QAk",
      "metadata": {
        "colab": {
          "base_uri": "https://localhost:8080/"
        },
        "id": "SAypz2002QAk",
        "outputId": "839d2c28-f375-42a4-c739-8c36cbc991c0"
      },
      "outputs": [
        {
          "output_type": "execute_result",
          "data": {
            "text/plain": [
              "(5670, 1536)"
            ]
          },
          "metadata": {},
          "execution_count": 32
        }
      ],
      "source": [
        "arr_train = np.array(training_per_protein)\n",
        "nsample, nx, ny = arr_train.shape\n",
        "train_dataset = arr_train.reshape((nsample, nx*ny))\n",
        "train_dataset.shape"
      ]
    },
    {
      "cell_type": "code",
      "execution_count": null,
      "id": "e9tdkUHUkSo9",
      "metadata": {
        "colab": {
          "base_uri": "https://localhost:8080/"
        },
        "id": "e9tdkUHUkSo9",
        "outputId": "c7a2a2d9-1293-4d95-bf9f-8661a579984c"
      },
      "outputs": [
        {
          "output_type": "execute_result",
          "data": {
            "text/plain": [
              "(1356, 1536)"
            ]
          },
          "metadata": {},
          "execution_count": 33
        }
      ],
      "source": [
        "arr_test = np.array(test_per_protein)\n",
        "nsample, nx, ny = arr_test.shape\n",
        "test_dataset = arr_test.reshape((nsample, nx*ny))\n",
        "test_dataset.shape"
      ]
    },
    {
      "cell_type": "markdown",
      "id": "8eEXVSpeI8Un",
      "metadata": {
        "id": "8eEXVSpeI8Un"
      },
      "source": [
        "### LR"
      ]
    },
    {
      "cell_type": "code",
      "execution_count": null,
      "id": "n6VLSupfI-mW",
      "metadata": {
        "id": "n6VLSupfI-mW"
      },
      "outputs": [],
      "source": [
        "from sklearn.linear_model import LogisticRegression\n",
        "from sklearn.model_selection import cross_val_score\n",
        "from sklearn.model_selection import cross_validate\n",
        "from sklearn.metrics import confusion_matrix\n",
        "import plotly.express as px\n",
        "\n",
        "import numpy as np\n",
        "\n",
        "# Data utilities\n",
        "import pandas as pd\n",
        "from pandas import read_csv\n",
        "import matplotlib.pyplot as plt\n",
        "import os.path\n",
        "import torch\n",
        "import h5py\n",
        "\n",
        "# Machine learning\n",
        "from sklearn.neural_network import MLPClassifier\n",
        "from sklearn.model_selection import GridSearchCV\n",
        "from sklearn.metrics import accuracy_score, make_scorer, f1_score, recall_score\n",
        "from sklearn.metrics import classification_report\n",
        "from sklearn.metrics import matthews_corrcoef\n",
        "from sklearn.model_selection import cross_val_score"
      ]
    },
    {
      "cell_type": "code",
      "execution_count": null,
      "id": "UVSgV_nzJAGf",
      "metadata": {
        "colab": {
          "base_uri": "https://localhost:8080/"
        },
        "id": "UVSgV_nzJAGf",
        "outputId": "4325870f-d410-4fe8-f72f-1be5cc6b11cd"
      },
      "outputs": [
        {
          "output_type": "execute_result",
          "data": {
            "text/plain": [
              "0.8421828908554573"
            ]
          },
          "metadata": {},
          "execution_count": 35
        }
      ],
      "source": [
        "lr = LogisticRegression()\n",
        "lr_history = lr.fit(train_dataset, training_labels)\n",
        "lr.score(test_dataset,testing_labels)"
      ]
    },
    {
      "cell_type": "code",
      "execution_count": null,
      "id": "RBU9Ctc7diSv",
      "metadata": {
        "id": "RBU9Ctc7diSv"
      },
      "outputs": [],
      "source": [
        "#grid_scorer = {'accuracy':make_scorer(accuracy_score),'f1':make_scorer(f1_score),'mcc':make_scorer(matthews_corrcoef,greater_is_better=True)}\n",
        "grid_scorer = {\n",
        "    'accuracy': make_scorer(accuracy_score),\n",
        "    'f1': make_scorer(f1_score),\n",
        "    'mcc': make_scorer(matthews_corrcoef, greater_is_better=True),\n",
        "    'sensitivity': make_scorer(recall_score, greater_is_better=True),\n",
        "    'specificity': make_scorer(specificity_score, greater_is_better=True)\n",
        "}"
      ]
    },
    {
      "cell_type": "code",
      "execution_count": null,
      "id": "1QyODNLQAPaz",
      "metadata": {
        "colab": {
          "base_uri": "https://localhost:8080/"
        },
        "id": "1QyODNLQAPaz",
        "outputId": "b87a88fd-15be-42cf-baa9-e8b68db78854"
      },
      "outputs": [
        {
          "output_type": "execute_result",
          "data": {
            "text/plain": [
              "{'fit_time': array([0.33905506, 0.33519554, 0.24056268, 0.24521518, 0.20702147,\n",
              "        0.20924067, 0.24550915, 0.30561042, 0.25873709, 0.36280084]),\n",
              " 'score_time': array([0.01132035, 0.02261019, 0.01698065, 0.01108146, 0.01105833,\n",
              "        0.01104856, 0.01082563, 0.01088881, 0.01089311, 0.01111174]),\n",
              " 'test_accuracy': array([0.76895944, 0.76366843, 0.85185185, 0.8377425 , 0.86419753,\n",
              "        0.86772487, 0.8042328 , 0.80070547, 0.82010582, 0.83950617]),\n",
              " 'test_f1': array([0.83965728, 0.83618582, 0.89552239, 0.88082902, 0.90240811,\n",
              "        0.90774908, 0.8716763 , 0.86906141, 0.87469287, 0.89306698]),\n",
              " 'test_mcc': array([0.44052774, 0.42672705, 0.64936754, 0.62671135, 0.68177802,\n",
              "        0.68834795, 0.53534932, 0.52373921, 0.56961045, 0.63072843]),\n",
              " 'test_sensitivity': array([0.89090909, 0.88831169, 0.93506494, 0.88311688, 0.92467532,\n",
              "        0.95844156, 0.97922078, 0.97402597, 0.92467532, 0.98958333]),\n",
              " 'test_specificity': array([0.51098901, 0.5       , 0.67582418, 0.74175824, 0.73626374,\n",
              "        0.67582418, 0.43406593, 0.43406593, 0.5989011 , 0.52459016])}"
            ]
          },
          "metadata": {},
          "execution_count": 38
        }
      ],
      "source": [
        "scores = cross_validate(lr, train_dataset, training_labels, scoring= grid_scorer, cv=10)\n",
        "scores"
      ]
    },
    {
      "cell_type": "markdown",
      "id": "PQ54HJvRSYxi",
      "metadata": {
        "id": "PQ54HJvRSYxi"
      },
      "source": [
        "source https://www.kaggle.com/code/jnikhilsai/cross-validation-with-linear-regression"
      ]
    },
    {
      "cell_type": "code",
      "execution_count": null,
      "id": "xQH-wkUTdo9S",
      "metadata": {
        "colab": {
          "base_uri": "https://localhost:8080/"
        },
        "id": "xQH-wkUTdo9S",
        "outputId": "f5da98dc-5a2f-4f7d-9787-b37451d196fc"
      },
      "outputs": [
        {
          "output_type": "stream",
          "name": "stdout",
          "text": [
            "acc: 0.8328042328042328\n",
            "f1: 0.8839088905216752\n",
            "mcc: 0.6012314736443032\n",
            "sn: 0.9376461418550273\n",
            "sp: 0.6112026359143328\n",
            "sd_acc: 0.004771634074076385\n",
            "sd_f1: 0.003580057762468389\n",
            "sd_mcc: 0.011283348373638313\n",
            "sd_sn: 0.0037270329184324637\n",
            "sd_sp: 0.011497054908728635\n",
            "              precision    recall  f1-score   support\n",
            "\n",
            "           0       0.82      0.61      0.70      1821\n",
            "           1       0.84      0.94      0.88      3849\n",
            "\n",
            "    accuracy                           0.83      5670\n",
            "   macro avg       0.83      0.77      0.79      5670\n",
            "weighted avg       0.83      0.83      0.83      5670\n",
            "\n"
          ]
        },
        {
          "output_type": "execute_result",
          "data": {
            "text/plain": [
              "(0.004771634074076385, 0.011283348373638313, 0.003580057762468389)"
            ]
          },
          "metadata": {},
          "execution_count": 39
        }
      ],
      "source": [
        "predicted_training_labels = lr.predict(train_dataset)\n",
        "error_rate(training_labels, predicted_training_labels)"
      ]
    },
    {
      "cell_type": "code",
      "execution_count": null,
      "id": "sjQLJMtyJNtD",
      "metadata": {
        "colab": {
          "base_uri": "https://localhost:8080/"
        },
        "id": "sjQLJMtyJNtD",
        "outputId": "cf194152-a7a0-479c-b01e-bfe3412f0bdf"
      },
      "outputs": [
        {
          "output_type": "stream",
          "name": "stdout",
          "text": [
            "acc: 0.8421828908554573\n",
            "f1: 0.9094754653130287\n",
            "mcc: 0.29620036331882194\n",
            "sn: 0.9195893926432849\n",
            "sp: 0.3582887700534759\n",
            "sd_acc: 0.010211611174974903\n",
            "sd_f1: 0.006369118322189063\n",
            "sd_mcc: 0.03614877636756565\n",
            "sd_sn: 0.00805295984909133\n",
            "sd_sp: 0.03502239823930855\n",
            "              precision    recall  f1-score   support\n",
            "\n",
            "           0       0.42      0.36      0.39       187\n",
            "           1       0.90      0.92      0.91      1169\n",
            "\n",
            "    accuracy                           0.84      1356\n",
            "   macro avg       0.66      0.64      0.65      1356\n",
            "weighted avg       0.83      0.84      0.84      1356\n",
            "\n"
          ]
        },
        {
          "output_type": "execute_result",
          "data": {
            "text/plain": [
              "(0.010211611174974903, 0.03614877636756565, 0.006369118322189063)"
            ]
          },
          "metadata": {},
          "execution_count": 40
        }
      ],
      "source": [
        "predicted_testing_labels = lr.predict(test_dataset)\n",
        "error_rate(testing_labels, predicted_testing_labels)"
      ]
    },
    {
      "cell_type": "code",
      "execution_count": null,
      "id": "BPUQwR-eKR38",
      "metadata": {
        "id": "BPUQwR-eKR38"
      },
      "outputs": [],
      "source": [
        "classes = np.unique(testing_labels)\n",
        "\n",
        "confusion_matrix_data = confusion_matrix(test_labels, predicted_testing_labels, labels=classes)\n",
        "conf_matrix(confusion_matrix_data)\n"
      ]
    },
    {
      "cell_type": "code",
      "execution_count": null,
      "id": "Dq2RkIo-1Jdb",
      "metadata": {
        "id": "Dq2RkIo-1Jdb"
      },
      "outputs": [],
      "source": [
        "TP = confusion_matrix_data[1,1]\n",
        "TN = confusion_matrix_data[0,0]\n",
        "FP = confusion_matrix_data[0,1]\n",
        "FN = confusion_matrix_data[1,0]\n",
        "\n",
        "print(TP,TN, FP, FN)\n",
        "\n",
        "sn = TP / float(TP + FN)\n",
        "print(sn)\n",
        "sp = TN / float(TN + FP)\n",
        "print(sp)"
      ]
    },
    {
      "cell_type": "code",
      "execution_count": null,
      "id": "XwjJoJZiOqqC",
      "metadata": {
        "id": "XwjJoJZiOqqC"
      },
      "outputs": [],
      "source": [
        "#lr.save_weights('/result/LR.h5')\n",
        "print(lr.coef_.shape)\n",
        "lr_weights = lr.coef_\n",
        "print(lr_weights)\n",
        "print(np.max(lr_weights))\n",
        "print(np.min(lr_weights))"
      ]
    },
    {
      "cell_type": "markdown",
      "id": "Zpez8nyOvPOF",
      "metadata": {
        "id": "Zpez8nyOvPOF"
      },
      "source": [
        "### MLP with Grid Search"
      ]
    },
    {
      "cell_type": "code",
      "execution_count": null,
      "id": "YVg8VB-J0AXe",
      "metadata": {
        "id": "YVg8VB-J0AXe"
      },
      "outputs": [],
      "source": [
        "from numpy.random import seed\n",
        "seed(1)"
      ]
    },
    {
      "cell_type": "code",
      "execution_count": null,
      "id": "aqBy5Mh50AXe",
      "metadata": {
        "id": "aqBy5Mh50AXe"
      },
      "outputs": [],
      "source": [
        "from tensorflow.keras.utils import set_random_seed\n",
        "set_random_seed(2)"
      ]
    },
    {
      "cell_type": "code",
      "execution_count": null,
      "id": "vug_DpuSylO-",
      "metadata": {
        "id": "vug_DpuSylO-"
      },
      "outputs": [],
      "source": [
        "# Basic Protocol 3 — Step 8\n",
        "\n",
        "multilayerperceptron = MLPClassifier(solver='lbfgs', random_state=10, max_iter=1000)\n",
        "\n",
        "parameters = {\n",
        "    'hidden_layer_sizes': [(2056,1024),(2056,),(1024,)],\n",
        "    #'learning_rate_init': [0.001, 0.0001, 0.01],\n",
        "    #'activation':['identity', 'logistic', 'tanh', 'relu'],\n",
        "    'solver':['adam'],\n",
        "}"
      ]
    },
    {
      "cell_type": "code",
      "execution_count": null,
      "id": "Yt_H5F3yOVsC",
      "metadata": {
        "id": "Yt_H5F3yOVsC"
      },
      "outputs": [],
      "source": [
        "grid_scorer ={'accuracy':make_scorer(accuracy_score),'f1':make_scorer(f1_score),'mcc':make_scorer(matthews_corrcoef,greater_is_better=True)}"
      ]
    },
    {
      "cell_type": "code",
      "execution_count": null,
      "id": "qlth5o02yn-d",
      "metadata": {
        "colab": {
          "base_uri": "https://localhost:8080/"
        },
        "id": "qlth5o02yn-d",
        "outputId": "d8431336-348f-4db5-db0c-6a985543cd6a"
      },
      "outputs": [
        {
          "name": "stderr",
          "output_type": "stream",
          "text": [
            "/usr/local/lib/python3.10/dist-packages/sklearn/neural_network/_multilayer_perceptron.py:693: UserWarning: Training interrupted by user.\n",
            "  warnings.warn(\"Training interrupted by user.\")\n",
            "/usr/local/lib/python3.10/dist-packages/sklearn/neural_network/_multilayer_perceptron.py:693: UserWarning: Training interrupted by user.\n",
            "  warnings.warn(\"Training interrupted by user.\")\n",
            "/usr/local/lib/python3.10/dist-packages/sklearn/neural_network/_multilayer_perceptron.py:693: UserWarning: Training interrupted by user.\n",
            "  warnings.warn(\"Training interrupted by user.\")\n"
          ]
        }
      ],
      "source": [
        "# Basic Protocol 3 — Step 9\n",
        "\n",
        "classifiers = GridSearchCV(multilayerperceptron, parameters, cv=10, scoring=grid_scorer, refit='mcc')\n",
        "history = classifiers.fit(train_dataset, training_labels)\n",
        "classifier = classifiers.best_estimator_"
      ]
    },
    {
      "cell_type": "code",
      "execution_count": null,
      "id": "CMv8_JC0WcSQ",
      "metadata": {
        "colab": {
          "base_uri": "https://localhost:8080/"
        },
        "id": "CMv8_JC0WcSQ",
        "outputId": "ffb70dcc-c8ac-4120-8bdc-043cea443593"
      },
      "outputs": [
        {
          "data": {
            "text/plain": [
              "{'activation': 'relu',\n",
              " 'alpha': 0.0001,\n",
              " 'batch_size': 'auto',\n",
              " 'beta_1': 0.9,\n",
              " 'beta_2': 0.999,\n",
              " 'early_stopping': False,\n",
              " 'epsilon': 1e-08,\n",
              " 'hidden_layer_sizes': (2056, 1024),\n",
              " 'learning_rate': 'constant',\n",
              " 'learning_rate_init': 0.001,\n",
              " 'max_fun': 15000,\n",
              " 'max_iter': 1000,\n",
              " 'momentum': 0.9,\n",
              " 'n_iter_no_change': 10,\n",
              " 'nesterovs_momentum': True,\n",
              " 'power_t': 0.5,\n",
              " 'random_state': 10,\n",
              " 'shuffle': True,\n",
              " 'solver': 'adam',\n",
              " 'tol': 0.0001,\n",
              " 'validation_fraction': 0.1,\n",
              " 'verbose': False,\n",
              " 'warm_start': False}"
            ]
          },
          "execution_count": 47,
          "metadata": {},
          "output_type": "execute_result"
        }
      ],
      "source": [
        "params = classifier.get_params()\n",
        "params"
      ]
    },
    {
      "cell_type": "code",
      "execution_count": null,
      "id": "iULOvdVBX3kv",
      "metadata": {
        "id": "iULOvdVBX3kv"
      },
      "outputs": [],
      "source": [
        "#from keras.models import model_from_json\n",
        "\n",
        "# Save the best model's architecture to a JSON file\n",
        "#model_json = grid_result.best_estimator_.model.to_json()\n",
        "#with open(\"/content/drive/MyDrive/Halophilic/MLPESM_best_model.json\", \"w\") as json_file:\n",
        "#    json_file.write(model_json)\n",
        "\n",
        "# Save the best model's weights to an HDF5 file\n",
        "#grid_result.best_estimator_.model.save_weights(\"/content/drive/MyDrive/Halophilic/MLPESM_best_model_weights.h5\")"
      ]
    },
    {
      "cell_type": "code",
      "execution_count": null,
      "id": "FkLigimLWROf",
      "metadata": {
        "id": "FkLigimLWROf"
      },
      "outputs": [],
      "source": [
        "import pandas as pd\n",
        "from pandas import DataFrame"
      ]
    },
    {
      "cell_type": "code",
      "execution_count": null,
      "id": "kMYQTWrF_05C",
      "metadata": {
        "colab": {
          "base_uri": "https://localhost:8080/",
          "height": 297
        },
        "id": "kMYQTWrF_05C",
        "outputId": "c37e1a2c-2bec-45af-84cd-b79f7571a541"
      },
      "outputs": [
        {
          "data": {
            "application/vnd.google.colaboratory.intrinsic+json": {
              "type": "dataframe"
            },
            "text/html": [
              "\n",
              "  <div id=\"df-7c352159-91de-4eef-a7cb-2bb2205b1451\" class=\"colab-df-container\">\n",
              "    <div>\n",
              "<style scoped>\n",
              "    .dataframe tbody tr th:only-of-type {\n",
              "        vertical-align: middle;\n",
              "    }\n",
              "\n",
              "    .dataframe tbody tr th {\n",
              "        vertical-align: top;\n",
              "    }\n",
              "\n",
              "    .dataframe thead th {\n",
              "        text-align: right;\n",
              "    }\n",
              "</style>\n",
              "<table border=\"1\" class=\"dataframe\">\n",
              "  <thead>\n",
              "    <tr style=\"text-align: right;\">\n",
              "      <th></th>\n",
              "      <th>mean_fit_time</th>\n",
              "      <th>std_fit_time</th>\n",
              "      <th>mean_score_time</th>\n",
              "      <th>std_score_time</th>\n",
              "      <th>param_hidden_layer_sizes</th>\n",
              "      <th>param_solver</th>\n",
              "      <th>params</th>\n",
              "      <th>split0_test_accuracy</th>\n",
              "      <th>split1_test_accuracy</th>\n",
              "      <th>split2_test_accuracy</th>\n",
              "      <th>...</th>\n",
              "      <th>split3_test_mcc</th>\n",
              "      <th>split4_test_mcc</th>\n",
              "      <th>split5_test_mcc</th>\n",
              "      <th>split6_test_mcc</th>\n",
              "      <th>split7_test_mcc</th>\n",
              "      <th>split8_test_mcc</th>\n",
              "      <th>split9_test_mcc</th>\n",
              "      <th>mean_test_mcc</th>\n",
              "      <th>std_test_mcc</th>\n",
              "      <th>rank_test_mcc</th>\n",
              "    </tr>\n",
              "  </thead>\n",
              "  <tbody>\n",
              "    <tr>\n",
              "      <th>0</th>\n",
              "      <td>147.982427</td>\n",
              "      <td>14.288789</td>\n",
              "      <td>0.020770</td>\n",
              "      <td>0.002994</td>\n",
              "      <td>(2056, 1024)</td>\n",
              "      <td>adam</td>\n",
              "      <td>{'hidden_layer_sizes': (2056, 1024), 'solver':...</td>\n",
              "      <td>0.772487</td>\n",
              "      <td>0.818342</td>\n",
              "      <td>0.913580</td>\n",
              "      <td>...</td>\n",
              "      <td>0.822005</td>\n",
              "      <td>0.803829</td>\n",
              "      <td>0.870902</td>\n",
              "      <td>0.741831</td>\n",
              "      <td>0.735549</td>\n",
              "      <td>0.719751</td>\n",
              "      <td>0.770325</td>\n",
              "      <td>0.735368</td>\n",
              "      <td>0.110005</td>\n",
              "      <td>1</td>\n",
              "    </tr>\n",
              "    <tr>\n",
              "      <th>1</th>\n",
              "      <td>1354.686577</td>\n",
              "      <td>193.633977</td>\n",
              "      <td>0.415342</td>\n",
              "      <td>0.019853</td>\n",
              "      <td>(2056,)</td>\n",
              "      <td>adam</td>\n",
              "      <td>{'hidden_layer_sizes': (2056,), 'solver': 'adam'}</td>\n",
              "      <td>0.772487</td>\n",
              "      <td>0.788360</td>\n",
              "      <td>0.894180</td>\n",
              "      <td>...</td>\n",
              "      <td>0.790545</td>\n",
              "      <td>0.781359</td>\n",
              "      <td>0.876029</td>\n",
              "      <td>0.716008</td>\n",
              "      <td>0.710158</td>\n",
              "      <td>0.678373</td>\n",
              "      <td>0.715423</td>\n",
              "      <td>0.704106</td>\n",
              "      <td>0.116002</td>\n",
              "      <td>3</td>\n",
              "    </tr>\n",
              "    <tr>\n",
              "      <th>2</th>\n",
              "      <td>645.290416</td>\n",
              "      <td>358.555869</td>\n",
              "      <td>0.178907</td>\n",
              "      <td>0.081459</td>\n",
              "      <td>(1024,)</td>\n",
              "      <td>adam</td>\n",
              "      <td>{'hidden_layer_sizes': (1024,), 'solver': 'adam'}</td>\n",
              "      <td>0.765432</td>\n",
              "      <td>0.793651</td>\n",
              "      <td>0.895944</td>\n",
              "      <td>...</td>\n",
              "      <td>0.815582</td>\n",
              "      <td>0.811820</td>\n",
              "      <td>0.866508</td>\n",
              "      <td>0.714526</td>\n",
              "      <td>0.752295</td>\n",
              "      <td>0.678373</td>\n",
              "      <td>0.715015</td>\n",
              "      <td>0.712698</td>\n",
              "      <td>0.121208</td>\n",
              "      <td>2</td>\n",
              "    </tr>\n",
              "  </tbody>\n",
              "</table>\n",
              "<p>3 rows × 46 columns</p>\n",
              "</div>\n",
              "    <div class=\"colab-df-buttons\">\n",
              "\n",
              "  <div class=\"colab-df-container\">\n",
              "    <button class=\"colab-df-convert\" onclick=\"convertToInteractive('df-7c352159-91de-4eef-a7cb-2bb2205b1451')\"\n",
              "            title=\"Convert this dataframe to an interactive table.\"\n",
              "            style=\"display:none;\">\n",
              "\n",
              "  <svg xmlns=\"http://www.w3.org/2000/svg\" height=\"24px\" viewBox=\"0 -960 960 960\">\n",
              "    <path d=\"M120-120v-720h720v720H120Zm60-500h600v-160H180v160Zm220 220h160v-160H400v160Zm0 220h160v-160H400v160ZM180-400h160v-160H180v160Zm440 0h160v-160H620v160ZM180-180h160v-160H180v160Zm440 0h160v-160H620v160Z\"/>\n",
              "  </svg>\n",
              "    </button>\n",
              "\n",
              "  <style>\n",
              "    .colab-df-container {\n",
              "      display:flex;\n",
              "      gap: 12px;\n",
              "    }\n",
              "\n",
              "    .colab-df-convert {\n",
              "      background-color: #E8F0FE;\n",
              "      border: none;\n",
              "      border-radius: 50%;\n",
              "      cursor: pointer;\n",
              "      display: none;\n",
              "      fill: #1967D2;\n",
              "      height: 32px;\n",
              "      padding: 0 0 0 0;\n",
              "      width: 32px;\n",
              "    }\n",
              "\n",
              "    .colab-df-convert:hover {\n",
              "      background-color: #E2EBFA;\n",
              "      box-shadow: 0px 1px 2px rgba(60, 64, 67, 0.3), 0px 1px 3px 1px rgba(60, 64, 67, 0.15);\n",
              "      fill: #174EA6;\n",
              "    }\n",
              "\n",
              "    .colab-df-buttons div {\n",
              "      margin-bottom: 4px;\n",
              "    }\n",
              "\n",
              "    [theme=dark] .colab-df-convert {\n",
              "      background-color: #3B4455;\n",
              "      fill: #D2E3FC;\n",
              "    }\n",
              "\n",
              "    [theme=dark] .colab-df-convert:hover {\n",
              "      background-color: #434B5C;\n",
              "      box-shadow: 0px 1px 3px 1px rgba(0, 0, 0, 0.15);\n",
              "      filter: drop-shadow(0px 1px 2px rgba(0, 0, 0, 0.3));\n",
              "      fill: #FFFFFF;\n",
              "    }\n",
              "  </style>\n",
              "\n",
              "    <script>\n",
              "      const buttonEl =\n",
              "        document.querySelector('#df-7c352159-91de-4eef-a7cb-2bb2205b1451 button.colab-df-convert');\n",
              "      buttonEl.style.display =\n",
              "        google.colab.kernel.accessAllowed ? 'block' : 'none';\n",
              "\n",
              "      async function convertToInteractive(key) {\n",
              "        const element = document.querySelector('#df-7c352159-91de-4eef-a7cb-2bb2205b1451');\n",
              "        const dataTable =\n",
              "          await google.colab.kernel.invokeFunction('convertToInteractive',\n",
              "                                                    [key], {});\n",
              "        if (!dataTable) return;\n",
              "\n",
              "        const docLinkHtml = 'Like what you see? Visit the ' +\n",
              "          '<a target=\"_blank\" href=https://colab.research.google.com/notebooks/data_table.ipynb>data table notebook</a>'\n",
              "          + ' to learn more about interactive tables.';\n",
              "        element.innerHTML = '';\n",
              "        dataTable['output_type'] = 'display_data';\n",
              "        await google.colab.output.renderOutput(dataTable, element);\n",
              "        const docLink = document.createElement('div');\n",
              "        docLink.innerHTML = docLinkHtml;\n",
              "        element.appendChild(docLink);\n",
              "      }\n",
              "    </script>\n",
              "  </div>\n",
              "\n",
              "\n",
              "<div id=\"df-51901b2a-c22e-4862-9252-398798da3e7a\">\n",
              "  <button class=\"colab-df-quickchart\" onclick=\"quickchart('df-51901b2a-c22e-4862-9252-398798da3e7a')\"\n",
              "            title=\"Suggest charts\"\n",
              "            style=\"display:none;\">\n",
              "\n",
              "<svg xmlns=\"http://www.w3.org/2000/svg\" height=\"24px\"viewBox=\"0 0 24 24\"\n",
              "     width=\"24px\">\n",
              "    <g>\n",
              "        <path d=\"M19 3H5c-1.1 0-2 .9-2 2v14c0 1.1.9 2 2 2h14c1.1 0 2-.9 2-2V5c0-1.1-.9-2-2-2zM9 17H7v-7h2v7zm4 0h-2V7h2v10zm4 0h-2v-4h2v4z\"/>\n",
              "    </g>\n",
              "</svg>\n",
              "  </button>\n",
              "\n",
              "<style>\n",
              "  .colab-df-quickchart {\n",
              "      --bg-color: #E8F0FE;\n",
              "      --fill-color: #1967D2;\n",
              "      --hover-bg-color: #E2EBFA;\n",
              "      --hover-fill-color: #174EA6;\n",
              "      --disabled-fill-color: #AAA;\n",
              "      --disabled-bg-color: #DDD;\n",
              "  }\n",
              "\n",
              "  [theme=dark] .colab-df-quickchart {\n",
              "      --bg-color: #3B4455;\n",
              "      --fill-color: #D2E3FC;\n",
              "      --hover-bg-color: #434B5C;\n",
              "      --hover-fill-color: #FFFFFF;\n",
              "      --disabled-bg-color: #3B4455;\n",
              "      --disabled-fill-color: #666;\n",
              "  }\n",
              "\n",
              "  .colab-df-quickchart {\n",
              "    background-color: var(--bg-color);\n",
              "    border: none;\n",
              "    border-radius: 50%;\n",
              "    cursor: pointer;\n",
              "    display: none;\n",
              "    fill: var(--fill-color);\n",
              "    height: 32px;\n",
              "    padding: 0;\n",
              "    width: 32px;\n",
              "  }\n",
              "\n",
              "  .colab-df-quickchart:hover {\n",
              "    background-color: var(--hover-bg-color);\n",
              "    box-shadow: 0 1px 2px rgba(60, 64, 67, 0.3), 0 1px 3px 1px rgba(60, 64, 67, 0.15);\n",
              "    fill: var(--button-hover-fill-color);\n",
              "  }\n",
              "\n",
              "  .colab-df-quickchart-complete:disabled,\n",
              "  .colab-df-quickchart-complete:disabled:hover {\n",
              "    background-color: var(--disabled-bg-color);\n",
              "    fill: var(--disabled-fill-color);\n",
              "    box-shadow: none;\n",
              "  }\n",
              "\n",
              "  .colab-df-spinner {\n",
              "    border: 2px solid var(--fill-color);\n",
              "    border-color: transparent;\n",
              "    border-bottom-color: var(--fill-color);\n",
              "    animation:\n",
              "      spin 1s steps(1) infinite;\n",
              "  }\n",
              "\n",
              "  @keyframes spin {\n",
              "    0% {\n",
              "      border-color: transparent;\n",
              "      border-bottom-color: var(--fill-color);\n",
              "      border-left-color: var(--fill-color);\n",
              "    }\n",
              "    20% {\n",
              "      border-color: transparent;\n",
              "      border-left-color: var(--fill-color);\n",
              "      border-top-color: var(--fill-color);\n",
              "    }\n",
              "    30% {\n",
              "      border-color: transparent;\n",
              "      border-left-color: var(--fill-color);\n",
              "      border-top-color: var(--fill-color);\n",
              "      border-right-color: var(--fill-color);\n",
              "    }\n",
              "    40% {\n",
              "      border-color: transparent;\n",
              "      border-right-color: var(--fill-color);\n",
              "      border-top-color: var(--fill-color);\n",
              "    }\n",
              "    60% {\n",
              "      border-color: transparent;\n",
              "      border-right-color: var(--fill-color);\n",
              "    }\n",
              "    80% {\n",
              "      border-color: transparent;\n",
              "      border-right-color: var(--fill-color);\n",
              "      border-bottom-color: var(--fill-color);\n",
              "    }\n",
              "    90% {\n",
              "      border-color: transparent;\n",
              "      border-bottom-color: var(--fill-color);\n",
              "    }\n",
              "  }\n",
              "</style>\n",
              "\n",
              "  <script>\n",
              "    async function quickchart(key) {\n",
              "      const quickchartButtonEl =\n",
              "        document.querySelector('#' + key + ' button');\n",
              "      quickchartButtonEl.disabled = true;  // To prevent multiple clicks.\n",
              "      quickchartButtonEl.classList.add('colab-df-spinner');\n",
              "      try {\n",
              "        const charts = await google.colab.kernel.invokeFunction(\n",
              "            'suggestCharts', [key], {});\n",
              "      } catch (error) {\n",
              "        console.error('Error during call to suggestCharts:', error);\n",
              "      }\n",
              "      quickchartButtonEl.classList.remove('colab-df-spinner');\n",
              "      quickchartButtonEl.classList.add('colab-df-quickchart-complete');\n",
              "    }\n",
              "    (() => {\n",
              "      let quickchartButtonEl =\n",
              "        document.querySelector('#df-51901b2a-c22e-4862-9252-398798da3e7a button');\n",
              "      quickchartButtonEl.style.display =\n",
              "        google.colab.kernel.accessAllowed ? 'block' : 'none';\n",
              "    })();\n",
              "  </script>\n",
              "</div>\n",
              "    </div>\n",
              "  </div>\n"
            ],
            "text/plain": [
              "   mean_fit_time  std_fit_time  mean_score_time  std_score_time  \\\n",
              "0     147.982427     14.288789         0.020770        0.002994   \n",
              "1    1354.686577    193.633977         0.415342        0.019853   \n",
              "2     645.290416    358.555869         0.178907        0.081459   \n",
              "\n",
              "  param_hidden_layer_sizes param_solver  \\\n",
              "0             (2056, 1024)         adam   \n",
              "1                  (2056,)         adam   \n",
              "2                  (1024,)         adam   \n",
              "\n",
              "                                              params  split0_test_accuracy  \\\n",
              "0  {'hidden_layer_sizes': (2056, 1024), 'solver':...              0.772487   \n",
              "1  {'hidden_layer_sizes': (2056,), 'solver': 'adam'}              0.772487   \n",
              "2  {'hidden_layer_sizes': (1024,), 'solver': 'adam'}              0.765432   \n",
              "\n",
              "   split1_test_accuracy  split2_test_accuracy  ...  split3_test_mcc  \\\n",
              "0              0.818342              0.913580  ...         0.822005   \n",
              "1              0.788360              0.894180  ...         0.790545   \n",
              "2              0.793651              0.895944  ...         0.815582   \n",
              "\n",
              "   split4_test_mcc  split5_test_mcc  split6_test_mcc  split7_test_mcc  \\\n",
              "0         0.803829         0.870902         0.741831         0.735549   \n",
              "1         0.781359         0.876029         0.716008         0.710158   \n",
              "2         0.811820         0.866508         0.714526         0.752295   \n",
              "\n",
              "   split8_test_mcc  split9_test_mcc  mean_test_mcc  std_test_mcc  \\\n",
              "0         0.719751         0.770325       0.735368      0.110005   \n",
              "1         0.678373         0.715423       0.704106      0.116002   \n",
              "2         0.678373         0.715015       0.712698      0.121208   \n",
              "\n",
              "   rank_test_mcc  \n",
              "0              1  \n",
              "1              3  \n",
              "2              2  \n",
              "\n",
              "[3 rows x 46 columns]"
            ]
          },
          "execution_count": 50,
          "metadata": {},
          "output_type": "execute_result"
        }
      ],
      "source": [
        "DataFrame(classifiers.cv_results_)"
      ]
    },
    {
      "cell_type": "code",
      "execution_count": null,
      "id": "6vFSrlejaAc5",
      "metadata": {
        "id": "6vFSrlejaAc5"
      },
      "outputs": [],
      "source": [
        "df =pd.DataFrame(classifiers.cv_results_)\n",
        "new_path = '/content/test.xls'\n",
        "writer = pd.ExcelWriter(new_path, engine='xlsxwriter')\n",
        "df.to_excel('/content/drive/MyDrive/Halophilic/AnkhMLP.xlsx')\n"
      ]
    },
    {
      "cell_type": "code",
      "execution_count": null,
      "id": "g5Efby3KSn5j",
      "metadata": {
        "colab": {
          "base_uri": "https://localhost:8080/"
        },
        "id": "g5Efby3KSn5j",
        "outputId": "829ce86c-a7c4-4022-81b3-310f719da7e0"
      },
      "outputs": [
        {
          "name": "stdout",
          "output_type": "stream",
          "text": [
            "acc: 1.0\n",
            "f1: 1.0\n",
            "mcc: 1.0\n",
            "sn: [1.0, 1.0, 1.0, 1.0, 1.0, 1.0, 1.0, 1.0, 1.0, 1.0, 1.0, 1.0, 1.0, 1.0, 1.0, 1.0, 1.0, 1.0, 1.0, 1.0, 1.0, 1.0, 1.0, 1.0, 1.0, 1.0, 1.0, 1.0, 1.0, 1.0, 1.0, 1.0, 1.0, 1.0, 1.0, 1.0, 1.0, 1.0, 1.0, 1.0, 1.0, 1.0, 1.0, 1.0, 1.0, 1.0, 1.0, 1.0, 1.0, 1.0, 1.0, 1.0, 1.0, 1.0, 1.0, 1.0, 1.0, 1.0, 1.0, 1.0, 1.0, 1.0, 1.0, 1.0, 1.0, 1.0, 1.0, 1.0, 1.0, 1.0, 1.0, 1.0, 1.0, 1.0, 1.0, 1.0, 1.0, 1.0, 1.0, 1.0, 1.0, 1.0, 1.0, 1.0, 1.0, 1.0, 1.0, 1.0, 1.0, 1.0, 1.0, 1.0, 1.0, 1.0, 1.0, 1.0, 1.0, 1.0, 1.0, 1.0, 1.0, 1.0, 1.0, 1.0, 1.0, 1.0, 1.0, 1.0, 1.0, 1.0, 1.0, 1.0, 1.0, 1.0, 1.0, 1.0, 1.0, 1.0, 1.0, 1.0, 1.0, 1.0, 1.0, 1.0, 1.0, 1.0, 1.0, 1.0, 1.0, 1.0, 1.0, 1.0, 1.0, 1.0, 1.0, 1.0, 1.0, 1.0, 1.0, 1.0, 1.0, 1.0, 1.0, 1.0, 1.0, 1.0, 1.0, 1.0, 1.0, 1.0, 1.0, 1.0, 1.0, 1.0, 1.0, 1.0, 1.0, 1.0, 1.0, 1.0, 1.0, 1.0, 1.0, 1.0, 1.0, 1.0, 1.0, 1.0, 1.0, 1.0, 1.0, 1.0, 1.0, 1.0, 1.0, 1.0, 1.0, 1.0, 1.0, 1.0, 1.0, 1.0, 1.0, 1.0, 1.0, 1.0, 1.0, 1.0, 1.0, 1.0, 1.0, 1.0, 1.0, 1.0, 1.0, 1.0, 1.0, 1.0, 1.0, 1.0, 1.0, 1.0, 1.0, 1.0, 1.0, 1.0, 1.0, 1.0, 1.0, 1.0, 1.0, 1.0, 1.0, 1.0, 1.0, 1.0, 1.0, 1.0, 1.0, 1.0, 1.0, 1.0, 1.0, 1.0, 1.0, 1.0, 1.0, 1.0, 1.0, 1.0, 1.0, 1.0, 1.0, 1.0, 1.0, 1.0, 1.0, 1.0, 1.0, 1.0, 1.0, 1.0, 1.0, 1.0, 1.0, 1.0, 1.0, 1.0, 1.0, 1.0, 1.0, 1.0, 1.0, 1.0, 1.0, 1.0, 1.0, 1.0, 1.0, 1.0, 1.0, 1.0, 1.0, 1.0, 1.0, 1.0, 1.0, 1.0, 1.0, 1.0, 1.0, 1.0, 1.0, 1.0, 1.0, 1.0, 1.0, 1.0, 1.0, 1.0, 1.0, 1.0, 1.0, 1.0, 1.0, 1.0, 1.0, 1.0, 1.0, 1.0, 1.0, 1.0, 1.0, 1.0, 1.0, 1.0, 1.0, 1.0, 1.0, 1.0, 1.0, 1.0, 1.0, 1.0, 1.0, 1.0, 1.0, 1.0, 1.0, 1.0, 1.0, 1.0, 1.0, 1.0, 1.0, 1.0, 1.0, 1.0, 1.0, 1.0, 1.0, 1.0, 1.0, 1.0, 1.0, 1.0, 1.0, 1.0, 1.0, 1.0, 1.0, 1.0, 1.0, 1.0, 1.0, 1.0, 1.0, 1.0, 1.0, 1.0, 1.0, 1.0, 1.0, 1.0, 1.0, 1.0, 1.0, 1.0, 1.0, 1.0, 1.0, 1.0, 1.0, 1.0, 1.0, 1.0, 1.0, 1.0, 1.0, 1.0, 1.0, 1.0, 1.0, 1.0, 1.0, 1.0, 1.0, 1.0, 1.0, 1.0, 1.0, 1.0, 1.0, 1.0, 1.0, 1.0, 1.0, 1.0, 1.0, 1.0, 1.0, 1.0, 1.0, 1.0, 1.0, 1.0, 1.0, 1.0, 1.0, 1.0, 1.0, 1.0, 1.0, 1.0, 1.0, 1.0, 1.0, 1.0, 1.0, 1.0, 1.0, 1.0, 1.0, 1.0, 1.0, 1.0, 1.0, 1.0, 1.0, 1.0, 1.0, 1.0, 1.0, 1.0, 1.0, 1.0, 1.0, 1.0, 1.0, 1.0, 1.0, 1.0, 1.0, 1.0, 1.0, 1.0, 1.0, 1.0, 1.0, 1.0, 1.0, 1.0, 1.0, 1.0, 1.0, 1.0, 1.0, 1.0, 1.0, 1.0, 1.0, 1.0, 1.0, 1.0, 1.0, 1.0, 1.0, 1.0, 1.0, 1.0, 1.0, 1.0, 1.0, 1.0, 1.0, 1.0, 1.0, 1.0, 1.0, 1.0, 1.0, 1.0, 1.0, 1.0, 1.0, 1.0, 1.0, 1.0, 1.0, 1.0, 1.0, 1.0, 1.0, 1.0, 1.0, 1.0, 1.0, 1.0, 1.0, 1.0, 1.0, 1.0, 1.0, 1.0, 1.0, 1.0, 1.0, 1.0, 1.0, 1.0, 1.0, 1.0, 1.0, 1.0, 1.0, 1.0, 1.0, 1.0, 1.0, 1.0, 1.0, 1.0, 1.0, 1.0, 1.0, 1.0, 1.0, 1.0, 1.0, 1.0, 1.0, 1.0, 1.0, 1.0, 1.0, 1.0, 1.0, 1.0, 1.0, 1.0, 1.0, 1.0, 1.0, 1.0, 1.0, 1.0, 1.0, 1.0, 1.0, 1.0, 1.0, 1.0, 1.0, 1.0, 1.0, 1.0, 1.0, 1.0, 1.0, 1.0, 1.0, 1.0, 1.0, 1.0, 1.0, 1.0, 1.0, 1.0, 1.0, 1.0, 1.0, 1.0, 1.0, 1.0, 1.0, 1.0, 1.0, 1.0, 1.0, 1.0, 1.0, 1.0, 1.0, 1.0, 1.0, 1.0, 1.0, 1.0, 1.0, 1.0, 1.0, 1.0, 1.0, 1.0, 1.0, 1.0, 1.0, 1.0, 1.0, 1.0, 1.0, 1.0, 1.0, 1.0, 1.0, 1.0, 1.0, 1.0, 1.0, 1.0, 1.0, 1.0, 1.0, 1.0, 1.0, 1.0, 1.0, 1.0, 1.0, 1.0, 1.0, 1.0, 1.0, 1.0, 1.0, 1.0, 1.0, 1.0, 1.0, 1.0, 1.0, 1.0, 1.0, 1.0, 1.0, 1.0, 1.0, 1.0, 1.0, 1.0, 1.0, 1.0, 1.0, 1.0, 1.0, 1.0, 1.0, 1.0, 1.0, 1.0, 1.0, 1.0, 1.0, 1.0, 1.0, 1.0, 1.0, 1.0, 1.0, 1.0, 1.0, 1.0, 1.0, 1.0, 1.0, 1.0, 1.0, 1.0, 1.0, 1.0, 1.0, 1.0, 1.0, 1.0, 1.0, 1.0, 1.0, 1.0, 1.0, 1.0, 1.0, 1.0, 1.0, 1.0, 1.0, 1.0, 1.0, 1.0, 1.0, 1.0, 1.0, 1.0, 1.0, 1.0, 1.0, 1.0, 1.0, 1.0, 1.0, 1.0, 1.0, 1.0, 1.0, 1.0, 1.0, 1.0, 1.0, 1.0, 1.0, 1.0, 1.0, 1.0, 1.0, 1.0, 1.0, 1.0, 1.0, 1.0, 1.0, 1.0, 1.0, 1.0, 1.0, 1.0, 1.0, 1.0, 1.0, 1.0, 1.0, 1.0, 1.0, 1.0, 1.0, 1.0, 1.0, 1.0, 1.0, 1.0, 1.0, 1.0, 1.0, 1.0, 1.0, 1.0, 1.0, 1.0, 1.0, 1.0, 1.0, 1.0, 1.0, 1.0, 1.0, 1.0, 1.0, 1.0, 1.0, 1.0, 1.0, 1.0, 1.0, 1.0, 1.0, 1.0, 1.0, 1.0, 1.0, 1.0, 1.0, 1.0, 1.0, 1.0, 1.0, 1.0, 1.0, 1.0, 1.0, 1.0, 1.0, 1.0, 1.0, 1.0, 1.0, 1.0, 1.0, 1.0, 1.0, 1.0, 1.0, 1.0, 1.0, 1.0, 1.0, 1.0, 1.0, 1.0, 1.0, 1.0, 1.0, 1.0, 1.0, 1.0, 1.0, 1.0, 1.0, 1.0, 1.0, 1.0, 1.0, 1.0, 1.0, 1.0, 1.0, 1.0, 1.0, 1.0, 1.0, 1.0, 1.0, 1.0, 1.0, 1.0, 1.0, 1.0, 1.0, 1.0, 1.0, 1.0, 1.0, 1.0, 1.0, 1.0, 1.0, 1.0, 1.0, 1.0, 1.0, 1.0, 1.0, 1.0, 1.0, 1.0, 1.0, 1.0, 1.0, 1.0, 1.0, 1.0, 1.0, 1.0, 1.0, 1.0, 1.0, 1.0, 1.0, 1.0, 1.0, 1.0, 1.0, 1.0, 1.0, 1.0, 1.0, 1.0, 1.0, 1.0, 1.0, 1.0, 1.0, 1.0, 1.0, 1.0, 1.0, 1.0, 1.0, 1.0, 1.0, 1.0, 1.0, 1.0, 1.0, 1.0, 1.0, 1.0, 1.0, 1.0, 1.0, 1.0, 1.0, 1.0, 1.0, 1.0, 1.0, 1.0, 1.0, 1.0, 1.0, 1.0, 1.0, 1.0, 1.0, 1.0, 1.0, 1.0, 1.0, 1.0, 1.0, 1.0, 1.0, 1.0, 1.0, 1.0, 1.0, 1.0, 1.0, 1.0, 1.0, 1.0, 1.0, 1.0, 1.0, 1.0, 1.0, 1.0, 1.0, 1.0, 1.0, 1.0, 1.0, 1.0, 1.0, 1.0, 1.0, 1.0, 1.0, 1.0, 1.0, 1.0, 1.0, 1.0, 1.0, 1.0, 1.0, 1.0, 1.0, 1.0, 1.0, 1.0, 1.0, 1.0, 1.0, 1.0, 1.0, 1.0, 1.0, 1.0, 1.0, 1.0, 1.0, 1.0, 1.0, 1.0, 1.0, 1.0, 1.0, 1.0, 1.0, 1.0, 1.0, 1.0, 1.0, 1.0, 1.0, 1.0, 1.0, 1.0, 1.0, 1.0, 1.0, 1.0, 1.0, 1.0, 1.0, 1.0, 1.0, 1.0, 1.0, 1.0, 1.0, 1.0, 1.0, 1.0, 1.0, 1.0, 1.0, 1.0, 1.0, 1.0, 1.0, 1.0, 1.0, 1.0, 1.0, 1.0, 1.0, 1.0, 1.0, 1.0, 1.0, 1.0, 1.0, 1.0, 1.0, 1.0, 1.0, 1.0, 1.0, 1.0, 1.0, 1.0]\n",
            "sp: [1.0, 1.0, 1.0, 1.0, 1.0, 1.0, 1.0, 1.0, 1.0, 1.0, 1.0, 1.0, 1.0, 1.0, 1.0, 1.0, 1.0, 1.0, 1.0, 1.0, 1.0, 1.0, 1.0, 1.0, 1.0, 1.0, 1.0, 1.0, 1.0, 1.0, 1.0, 1.0, 1.0, 1.0, 1.0, 1.0, 1.0, 1.0, 1.0, 1.0, 1.0, 1.0, 1.0, 1.0, 1.0, 1.0, 1.0, 1.0, 1.0, 1.0, 1.0, 1.0, 1.0, 1.0, 1.0, 1.0, 1.0, 1.0, 1.0, 1.0, 1.0, 1.0, 1.0, 1.0, 1.0, 1.0, 1.0, 1.0, 1.0, 1.0, 1.0, 1.0, 1.0, 1.0, 1.0, 1.0, 1.0, 1.0, 1.0, 1.0, 1.0, 1.0, 1.0, 1.0, 1.0, 1.0, 1.0, 1.0, 1.0, 1.0, 1.0, 1.0, 1.0, 1.0, 1.0, 1.0, 1.0, 1.0, 1.0, 1.0, 1.0, 1.0, 1.0, 1.0, 1.0, 1.0, 1.0, 1.0, 1.0, 1.0, 1.0, 1.0, 1.0, 1.0, 1.0, 1.0, 1.0, 1.0, 1.0, 1.0, 1.0, 1.0, 1.0, 1.0, 1.0, 1.0, 1.0, 1.0, 1.0, 1.0, 1.0, 1.0, 1.0, 1.0, 1.0, 1.0, 1.0, 1.0, 1.0, 1.0, 1.0, 1.0, 1.0, 1.0, 1.0, 1.0, 1.0, 1.0, 1.0, 1.0, 1.0, 1.0, 1.0, 1.0, 1.0, 1.0, 1.0, 1.0, 1.0, 1.0, 1.0, 1.0, 1.0, 1.0, 1.0, 1.0, 1.0, 1.0, 1.0, 1.0, 1.0, 1.0, 1.0, 1.0, 1.0, 1.0, 1.0, 1.0, 1.0, 1.0, 1.0, 1.0, 1.0, 1.0, 1.0, 1.0, 1.0, 1.0, 1.0, 1.0, 1.0, 1.0, 1.0, 1.0, 1.0, 1.0, 1.0, 1.0, 1.0, 1.0, 1.0, 1.0, 1.0, 1.0, 1.0, 1.0, 1.0, 1.0, 1.0, 1.0, 1.0, 1.0, 1.0, 1.0, 1.0, 1.0, 1.0, 1.0, 1.0, 1.0, 1.0, 1.0, 1.0, 1.0, 1.0, 1.0, 1.0, 1.0, 1.0, 1.0, 1.0, 1.0, 1.0, 1.0, 1.0, 1.0, 1.0, 1.0, 1.0, 1.0, 1.0, 1.0, 1.0, 1.0, 1.0, 1.0, 1.0, 1.0, 1.0, 1.0, 1.0, 1.0, 1.0, 1.0, 1.0, 1.0, 1.0, 1.0, 1.0, 1.0, 1.0, 1.0, 1.0, 1.0, 1.0, 1.0, 1.0, 1.0, 1.0, 1.0, 1.0, 1.0, 1.0, 1.0, 1.0, 1.0, 1.0, 1.0, 1.0, 1.0, 1.0, 1.0, 1.0, 1.0, 1.0, 1.0, 1.0, 1.0, 1.0, 1.0, 1.0, 1.0, 1.0, 1.0, 1.0, 1.0, 1.0, 1.0, 1.0, 1.0, 1.0, 1.0, 1.0, 1.0, 1.0, 1.0, 1.0, 1.0, 1.0, 1.0, 1.0, 1.0, 1.0, 1.0, 1.0, 1.0, 1.0, 1.0, 1.0, 1.0, 1.0, 1.0, 1.0, 1.0, 1.0, 1.0, 1.0, 1.0, 1.0, 1.0, 1.0, 1.0, 1.0, 1.0, 1.0, 1.0, 1.0, 1.0, 1.0, 1.0, 1.0, 1.0, 1.0, 1.0, 1.0, 1.0, 1.0, 1.0, 1.0, 1.0, 1.0, 1.0, 1.0, 1.0, 1.0, 1.0, 1.0, 1.0, 1.0, 1.0, 1.0, 1.0, 1.0, 1.0, 1.0, 1.0, 1.0, 1.0, 1.0, 1.0, 1.0, 1.0, 1.0, 1.0, 1.0, 1.0, 1.0, 1.0, 1.0, 1.0, 1.0, 1.0, 1.0, 1.0, 1.0, 1.0, 1.0, 1.0, 1.0, 1.0, 1.0, 1.0, 1.0, 1.0, 1.0, 1.0, 1.0, 1.0, 1.0, 1.0, 1.0, 1.0, 1.0, 1.0, 1.0, 1.0, 1.0, 1.0, 1.0, 1.0, 1.0, 1.0, 1.0, 1.0, 1.0, 1.0, 1.0, 1.0, 1.0, 1.0, 1.0, 1.0, 1.0, 1.0, 1.0, 1.0, 1.0, 1.0, 1.0, 1.0, 1.0, 1.0, 1.0, 1.0, 1.0, 1.0, 1.0, 1.0, 1.0, 1.0, 1.0, 1.0, 1.0, 1.0, 1.0, 1.0, 1.0, 1.0, 1.0, 1.0, 1.0, 1.0, 1.0, 1.0, 1.0, 1.0, 1.0, 1.0, 1.0, 1.0, 1.0, 1.0, 1.0, 1.0, 1.0, 1.0, 1.0, 1.0, 1.0, 1.0, 1.0, 1.0, 1.0, 1.0, 1.0, 1.0, 1.0, 1.0, 1.0, 1.0, 1.0, 1.0, 1.0, 1.0, 1.0, 1.0, 1.0, 1.0, 1.0, 1.0, 1.0, 1.0, 1.0, 1.0, 1.0, 1.0, 1.0, 1.0, 1.0, 1.0, 1.0, 1.0, 1.0, 1.0, 1.0, 1.0, 1.0, 1.0, 1.0, 1.0, 1.0, 1.0, 1.0, 1.0, 1.0, 1.0, 1.0, 1.0, 1.0, 1.0, 1.0, 1.0, 1.0, 1.0, 1.0, 1.0, 1.0, 1.0, 1.0, 1.0, 1.0, 1.0, 1.0, 1.0, 1.0, 1.0, 1.0, 1.0, 1.0, 1.0, 1.0, 1.0, 1.0, 1.0, 1.0, 1.0, 1.0, 1.0, 1.0, 1.0, 1.0, 1.0, 1.0, 1.0, 1.0, 1.0, 1.0, 1.0, 1.0, 1.0, 1.0, 1.0, 1.0, 1.0, 1.0, 1.0, 1.0, 1.0, 1.0, 1.0, 1.0, 1.0, 1.0, 1.0, 1.0, 1.0, 1.0, 1.0, 1.0, 1.0, 1.0, 1.0, 1.0, 1.0, 1.0, 1.0, 1.0, 1.0, 1.0, 1.0, 1.0, 1.0, 1.0, 1.0, 1.0, 1.0, 1.0, 1.0, 1.0, 1.0, 1.0, 1.0, 1.0, 1.0, 1.0, 1.0, 1.0, 1.0, 1.0, 1.0, 1.0, 1.0, 1.0, 1.0, 1.0, 1.0, 1.0, 1.0, 1.0, 1.0, 1.0, 1.0, 1.0, 1.0, 1.0, 1.0, 1.0, 1.0, 1.0, 1.0, 1.0, 1.0, 1.0, 1.0, 1.0, 1.0, 1.0, 1.0, 1.0, 1.0, 1.0, 1.0, 1.0, 1.0, 1.0, 1.0, 1.0, 1.0, 1.0, 1.0, 1.0, 1.0, 1.0, 1.0, 1.0, 1.0, 1.0, 1.0, 1.0, 1.0, 1.0, 1.0, 1.0, 1.0, 1.0, 1.0, 1.0, 1.0, 1.0, 1.0, 1.0, 1.0, 1.0, 1.0, 1.0, 1.0, 1.0, 1.0, 1.0, 1.0, 1.0, 1.0, 1.0, 1.0, 1.0, 1.0, 1.0, 1.0, 1.0, 1.0, 1.0, 1.0, 1.0, 1.0, 1.0, 1.0, 1.0, 1.0, 1.0, 1.0, 1.0, 1.0, 1.0, 1.0, 1.0, 1.0, 1.0, 1.0, 1.0, 1.0, 1.0, 1.0, 1.0, 1.0, 1.0, 1.0, 1.0, 1.0, 1.0, 1.0, 1.0, 1.0, 1.0, 1.0, 1.0, 1.0, 1.0, 1.0, 1.0, 1.0, 1.0, 1.0, 1.0, 1.0, 1.0, 1.0, 1.0, 1.0, 1.0, 1.0, 1.0, 1.0, 1.0, 1.0, 1.0, 1.0, 1.0, 1.0, 1.0, 1.0, 1.0, 1.0, 1.0, 1.0, 1.0, 1.0, 1.0, 1.0, 1.0, 1.0, 1.0, 1.0, 1.0, 1.0, 1.0, 1.0, 1.0, 1.0, 1.0, 1.0, 1.0, 1.0, 1.0, 1.0, 1.0, 1.0, 1.0, 1.0, 1.0, 1.0, 1.0, 1.0, 1.0, 1.0, 1.0, 1.0, 1.0, 1.0, 1.0, 1.0, 1.0, 1.0, 1.0, 1.0, 1.0, 1.0, 1.0, 1.0, 1.0, 1.0, 1.0, 1.0, 1.0, 1.0, 1.0, 1.0, 1.0, 1.0, 1.0, 1.0, 1.0, 1.0, 1.0, 1.0, 1.0, 1.0, 1.0, 1.0, 1.0, 1.0, 1.0, 1.0, 1.0, 1.0, 1.0, 1.0, 1.0, 1.0, 1.0, 1.0, 1.0, 1.0, 1.0, 1.0, 1.0, 1.0, 1.0, 1.0, 1.0, 1.0, 1.0, 1.0, 1.0, 1.0, 1.0, 1.0, 1.0, 1.0, 1.0, 1.0, 1.0, 1.0, 1.0, 1.0, 1.0, 1.0, 1.0, 1.0, 1.0, 1.0, 1.0, 1.0, 1.0, 1.0, 1.0, 1.0, 1.0, 1.0, 1.0, 1.0, 1.0, 1.0, 1.0, 1.0, 1.0, 1.0, 1.0, 1.0, 1.0, 1.0, 1.0, 1.0, 1.0, 1.0, 1.0, 1.0, 1.0, 1.0, 1.0, 1.0, 1.0, 1.0, 1.0, 1.0, 1.0, 1.0, 1.0, 1.0, 1.0, 1.0, 1.0, 1.0, 1.0, 1.0, 1.0, 1.0, 1.0, 1.0, 1.0, 1.0, 1.0, 1.0, 1.0, 1.0, 1.0, 1.0, 1.0, 1.0, 1.0, 1.0, 1.0, 1.0, 1.0, 1.0, 1.0, 1.0, 1.0, 1.0, 1.0, 1.0, 1.0, 1.0, 1.0, 1.0, 1.0, 1.0, 1.0, 1.0, 1.0, 1.0, 1.0, 1.0, 1.0, 1.0, 1.0, 1.0, 1.0, 1.0, 1.0, 1.0, 1.0, 1.0, 1.0, 1.0, 1.0, 1.0, 1.0, 1.0, 1.0, 1.0, 1.0, 1.0, 1.0, 1.0, 1.0, 1.0, 1.0, 1.0, 1.0, 1.0, 1.0, 1.0, 1.0, 1.0, 1.0, 1.0, 1.0, 1.0, 1.0, 1.0, 1.0, 1.0, 1.0, 1.0, 1.0, 1.0, 1.0, 1.0, 1.0, 1.0, 1.0, 1.0, 1.0, 1.0, 1.0, 1.0, 1.0, 1.0, 1.0, 1.0]\n",
            "sd_acc: 0.0\n",
            "sd_f1: 0.0\n",
            "sd_mcc: 0.0\n",
            "sd_sn: 0.0\n",
            "sd_sp: 0.0\n",
            "              precision    recall  f1-score   support\n",
            "\n",
            "           0       1.00      1.00      1.00      1821\n",
            "           1       1.00      1.00      1.00      3849\n",
            "\n",
            "    accuracy                           1.00      5670\n",
            "   macro avg       1.00      1.00      1.00      5670\n",
            "weighted avg       1.00      1.00      1.00      5670\n",
            "\n"
          ]
        },
        {
          "data": {
            "text/plain": [
              "(0.0, 0.0, 0.0)"
            ]
          },
          "execution_count": 52,
          "metadata": {},
          "output_type": "execute_result"
        }
      ],
      "source": [
        "predicted_training_labels = classifier.predict(train_dataset)\n",
        "error_rate(training_labels, predicted_training_labels)"
      ]
    },
    {
      "cell_type": "code",
      "execution_count": null,
      "id": "o6XZ9vilAJoD",
      "metadata": {
        "colab": {
          "base_uri": "https://localhost:8080/"
        },
        "id": "o6XZ9vilAJoD",
        "outputId": "eedd3ae9-0c73-4c49-d669-087f99424d19"
      },
      "outputs": [
        {
          "name": "stdout",
          "output_type": "stream",
          "text": [
            "acc: 0.8783185840707964\n",
            "f1: 0.9279790484504582\n",
            "mcc: 0.5418458281052053\n",
            "sn: [0.924831081081081, 0.9001706484641638, 0.9035012809564474, 0.9112068965517242, 0.9042016806722689, 0.9158798283261803, 0.9089376053962901, 0.9140425531914894, 0.9209621993127147, 0.9017241379310345, 0.9222886421861657, 0.90848026868178, 0.9130808950086059, 0.9012658227848102, 0.8976982097186701, 0.9137489325362937, 0.9005145797598628, 0.9309153713298791, 0.9139414802065404, 0.9224806201550387, 0.9100932994062765, 0.9080944350758853, 0.9195893926432849, 0.9077181208053692, 0.9093242087254063, 0.9061433447098977, 0.9189873417721519, 0.9146238377007607, 0.9014567266495287, 0.9191489361702128, 0.9052092228864219, 0.9123404255319149, 0.9091673675357443, 0.9102564102564102, 0.9087837837837838, 0.8935064935064935, 0.9016253207869974, 0.9121909633418585, 0.9069359086918349, 0.9078380706287683, 0.9185750636132316, 0.9036973344797936, 0.9111870196413322, 0.911965811965812, 0.9078380706287683, 0.9075993091537133, 0.9067357512953368, 0.9077711357813835, 0.9192439862542955, 0.903471634208298, 0.9136752136752136, 0.8915254237288136, 0.916095890410959, 0.9010152284263959, 0.9031705227077977, 0.90995670995671, 0.9096334185848253, 0.9155900086132644, 0.9143576826196473, 0.9056277056277057, 0.9043993231810491, 0.9179039301310044, 0.909556313993174, 0.9087866108786611, 0.9197952218430034, 0.9187129551227773, 0.919104991394148, 0.9010067114093959, 0.9168831168831169, 0.9151515151515152, 0.9008403361344538, 0.908936170212766, 0.9037294015611448, 0.9185750636132316, 0.9075342465753424, 0.9105351170568562, 0.9112627986348123, 0.8963153384747216, 0.9136442141623489, 0.9003378378378378, 0.9058219178082192, 0.8972366148531952, 0.9181739879414298, 0.9149305555555556, 0.9083191850594228, 0.9036658141517476, 0.9035621198957429, 0.8915254237288136, 0.9041095890410958, 0.9009314140558848, 0.9050847457627119, 0.9117395029991431, 0.9013840830449827, 0.9134453781512605, 0.9184549356223176, 0.9146551724137931, 0.9202037351443124, 0.9033361847733106, 0.9238754325259516, 0.9096385542168675, 0.91931330472103, 0.9021739130434783, 0.9079861111111112, 0.8972366148531952, 0.9125636672325976, 0.9253859348198971, 0.9132653061224489, 0.9012765957446809, 0.914983164983165, 0.8991452991452992, 0.916162489196197, 0.9178910976663786, 0.9113043478260869, 0.9002535925612849, 0.9037800687285223, 0.9144568006843456, 0.9235993208828522, 0.8946015424164524, 0.9090909090909091, 0.9012658227848102, 0.9092436974789916, 0.9143835616438356, 0.9085470085470085, 0.9073294018534119, 0.9028475711892797, 0.9093988145639289, 0.9222972972972973, 0.9093988145639289, 0.9134860050890585, 0.9006849315068494, 0.9037800687285223, 0.9043478260869565, 0.9017094017094017, 0.904156064461408, 0.9124893797790994, 0.9050086355785838, 0.9097222222222222, 0.8896434634974533, 0.906875543951262, 0.9005190311418685, 0.9143576826196473, 0.9040274207369323, 0.9156010230179028, 0.9063291139240506, 0.9094903339191565, 0.9128559102674719, 0.911965811965812, 0.9031979256698358, 0.9235395189003437, 0.903747870528109, 0.903747870528109, 0.9144568006843456, 0.9032258064516129, 0.9151515151515152, 0.9101694915254237, 0.9027538726333907, 0.9088564058469476, 0.9126637554585153, 0.9071367153912295, 0.9156010230179028, 0.9018932874354562, 0.9125541125541126, 0.9122657580919932, 0.9012658227848102, 0.9131534569983136, 0.9175257731958762, 0.9072961373390558, 0.9070567986230637, 0.91458153580673, 0.903143585386576, 0.8908145580589255, 0.9111111111111111, 0.9130808950086059, 0.9190353143841516, 0.8880275624461671, 0.9080851063829787, 0.9093198992443325, 0.9175965665236051, 0.9101694915254237, 0.8953687821612349, 0.9212598425196851, 0.9026701119724375, 0.911690496215307, 0.9104347826086957, 0.9196891191709845, 0.9140425531914894, 0.9183494293239683, 0.9076133447390933, 0.9074074074074074, 0.9054514480408858, 0.9100346020761245, 0.909404659188956, 0.9035532994923858, 0.8983774551665243, 0.907928388746803, 0.907679033649698, 0.9214840379637619, 0.9205807002561913, 0.9251934651762683, 0.8876500857632933, 0.9024604569420035, 0.8976510067114094, 0.9124024284475282, 0.8918454935622318, 0.9047619047619048, 0.9013100436681223, 0.9173060528559249, 0.9137931034482759, 0.902333621434745, 0.9235447437011295, 0.9011082693947144, 0.9218071242397915, 0.9016115351993215, 0.9262981574539364, 0.9063291139240506, 0.8976311336717429, 0.9069373942470389, 0.9027072758037225, 0.8999151823579304, 0.9145516074450084, 0.913527397260274, 0.921165381319623, 0.8955857385398981, 0.9019442096365173, 0.9064935064935065, 0.9108826049700086, 0.9224872231686542, 0.9165232358003442, 0.8976982097186701, 0.9181184668989547, 0.8925549915397631, 0.9153259949195597, 0.9117147707979627, 0.9019097222222222, 0.9066780821917808, 0.8992314261315115, 0.8973684210526316, 0.9178785286569717, 0.9131556319862425, 0.9176470588235294, 0.9023972602739726, 0.9142367066895368, 0.9187554019014693, 0.9037800687285223, 0.9243336199484092, 0.9007698887938409, 0.9043993231810491, 0.9043552519214346, 0.9260832625318607, 0.9021097046413502, 0.8970840480274442, 0.8875638841567292, 0.9134125636672326, 0.9207161125319693, 0.9216354344122658, 0.9319552110249785, 0.9005190311418685, 0.913527397260274, 0.91852487135506, 0.91931330472103, 0.8997451146983857, 0.9125214408233276, 0.906875543951262, 0.9083969465648855, 0.9085470085470085, 0.9143101970865467, 0.9129692832764505, 0.9136325148179509, 0.9146757679180887, 0.9001706484641638, 0.8963153384747216, 0.910333048676345, 0.91928632115548, 0.8926746166950597, 0.9078260869565218, 0.9166666666666666, 0.9067796610169492, 0.9148020654044751, 0.8980623420387531, 0.9205526770293609, 0.8991379310344828, 0.9180887372013652, 0.9107296137339056, 0.9241261722080136, 0.9008620689655172, 0.9140690817186183, 0.8999144568006844, 0.9102564102564102, 0.9281487743026204, 0.9008474576271186, 0.8998272884283247, 0.9049265341400173, 0.9218351741716228, 0.9111870196413322, 0.8986371379897785, 0.9093220338983051, 0.9103448275862069, 0.9050522648083623, 0.9035621198957429, 0.9191489361702128, 0.9115351257588898, 0.9138381201044387, 0.9105485232067511, 0.9183848797250859, 0.9203084832904884, 0.8905172413793103, 0.9032534246575342, 0.9052173913043479, 0.9124024284475282, 0.9217687074829932, 0.9053356282271945, 0.9131556319862425, 0.9035314384151594, 0.9238013698630136, 0.9104859335038363, 0.9174468085106383, 0.9094754653130288, 0.9195205479452054, 0.9087749782797567, 0.9122502172024327, 0.9011925042589438, 0.8952789699570816, 0.9111675126903553, 0.9032800672834315, 0.9122502172024327, 0.9100084104289319, 0.8993231810490694, 0.9237360754070265, 0.921165381319623, 0.9079965606190885, 0.9057412167952014, 0.9120409906063194, 0.9163144547759933, 0.9097807757166948, 0.8995708154506438, 0.9170896785109983, 0.9156010230179028, 0.9144568006843456, 0.9094754653130288, 0.8986371379897785, 0.9086993970714901, 0.9031986531986532, 0.9164556962025316, 0.9062233589087809, 0.8947811447811448, 0.9047619047619048, 0.9258010118043845, 0.9120689655172414, 0.9258943781942078, 0.9021459227467811, 0.8994032395566922, 0.9071550255536627, 0.914334181509754, 0.9096385542168675, 0.8986254295532646, 0.9057724957555179, 0.907928388746803, 0.9119390347163421, 0.9001663893510815, 0.9202772963604853, 0.9124463519313305, 0.9217830109335576, 0.9067579127459366, 0.8983774551665243, 0.8962264150943396, 0.9103448275862069, 0.9036658141517476, 0.9183848797250859, 0.9079061685490878, 0.9028132992327366, 0.9026315789473685, 0.9090909090909091, 0.9114139693356048, 0.9141886151231946, 0.9128559102674719, 0.9094017094017094, 0.9226804123711341, 0.9236051502145923, 0.9118409680207433, 0.9166666666666666, 0.910025706940874, 0.9185750636132316, 0.9050847457627119, 0.902229845626072, 0.9086251067463706, 0.9145516074450084, 0.9140425531914894, 0.9191304347826087, 0.8987341772151899, 0.9237933954276037, 0.9138225255972696, 0.903364969801553, 0.9144568006843456, 0.905790838375108, 0.9101694915254237, 0.9105621805792163, 0.911965811965812, 0.9083044982698962, 0.9195804195804196, 0.9061154177433247, 0.8999151823579304, 0.9203463203463204, 0.8959044368600683, 0.9019776440240757, 0.9132302405498282, 0.9042372881355932, 0.9115417017691659, 0.9029209621993127, 0.8967576791808873, 0.9026248941574937, 0.8816013628620102, 0.9168808911739503, 0.903862660944206, 0.8914529914529915, 0.9121909633418585, 0.9123404255319149, 0.9054852320675105, 0.9206081081081081, 0.9038128249566725, 0.8923076923076924, 0.9007029876977153, 0.9131534569983136, 0.9063032367972743, 0.8976784178847808, 0.9026933101650738, 0.910958904109589, 0.9040747028862479, 0.9184027777777778, 0.9069572506286673, 0.9172297297297297, 0.9055459272097054, 0.9060631938514091, 0.8921484037963762, 0.9097807757166948, 0.9226139294926913, 0.9065420560747663, 0.9201030927835051, 0.9134860050890585, 0.918918918918919, 0.9181969949916527, 0.9063829787234042, 0.9147485080988917, 0.9168853893263342, 0.9031986531986532, 0.8997429305912596, 0.9086206896551724, 0.8954081632653061, 0.9090121317157712, 0.9040747028862479, 0.9151823579304496, 0.9175170068027211, 0.8986371379897785, 0.9073756432246999, 0.9132996632996633, 0.9117395029991431, 0.9076271186440678, 0.9066213921901528, 0.9138513513513513, 0.9165950128976784, 0.9098639455782312, 0.9017933390264731, 0.9208695652173913, 0.9060344827586206, 0.9104859335038363, 0.9115120274914089, 0.9178662150719729, 0.9253218884120171, 0.9008771929824562, 0.907679033649698, 0.9066551426101987, 0.9237933954276037, 0.8964346349745331, 0.9040274207369323, 0.916095890410959, 0.9170230966638152, 0.9240724762726489, 0.9180327868852459, 0.902027027027027, 0.9052901023890785, 0.9137630662020906, 0.9084687767322498, 0.9258620689655173, 0.9123841617523167, 0.9168787107718406, 0.921161825726141, 0.9135593220338983, 0.9057093425605537, 0.9301121656600517, 0.9096283783783784, 0.9043552519214346, 0.8909551986475064, 0.9134125636672326, 0.9125964010282777, 0.9110922946655376, 0.9184367034834324, 0.9030612244897959, 0.91852487135506, 0.8978902953586498, 0.9077586206896552, 0.9009556907037359, 0.9111111111111111, 0.9103448275862069, 0.9137489325362937, 0.9238845144356955, 0.9140625, 0.9019097222222222, 0.9210300429184549, 0.9132302405498282, 0.8976582827406765, 0.9068585944115156, 0.9208510638297872, 0.8976982097186701, 0.916595744680851, 0.91928632115548, 0.9195893926432849, 0.91458153580673, 0.9085470085470085, 0.9186643835616438, 0.9251523063533508, 0.8973927670311186, 0.9081632653061225, 0.9067005937234945, 0.9104095563139932, 0.9133047210300429, 0.9126712328767124, 0.9200343938091143, 0.9179357021996616, 0.9030042918454936, 0.9115191986644408, 0.9168808911739503, 0.9048843187660668, 0.9025641025641026, 0.9097872340425532, 0.9104095563139932, 0.9123841617523167, 0.9177377892030848, 0.9140154772141015, 0.9077586206896552, 0.9064377682403434, 0.9061433447098977, 0.90995670995671, 0.9059322033898305, 0.917312661498708, 0.9120879120879121, 0.9050086355785838, 0.9011082693947144, 0.8967851099830795, 0.9192006950477846, 0.9242032730404823, 0.8980458793542906, 0.9019607843137255, 0.9156626506024096, 0.9018612521150592, 0.9188955996548749, 0.9108658743633277, 0.90770533446232, 0.9123404255319149, 0.8988954970263382, 0.9194805194805195, 0.8949615713065756, 0.9218884120171674, 0.9130434782608695, 0.9259896729776248, 0.9101899827288429, 0.9230118443316413, 0.9181034482758621, 0.9150612959719789, 0.8993981083404987, 0.9076133447390933, 0.9056122448979592, 0.9190556492411467, 0.9134532990574121, 0.9094017094017094, 0.9171597633136095, 0.9104095563139932, 0.9147679324894514, 0.9178541492036881, 0.9024179620034543, 0.9094017094017094, 0.8945111492281304, 0.9271929824561403, 0.905982905982906, 0.9028374892519346, 0.9061154177433247, 0.9136325148179509, 0.9111111111111111, 0.9097162510748066, 0.9260832625318607, 0.9064377682403434, 0.9182282793867121, 0.9073426573426573, 0.9070945945945946, 0.9077711357813835, 0.9136442141623489, 0.9180470793374019, 0.9217081850533808, 0.9066551426101987, 0.9182282793867121, 0.9134860050890585, 0.8973063973063973, 0.9075342465753424, 0.908256880733945, 0.9061962134251291, 0.9032815198618307, 0.9078947368421053, 0.9107452339688041, 0.9134125636672326, 0.9110535405872193, 0.9187129551227773, 0.9049657534246576, 0.8956896551724138, 0.9125214408233276, 0.9218071242397915, 0.913601368691189, 0.8950563746747615, 0.9184367034834324, 0.9039932030586236, 0.9096385542168675, 0.899488926746167, 0.9131190269331017, 0.9011082693947144, 0.9072340425531915, 0.9107142857142857, 0.9148753224419605, 0.9096334185848253, 0.9259896729776248, 0.8958509737510584, 0.9202772963604853, 0.8969072164948454, 0.9066551426101987, 0.9076271186440678, 0.9133790737564322, 0.9147826086956522, 0.9227430555555556, 0.9165942658557776, 0.8957106812447435, 0.91, 0.9066780821917808, 0.9066213921901528, 0.908541846419327, 0.9056277056277057, 0.9121909633418585, 0.9092465753424658, 0.9110169491525424, 0.9075342465753424, 0.9116883116883117, 0.9054982817869416, 0.9081632653061225, 0.9090909090909091, 0.910333048676345, 0.9132266217354675, 0.9080068143100511, 0.9119390347163421, 0.9057724957555179, 0.912739965095986, 0.9135906040268457, 0.9044309296264118, 0.9202714164546225, 0.9146757679180887, 0.8991525423728813, 0.911130284728214, 0.9207419898819561, 0.8993981083404987, 0.8998272884283247, 0.9004291845493563, 0.9130801687763713, 0.9292412617220801, 0.9027777777777778, 0.8995708154506438, 0.9032258064516129, 0.9056924384027187, 0.9090909090909091, 0.9100169779286927, 0.9027895181741336, 0.9048843187660668, 0.9201359388275276, 0.8985629754860525, 0.9100169779286927, 0.9040139616055847, 0.9147286821705426, 0.9073756432246999, 0.9177377892030848, 0.9098005203816132, 0.9163793103448276, 0.9016949152542373, 0.9040622299049266, 0.9141414141414141, 0.9222126188418324, 0.9083904109589042, 0.9139966273187183, 0.9126050420168067, 0.8987341772151899, 0.9014443500424809, 0.9052997393570807, 0.8999144568006844, 0.9062768701633706, 0.9016949152542373, 0.9210754553339116, 0.9156010230179028, 0.903862660944206, 0.908703071672355, 0.8886032562125107, 0.9180887372013652, 0.9253859348198971, 0.9023569023569024, 0.9158878504672897, 0.9121621621621622, 0.9114035087719298, 0.9074702886247877, 0.917312661498708, 0.9033101045296167, 0.9058219178082192, 0.9164535379369139, 0.9200695047784535, 0.9060118543607113, 0.9228130360205832, 0.9167374681393373, 0.9136442141623489, 0.924114671163575, 0.911993097497843, 0.9230118443316413, 0.8995670995670996, 0.9030612244897959, 0.9025641025641026, 0.8979591836734694, 0.9100436681222708, 0.8910806174957119, 0.9118869492934331, 0.9120603015075377, 0.8946474086661003, 0.9129692832764505, 0.9155172413793103, 0.9201388888888888, 0.9149305555555556, 0.9078498293515358, 0.8990509059534081, 0.9055319148936171, 0.9190800681431005, 0.8996598639455783, 0.9029209621993127, 0.9232736572890026, 0.8998302207130731, 0.8884120171673819, 0.8979416809605489, 0.9258943781942078, 0.9190800681431005, 0.9024604569420035, 0.9136325148179509, 0.9117896522476675, 0.9163071613459879, 0.9037620297462817, 0.9211864406779661, 0.9033613445378151, 0.9134532990574121, 0.8994032395566922, 0.9219015280135824, 0.9097807757166948, 0.908703071672355, 0.918872758326217, 0.9186147186147187, 0.9001663893510815, 0.9165247018739353, 0.8985382631126397, 0.9148211243611585, 0.9033361847733106, 0.9147286821705426, 0.8991666666666667, 0.9201359388275276, 0.9167389418907199, 0.9138225255972696, 0.9089332176929749, 0.9187339606501284, 0.9039792387543253, 0.9094790777113578, 0.9071550255536627, 0.9079497907949791, 0.908703071672355, 0.9199655765920827, 0.9025239338555265, 0.9270199826238054, 0.9144568006843456, 0.9211864406779661, 0.9218884120171674, 0.9100169779286927, 0.8987234042553192, 0.9243197278911565, 0.908936170212766, 0.9102564102564102, 0.9005947323704333, 0.9180616740088106, 0.91458153580673, 0.9015544041450777, 0.9110169491525424, 0.8990509059534081, 0.8998302207130731, 0.9010327022375215, 0.9064935064935065, 0.9147627416520211, 0.9085470085470085, 0.9059613769941226, 0.9035621198957429, 0.8988860325621251, 0.8900255754475703, 0.9275979557069847, 0.8974137931034483, 0.9115646258503401, 0.9143835616438356, 0.9087837837837838, 0.9037974683544304, 0.9065743944636678, 0.9040274207369323, 0.9062233589087809, 0.9084568439407149, 0.8975903614457831, 0.8972366148531952, 0.9039115646258503, 0.9062768701633706, 0.9161676646706587, 0.9170230966638152, 0.88134135855546, 0.9197267292912041, 0.9144792548687553, 0.9072340425531915, 0.9112068965517242, 0.916095890410959, 0.9036348267117498, 0.9045226130653267, 0.9093220338983051, 0.906276150627615, 0.90595340811044, 0.9255411255411256, 0.9120409906063194, 0.9151515151515152, 0.8968185726569218, 0.910159529806885, 0.9091703056768559, 0.9121338912133892, 0.9067796610169492, 0.9098005203816132, 0.908311910882605, 0.9107901444350043, 0.9033078880407125, 0.9088564058469476, 0.924956369982548, 0.9166666666666666, 0.8987993138936535, 0.9155672823218998, 0.9079861111111112, 0.9117395029991431, 0.9086993970714901, 0.9205807002561913, 0.9043993231810491, 0.9237217099748533, 0.9017241379310345, 0.9024390243902439, 0.9072340425531915, 0.909245122985581, 0.9345238095238095, 0.9086294416243654, 0.917098445595855, 0.9170896785109983, 0.9235500878734623, 0.90754877014419, 0.9190556492411467, 0.9029209621993127, 0.9081545064377683, 0.8998316498316499, 0.9001692047377327, 0.8950511945392492, 0.9132302405498282, 0.8976109215017065, 0.9101027397260274, 0.9104220499569337, 0.9173838209982789, 0.9143835616438356, 0.9271803556308214, 0.9078260869565218, 0.9089376053962901, 0.8987341772151899, 0.9005998286203942, 0.9039595619208087, 0.9100436681222708, 0.9134532990574121, 0.909710391822828, 0.913601368691189, 0.9113384484228474, 0.9226847918436704, 0.9070160608622148, 0.8974137931034483, 0.910958904109589, 0.8985255854293148, 0.9156729131175468, 0.9056444818871103, 0.908936170212766, 0.8931234465617233, 0.9144792548687553, 0.8933791917454859, 0.916030534351145, 0.9148580968280468, 0.9150779896013865, 0.9146238377007607, 0.9095519864750634, 0.8942390369733448, 0.912478336221837, 0.9108061749571184, 0.9057093425605537, 0.9092465753424658, 0.9, 0.9190600522193212, 0.9162348877374784, 0.9186643835616438, 0.9086115992970123, 0.9007633587786259, 0.9201030927835051, 0.8890784982935154, 0.904480135249366, 0.9076133447390933, 0.9112068965517242, 0.9029787234042553, 0.9075993091537133, 0.903747870528109, 0.9130808950086059, 0.9113924050632911, 0.9170896785109983, 0.9127857747671465, 0.9118409680207433, 0.8986599664991625, 0.9072164948453608, 0.910472972972973, 0.923931623931624, 0.9044368600682594, 0.9182444061962134, 0.9023136246786633, 0.917098445595855, 0.9214162348877375, 0.9063573883161512, 0.9256055363321799, 0.9185441941074524, 0.9206081081081081, 0.907928388746803, 0.9045571797076526, 0.9134199134199135, 0.9148397976391232, 0.9203463203463204, 0.8997429305912596, 0.8961702127659574, 0.9029787234042553, 0.913601368691189, 0.9100084104289319, 0.9018771331058021, 0.9186851211072664, 0.8987234042553192, 0.915268456375839, 0.9071986123156982, 0.9042735042735043, 0.9243697478991597, 0.9112271540469974, 0.909245122985581, 0.9065502183406113, 0.9144295302013423, 0.9266837169650469, 0.9138673557278209, 0.9100169779286927, 0.8956372968349017, 0.9217540842648323, 0.924061433447099, 0.9176062445793582, 0.9095607235142119, 0.8998316498316499, 0.9024807527801539, 0.907679033649698, 0.9133448873483535, 0.9014693171996543, 0.9012875536480687, 0.9043183742591024, 0.9098073555166375, 0.9054170249355116, 0.907679033649698, 0.9090909090909091, 0.911965811965812, 0.9126712328767124, 0.9170194750211685, 0.8944636678200693, 0.8966977138018628, 0.9073593073593074, 0.9195205479452054, 0.9039451114922813, 0.916095890410959, 0.903747870528109, 0.9154568744662681, 0.9049265341400173, 0.9177966101694915, 0.9115120274914089, 0.919451585261354, 0.9157446808510639, 0.9065420560747663, 0.901541095890411, 0.9131556319862425, 0.9163793103448276, 0.8982758620689655]\n",
            "sp: [0.924831081081081, 0.9001706484641638, 0.9035012809564474, 0.9112068965517242, 0.9042016806722689, 0.9158798283261803, 0.9089376053962901, 0.9140425531914894, 0.9209621993127147, 0.9017241379310345, 0.9222886421861657, 0.90848026868178, 0.9130808950086059, 0.9012658227848102, 0.8976982097186701, 0.9137489325362937, 0.9005145797598628, 0.9309153713298791, 0.9139414802065404, 0.9224806201550387, 0.9100932994062765, 0.9080944350758853, 0.9195893926432849, 0.9077181208053692, 0.9093242087254063, 0.9061433447098977, 0.9189873417721519, 0.9146238377007607, 0.9014567266495287, 0.9191489361702128, 0.9052092228864219, 0.9123404255319149, 0.9091673675357443, 0.9102564102564102, 0.9087837837837838, 0.8935064935064935, 0.9016253207869974, 0.9121909633418585, 0.9069359086918349, 0.9078380706287683, 0.9185750636132316, 0.9036973344797936, 0.9111870196413322, 0.911965811965812, 0.9078380706287683, 0.9075993091537133, 0.9067357512953368, 0.9077711357813835, 0.9192439862542955, 0.903471634208298, 0.9136752136752136, 0.8915254237288136, 0.916095890410959, 0.9010152284263959, 0.9031705227077977, 0.90995670995671, 0.9096334185848253, 0.9155900086132644, 0.9143576826196473, 0.9056277056277057, 0.9043993231810491, 0.9179039301310044, 0.909556313993174, 0.9087866108786611, 0.9197952218430034, 0.9187129551227773, 0.919104991394148, 0.9010067114093959, 0.9168831168831169, 0.9151515151515152, 0.9008403361344538, 0.908936170212766, 0.9037294015611448, 0.9185750636132316, 0.9075342465753424, 0.9105351170568562, 0.9112627986348123, 0.8963153384747216, 0.9136442141623489, 0.9003378378378378, 0.9058219178082192, 0.8972366148531952, 0.9181739879414298, 0.9149305555555556, 0.9083191850594228, 0.9036658141517476, 0.9035621198957429, 0.8915254237288136, 0.9041095890410958, 0.9009314140558848, 0.9050847457627119, 0.9117395029991431, 0.9013840830449827, 0.9134453781512605, 0.9184549356223176, 0.9146551724137931, 0.9202037351443124, 0.9033361847733106, 0.9238754325259516, 0.9096385542168675, 0.91931330472103, 0.9021739130434783, 0.9079861111111112, 0.8972366148531952, 0.9125636672325976, 0.9253859348198971, 0.9132653061224489, 0.9012765957446809, 0.914983164983165, 0.8991452991452992, 0.916162489196197, 0.9178910976663786, 0.9113043478260869, 0.9002535925612849, 0.9037800687285223, 0.9144568006843456, 0.9235993208828522, 0.8946015424164524, 0.9090909090909091, 0.9012658227848102, 0.9092436974789916, 0.9143835616438356, 0.9085470085470085, 0.9073294018534119, 0.9028475711892797, 0.9093988145639289, 0.9222972972972973, 0.9093988145639289, 0.9134860050890585, 0.9006849315068494, 0.9037800687285223, 0.9043478260869565, 0.9017094017094017, 0.904156064461408, 0.9124893797790994, 0.9050086355785838, 0.9097222222222222, 0.8896434634974533, 0.906875543951262, 0.9005190311418685, 0.9143576826196473, 0.9040274207369323, 0.9156010230179028, 0.9063291139240506, 0.9094903339191565, 0.9128559102674719, 0.911965811965812, 0.9031979256698358, 0.9235395189003437, 0.903747870528109, 0.903747870528109, 0.9144568006843456, 0.9032258064516129, 0.9151515151515152, 0.9101694915254237, 0.9027538726333907, 0.9088564058469476, 0.9126637554585153, 0.9071367153912295, 0.9156010230179028, 0.9018932874354562, 0.9125541125541126, 0.9122657580919932, 0.9012658227848102, 0.9131534569983136, 0.9175257731958762, 0.9072961373390558, 0.9070567986230637, 0.91458153580673, 0.903143585386576, 0.8908145580589255, 0.9111111111111111, 0.9130808950086059, 0.9190353143841516, 0.8880275624461671, 0.9080851063829787, 0.9093198992443325, 0.9175965665236051, 0.9101694915254237, 0.8953687821612349, 0.9212598425196851, 0.9026701119724375, 0.911690496215307, 0.9104347826086957, 0.9196891191709845, 0.9140425531914894, 0.9183494293239683, 0.9076133447390933, 0.9074074074074074, 0.9054514480408858, 0.9100346020761245, 0.909404659188956, 0.9035532994923858, 0.8983774551665243, 0.907928388746803, 0.907679033649698, 0.9214840379637619, 0.9205807002561913, 0.9251934651762683, 0.8876500857632933, 0.9024604569420035, 0.8976510067114094, 0.9124024284475282, 0.8918454935622318, 0.9047619047619048, 0.9013100436681223, 0.9173060528559249, 0.9137931034482759, 0.902333621434745, 0.9235447437011295, 0.9011082693947144, 0.9218071242397915, 0.9016115351993215, 0.9262981574539364, 0.9063291139240506, 0.8976311336717429, 0.9069373942470389, 0.9027072758037225, 0.8999151823579304, 0.9145516074450084, 0.913527397260274, 0.921165381319623, 0.8955857385398981, 0.9019442096365173, 0.9064935064935065, 0.9108826049700086, 0.9224872231686542, 0.9165232358003442, 0.8976982097186701, 0.9181184668989547, 0.8925549915397631, 0.9153259949195597, 0.9117147707979627, 0.9019097222222222, 0.9066780821917808, 0.8992314261315115, 0.8973684210526316, 0.9178785286569717, 0.9131556319862425, 0.9176470588235294, 0.9023972602739726, 0.9142367066895368, 0.9187554019014693, 0.9037800687285223, 0.9243336199484092, 0.9007698887938409, 0.9043993231810491, 0.9043552519214346, 0.9260832625318607, 0.9021097046413502, 0.8970840480274442, 0.8875638841567292, 0.9134125636672326, 0.9207161125319693, 0.9216354344122658, 0.9319552110249785, 0.9005190311418685, 0.913527397260274, 0.91852487135506, 0.91931330472103, 0.8997451146983857, 0.9125214408233276, 0.906875543951262, 0.9083969465648855, 0.9085470085470085, 0.9143101970865467, 0.9129692832764505, 0.9136325148179509, 0.9146757679180887, 0.9001706484641638, 0.8963153384747216, 0.910333048676345, 0.91928632115548, 0.8926746166950597, 0.9078260869565218, 0.9166666666666666, 0.9067796610169492, 0.9148020654044751, 0.8980623420387531, 0.9205526770293609, 0.8991379310344828, 0.9180887372013652, 0.9107296137339056, 0.9241261722080136, 0.9008620689655172, 0.9140690817186183, 0.8999144568006844, 0.9102564102564102, 0.9281487743026204, 0.9008474576271186, 0.8998272884283247, 0.9049265341400173, 0.9218351741716228, 0.9111870196413322, 0.8986371379897785, 0.9093220338983051, 0.9103448275862069, 0.9050522648083623, 0.9035621198957429, 0.9191489361702128, 0.9115351257588898, 0.9138381201044387, 0.9105485232067511, 0.9183848797250859, 0.9203084832904884, 0.8905172413793103, 0.9032534246575342, 0.9052173913043479, 0.9124024284475282, 0.9217687074829932, 0.9053356282271945, 0.9131556319862425, 0.9035314384151594, 0.9238013698630136, 0.9104859335038363, 0.9174468085106383, 0.9094754653130288, 0.9195205479452054, 0.9087749782797567, 0.9122502172024327, 0.9011925042589438, 0.8952789699570816, 0.9111675126903553, 0.9032800672834315, 0.9122502172024327, 0.9100084104289319, 0.8993231810490694, 0.9237360754070265, 0.921165381319623, 0.9079965606190885, 0.9057412167952014, 0.9120409906063194, 0.9163144547759933, 0.9097807757166948, 0.8995708154506438, 0.9170896785109983, 0.9156010230179028, 0.9144568006843456, 0.9094754653130288, 0.8986371379897785, 0.9086993970714901, 0.9031986531986532, 0.9164556962025316, 0.9062233589087809, 0.8947811447811448, 0.9047619047619048, 0.9258010118043845, 0.9120689655172414, 0.9258943781942078, 0.9021459227467811, 0.8994032395566922, 0.9071550255536627, 0.914334181509754, 0.9096385542168675, 0.8986254295532646, 0.9057724957555179, 0.907928388746803, 0.9119390347163421, 0.9001663893510815, 0.9202772963604853, 0.9124463519313305, 0.9217830109335576, 0.9067579127459366, 0.8983774551665243, 0.8962264150943396, 0.9103448275862069, 0.9036658141517476, 0.9183848797250859, 0.9079061685490878, 0.9028132992327366, 0.9026315789473685, 0.9090909090909091, 0.9114139693356048, 0.9141886151231946, 0.9128559102674719, 0.9094017094017094, 0.9226804123711341, 0.9236051502145923, 0.9118409680207433, 0.9166666666666666, 0.910025706940874, 0.9185750636132316, 0.9050847457627119, 0.902229845626072, 0.9086251067463706, 0.9145516074450084, 0.9140425531914894, 0.9191304347826087, 0.8987341772151899, 0.9237933954276037, 0.9138225255972696, 0.903364969801553, 0.9144568006843456, 0.905790838375108, 0.9101694915254237, 0.9105621805792163, 0.911965811965812, 0.9083044982698962, 0.9195804195804196, 0.9061154177433247, 0.8999151823579304, 0.9203463203463204, 0.8959044368600683, 0.9019776440240757, 0.9132302405498282, 0.9042372881355932, 0.9115417017691659, 0.9029209621993127, 0.8967576791808873, 0.9026248941574937, 0.8816013628620102, 0.9168808911739503, 0.903862660944206, 0.8914529914529915, 0.9121909633418585, 0.9123404255319149, 0.9054852320675105, 0.9206081081081081, 0.9038128249566725, 0.8923076923076924, 0.9007029876977153, 0.9131534569983136, 0.9063032367972743, 0.8976784178847808, 0.9026933101650738, 0.910958904109589, 0.9040747028862479, 0.9184027777777778, 0.9069572506286673, 0.9172297297297297, 0.9055459272097054, 0.9060631938514091, 0.8921484037963762, 0.9097807757166948, 0.9226139294926913, 0.9065420560747663, 0.9201030927835051, 0.9134860050890585, 0.918918918918919, 0.9181969949916527, 0.9063829787234042, 0.9147485080988917, 0.9168853893263342, 0.9031986531986532, 0.8997429305912596, 0.9086206896551724, 0.8954081632653061, 0.9090121317157712, 0.9040747028862479, 0.9151823579304496, 0.9175170068027211, 0.8986371379897785, 0.9073756432246999, 0.9132996632996633, 0.9117395029991431, 0.9076271186440678, 0.9066213921901528, 0.9138513513513513, 0.9165950128976784, 0.9098639455782312, 0.9017933390264731, 0.9208695652173913, 0.9060344827586206, 0.9104859335038363, 0.9115120274914089, 0.9178662150719729, 0.9253218884120171, 0.9008771929824562, 0.907679033649698, 0.9066551426101987, 0.9237933954276037, 0.8964346349745331, 0.9040274207369323, 0.916095890410959, 0.9170230966638152, 0.9240724762726489, 0.9180327868852459, 0.902027027027027, 0.9052901023890785, 0.9137630662020906, 0.9084687767322498, 0.9258620689655173, 0.9123841617523167, 0.9168787107718406, 0.921161825726141, 0.9135593220338983, 0.9057093425605537, 0.9301121656600517, 0.9096283783783784, 0.9043552519214346, 0.8909551986475064, 0.9134125636672326, 0.9125964010282777, 0.9110922946655376, 0.9184367034834324, 0.9030612244897959, 0.91852487135506, 0.8978902953586498, 0.9077586206896552, 0.9009556907037359, 0.9111111111111111, 0.9103448275862069, 0.9137489325362937, 0.9238845144356955, 0.9140625, 0.9019097222222222, 0.9210300429184549, 0.9132302405498282, 0.8976582827406765, 0.9068585944115156, 0.9208510638297872, 0.8976982097186701, 0.916595744680851, 0.91928632115548, 0.9195893926432849, 0.91458153580673, 0.9085470085470085, 0.9186643835616438, 0.9251523063533508, 0.8973927670311186, 0.9081632653061225, 0.9067005937234945, 0.9104095563139932, 0.9133047210300429, 0.9126712328767124, 0.9200343938091143, 0.9179357021996616, 0.9030042918454936, 0.9115191986644408, 0.9168808911739503, 0.9048843187660668, 0.9025641025641026, 0.9097872340425532, 0.9104095563139932, 0.9123841617523167, 0.9177377892030848, 0.9140154772141015, 0.9077586206896552, 0.9064377682403434, 0.9061433447098977, 0.90995670995671, 0.9059322033898305, 0.917312661498708, 0.9120879120879121, 0.9050086355785838, 0.9011082693947144, 0.8967851099830795, 0.9192006950477846, 0.9242032730404823, 0.8980458793542906, 0.9019607843137255, 0.9156626506024096, 0.9018612521150592, 0.9188955996548749, 0.9108658743633277, 0.90770533446232, 0.9123404255319149, 0.8988954970263382, 0.9194805194805195, 0.8949615713065756, 0.9218884120171674, 0.9130434782608695, 0.9259896729776248, 0.9101899827288429, 0.9230118443316413, 0.9181034482758621, 0.9150612959719789, 0.8993981083404987, 0.9076133447390933, 0.9056122448979592, 0.9190556492411467, 0.9134532990574121, 0.9094017094017094, 0.9171597633136095, 0.9104095563139932, 0.9147679324894514, 0.9178541492036881, 0.9024179620034543, 0.9094017094017094, 0.8945111492281304, 0.9271929824561403, 0.905982905982906, 0.9028374892519346, 0.9061154177433247, 0.9136325148179509, 0.9111111111111111, 0.9097162510748066, 0.9260832625318607, 0.9064377682403434, 0.9182282793867121, 0.9073426573426573, 0.9070945945945946, 0.9077711357813835, 0.9136442141623489, 0.9180470793374019, 0.9217081850533808, 0.9066551426101987, 0.9182282793867121, 0.9134860050890585, 0.8973063973063973, 0.9075342465753424, 0.908256880733945, 0.9061962134251291, 0.9032815198618307, 0.9078947368421053, 0.9107452339688041, 0.9134125636672326, 0.9110535405872193, 0.9187129551227773, 0.9049657534246576, 0.8956896551724138, 0.9125214408233276, 0.9218071242397915, 0.913601368691189, 0.8950563746747615, 0.9184367034834324, 0.9039932030586236, 0.9096385542168675, 0.899488926746167, 0.9131190269331017, 0.9011082693947144, 0.9072340425531915, 0.9107142857142857, 0.9148753224419605, 0.9096334185848253, 0.9259896729776248, 0.8958509737510584, 0.9202772963604853, 0.8969072164948454, 0.9066551426101987, 0.9076271186440678, 0.9133790737564322, 0.9147826086956522, 0.9227430555555556, 0.9165942658557776, 0.8957106812447435, 0.91, 0.9066780821917808, 0.9066213921901528, 0.908541846419327, 0.9056277056277057, 0.9121909633418585, 0.9092465753424658, 0.9110169491525424, 0.9075342465753424, 0.9116883116883117, 0.9054982817869416, 0.9081632653061225, 0.9090909090909091, 0.910333048676345, 0.9132266217354675, 0.9080068143100511, 0.9119390347163421, 0.9057724957555179, 0.912739965095986, 0.9135906040268457, 0.9044309296264118, 0.9202714164546225, 0.9146757679180887, 0.8991525423728813, 0.911130284728214, 0.9207419898819561, 0.8993981083404987, 0.8998272884283247, 0.9004291845493563, 0.9130801687763713, 0.9292412617220801, 0.9027777777777778, 0.8995708154506438, 0.9032258064516129, 0.9056924384027187, 0.9090909090909091, 0.9100169779286927, 0.9027895181741336, 0.9048843187660668, 0.9201359388275276, 0.8985629754860525, 0.9100169779286927, 0.9040139616055847, 0.9147286821705426, 0.9073756432246999, 0.9177377892030848, 0.9098005203816132, 0.9163793103448276, 0.9016949152542373, 0.9040622299049266, 0.9141414141414141, 0.9222126188418324, 0.9083904109589042, 0.9139966273187183, 0.9126050420168067, 0.8987341772151899, 0.9014443500424809, 0.9052997393570807, 0.8999144568006844, 0.9062768701633706, 0.9016949152542373, 0.9210754553339116, 0.9156010230179028, 0.903862660944206, 0.908703071672355, 0.8886032562125107, 0.9180887372013652, 0.9253859348198971, 0.9023569023569024, 0.9158878504672897, 0.9121621621621622, 0.9114035087719298, 0.9074702886247877, 0.917312661498708, 0.9033101045296167, 0.9058219178082192, 0.9164535379369139, 0.9200695047784535, 0.9060118543607113, 0.9228130360205832, 0.9167374681393373, 0.9136442141623489, 0.924114671163575, 0.911993097497843, 0.9230118443316413, 0.8995670995670996, 0.9030612244897959, 0.9025641025641026, 0.8979591836734694, 0.9100436681222708, 0.8910806174957119, 0.9118869492934331, 0.9120603015075377, 0.8946474086661003, 0.9129692832764505, 0.9155172413793103, 0.9201388888888888, 0.9149305555555556, 0.9078498293515358, 0.8990509059534081, 0.9055319148936171, 0.9190800681431005, 0.8996598639455783, 0.9029209621993127, 0.9232736572890026, 0.8998302207130731, 0.8884120171673819, 0.8979416809605489, 0.9258943781942078, 0.9190800681431005, 0.9024604569420035, 0.9136325148179509, 0.9117896522476675, 0.9163071613459879, 0.9037620297462817, 0.9211864406779661, 0.9033613445378151, 0.9134532990574121, 0.8994032395566922, 0.9219015280135824, 0.9097807757166948, 0.908703071672355, 0.918872758326217, 0.9186147186147187, 0.9001663893510815, 0.9165247018739353, 0.8985382631126397, 0.9148211243611585, 0.9033361847733106, 0.9147286821705426, 0.8991666666666667, 0.9201359388275276, 0.9167389418907199, 0.9138225255972696, 0.9089332176929749, 0.9187339606501284, 0.9039792387543253, 0.9094790777113578, 0.9071550255536627, 0.9079497907949791, 0.908703071672355, 0.9199655765920827, 0.9025239338555265, 0.9270199826238054, 0.9144568006843456, 0.9211864406779661, 0.9218884120171674, 0.9100169779286927, 0.8987234042553192, 0.9243197278911565, 0.908936170212766, 0.9102564102564102, 0.9005947323704333, 0.9180616740088106, 0.91458153580673, 0.9015544041450777, 0.9110169491525424, 0.8990509059534081, 0.8998302207130731, 0.9010327022375215, 0.9064935064935065, 0.9147627416520211, 0.9085470085470085, 0.9059613769941226, 0.9035621198957429, 0.8988860325621251, 0.8900255754475703, 0.9275979557069847, 0.8974137931034483, 0.9115646258503401, 0.9143835616438356, 0.9087837837837838, 0.9037974683544304, 0.9065743944636678, 0.9040274207369323, 0.9062233589087809, 0.9084568439407149, 0.8975903614457831, 0.8972366148531952, 0.9039115646258503, 0.9062768701633706, 0.9161676646706587, 0.9170230966638152, 0.88134135855546, 0.9197267292912041, 0.9144792548687553, 0.9072340425531915, 0.9112068965517242, 0.916095890410959, 0.9036348267117498, 0.9045226130653267, 0.9093220338983051, 0.906276150627615, 0.90595340811044, 0.9255411255411256, 0.9120409906063194, 0.9151515151515152, 0.8968185726569218, 0.910159529806885, 0.9091703056768559, 0.9121338912133892, 0.9067796610169492, 0.9098005203816132, 0.908311910882605, 0.9107901444350043, 0.9033078880407125, 0.9088564058469476, 0.924956369982548, 0.9166666666666666, 0.8987993138936535, 0.9155672823218998, 0.9079861111111112, 0.9117395029991431, 0.9086993970714901, 0.9205807002561913, 0.9043993231810491, 0.9237217099748533, 0.9017241379310345, 0.9024390243902439, 0.9072340425531915, 0.909245122985581, 0.9345238095238095, 0.9086294416243654, 0.917098445595855, 0.9170896785109983, 0.9235500878734623, 0.90754877014419, 0.9190556492411467, 0.9029209621993127, 0.9081545064377683, 0.8998316498316499, 0.9001692047377327, 0.8950511945392492, 0.9132302405498282, 0.8976109215017065, 0.9101027397260274, 0.9104220499569337, 0.9173838209982789, 0.9143835616438356, 0.9271803556308214, 0.9078260869565218, 0.9089376053962901, 0.8987341772151899, 0.9005998286203942, 0.9039595619208087, 0.9100436681222708, 0.9134532990574121, 0.909710391822828, 0.913601368691189, 0.9113384484228474, 0.9226847918436704, 0.9070160608622148, 0.8974137931034483, 0.910958904109589, 0.8985255854293148, 0.9156729131175468, 0.9056444818871103, 0.908936170212766, 0.8931234465617233, 0.9144792548687553, 0.8933791917454859, 0.916030534351145, 0.9148580968280468, 0.9150779896013865, 0.9146238377007607, 0.9095519864750634, 0.8942390369733448, 0.912478336221837, 0.9108061749571184, 0.9057093425605537, 0.9092465753424658, 0.9, 0.9190600522193212, 0.9162348877374784, 0.9186643835616438, 0.9086115992970123, 0.9007633587786259, 0.9201030927835051, 0.8890784982935154, 0.904480135249366, 0.9076133447390933, 0.9112068965517242, 0.9029787234042553, 0.9075993091537133, 0.903747870528109, 0.9130808950086059, 0.9113924050632911, 0.9170896785109983, 0.9127857747671465, 0.9118409680207433, 0.8986599664991625, 0.9072164948453608, 0.910472972972973, 0.923931623931624, 0.9044368600682594, 0.9182444061962134, 0.9023136246786633, 0.917098445595855, 0.9214162348877375, 0.9063573883161512, 0.9256055363321799, 0.9185441941074524, 0.9206081081081081, 0.907928388746803, 0.9045571797076526, 0.9134199134199135, 0.9148397976391232, 0.9203463203463204, 0.8997429305912596, 0.8961702127659574, 0.9029787234042553, 0.913601368691189, 0.9100084104289319, 0.9018771331058021, 0.9186851211072664, 0.8987234042553192, 0.915268456375839, 0.9071986123156982, 0.9042735042735043, 0.9243697478991597, 0.9112271540469974, 0.909245122985581, 0.9065502183406113, 0.9144295302013423, 0.9266837169650469, 0.9138673557278209, 0.9100169779286927, 0.8956372968349017, 0.9217540842648323, 0.924061433447099, 0.9176062445793582, 0.9095607235142119, 0.8998316498316499, 0.9024807527801539, 0.907679033649698, 0.9133448873483535, 0.9014693171996543, 0.9012875536480687, 0.9043183742591024, 0.9098073555166375, 0.9054170249355116, 0.907679033649698, 0.9090909090909091, 0.911965811965812, 0.9126712328767124, 0.9170194750211685, 0.8944636678200693, 0.8966977138018628, 0.9073593073593074, 0.9195205479452054, 0.9039451114922813, 0.916095890410959, 0.903747870528109, 0.9154568744662681, 0.9049265341400173, 0.9177966101694915, 0.9115120274914089, 0.919451585261354, 0.9157446808510639, 0.9065420560747663, 0.901541095890411, 0.9131556319862425, 0.9163793103448276, 0.8982758620689655]\n",
            "sd_acc: 0.008620507993195926\n",
            "sd_f1: 0.005396008702650084\n",
            "sd_mcc: 0.031323974518215475\n",
            "sd_sn: 0.008168355848258079\n",
            "sd_sp: 0.008168355848258079\n",
            "              precision    recall  f1-score   support\n",
            "\n",
            "           0       0.55      0.68      0.61       187\n",
            "           1       0.95      0.91      0.93      1169\n",
            "\n",
            "    accuracy                           0.88      1356\n",
            "   macro avg       0.75      0.80      0.77      1356\n",
            "weighted avg       0.89      0.88      0.88      1356\n",
            "\n"
          ]
        },
        {
          "data": {
            "text/plain": [
              "(0.008620507993195926, 0.031323974518215475, 0.005396008702650084)"
            ]
          },
          "execution_count": 53,
          "metadata": {},
          "output_type": "execute_result"
        }
      ],
      "source": [
        "# Basic Protocol 3 — Step 10\n",
        "\n",
        "predicted_mlp = classifier.predict(test_dataset)\n",
        "accuracy = accuracy_score(testing_labels, predicted_mlp)\n",
        "error_rate(testing_labels, predicted_mlp)"
      ]
    },
    {
      "cell_type": "code",
      "execution_count": null,
      "id": "ZzHq6kceTcLo",
      "metadata": {
        "id": "ZzHq6kceTcLo"
      },
      "outputs": [],
      "source": [
        "df =pd.DataFrame(train_dataset)\n",
        "df.to_excel('/content/mlp_train_dataset.xlsx')\n",
        "df =pd.DataFrame(training_labels)\n",
        "df.to_excel('/content/mlp_training_labels.xlsx')\n",
        "df =pd.DataFrame(predicted_training_labels)\n",
        "df.to_excel('/content/mlp_pred_train_labels.xlsx')\n",
        "\n",
        "df =pd.DataFrame(test_dataset)\n",
        "df.to_excel('/content/mlp_test_dataset.xlsx')\n",
        "df =pd.DataFrame(testing_labels)\n",
        "df.to_excel('/content/mlp_testing_labels.xlsx')\n",
        "df =pd.DataFrame(predicted_mlp)\n",
        "df.to_excel('/content/mlp_pred_test_labels.xlsx')"
      ]
    },
    {
      "cell_type": "code",
      "execution_count": null,
      "id": "PeG8NDvGBeYM",
      "metadata": {
        "colab": {
          "base_uri": "https://localhost:8080/"
        },
        "id": "PeG8NDvGBeYM",
        "outputId": "969fb2d1-565a-4f95-e1c1-cb7ee5e27360"
      },
      "outputs": [
        {
          "name": "stdout",
          "output_type": "stream",
          "text": [
            "   mean_fit_time  std_fit_time  mean_score_time  std_score_time  \\\n",
            "0     147.982427     14.288789         0.020770        0.002994   \n",
            "1    1354.686577    193.633977         0.415342        0.019853   \n",
            "2     645.290416    358.555869         0.178907        0.081459   \n",
            "\n",
            "  param_hidden_layer_sizes param_solver  \\\n",
            "0             (2056, 1024)         adam   \n",
            "1                  (2056,)         adam   \n",
            "2                  (1024,)         adam   \n",
            "\n",
            "                                              params  split0_test_accuracy  \\\n",
            "0  {'hidden_layer_sizes': (2056, 1024), 'solver':...              0.772487   \n",
            "1  {'hidden_layer_sizes': (2056,), 'solver': 'adam'}              0.772487   \n",
            "2  {'hidden_layer_sizes': (1024,), 'solver': 'adam'}              0.765432   \n",
            "\n",
            "   split1_test_accuracy  split2_test_accuracy  ...  split3_test_mcc  \\\n",
            "0              0.818342              0.913580  ...         0.822005   \n",
            "1              0.788360              0.894180  ...         0.790545   \n",
            "2              0.793651              0.895944  ...         0.815582   \n",
            "\n",
            "   split4_test_mcc  split5_test_mcc  split6_test_mcc  split7_test_mcc  \\\n",
            "0         0.803829         0.870902         0.741831         0.735549   \n",
            "1         0.781359         0.876029         0.716008         0.710158   \n",
            "2         0.811820         0.866508         0.714526         0.752295   \n",
            "\n",
            "   split8_test_mcc  split9_test_mcc  mean_test_mcc  std_test_mcc  \\\n",
            "0         0.719751         0.770325       0.735368      0.110005   \n",
            "1         0.678373         0.715423       0.704106      0.116002   \n",
            "2         0.678373         0.715015       0.712698      0.121208   \n",
            "\n",
            "   rank_test_mcc  \n",
            "0              1  \n",
            "1              3  \n",
            "2              2  \n",
            "\n",
            "[3 rows x 46 columns]\n"
          ]
        }
      ],
      "source": [
        "from pandas import DataFrame\n",
        "cv_results = DataFrame(classifiers.cv_results_)\n",
        "print(cv_results)"
      ]
    },
    {
      "cell_type": "code",
      "execution_count": null,
      "id": "ViDDElvGBnf6",
      "metadata": {
        "id": "ViDDElvGBnf6"
      },
      "outputs": [],
      "source": [
        "# Further metrics\n",
        "from sklearn.metrics import confusion_matrix\n",
        "\n",
        "# Data visualization\n",
        "import plotly.express as px"
      ]
    },
    {
      "cell_type": "code",
      "execution_count": null,
      "id": "aqKqqPfoBvZ7",
      "metadata": {
        "colab": {
          "base_uri": "https://localhost:8080/",
          "height": 520
        },
        "id": "aqKqqPfoBvZ7",
        "outputId": "90c3f403-f9b3-44ea-91c5-de3253c61d40"
      },
      "outputs": [
        {
          "name": "stderr",
          "output_type": "stream",
          "text": [
            "<ipython-input-30-286145be1eb1>:9: UserWarning: FixedFormatter should only be used together with FixedLocator\n",
            "  ax.set_xticklabels([''] + labels)\n",
            "<ipython-input-30-286145be1eb1>:10: UserWarning: FixedFormatter should only be used together with FixedLocator\n",
            "  ax.set_yticklabels([''] + labels)\n"
          ]
        },
        {
          "data": {
            "image/png": "[encoded data removed]",
            "text/plain": [
              "<Figure size 640x480 with 2 Axes>"
            ]
          },
          "metadata": {},
          "output_type": "display_data"
        }
      ],
      "source": [
        "classes = np.unique(testing_labels)\n",
        "\n",
        "confusion_matrix_data = confusion_matrix(testing_labels, predicted_mlp, labels=classes)\n",
        "conf_matrix(confusion_matrix_data)"
      ]
    },
    {
      "cell_type": "code",
      "execution_count": null,
      "id": "azx1iNma1Lyc",
      "metadata": {
        "colab": {
          "base_uri": "https://localhost:8080/"
        },
        "id": "azx1iNma1Lyc",
        "outputId": "eb1baf33-6ee1-4b86-9b69-826fd89080f6"
      },
      "outputs": [
        {
          "name": "stdout",
          "output_type": "stream",
          "text": [
            "1063 128 59 106\n",
            "0.9093242087254063\n",
            "0.6844919786096256\n"
          ]
        }
      ],
      "source": [
        "TP = confusion_matrix_data[1,1]\n",
        "TN = confusion_matrix_data[0,0]\n",
        "FP = confusion_matrix_data[0,1]\n",
        "FN = confusion_matrix_data[1,0]\n",
        "\n",
        "print(TP,TN, FP, FN)\n",
        "\n",
        "sn = TP / float(TP + FN)\n",
        "print(sn)\n",
        "sp = TN / float(TN + FP)\n",
        "print(sp)"
      ]
    },
    {
      "cell_type": "code",
      "execution_count": null,
      "id": "wBR_WxhhOg81",
      "metadata": {
        "id": "wBR_WxhhOg81"
      },
      "outputs": [],
      "source": [
        "#classifier.save_weights('/result/MLP.h5')\n",
        "\n",
        "#fig, axes = plt.subplots(4, 4)\n",
        "# use global min / max to ensure all weights are shown on the same scale\n",
        "vmin, vmax = classifier.coefs_[0].min(), classifier.coefs_[0].max()\n",
        "#for coef, ax in zip(classifier.coefs_[0].T, axes.ravel()):\n",
        "#    ax.matshow(coef.reshape(1024, ), cmap=plt.cm.gray, vmin=0.5 * vmin, vmax=0.5 * vmax)\n",
        "#    ax.set_xticks(())\n",
        "#    ax.set_yticks(())\n",
        "\n",
        "#plt.show()"
      ]
    },
    {
      "cell_type": "code",
      "execution_count": null,
      "id": "FudCxEtRT-SY",
      "metadata": {
        "colab": {
          "base_uri": "https://localhost:8080/"
        },
        "id": "FudCxEtRT-SY",
        "outputId": "0149d21f-5ab8-4f20-f116-eb3a90da87b6"
      },
      "outputs": [
        {
          "data": {
            "text/plain": [
              "0.39946666"
            ]
          },
          "execution_count": 60,
          "metadata": {},
          "output_type": "execute_result"
        }
      ],
      "source": [
        "vmax"
      ]
    },
    {
      "cell_type": "code",
      "execution_count": null,
      "id": "icNm5SrdoKTv",
      "metadata": {
        "colab": {
          "base_uri": "https://localhost:8080/"
        },
        "id": "icNm5SrdoKTv",
        "outputId": "dcbb9ecb-eabd-424a-cccd-333690594421"
      },
      "outputs": [
        {
          "name": "stdout",
          "output_type": "stream",
          "text": [
            "3\n",
            "shape (1536, 2056) content [[-2.1215181e-33 -2.1409409e-05  1.3867475e-02 ...  1.5028109e-34\n",
            "  -1.4988908e-02  1.9124947e-02]\n",
            " [ 4.1141917e-31  7.0326679e-26 -3.9869111e-02 ...  6.6779536e-35\n",
            "   7.5715390e-04  9.7486665e-03]\n",
            " [ 7.7986868e-36  3.9979974e-25 -1.5501934e-02 ... -5.4482291e-36\n",
            "  -2.0175367e-03 -3.7356734e-02]\n",
            " ...\n",
            " [-4.4526431e-34 -2.9602991e-31 -7.9402268e-02 ...  1.6348004e-35\n",
            "  -2.8906744e-02 -2.9241722e-02]\n",
            " [ 1.1565495e-34  5.9796990e-16  3.3439003e-02 ... -6.4396496e-32\n",
            "   3.2071418e-03  1.5556524e-02]\n",
            " [ 5.4692418e-36 -3.4840824e-17  1.0198387e-01 ... -1.1777123e-34\n",
            "   5.6456909e-02  4.2706698e-02]]\n",
            "shape (2056, 1024) content [[-2.5203948e-35 -3.9881951e-31  2.6432639e-32 ... -3.8728207e-32\n",
            "  -1.6468235e-35 -3.2175947e-30]\n",
            " [-6.5533363e-32  7.2985934e-21 -1.4244620e-30 ...  1.6838074e-16\n",
            "  -4.0644043e-31 -1.7062615e-30]\n",
            " [-6.5486334e-31 -2.3784688e-02  3.6632684e-36 ... -8.1729367e-03\n",
            "   1.3427766e-31  7.2430880e-03]\n",
            " ...\n",
            " [ 5.6475920e-35  1.6476305e-34  4.1353785e-32 ...  1.1413621e-31\n",
            "   3.1737313e-30 -1.7346387e-36]\n",
            " [-7.4954611e-33 -2.6866168e-02 -3.1213166e-35 ... -5.9116025e-02\n",
            "   5.0931856e-34 -1.6545096e-02]\n",
            " [ 6.2493412e-35 -5.7720490e-02 -2.8862003e-30 ... -5.7295419e-02\n",
            "  -2.9433908e-32 -3.0549446e-02]]\n"
          ]
        }
      ],
      "source": [
        "weights = classifier.coefs_\n",
        "print(len(weights))\n",
        "print(\"shape\",weights[0].shape,\"content\",weights[0])\n",
        "print(\"shape\",weights[1].shape,\"content\",weights[1])\n",
        "#print(\"shape\",weights[2].shape,\"content\",weights[2])\n"
      ]
    },
    {
      "cell_type": "markdown",
      "id": "UC6sZ0D_kgZj",
      "metadata": {
        "id": "UC6sZ0D_kgZj"
      },
      "source": [
        "### CNN with GridSearch"
      ]
    },
    {
      "cell_type": "code",
      "execution_count": null,
      "id": "8S7uiM5ykoYz",
      "metadata": {
        "id": "8S7uiM5ykoYz"
      },
      "outputs": [],
      "source": [
        "import tensorflow as tf\n",
        "from keras.models import Model, Sequential\n",
        "from keras.layers import Input, Dense, Dropout, Activation\n",
        "from keras.callbacks import TensorBoard, ModelCheckpoint, EarlyStopping, CSVLogger\n",
        "from keras.wrappers.scikit_learn import KerasClassifier"
      ]
    },
    {
      "cell_type": "code",
      "execution_count": null,
      "id": "GycVI1SWkoY0",
      "metadata": {
        "id": "GycVI1SWkoY0"
      },
      "outputs": [],
      "source": [
        "from keras.layers.convolutional import Conv1D\n",
        "from keras.layers.convolutional import MaxPooling1D, AveragePooling1D\n",
        "from keras.layers import Embedding\n",
        "from keras.preprocessing import sequence\n",
        "from keras.layers import Dense\n",
        "from keras.layers import Flatten\n",
        "from keras.utils import to_categorical\n",
        "from keras.preprocessing.image import ImageDataGenerator\n",
        "from time import time"
      ]
    },
    {
      "cell_type": "code",
      "execution_count": null,
      "id": "-SW6lCZkuvLH",
      "metadata": {
        "id": "-SW6lCZkuvLH"
      },
      "outputs": [],
      "source": [
        "from numpy.random import seed\n",
        "seed(1)"
      ]
    },
    {
      "cell_type": "code",
      "execution_count": null,
      "id": "od56RcTJuvLH",
      "metadata": {
        "id": "od56RcTJuvLH"
      },
      "outputs": [],
      "source": [
        "from tensorflow.keras.utils import set_random_seed\n",
        "set_random_seed(2)"
      ]
    },
    {
      "cell_type": "code",
      "execution_count": null,
      "id": "g2wBaT28koY0",
      "metadata": {
        "id": "g2wBaT28koY0"
      },
      "outputs": [],
      "source": [
        "X_train, X_test= train_dataset, test_dataset\n",
        "y_train, y_test = training_labels, testing_labels"
      ]
    },
    {
      "cell_type": "code",
      "execution_count": null,
      "id": "jJcrkuiokoY0",
      "metadata": {
        "id": "jJcrkuiokoY0"
      },
      "outputs": [],
      "source": [
        "Y_train = np.reshape(y_train,(len(y_train),1)).astype(int)\n",
        "Y_test = np.reshape(y_test,(len(y_test),1)).astype(int)"
      ]
    },
    {
      "cell_type": "code",
      "execution_count": null,
      "id": "jHoLG0YFkoY0",
      "metadata": {
        "id": "jHoLG0YFkoY0"
      },
      "outputs": [],
      "source": [
        "n_timesteps, n_features, n_outputs =train_dataset.shape[0], train_dataset.shape[1], Y_train.shape[1]"
      ]
    },
    {
      "cell_type": "code",
      "execution_count": null,
      "id": "cpfyojPuYKtg",
      "metadata": {
        "id": "cpfyojPuYKtg"
      },
      "outputs": [],
      "source": [
        "n_epochs = 30 # 30\n",
        "n_epochs_cv = 10 # 10  # reduce number of epochs for cross validation for performance reason\n",
        "\n",
        "n_cv = 10\n",
        "validation_ratio = 0.10"
      ]
    },
    {
      "cell_type": "code",
      "execution_count": null,
      "id": "lavUwJEZPC9T",
      "metadata": {
        "id": "lavUwJEZPC9T"
      },
      "outputs": [],
      "source": [
        "def create_cnn_model(pool_type='max', conv_activation='tanh', dropout_rate=0.1, kernel=3, optimizer='adam'):\n",
        "    # create model\n",
        "    model = Sequential()\n",
        "\n",
        "    # first layer: convolution\n",
        "    #model.add(Conv2D(16, kernel_size=(5, 5), activation='relu', input_shape=(28, 28, 1)))\n",
        "    model.add(Conv1D(filters=128, kernel_size=kernel, activation=conv_activation,input_shape=(n_features,1)))\n",
        "    # second series of layers: convolution, pooling, and dropout\n",
        "    model.add(Conv1D(32, kernel_size=kernel, activation=conv_activation))\n",
        "    if pool_type == 'max':\n",
        "        model.add(MaxPooling1D(pool_size=2))\n",
        "    if pool_type == 'average':\n",
        "        model.add(AveragePooling1D(pool_size=2))\n",
        "    if dropout_rate != 0:\n",
        "        model.add(Dropout(rate=dropout_rate))\n",
        "\n",
        "    # third series of layers: convolution, pooling, and dropout\n",
        "    model.add(Conv1D(64, kernel_size=kernel, activation=conv_activation))   # 32   10\n",
        "    if pool_type == 'max':\n",
        "        model.add(MaxPooling1D(pool_size=2))\n",
        "    if pool_type == 'average':\n",
        "        model.add(AveragePooling1D(pool_size=2))\n",
        "    if dropout_rate != 0:\n",
        "        model.add(Dropout(rate=dropout_rate))\n",
        "\n",
        "    model.add(Conv1D(64, kernel_size=kernel, activation=conv_activation))   # 32   10\n",
        "    if pool_type == 'max':\n",
        "        model.add(MaxPooling1D(pool_size=2))\n",
        "    if pool_type == 'average':\n",
        "        model.add(AveragePooling1D(pool_size=2))\n",
        "    if dropout_rate != 0:\n",
        "        model.add(Dropout(rate=dropout_rate))\n",
        "\n",
        "    # fourth series\n",
        "    model.add(Flatten())\n",
        "    model.add(Dense(64, activation='sigmoid')) # 64\n",
        "    # add a dropout layer if rate is not null\n",
        "    if dropout_rate != 0:\n",
        "        model.add(Dropout(rate=dropout_rate))\n",
        "\n",
        "    model.add(Dense(1, activation='sigmoid'))\n",
        "\n",
        "    # Compile model\n",
        "    model.compile(\n",
        "        optimizer= optimizer,\n",
        "        loss='binary_crossentropy',\n",
        "        metrics=['accuracy', 'Recall', 'Precision', 'TruePositives', 'TrueNegatives', 'FalsePositives', 'FalseNegatives'],\n",
        "        )\n",
        "    return model"
      ]
    },
    {
      "cell_type": "code",
      "execution_count": null,
      "id": "VLA3JilNT1UC",
      "metadata": {
        "id": "VLA3JilNT1UC"
      },
      "outputs": [],
      "source": [
        "cnn = create_cnn_model()"
      ]
    },
    {
      "cell_type": "code",
      "execution_count": null,
      "id": "gGjva7x6T7mx",
      "metadata": {
        "colab": {
          "base_uri": "https://localhost:8080/"
        },
        "id": "gGjva7x6T7mx",
        "outputId": "27b46224-f75e-4045-aa9c-f1a2a50c1626"
      },
      "outputs": [
        {
          "name": "stdout",
          "output_type": "stream",
          "text": [
            "Model: \"sequential\"\n",
            "_________________________________________________________________\n",
            " Layer (type)                Output Shape              Param #   \n",
            "=================================================================\n",
            " conv1d (Conv1D)             (None, 1534, 128)         512       \n",
            "                                                                 \n",
            " conv1d_1 (Conv1D)           (None, 1532, 32)          12320     \n",
            "                                                                 \n",
            " max_pooling1d (MaxPooling1D  (None, 766, 32)          0         \n",
            " )                                                               \n",
            "                                                                 \n",
            " dropout (Dropout)           (None, 766, 32)           0         \n",
            "                                                                 \n",
            " conv1d_2 (Conv1D)           (None, 764, 64)           6208      \n",
            "                                                                 \n",
            " max_pooling1d_1 (MaxPooling  (None, 382, 64)          0         \n",
            " 1D)                                                             \n",
            "                                                                 \n",
            " dropout_1 (Dropout)         (None, 382, 64)           0         \n",
            "                                                                 \n",
            " conv1d_3 (Conv1D)           (None, 380, 64)           12352     \n",
            "                                                                 \n",
            " max_pooling1d_2 (MaxPooling  (None, 190, 64)          0         \n",
            " 1D)                                                             \n",
            "                                                                 \n",
            " dropout_2 (Dropout)         (None, 190, 64)           0         \n",
            "                                                                 \n",
            " flatten (Flatten)           (None, 12160)             0         \n",
            "                                                                 \n",
            " dense (Dense)               (None, 64)                778304    \n",
            "                                                                 \n",
            " dropout_3 (Dropout)         (None, 64)                0         \n",
            "                                                                 \n",
            " dense_1 (Dense)             (None, 1)                 65        \n",
            "                                                                 \n",
            "=================================================================\n",
            "Total params: 809,761\n",
            "Trainable params: 809,761\n",
            "Non-trainable params: 0\n",
            "_________________________________________________________________\n"
          ]
        }
      ],
      "source": [
        "cnn.summary()"
      ]
    },
    {
      "cell_type": "code",
      "execution_count": null,
      "id": "AhtyDVo3-kk6",
      "metadata": {
        "id": "AhtyDVo3-kk6"
      },
      "outputs": [],
      "source": [
        "es = EarlyStopping(monitor='val_loss', patience=150, verbose=1)"
      ]
    },
    {
      "cell_type": "code",
      "execution_count": null,
      "id": "2Yf-Lgae-n4_",
      "metadata": {
        "colab": {
          "base_uri": "https://localhost:8080/"
        },
        "id": "2Yf-Lgae-n4_",
        "outputId": "36209b6e-7c07-4751-cdd3-0032a4e9202b"
      },
      "outputs": [
        {
          "name": "stdout",
          "output_type": "stream",
          "text": [
            "Epoch 1/10\n",
            "178/178 [==============================] - 8s 35ms/step - loss: 0.5273 - accuracy: 0.7406 - recall: 0.9231 - precision: 0.7515 - true_positives: 3553.0000 - true_negatives: 646.0000 - false_positives: 1175.0000 - false_negatives: 296.0000 - val_loss: 0.4053 - val_accuracy: 0.8105 - val_recall: 0.8417 - val_precision: 0.9318 - val_true_positives: 984.0000 - val_true_negatives: 115.0000 - val_false_positives: 72.0000 - val_false_negatives: 185.0000\n",
            "Epoch 2/10\n",
            "178/178 [==============================] - 6s 33ms/step - loss: 0.3441 - accuracy: 0.8501 - recall: 0.9031 - precision: 0.8793 - true_positives: 3476.0000 - true_negatives: 1344.0000 - false_positives: 477.0000 - false_negatives: 373.0000 - val_loss: 0.3241 - val_accuracy: 0.8429 - val_recall: 0.8905 - val_precision: 0.9245 - val_true_positives: 1041.0000 - val_true_negatives: 102.0000 - val_false_positives: 85.0000 - val_false_negatives: 128.0000\n",
            "Epoch 3/10\n",
            "178/178 [==============================] - 6s 32ms/step - loss: 0.2851 - accuracy: 0.8795 - recall: 0.9236 - precision: 0.9014 - true_positives: 3555.0000 - true_negatives: 1432.0000 - false_positives: 389.0000 - false_negatives: 294.0000 - val_loss: 0.3096 - val_accuracy: 0.8599 - val_recall: 0.9136 - val_precision: 0.9231 - val_true_positives: 1068.0000 - val_true_negatives: 98.0000 - val_false_positives: 89.0000 - val_false_negatives: 101.0000\n",
            "Epoch 4/10\n",
            "178/178 [==============================] - 6s 33ms/step - loss: 0.2620 - accuracy: 0.8884 - recall: 0.9283 - precision: 0.9092 - true_positives: 3573.0000 - true_negatives: 1464.0000 - false_positives: 357.0000 - false_negatives: 276.0000 - val_loss: 0.3972 - val_accuracy: 0.8289 - val_recall: 0.8366 - val_precision: 0.9598 - val_true_positives: 978.0000 - val_true_negatives: 146.0000 - val_false_positives: 41.0000 - val_false_negatives: 191.0000\n",
            "Epoch 5/10\n",
            "178/178 [==============================] - 6s 32ms/step - loss: 0.2368 - accuracy: 0.8989 - recall: 0.9358 - precision: 0.9170 - true_positives: 3602.0000 - true_negatives: 1495.0000 - false_positives: 326.0000 - false_negatives: 247.0000 - val_loss: 0.3011 - val_accuracy: 0.8680 - val_recall: 0.9153 - val_precision: 0.9304 - val_true_positives: 1070.0000 - val_true_negatives: 107.0000 - val_false_positives: 80.0000 - val_false_negatives: 99.0000\n",
            "Epoch 6/10\n",
            "178/178 [==============================] - 6s 33ms/step - loss: 0.1984 - accuracy: 0.9217 - recall: 0.9522 - precision: 0.9338 - true_positives: 3665.0000 - true_negatives: 1561.0000 - false_positives: 260.0000 - false_negatives: 184.0000 - val_loss: 0.3029 - val_accuracy: 0.8709 - val_recall: 0.9179 - val_precision: 0.9314 - val_true_positives: 1073.0000 - val_true_negatives: 108.0000 - val_false_positives: 79.0000 - val_false_negatives: 96.0000\n",
            "Epoch 7/10\n",
            "178/178 [==============================] - 6s 32ms/step - loss: 0.1751 - accuracy: 0.9305 - recall: 0.9587 - precision: 0.9401 - true_positives: 3690.0000 - true_negatives: 1586.0000 - false_positives: 235.0000 - false_negatives: 159.0000 - val_loss: 0.3771 - val_accuracy: 0.8392 - val_recall: 0.8546 - val_precision: 0.9542 - val_true_positives: 999.0000 - val_true_negatives: 139.0000 - val_false_positives: 48.0000 - val_false_negatives: 170.0000\n",
            "Epoch 8/10\n",
            "178/178 [==============================] - 6s 33ms/step - loss: 0.1513 - accuracy: 0.9406 - recall: 0.9634 - precision: 0.9498 - true_positives: 3708.0000 - true_negatives: 1625.0000 - false_positives: 196.0000 - false_negatives: 141.0000 - val_loss: 0.3050 - val_accuracy: 0.8791 - val_recall: 0.9204 - val_precision: 0.9381 - val_true_positives: 1076.0000 - val_true_negatives: 116.0000 - val_false_positives: 71.0000 - val_false_negatives: 93.0000\n",
            "Epoch 9/10\n",
            "178/178 [==============================] - 6s 32ms/step - loss: 0.1251 - accuracy: 0.9533 - recall: 0.9719 - precision: 0.9597 - true_positives: 3741.0000 - true_negatives: 1664.0000 - false_positives: 157.0000 - false_negatives: 108.0000 - val_loss: 0.3390 - val_accuracy: 0.8687 - val_recall: 0.9068 - val_precision: 0.9389 - val_true_positives: 1060.0000 - val_true_negatives: 118.0000 - val_false_positives: 69.0000 - val_false_negatives: 109.0000\n",
            "Epoch 10/10\n",
            "178/178 [==============================] - 6s 33ms/step - loss: 0.1074 - accuracy: 0.9616 - recall: 0.9777 - precision: 0.9661 - true_positives: 3763.0000 - true_negatives: 1689.0000 - false_positives: 132.0000 - false_negatives: 86.0000 - val_loss: 0.3243 - val_accuracy: 0.8813 - val_recall: 0.9230 - val_precision: 0.9383 - val_true_positives: 1079.0000 - val_true_negatives: 116.0000 - val_false_positives: 71.0000 - val_false_negatives: 90.0000\n"
          ]
        }
      ],
      "source": [
        "# fit network\n",
        "history = cnn.fit(train_dataset, Y_train,\n",
        "                        validation_data=(test_dataset, Y_test),\n",
        "                        callbacks=[es],\n",
        "                        epochs=10, verbose=1\n",
        "                        )"
      ]
    },
    {
      "cell_type": "code",
      "execution_count": null,
      "id": "ByEiiFAnO6v5",
      "metadata": {
        "colab": {
          "base_uri": "https://localhost:8080/"
        },
        "id": "ByEiiFAnO6v5",
        "outputId": "7f45ad77-59c9-4c41-bc20-a363f4ee43d6"
      },
      "outputs": [
        {
          "name": "stderr",
          "output_type": "stream",
          "text": [
            "<ipython-input-75-d21e2dc07263>:5: DeprecationWarning: KerasClassifier is deprecated, use Sci-Keras (https://github.com/adriangb/scikeras) instead. See https://www.adriangb.com/scikeras/stable/migration.html for help migrating.\n",
            "  model = KerasClassifier(build_fn=create_cnn_model, verbose=1)\n"
          ]
        }
      ],
      "source": [
        "# optimize model\n",
        "start = time()\n",
        "\n",
        "# create model\n",
        "model = KerasClassifier(build_fn=create_cnn_model, verbose=1)\n",
        "# define parameters and values for grid search\n",
        "param_grid = {\n",
        "    'pool_type': ['max','average'], #max\n",
        "    'conv_activation': ['relu', 'tanh'],#relu\n",
        "    'epochs': [10],\n",
        "    'kernel':[1,2,3,4], #2\n",
        "    'optimizer':['adam','sgd'] #adam\n",
        "}"
      ]
    },
    {
      "cell_type": "code",
      "execution_count": null,
      "id": "lY9VpwzjPqNw",
      "metadata": {
        "id": "lY9VpwzjPqNw"
      },
      "outputs": [],
      "source": [
        "grid_scorer = {'accuracy':make_scorer(accuracy_score),'f1':make_scorer(f1_score),'mcc':make_scorer(matthews_corrcoef,greater_is_better=True)}"
      ]
    },
    {
      "cell_type": "code",
      "execution_count": null,
      "id": "j4AjzaBaZDkC",
      "metadata": {
        "colab": {
          "base_uri": "https://localhost:8080/"
        },
        "id": "j4AjzaBaZDkC",
        "outputId": "8b377533-6c05-4a2b-ac45-5c5f6d04644a"
      },
      "outputs": [
        {
          "name": "stderr",
          "output_type": "stream",
          "text": [
            "/usr/local/lib/python3.10/dist-packages/joblib/externals/loky/backend/fork_exec.py:38: RuntimeWarning: os.fork() was called. os.fork() is incompatible with multithreaded code, and JAX is multithreaded, so this will likely lead to a deadlock.\n",
            "  pid = os.fork()\n",
            "/usr/local/lib/python3.10/dist-packages/joblib/externals/loky/process_executor.py:752: UserWarning: A worker stopped while some jobs were given to the executor. This can be caused by a too short worker timeout or by a memory leak.\n",
            "  warnings.warn(\n"
          ]
        },
        {
          "name": "stdout",
          "output_type": "stream",
          "text": [
            "Epoch 1/10\n",
            "178/178 [==============================] - 7s 29ms/step - loss: 0.5956 - accuracy: 0.6942 - recall: 0.9231 - precision: 0.7119 - true_positives: 3553.0000 - true_negatives: 383.0000 - false_positives: 1438.0000 - false_negatives: 296.0000\n",
            "Epoch 2/10\n",
            "178/178 [==============================] - 5s 29ms/step - loss: 0.3900 - accuracy: 0.8236 - recall: 0.8937 - precision: 0.8534 - true_positives: 3440.0000 - true_negatives: 1230.0000 - false_positives: 591.0000 - false_negatives: 409.0000\n",
            "Epoch 3/10\n",
            "178/178 [==============================] - 5s 28ms/step - loss: 0.3278 - accuracy: 0.8543 - recall: 0.9085 - precision: 0.8806 - true_positives: 3497.0000 - true_negatives: 1347.0000 - false_positives: 474.0000 - false_negatives: 352.0000\n",
            "Epoch 4/10\n",
            "178/178 [==============================] - 5s 28ms/step - loss: 0.3101 - accuracy: 0.8672 - recall: 0.9179 - precision: 0.8899 - true_positives: 3533.0000 - true_negatives: 1384.0000 - false_positives: 437.0000 - false_negatives: 316.0000\n",
            "Epoch 5/10\n",
            "178/178 [==============================] - 5s 29ms/step - loss: 0.2995 - accuracy: 0.8686 - recall: 0.9137 - precision: 0.8949 - true_positives: 3517.0000 - true_negatives: 1408.0000 - false_positives: 413.0000 - false_negatives: 332.0000\n",
            "Epoch 6/10\n",
            "178/178 [==============================] - 5s 29ms/step - loss: 0.2749 - accuracy: 0.8788 - recall: 0.9234 - precision: 0.9007 - true_positives: 3554.0000 - true_negatives: 1429.0000 - false_positives: 392.0000 - false_negatives: 295.0000\n",
            "Epoch 7/10\n",
            "178/178 [==============================] - 5s 29ms/step - loss: 0.2643 - accuracy: 0.8862 - recall: 0.9343 - precision: 0.9017 - true_positives: 3596.0000 - true_negatives: 1429.0000 - false_positives: 392.0000 - false_negatives: 253.0000\n",
            "Epoch 8/10\n",
            "178/178 [==============================] - 5s 29ms/step - loss: 0.2514 - accuracy: 0.8922 - recall: 0.9358 - precision: 0.9082 - true_positives: 3602.0000 - true_negatives: 1457.0000 - false_positives: 364.0000 - false_negatives: 247.0000\n",
            "Epoch 9/10\n",
            "178/178 [==============================] - 5s 28ms/step - loss: 0.2288 - accuracy: 0.9044 - recall: 0.9400 - precision: 0.9208 - true_positives: 3618.0000 - true_negatives: 1510.0000 - false_positives: 311.0000 - false_negatives: 231.0000\n",
            "Epoch 10/10\n",
            "178/178 [==============================] - 5s 29ms/step - loss: 0.2161 - accuracy: 0.9106 - recall: 0.9465 - precision: 0.9237 - true_positives: 3643.0000 - true_negatives: 1520.0000 - false_positives: 301.0000 - false_negatives: 206.0000\n"
          ]
        }
      ],
      "source": [
        "grid = GridSearchCV(estimator=model, param_grid=param_grid, n_jobs=-1, cv=10, scoring=grid_scorer, refit='mcc')\n",
        "grid_result = grid.fit(train_dataset, Y_train)"
      ]
    },
    {
      "cell_type": "code",
      "execution_count": null,
      "id": "rITE0rSjYKz7",
      "metadata": {
        "colab": {
          "base_uri": "https://localhost:8080/"
        },
        "id": "rITE0rSjYKz7",
        "outputId": "7333fa6b-53f8-4003-c0e3-c5cd0d5c5f6c"
      },
      "outputs": [
        {
          "data": {
            "text/plain": [
              "{'verbose': 1,\n",
              " 'conv_activation': 'tanh',\n",
              " 'epochs': 10,\n",
              " 'kernel': 2,\n",
              " 'optimizer': 'adam',\n",
              " 'pool_type': 'average',\n",
              " 'build_fn': <function __main__.create_cnn_model(pool_type='max', conv_activation='tanh', dropout_rate=0.1, kernel=3, optimizer='adam')>}"
            ]
          },
          "execution_count": 78,
          "metadata": {},
          "output_type": "execute_result"
        }
      ],
      "source": [
        "classifier = grid.best_estimator_\n",
        "\n",
        "params = classifier.get_params()\n",
        "params"
      ]
    },
    {
      "cell_type": "code",
      "execution_count": null,
      "id": "liIHz72BjYDh",
      "metadata": {
        "id": "liIHz72BjYDh"
      },
      "outputs": [],
      "source": [
        "from keras.models import model_from_json\n",
        "\n",
        "# Save the best model's architecture to a JSON file\n",
        "model_json = grid_result.best_estimator_.model.to_json()\n",
        "with open(\"/content/drive/MyDrive/Halophilic/CNNESM_best_model.json\", \"w\") as json_file:\n",
        "    json_file.write(model_json)\n",
        "\n",
        "# Save the best model's weights to an HDF5 file\n",
        "grid_result.best_estimator_.model.save_weights(\"/content/drive/MyDrive/Halophilic/CNNESM_best_model_weights.h5\")"
      ]
    },
    {
      "cell_type": "code",
      "execution_count": null,
      "id": "YXH7b_VacCie",
      "metadata": {
        "colab": {
          "base_uri": "https://localhost:8080/"
        },
        "id": "YXH7b_VacCie",
        "outputId": "265b308f-ed26-4c06-be9f-05e774c5365a"
      },
      "outputs": [
        {
          "name": "stdout",
          "output_type": "stream",
          "text": [
            "178/178 [==============================] - 2s 9ms/step\n",
            "acc: 0.9308641975308642\n",
            "f1: 0.9495105615662031\n",
            "mcc: 0.8402212398620805\n",
            "sn: [0.9588897617177271, 0.9591244725738397, 0.9617700968840011, 0.9591889784247466, 0.9628661087866108, 0.9574799066632097, 0.9558400836164097, 0.9587790242629793, 0.9564533053515215, 0.9589889089502193, 0.9619217991311014, 0.955289836236028, 0.9588934850051706, 0.9610423116615067, 0.9621036349574633, 0.9567156348373557, 0.9614984391259105, 0.9595750194350868, 0.9496774193548387, 0.9621957534955982, 0.9611096707285455, 0.9505980239209568, 0.9555028962611901, 0.9598635886673662, 0.9639568534596159, 0.9553058024046001, 0.9582577132486388, 0.96, 0.9516044187269858, 0.9562566277836692, 0.9600926879505665, 0.9568783068783069, 0.95370611183355, 0.9625974025974026, 0.956419624217119, 0.959989539748954, 0.959741935483871, 0.9599486521181001, 0.9547948784949046, 0.9578651685393258, 0.9563878912262699, 0.9606712113266911, 0.9604117181314331, 0.9532981530343008, 0.9610802223987291, 0.9544025157232704, 0.955480343660505, 0.9473408435944459, 0.9508700102354145, 0.9637023593466425, 0.9601043024771838, 0.9576706003078502, 0.9569782330345711, 0.9546402502606882, 0.9597820446289569, 0.957296305999476, 0.9588466579292267, 0.9556122448979592, 0.9558169934640522, 0.9558670820353063, 0.9607893388006151, 0.9507208387942333, 0.9562157935887412, 0.9647089129314786, 0.9602925809822361, 0.9561152947286419, 0.9547452805792604, 0.9632201646090535, 0.9576470588235294, 0.9579439252336449, 0.9623641664457991, 0.9574738986503692, 0.9606652587117213, 0.957501943508681, 0.9550561797752809, 0.9581383255330214, 0.9542961608775137, 0.9565891472868217, 0.9617867286341337, 0.9597280334728033, 0.959508881922675, 0.9587143977005488, 0.9569055036344756, 0.9616878074035724, 0.9480654375486887, 0.9619860356865787, 0.96271637816245, 0.9565102094935031, 0.9598749348619072, 0.9523562920766442, 0.9579439252336449, 0.9532224532224532, 0.9585095137420718, 0.9623376623376624, 0.9584086799276673, 0.9577464788732394, 0.9584091499870029, 0.9527741935483871, 0.9596482152095189, 0.9576008273009308, 0.9566796368352789, 0.9569666754132774, 0.954700183294056, 0.9578864765890662, 0.9536917931566761, 0.9563081695966908, 0.9549169522805168, 0.9556714471968709, 0.9582372533948245, 0.9592307692307692, 0.9673321234119783, 0.9586475942782835, 0.9624537281861449, 0.9490871689380304, 0.9614489003880983, 0.955168776371308, 0.9549973835688121, 0.9513147617807862, 0.9545454545454546, 0.9562598218962808, 0.9582463465553236, 0.9560439560439561, 0.9574522949974213, 0.9592736705577173, 0.9572025052192067, 0.9563740856844305, 0.9628025477707006, 0.9572694111516414, 0.9568831168831169, 0.9586224620920072, 0.953842119066352, 0.958032955715757, 0.9617931737137035, 0.9579744192116941, 0.9573361082206036, 0.954239917269907, 0.9609086106708927, 0.9622100599426635, 0.9599790740256343, 0.9592047508391428, 0.96, 0.9549689440993789, 0.955940204563336, 0.9544401544401544, 0.9577685088633994, 0.9591571279916753, 0.9582693292370712, 0.9535490605427975, 0.9555787823360334, 0.9562941638314577, 0.9606319606319607, 0.9597596028220539, 0.9597107438016529, 0.959741935483871, 0.96, 0.9550532605871654, 0.9585314315900687, 0.9579304938594199, 0.9516871165644172, 0.9549009384775808, 0.9633855133987795, 0.9591783671346854, 0.9511307512347283, 0.9654455702779943, 0.9552549427679501, 0.9570726661494698, 0.9612443975744793, 0.9551430781129157, 0.9534823284823285, 0.9581503487470938, 0.9561152947286419, 0.9629629629629629, 0.9631468897020387, 0.9559989767203888, 0.953464322647363, 0.9629822732012513, 0.9623655913978495, 0.9488842760768034, 0.9544277576385293, 0.9602906825849987, 0.9570759625390218, 0.9516336506303061, 0.9613700746845223, 0.9625641025641025, 0.9584199584199584, 0.9548949256791389, 0.9544757033248081, 0.9527009563194624, 0.9545102093564228, 0.9614588722193481, 0.9558861246473455, 0.9601363755573039, 0.9555325749741469, 0.9557522123893806, 0.9597490852064819, 0.9619368203003625, 0.958204334365325, 0.9535778404719158, 0.9622691292875989, 0.9609314359637775, 0.9614281991138911, 0.96066089693155, 0.961488420504814, 0.9524304652976345, 0.9525752167261601, 0.9578892643618404, 0.9594838709677419, 0.9647887323943662, 0.9588034636578326, 0.9565442317640973, 0.9593602517042475, 0.9584319915811629, 0.9584866001050972, 0.9582354476637953, 0.958961038961039, 0.9629437678154963, 0.9517759917033964, 0.9566121070407898, 0.9603362227475702, 0.9580382900603199, 0.960133744855967, 0.9543281996813595, 0.9542947202521671, 0.9545926310326933, 0.9613848202396804, 0.9513960703205792, 0.9606975533576262, 0.9529532088979801, 0.9536699635606455, 0.9620449264136328, 0.9620056862238304, 0.9622199062011464, 0.9606975533576262, 0.9630112008335504, 0.9589994842702424, 0.9580602883355177, 0.9558139534883721, 0.9558253681219323, 0.9577101598762249, 0.9621913580246914, 0.9571428571428572, 0.9571245186136071, 0.9550326797385621, 0.9560696646737717, 0.9549781322356573, 0.962875816993464, 0.9603009859885833, 0.9586842105263158, 0.9556305137519461, 0.958139534883721, 0.9561472200469852, 0.9500392362019356, 0.9543200208822762, 0.9508281573498965, 0.958102766798419, 0.9561835623541612, 0.9546402502606882, 0.955951756685894, 0.9565677966101694, 0.9612970711297071, 0.9514895860796203, 0.9519752130131681, 0.9565550728341427, 0.9546866908337649, 0.9552782111284451, 0.9584301575006455, 0.956442831215971, 0.9552824267782427, 0.9527395481693067, 0.9509829619921363, 0.953909891248058, 0.9593432369038312, 0.9571577847439916, 0.9550326797385621, 0.957823483467847, 0.9542244310750719, 0.9546037445498846, 0.9532974082627662, 0.9558326838139777, 0.9609069585613761, 0.953909891248058, 0.9548674888480714, 0.9585073068893528, 0.9547686740759886, 0.9597402597402598, 0.9518935516888434, 0.9517060367454068, 0.9551892866340458, 0.9565104840797308, 0.9616572310859496, 0.958837149472601, 0.9541381128096995, 0.9540229885057471, 0.9650892164468581, 0.9540109746537758, 0.9614382490880667, 0.9543187188238382, 0.9592419522326064, 0.9569779643231899, 0.9531694695989651, 0.9576446280991735, 0.9522317932654659, 0.9628351473320945, 0.9621403331650682, 0.9619663648124192, 0.9587575045679979, 0.9606155451225874, 0.9575239575239575, 0.958904109589041, 0.9528252980819077, 0.9544033350703491, 0.9598540145985401, 0.9588968443383717, 0.9605873261205564, 0.9591029023746702, 0.9596092925026399, 0.9568252326783868, 0.9616662407360081, 0.960625814863103, 0.9569976544175137, 0.9575033200531209, 0.958377239199157, 0.9611025244719217, 0.9543579164517793, 0.955181347150259, 0.9536891679748822, 0.9544870146567241, 0.9609314359637775, 0.9557453416149069, 0.9602840610205156, 0.9554106910039113, 0.955270729793356, 0.9567483064095883, 0.9563182527301092, 0.9567198177676538, 0.9567949725058916, 0.9590932777488275, 0.9602067183462533, 0.9568877551020408, 0.9611574556830031, 0.9633245382585752, 0.9578947368421052, 0.9655440414507772, 0.952928870292887, 0.9524670627744769, 0.9609069585613761, 0.9528301886792453, 0.9575788929125711, 0.9577754891864058, 0.9568106312292359, 0.9621804903495045, 0.9645833333333333, 0.9521430449645018, 0.9565443663804319, 0.9556142668428005, 0.9583333333333334, 0.958139534883721, 0.964017602899301, 0.9561629706034038, 0.9581042157632889, 0.9572025052192067, 0.9560468140442132, 0.9589689637033141, 0.9587192378936227, 0.9590311775315641, 0.9586842105263158, 0.9581926772266943, 0.9577789150460594, 0.9554173146708139, 0.9567021000777807, 0.964117338920901, 0.953794527620031, 0.9575398867730314, 0.9573744769874477, 0.955333683657383, 0.9522219368096584, 0.9642289348171701, 0.9617515167501979, 0.9610423116615067, 0.9527117285599787, 0.9582265504869297, 0.9569101418812401, 0.9539661898569571, 0.9577610779994817, 0.9548872180451128, 0.9527518172377986, 0.9580073030777256, 0.960656591974987, 0.9596092925026399, 0.9595645412130638, 0.9546866908337649, 0.9580510682647212, 0.9609743321110529, 0.9529657695322707, 0.9625487646293888, 0.9515292897874547, 0.9560669456066946, 0.9574694311536417, 0.9525154004106776, 0.9574303405572755, 0.9545335772145284, 0.9575070821529745, 0.962457337883959, 0.9581960983025082, 0.9597349643221202, 0.9609594284256188, 0.9589994842702424, 0.9520228215767634, 0.9575180226570545, 0.9582366589327146, 0.9596092925026399, 0.9562357703010372, 0.9552199947930227, 0.9611169102296451, 0.9545335772145284, 0.9559207094418362, 0.9566908713692946, 0.9619989588755856, 0.9592993302421432, 0.9573250065053344, 0.957829776292106, 0.9516506368598908, 0.9560010413954699, 0.9511249030256013, 0.9633359153111283, 0.9566683964711987, 0.9584639498432602, 0.9523686254206575, 0.960073548726031, 0.9611600207146557, 0.9616087751371115, 0.9524551831644583, 0.96215655780197, 0.9608457321848082, 0.9570405727923628, 0.9608402489626556, 0.9627507163323782, 0.9576555641621483, 0.9565558754252813, 0.9581070597362297, 0.9583225472430753, 0.9577133907595928, 0.9543017615522084, 0.9593264248704664, 0.957501943508681, 0.9617099396800419, 0.9606668403230008, 0.9582898852971846, 0.9569451563300871, 0.9617099396800419, 0.95822454308094, 0.9539869281045752, 0.9511249030256013, 0.9572178477690289, 0.9579142403388036, 0.9544395547501942, 0.954118873826903, 0.9600515463917526, 0.9603547209181011, 0.9619762027935851, 0.9540923399790137, 0.9606625258799172, 0.9605771708322597, 0.9576983709931687, 0.9521004098360656, 0.9589397089397089, 0.9650892164468581, 0.9537012817159299, 0.9556367432150313, 0.9608348363823757, 0.9591677503250975, 0.9563307493540052, 0.9534397070363588, 0.9575239575239575, 0.9560496380558429, 0.9545216936748563, 0.9600518806744488, 0.955909209496478, 0.9649303764827231, 0.958139534883721, 0.9583551597695128, 0.9575360419397116, 0.9526288391462779, 0.9552658486707567, 0.9600522193211488, 0.9591942148760331, 0.956958762886598, 0.9608146429492137, 0.9537542218758119, 0.951900698215671, 0.9537234042553191, 0.9584866001050972, 0.964622641509434, 0.9539182504556105, 0.962480458572173, 0.9624315157839812, 0.9526383526383526, 0.9560924915562484, 0.9528154327424401, 0.9586624539231174, 0.9577863577863578, 0.9580093312597201, 0.9569190600522193, 0.9618479107189203, 0.9575085774610715, 0.9540229885057471, 0.9549620319455355, 0.9568567026194145, 0.954980595084088, 0.9549713690786049, 0.9598540145985401, 0.9590885551527706, 0.9567233384853169, 0.9607077803799116, 0.9561542525092446, 0.9568123393316196, 0.9524922118380063, 0.9601250977326036, 0.9571502323180175, 0.9564883542359867, 0.9543438559874772, 0.962991718426501, 0.9583225472430753, 0.9572582746937712, 0.9571984435797666, 0.956725755995829, 0.9594028287061289, 0.95510310623858, 0.9596064215432418, 0.9593432369038312, 0.9546866908337649, 0.9540672312034899, 0.9620286776420606, 0.9591145833333333, 0.9590399165144795, 0.9637890317501968, 0.9584205020920502, 0.9571353894406691, 0.9594838709677419, 0.9592842323651453, 0.959125227805259, 0.961599158337717, 0.9535603715170279, 0.9560757496054708, 0.9587096774193549, 0.949528422125924, 0.9516845129276573, 0.9561516636574671, 0.9539508110936682, 0.9635376260667183, 0.9583882012114827, 0.9529689963215975, 0.9550591327201051, 0.9581178903826267, 0.9624741200828157, 0.9559134107708553, 0.9543923296190723, 0.96019643318687, 0.9549085287297089, 0.9575916230366492, 0.9536842105263158, 0.9595015576323987, 0.9617752693689071, 0.9558067831449126, 0.9590078328981724, 0.9538942432925241, 0.9570615623383342, 0.9569527785024785, 0.9574468085106383, 0.9611625514403292, 0.9553548387096774, 0.9610121352956364, 0.9605263157894737, 0.9539661898569571, 0.9588828549262994, 0.9572715572715572, 0.9600103869124903, 0.9610655737704918, 0.9574025974025974, 0.9589147286821705, 0.9583983359334374, 0.9581084554099203, 0.9539422326307572, 0.9616193480546793, 0.9542346133613887, 0.9610121352956364, 0.9509854771784232, 0.957496740547588, 0.9599056603773585, 0.9565895502989342, 0.9557911065149949, 0.9550766034796156, 0.9643223819301848, 0.9548169306673592, 0.9537859007832898, 0.9573693787366779, 0.9559505409582689, 0.957823483467847, 0.9568045797553995, 0.9586330935251799, 0.9663624511082138, 0.9587841318907779, 0.9634369287020109, 0.954020035961983, 0.9516592631303893, 0.9575694080670508, 0.9551892866340458, 0.9579984443868291, 0.9610253727439184, 0.9550532605871654, 0.9525191242416249, 0.9598445595854922, 0.9582685329186107, 0.9540617700493123, 0.9573915302676019, 0.9579611140304782, 0.9589823468328141, 0.9585158464313321, 0.9548270521424884, 0.9572428090178803, 0.9586734693877551, 0.9570170895908856, 0.9595330739299611, 0.9595047717307196, 0.957127827459232, 0.953416149068323, 0.9598958333333333, 0.9515151515151515, 0.9580025608194622, 0.9607032057911065, 0.9628667878473124, 0.965259907359753, 0.9585073068893528, 0.9587548638132296, 0.9641775983854692, 0.9556251631427826, 0.9599479843953186, 0.9583766909469302, 0.9602198377388118, 0.9533865567859903, 0.9576706003078502, 0.9618181818181818, 0.9623180873180873, 0.9534944141335412, 0.9595800524934384, 0.9579163459071081, 0.9497526685758917, 0.9504668049792531, 0.9650918635170603, 0.957296305999476, 0.9581749049429658, 0.9619791666666667, 0.9594272076372315, 0.9614382490880667, 0.9603340292275574, 0.9608559498956158, 0.9603377686796315, 0.9549713690786049, 0.9588828549262994, 0.9568158168574402, 0.9518354595157511, 0.9550882658359294, 0.955082135523614, 0.9529107373868047, 0.9617261751862317, 0.9545454545454546, 0.9622494142150482, 0.9585301837270341, 0.9563846558066211, 0.9521082769390942, 0.9522567179754762, 0.9571094359240967, 0.9588265568708183, 0.9563829787234043, 0.9570282164121149, 0.9547581903276131, 0.9595225739491438, 0.955480343660505, 0.9515463917525773, 0.9615283957079298, 0.9612503229139757, 0.958029197080292, 0.9551148225469729, 0.9491087574270214, 0.9563749675408985, 0.95703125, 0.9566008316008316, 0.9597402597402598, 0.95562435500516, 0.9566126502875065, 0.9561494551115723, 0.9608706918890905, 0.959135866736075, 0.9563543003851092, 0.9577205882352942, 0.9559128630705395, 0.9561538461538461, 0.9561586638830898, 0.9558707643814027, 0.9594558548946386, 0.9602510460251046, 0.9582463465553236, 0.9594629486186419, 0.9567144719687093, 0.960625814863103, 0.9563307493540052, 0.9563068920676203, 0.9586297760210803, 0.9598029045643154, 0.9512383900928792, 0.9523318732285494, 0.9591889784247466, 0.9515023721665788, 0.9545220966084276, 0.9540589924301749, 0.9564214304024609, 0.956282722513089, 0.9590163934426229, 0.9573582943317732, 0.9594489212373278, 0.9611650485436893, 0.9620901639344263, 0.952678107124285, 0.9523310633839707, 0.953778239418333, 0.9609910384818134, 0.9544621826746925, 0.9531578947368421, 0.9637319316688567, 0.9600721277691912, 0.9586242565296095, 0.9582035306334372, 0.9528252980819077, 0.9557338855811546, 0.9547557840616967, 0.9589542483660131, 0.9556019848524419, 0.9590292275574113, 0.956029827719208, 0.9593644178171399, 0.9525291828793774, 0.9551128818061089, 0.9644709543568465, 0.9564183835182251, 0.9623841059602649, 0.9540229885057471, 0.9588716055892433, 0.9540320462306278, 0.9484240687679083, 0.9556251631427826, 0.9596837944664032, 0.9645903334194882, 0.9563854792373988, 0.9647519582245431, 0.9558285415577626, 0.9523316062176166, 0.9647335423197492, 0.9613677890890107, 0.9662458129348106, 0.9571801566579634, 0.9584205020920502, 0.9568080063207796, 0.963513161323951, 0.9534823284823285, 0.9567144719687093, 0.9584091499870029, 0.9565669700910273, 0.956927867151012, 0.9512069851052902, 0.9551382368283776, 0.9551546391752578, 0.9620582120582121, 0.9552393272962484, 0.9509076962413705, 0.945974025974026, 0.9584523500389509, 0.9580653460252122, 0.963302752293578, 0.9633074935400516, 0.96, 0.9564304461942257, 0.9599172485130593, 0.961139896373057, 0.9613463055482514, 0.9633507853403142, 0.9582238570677877, 0.9613577023498695, 0.9587655601659751, 0.9611253196930947, 0.9584216101694916, 0.9545573942737063, 0.9528891202498698, 0.9596564289432588, 0.960691823899371, 0.9538816295157571, 0.954046997389034, 0.9559781193019016, 0.9582668793195109, 0.9602375419571392, 0.9613302397525135, 0.952489837398374, 0.9623726156258166, 0.9587493431424067, 0.9494193548387097, 0.9598635886673662, 0.9550503745802118, 0.9574078912986673, 0.9584199584199584, 0.9553594601609136, 0.952331336285491, 0.9616480953614926, 0.9556189981832338, 0.9634464751958225, 0.9576691925790436, 0.9632390745501286, 0.9582258896338318, 0.9531936901991208, 0.952159296612361, 0.9541094114596836, 0.9661236100336178, 0.9549201442555384, 0.9565907887771308, 0.9621706235324811, 0.9563878912262699, 0.9594420046499612, 0.9583013558454848, 0.9642394402694999, 0.9482623464854978, 0.955863484731845, 0.9566918862509783, 0.9618280965982862, 0.9573312645461598, 0.9581371009942439, 0.968167701863354, 0.9549502357255107, 0.956140350877193, 0.9607336605528287, 0.9575338961371195, 0.9614189539098913, 0.9605998983223183, 0.9585277345775013, 0.9569476669244651, 0.9628378378378378, 0.9543557642149192, 0.9562254259501966, 0.9575679172056921, 0.9586242565296095, 0.956958762886598, 0.9568012342504499, 0.957287082578307, 0.9525660964230172, 0.9546749546749547, 0.9597701149425287, 0.9598958333333333, 0.9578563995837669, 0.9608865710560626, 0.9550945378151261, 0.954980595084088, 0.9649896265560166, 0.9556830031282586, 0.9530236179600311, 0.9634904194717763, 0.9531936901991208, 0.962080450935178, 0.9595256509409642, 0.9550326797385621, 0.9540992305651367, 0.9617983367983368, 0.9535306334371755, 0.959356030614938, 0.9579744192116941, 0.9517819706498952, 0.953778239418333, 0.9601147028154328, 0.9544508068714211, 0.9544621826746925, 0.9579788605310647, 0.9618261542429714, 0.9614482938265173, 0.9636646768751622, 0.9608718487394958, 0.9552356020942409, 0.9518927444794952, 0.9599271402550091, 0.9615284637379776, 0.9643229166666667, 0.9595225739491438, 0.9574025974025974, 0.9541709577754892, 0.9536149261466701, 0.9606712113266911, 0.9547379565907887, 0.9522202025447936, 0.9585384814718839, 0.9603857180088611, 0.956900974858902, 0.9600630583289543, 0.9581622176591376, 0.9524299305734122, 0.9635701275045537, 0.9615283957079298, 0.9528205128205128, 0.9629156010230179, 0.9663974993487887, 0.9611473272490222, 0.9592207792207792, 0.9581503487470938, 0.9560496380558429, 0.9591049382716049, 0.9580962234868081, 0.9579414838035528, 0.9587203302373581, 0.9544860057546429, 0.9556483172449778, 0.955544068234686, 0.9568234387047032, 0.9471766848816029, 0.9587276550998949, 0.9601861427094105, 0.9559551733124837, 0.9583550234252993, 0.9570713721358968, 0.9581689029202841, 0.9596482152095189, 0.9628563955009155, 0.9504004133298889, 0.9589147286821705, 0.9543200208822762, 0.9598214285714286, 0.9576581285938317, 0.9561038961038961, 0.9565330557001561, 0.9537185660781167, 0.9548556430446195, 0.9554980595084088, 0.9554582904222451, 0.9617472215042646, 0.9562024652504589, 0.9615185950413223, 0.9599790740256343, 0.9497632824829038, 0.959379042690815, 0.9578249336870026, 0.9620253164556962, 0.9621036349574633, 0.9545454545454546, 0.9567245400362788, 0.9577685088633994, 0.9618699399320971, 0.9577610779994817, 0.956958762886598, 0.9571017525503531, 0.9574578469520104, 0.957296305999476, 0.9567966280295047, 0.9543686803214934, 0.9539456662354463, 0.9533246414602347, 0.9626846333246956, 0.9558243491980016, 0.9603753910323254, 0.9563329928498467, 0.9558097218611905, 0.9598041741819119, 0.9606540623403168, 0.9529837251356239, 0.9583550234252993, 0.9628088426527959, 0.9565558754252813, 0.955177743431221, 0.96121811556481, 0.9554189085318986, 0.9601043024771838, 0.9594629486186419, 0.9617850730956655, 0.9604743083003953, 0.9546772068511199, 0.9558556219163854, 0.9578125, 0.959968396102186, 0.9634209170530654, 0.9561380742278743, 0.9599068804966373, 0.9573915302676019, 0.9542738373603533, 0.9599483204134367, 0.954369682907966, 0.957815734989648, 0.9588509316770186, 0.9613302397525135, 0.9593301435406698, 0.9564423578508086, 0.9526534859521332, 0.9584301575006455, 0.9542738373603533, 0.9557982319292772, 0.9555155566983801, 0.9588477366255144, 0.9590336134453782, 0.9513020833333333]\n",
            "sp: [0.9588897617177271, 0.9591244725738397, 0.9617700968840011, 0.9591889784247466, 0.9628661087866108, 0.9574799066632097, 0.9558400836164097, 0.9587790242629793, 0.9564533053515215, 0.9589889089502193, 0.9619217991311014, 0.955289836236028, 0.9588934850051706, 0.9610423116615067, 0.9621036349574633, 0.9567156348373557, 0.9614984391259105, 0.9595750194350868, 0.9496774193548387, 0.9621957534955982, 0.9611096707285455, 0.9505980239209568, 0.9555028962611901, 0.9598635886673662, 0.9639568534596159, 0.9553058024046001, 0.9582577132486388, 0.96, 0.9516044187269858, 0.9562566277836692, 0.9600926879505665, 0.9568783068783069, 0.95370611183355, 0.9625974025974026, 0.956419624217119, 0.959989539748954, 0.959741935483871, 0.9599486521181001, 0.9547948784949046, 0.9578651685393258, 0.9563878912262699, 0.9606712113266911, 0.9604117181314331, 0.9532981530343008, 0.9610802223987291, 0.9544025157232704, 0.955480343660505, 0.9473408435944459, 0.9508700102354145, 0.9637023593466425, 0.9601043024771838, 0.9576706003078502, 0.9569782330345711, 0.9546402502606882, 0.9597820446289569, 0.957296305999476, 0.9588466579292267, 0.9556122448979592, 0.9558169934640522, 0.9558670820353063, 0.9607893388006151, 0.9507208387942333, 0.9562157935887412, 0.9647089129314786, 0.9602925809822361, 0.9561152947286419, 0.9547452805792604, 0.9632201646090535, 0.9576470588235294, 0.9579439252336449, 0.9623641664457991, 0.9574738986503692, 0.9606652587117213, 0.957501943508681, 0.9550561797752809, 0.9581383255330214, 0.9542961608775137, 0.9565891472868217, 0.9617867286341337, 0.9597280334728033, 0.959508881922675, 0.9587143977005488, 0.9569055036344756, 0.9616878074035724, 0.9480654375486887, 0.9619860356865787, 0.96271637816245, 0.9565102094935031, 0.9598749348619072, 0.9523562920766442, 0.9579439252336449, 0.9532224532224532, 0.9585095137420718, 0.9623376623376624, 0.9584086799276673, 0.9577464788732394, 0.9584091499870029, 0.9527741935483871, 0.9596482152095189, 0.9576008273009308, 0.9566796368352789, 0.9569666754132774, 0.954700183294056, 0.9578864765890662, 0.9536917931566761, 0.9563081695966908, 0.9549169522805168, 0.9556714471968709, 0.9582372533948245, 0.9592307692307692, 0.9673321234119783, 0.9586475942782835, 0.9624537281861449, 0.9490871689380304, 0.9614489003880983, 0.955168776371308, 0.9549973835688121, 0.9513147617807862, 0.9545454545454546, 0.9562598218962808, 0.9582463465553236, 0.9560439560439561, 0.9574522949974213, 0.9592736705577173, 0.9572025052192067, 0.9563740856844305, 0.9628025477707006, 0.9572694111516414, 0.9568831168831169, 0.9586224620920072, 0.953842119066352, 0.958032955715757, 0.9617931737137035, 0.9579744192116941, 0.9573361082206036, 0.954239917269907, 0.9609086106708927, 0.9622100599426635, 0.9599790740256343, 0.9592047508391428, 0.96, 0.9549689440993789, 0.955940204563336, 0.9544401544401544, 0.9577685088633994, 0.9591571279916753, 0.9582693292370712, 0.9535490605427975, 0.9555787823360334, 0.9562941638314577, 0.9606319606319607, 0.9597596028220539, 0.9597107438016529, 0.959741935483871, 0.96, 0.9550532605871654, 0.9585314315900687, 0.9579304938594199, 0.9516871165644172, 0.9549009384775808, 0.9633855133987795, 0.9591783671346854, 0.9511307512347283, 0.9654455702779943, 0.9552549427679501, 0.9570726661494698, 0.9612443975744793, 0.9551430781129157, 0.9534823284823285, 0.9581503487470938, 0.9561152947286419, 0.9629629629629629, 0.9631468897020387, 0.9559989767203888, 0.953464322647363, 0.9629822732012513, 0.9623655913978495, 0.9488842760768034, 0.9544277576385293, 0.9602906825849987, 0.9570759625390218, 0.9516336506303061, 0.9613700746845223, 0.9625641025641025, 0.9584199584199584, 0.9548949256791389, 0.9544757033248081, 0.9527009563194624, 0.9545102093564228, 0.9614588722193481, 0.9558861246473455, 0.9601363755573039, 0.9555325749741469, 0.9557522123893806, 0.9597490852064819, 0.9619368203003625, 0.958204334365325, 0.9535778404719158, 0.9622691292875989, 0.9609314359637775, 0.9614281991138911, 0.96066089693155, 0.961488420504814, 0.9524304652976345, 0.9525752167261601, 0.9578892643618404, 0.9594838709677419, 0.9647887323943662, 0.9588034636578326, 0.9565442317640973, 0.9593602517042475, 0.9584319915811629, 0.9584866001050972, 0.9582354476637953, 0.958961038961039, 0.9629437678154963, 0.9517759917033964, 0.9566121070407898, 0.9603362227475702, 0.9580382900603199, 0.960133744855967, 0.9543281996813595, 0.9542947202521671, 0.9545926310326933, 0.9613848202396804, 0.9513960703205792, 0.9606975533576262, 0.9529532088979801, 0.9536699635606455, 0.9620449264136328, 0.9620056862238304, 0.9622199062011464, 0.9606975533576262, 0.9630112008335504, 0.9589994842702424, 0.9580602883355177, 0.9558139534883721, 0.9558253681219323, 0.9577101598762249, 0.9621913580246914, 0.9571428571428572, 0.9571245186136071, 0.9550326797385621, 0.9560696646737717, 0.9549781322356573, 0.962875816993464, 0.9603009859885833, 0.9586842105263158, 0.9556305137519461, 0.958139534883721, 0.9561472200469852, 0.9500392362019356, 0.9543200208822762, 0.9508281573498965, 0.958102766798419, 0.9561835623541612, 0.9546402502606882, 0.955951756685894, 0.9565677966101694, 0.9612970711297071, 0.9514895860796203, 0.9519752130131681, 0.9565550728341427, 0.9546866908337649, 0.9552782111284451, 0.9584301575006455, 0.956442831215971, 0.9552824267782427, 0.9527395481693067, 0.9509829619921363, 0.953909891248058, 0.9593432369038312, 0.9571577847439916, 0.9550326797385621, 0.957823483467847, 0.9542244310750719, 0.9546037445498846, 0.9532974082627662, 0.9558326838139777, 0.9609069585613761, 0.953909891248058, 0.9548674888480714, 0.9585073068893528, 0.9547686740759886, 0.9597402597402598, 0.9518935516888434, 0.9517060367454068, 0.9551892866340458, 0.9565104840797308, 0.9616572310859496, 0.958837149472601, 0.9541381128096995, 0.9540229885057471, 0.9650892164468581, 0.9540109746537758, 0.9614382490880667, 0.9543187188238382, 0.9592419522326064, 0.9569779643231899, 0.9531694695989651, 0.9576446280991735, 0.9522317932654659, 0.9628351473320945, 0.9621403331650682, 0.9619663648124192, 0.9587575045679979, 0.9606155451225874, 0.9575239575239575, 0.958904109589041, 0.9528252980819077, 0.9544033350703491, 0.9598540145985401, 0.9588968443383717, 0.9605873261205564, 0.9591029023746702, 0.9596092925026399, 0.9568252326783868, 0.9616662407360081, 0.960625814863103, 0.9569976544175137, 0.9575033200531209, 0.958377239199157, 0.9611025244719217, 0.9543579164517793, 0.955181347150259, 0.9536891679748822, 0.9544870146567241, 0.9609314359637775, 0.9557453416149069, 0.9602840610205156, 0.9554106910039113, 0.955270729793356, 0.9567483064095883, 0.9563182527301092, 0.9567198177676538, 0.9567949725058916, 0.9590932777488275, 0.9602067183462533, 0.9568877551020408, 0.9611574556830031, 0.9633245382585752, 0.9578947368421052, 0.9655440414507772, 0.952928870292887, 0.9524670627744769, 0.9609069585613761, 0.9528301886792453, 0.9575788929125711, 0.9577754891864058, 0.9568106312292359, 0.9621804903495045, 0.9645833333333333, 0.9521430449645018, 0.9565443663804319, 0.9556142668428005, 0.9583333333333334, 0.958139534883721, 0.964017602899301, 0.9561629706034038, 0.9581042157632889, 0.9572025052192067, 0.9560468140442132, 0.9589689637033141, 0.9587192378936227, 0.9590311775315641, 0.9586842105263158, 0.9581926772266943, 0.9577789150460594, 0.9554173146708139, 0.9567021000777807, 0.964117338920901, 0.953794527620031, 0.9575398867730314, 0.9573744769874477, 0.955333683657383, 0.9522219368096584, 0.9642289348171701, 0.9617515167501979, 0.9610423116615067, 0.9527117285599787, 0.9582265504869297, 0.9569101418812401, 0.9539661898569571, 0.9577610779994817, 0.9548872180451128, 0.9527518172377986, 0.9580073030777256, 0.960656591974987, 0.9596092925026399, 0.9595645412130638, 0.9546866908337649, 0.9580510682647212, 0.9609743321110529, 0.9529657695322707, 0.9625487646293888, 0.9515292897874547, 0.9560669456066946, 0.9574694311536417, 0.9525154004106776, 0.9574303405572755, 0.9545335772145284, 0.9575070821529745, 0.962457337883959, 0.9581960983025082, 0.9597349643221202, 0.9609594284256188, 0.9589994842702424, 0.9520228215767634, 0.9575180226570545, 0.9582366589327146, 0.9596092925026399, 0.9562357703010372, 0.9552199947930227, 0.9611169102296451, 0.9545335772145284, 0.9559207094418362, 0.9566908713692946, 0.9619989588755856, 0.9592993302421432, 0.9573250065053344, 0.957829776292106, 0.9516506368598908, 0.9560010413954699, 0.9511249030256013, 0.9633359153111283, 0.9566683964711987, 0.9584639498432602, 0.9523686254206575, 0.960073548726031, 0.9611600207146557, 0.9616087751371115, 0.9524551831644583, 0.96215655780197, 0.9608457321848082, 0.9570405727923628, 0.9608402489626556, 0.9627507163323782, 0.9576555641621483, 0.9565558754252813, 0.9581070597362297, 0.9583225472430753, 0.9577133907595928, 0.9543017615522084, 0.9593264248704664, 0.957501943508681, 0.9617099396800419, 0.9606668403230008, 0.9582898852971846, 0.9569451563300871, 0.9617099396800419, 0.95822454308094, 0.9539869281045752, 0.9511249030256013, 0.9572178477690289, 0.9579142403388036, 0.9544395547501942, 0.954118873826903, 0.9600515463917526, 0.9603547209181011, 0.9619762027935851, 0.9540923399790137, 0.9606625258799172, 0.9605771708322597, 0.9576983709931687, 0.9521004098360656, 0.9589397089397089, 0.9650892164468581, 0.9537012817159299, 0.9556367432150313, 0.9608348363823757, 0.9591677503250975, 0.9563307493540052, 0.9534397070363588, 0.9575239575239575, 0.9560496380558429, 0.9545216936748563, 0.9600518806744488, 0.955909209496478, 0.9649303764827231, 0.958139534883721, 0.9583551597695128, 0.9575360419397116, 0.9526288391462779, 0.9552658486707567, 0.9600522193211488, 0.9591942148760331, 0.956958762886598, 0.9608146429492137, 0.9537542218758119, 0.951900698215671, 0.9537234042553191, 0.9584866001050972, 0.964622641509434, 0.9539182504556105, 0.962480458572173, 0.9624315157839812, 0.9526383526383526, 0.9560924915562484, 0.9528154327424401, 0.9586624539231174, 0.9577863577863578, 0.9580093312597201, 0.9569190600522193, 0.9618479107189203, 0.9575085774610715, 0.9540229885057471, 0.9549620319455355, 0.9568567026194145, 0.954980595084088, 0.9549713690786049, 0.9598540145985401, 0.9590885551527706, 0.9567233384853169, 0.9607077803799116, 0.9561542525092446, 0.9568123393316196, 0.9524922118380063, 0.9601250977326036, 0.9571502323180175, 0.9564883542359867, 0.9543438559874772, 0.962991718426501, 0.9583225472430753, 0.9572582746937712, 0.9571984435797666, 0.956725755995829, 0.9594028287061289, 0.95510310623858, 0.9596064215432418, 0.9593432369038312, 0.9546866908337649, 0.9540672312034899, 0.9620286776420606, 0.9591145833333333, 0.9590399165144795, 0.9637890317501968, 0.9584205020920502, 0.9571353894406691, 0.9594838709677419, 0.9592842323651453, 0.959125227805259, 0.961599158337717, 0.9535603715170279, 0.9560757496054708, 0.9587096774193549, 0.949528422125924, 0.9516845129276573, 0.9561516636574671, 0.9539508110936682, 0.9635376260667183, 0.9583882012114827, 0.9529689963215975, 0.9550591327201051, 0.9581178903826267, 0.9624741200828157, 0.9559134107708553, 0.9543923296190723, 0.96019643318687, 0.9549085287297089, 0.9575916230366492, 0.9536842105263158, 0.9595015576323987, 0.9617752693689071, 0.9558067831449126, 0.9590078328981724, 0.9538942432925241, 0.9570615623383342, 0.9569527785024785, 0.9574468085106383, 0.9611625514403292, 0.9553548387096774, 0.9610121352956364, 0.9605263157894737, 0.9539661898569571, 0.9588828549262994, 0.9572715572715572, 0.9600103869124903, 0.9610655737704918, 0.9574025974025974, 0.9589147286821705, 0.9583983359334374, 0.9581084554099203, 0.9539422326307572, 0.9616193480546793, 0.9542346133613887, 0.9610121352956364, 0.9509854771784232, 0.957496740547588, 0.9599056603773585, 0.9565895502989342, 0.9557911065149949, 0.9550766034796156, 0.9643223819301848, 0.9548169306673592, 0.9537859007832898, 0.9573693787366779, 0.9559505409582689, 0.957823483467847, 0.9568045797553995, 0.9586330935251799, 0.9663624511082138, 0.9587841318907779, 0.9634369287020109, 0.954020035961983, 0.9516592631303893, 0.9575694080670508, 0.9551892866340458, 0.9579984443868291, 0.9610253727439184, 0.9550532605871654, 0.9525191242416249, 0.9598445595854922, 0.9582685329186107, 0.9540617700493123, 0.9573915302676019, 0.9579611140304782, 0.9589823468328141, 0.9585158464313321, 0.9548270521424884, 0.9572428090178803, 0.9586734693877551, 0.9570170895908856, 0.9595330739299611, 0.9595047717307196, 0.957127827459232, 0.953416149068323, 0.9598958333333333, 0.9515151515151515, 0.9580025608194622, 0.9607032057911065, 0.9628667878473124, 0.965259907359753, 0.9585073068893528, 0.9587548638132296, 0.9641775983854692, 0.9556251631427826, 0.9599479843953186, 0.9583766909469302, 0.9602198377388118, 0.9533865567859903, 0.9576706003078502, 0.9618181818181818, 0.9623180873180873, 0.9534944141335412, 0.9595800524934384, 0.9579163459071081, 0.9497526685758917, 0.9504668049792531, 0.9650918635170603, 0.957296305999476, 0.9581749049429658, 0.9619791666666667, 0.9594272076372315, 0.9614382490880667, 0.9603340292275574, 0.9608559498956158, 0.9603377686796315, 0.9549713690786049, 0.9588828549262994, 0.9568158168574402, 0.9518354595157511, 0.9550882658359294, 0.955082135523614, 0.9529107373868047, 0.9617261751862317, 0.9545454545454546, 0.9622494142150482, 0.9585301837270341, 0.9563846558066211, 0.9521082769390942, 0.9522567179754762, 0.9571094359240967, 0.9588265568708183, 0.9563829787234043, 0.9570282164121149, 0.9547581903276131, 0.9595225739491438, 0.955480343660505, 0.9515463917525773, 0.9615283957079298, 0.9612503229139757, 0.958029197080292, 0.9551148225469729, 0.9491087574270214, 0.9563749675408985, 0.95703125, 0.9566008316008316, 0.9597402597402598, 0.95562435500516, 0.9566126502875065, 0.9561494551115723, 0.9608706918890905, 0.959135866736075, 0.9563543003851092, 0.9577205882352942, 0.9559128630705395, 0.9561538461538461, 0.9561586638830898, 0.9558707643814027, 0.9594558548946386, 0.9602510460251046, 0.9582463465553236, 0.9594629486186419, 0.9567144719687093, 0.960625814863103, 0.9563307493540052, 0.9563068920676203, 0.9586297760210803, 0.9598029045643154, 0.9512383900928792, 0.9523318732285494, 0.9591889784247466, 0.9515023721665788, 0.9545220966084276, 0.9540589924301749, 0.9564214304024609, 0.956282722513089, 0.9590163934426229, 0.9573582943317732, 0.9594489212373278, 0.9611650485436893, 0.9620901639344263, 0.952678107124285, 0.9523310633839707, 0.953778239418333, 0.9609910384818134, 0.9544621826746925, 0.9531578947368421, 0.9637319316688567, 0.9600721277691912, 0.9586242565296095, 0.9582035306334372, 0.9528252980819077, 0.9557338855811546, 0.9547557840616967, 0.9589542483660131, 0.9556019848524419, 0.9590292275574113, 0.956029827719208, 0.9593644178171399, 0.9525291828793774, 0.9551128818061089, 0.9644709543568465, 0.9564183835182251, 0.9623841059602649, 0.9540229885057471, 0.9588716055892433, 0.9540320462306278, 0.9484240687679083, 0.9556251631427826, 0.9596837944664032, 0.9645903334194882, 0.9563854792373988, 0.9647519582245431, 0.9558285415577626, 0.9523316062176166, 0.9647335423197492, 0.9613677890890107, 0.9662458129348106, 0.9571801566579634, 0.9584205020920502, 0.9568080063207796, 0.963513161323951, 0.9534823284823285, 0.9567144719687093, 0.9584091499870029, 0.9565669700910273, 0.956927867151012, 0.9512069851052902, 0.9551382368283776, 0.9551546391752578, 0.9620582120582121, 0.9552393272962484, 0.9509076962413705, 0.945974025974026, 0.9584523500389509, 0.9580653460252122, 0.963302752293578, 0.9633074935400516, 0.96, 0.9564304461942257, 0.9599172485130593, 0.961139896373057, 0.9613463055482514, 0.9633507853403142, 0.9582238570677877, 0.9613577023498695, 0.9587655601659751, 0.9611253196930947, 0.9584216101694916, 0.9545573942737063, 0.9528891202498698, 0.9596564289432588, 0.960691823899371, 0.9538816295157571, 0.954046997389034, 0.9559781193019016, 0.9582668793195109, 0.9602375419571392, 0.9613302397525135, 0.952489837398374, 0.9623726156258166, 0.9587493431424067, 0.9494193548387097, 0.9598635886673662, 0.9550503745802118, 0.9574078912986673, 0.9584199584199584, 0.9553594601609136, 0.952331336285491, 0.9616480953614926, 0.9556189981832338, 0.9634464751958225, 0.9576691925790436, 0.9632390745501286, 0.9582258896338318, 0.9531936901991208, 0.952159296612361, 0.9541094114596836, 0.9661236100336178, 0.9549201442555384, 0.9565907887771308, 0.9621706235324811, 0.9563878912262699, 0.9594420046499612, 0.9583013558454848, 0.9642394402694999, 0.9482623464854978, 0.955863484731845, 0.9566918862509783, 0.9618280965982862, 0.9573312645461598, 0.9581371009942439, 0.968167701863354, 0.9549502357255107, 0.956140350877193, 0.9607336605528287, 0.9575338961371195, 0.9614189539098913, 0.9605998983223183, 0.9585277345775013, 0.9569476669244651, 0.9628378378378378, 0.9543557642149192, 0.9562254259501966, 0.9575679172056921, 0.9586242565296095, 0.956958762886598, 0.9568012342504499, 0.957287082578307, 0.9525660964230172, 0.9546749546749547, 0.9597701149425287, 0.9598958333333333, 0.9578563995837669, 0.9608865710560626, 0.9550945378151261, 0.954980595084088, 0.9649896265560166, 0.9556830031282586, 0.9530236179600311, 0.9634904194717763, 0.9531936901991208, 0.962080450935178, 0.9595256509409642, 0.9550326797385621, 0.9540992305651367, 0.9617983367983368, 0.9535306334371755, 0.959356030614938, 0.9579744192116941, 0.9517819706498952, 0.953778239418333, 0.9601147028154328, 0.9544508068714211, 0.9544621826746925, 0.9579788605310647, 0.9618261542429714, 0.9614482938265173, 0.9636646768751622, 0.9608718487394958, 0.9552356020942409, 0.9518927444794952, 0.9599271402550091, 0.9615284637379776, 0.9643229166666667, 0.9595225739491438, 0.9574025974025974, 0.9541709577754892, 0.9536149261466701, 0.9606712113266911, 0.9547379565907887, 0.9522202025447936, 0.9585384814718839, 0.9603857180088611, 0.956900974858902, 0.9600630583289543, 0.9581622176591376, 0.9524299305734122, 0.9635701275045537, 0.9615283957079298, 0.9528205128205128, 0.9629156010230179, 0.9663974993487887, 0.9611473272490222, 0.9592207792207792, 0.9581503487470938, 0.9560496380558429, 0.9591049382716049, 0.9580962234868081, 0.9579414838035528, 0.9587203302373581, 0.9544860057546429, 0.9556483172449778, 0.955544068234686, 0.9568234387047032, 0.9471766848816029, 0.9587276550998949, 0.9601861427094105, 0.9559551733124837, 0.9583550234252993, 0.9570713721358968, 0.9581689029202841, 0.9596482152095189, 0.9628563955009155, 0.9504004133298889, 0.9589147286821705, 0.9543200208822762, 0.9598214285714286, 0.9576581285938317, 0.9561038961038961, 0.9565330557001561, 0.9537185660781167, 0.9548556430446195, 0.9554980595084088, 0.9554582904222451, 0.9617472215042646, 0.9562024652504589, 0.9615185950413223, 0.9599790740256343, 0.9497632824829038, 0.959379042690815, 0.9578249336870026, 0.9620253164556962, 0.9621036349574633, 0.9545454545454546, 0.9567245400362788, 0.9577685088633994, 0.9618699399320971, 0.9577610779994817, 0.956958762886598, 0.9571017525503531, 0.9574578469520104, 0.957296305999476, 0.9567966280295047, 0.9543686803214934, 0.9539456662354463, 0.9533246414602347, 0.9626846333246956, 0.9558243491980016, 0.9603753910323254, 0.9563329928498467, 0.9558097218611905, 0.9598041741819119, 0.9606540623403168, 0.9529837251356239, 0.9583550234252993, 0.9628088426527959, 0.9565558754252813, 0.955177743431221, 0.96121811556481, 0.9554189085318986, 0.9601043024771838, 0.9594629486186419, 0.9617850730956655, 0.9604743083003953, 0.9546772068511199, 0.9558556219163854, 0.9578125, 0.959968396102186, 0.9634209170530654, 0.9561380742278743, 0.9599068804966373, 0.9573915302676019, 0.9542738373603533, 0.9599483204134367, 0.954369682907966, 0.957815734989648, 0.9588509316770186, 0.9613302397525135, 0.9593301435406698, 0.9564423578508086, 0.9526534859521332, 0.9584301575006455, 0.9542738373603533, 0.9557982319292772, 0.9555155566983801, 0.9588477366255144, 0.9590336134453782, 0.9513020833333333]\n",
            "sd_acc: 0.0034815673900152255\n",
            "sd_f1: 0.0026124648924175414\n",
            "sd_mcc: 0.00807345674217991\n",
            "sd_sn: 0.0034231385893942305\n",
            "sd_sp: 0.0034231385893942305\n",
            "              precision    recall  f1-score   support\n",
            "\n",
            "           0       0.91      0.87      0.89      1821\n",
            "           1       0.94      0.96      0.95      3849\n",
            "\n",
            "    accuracy                           0.93      5670\n",
            "   macro avg       0.92      0.92      0.92      5670\n",
            "weighted avg       0.93      0.93      0.93      5670\n",
            "\n"
          ]
        },
        {
          "data": {
            "text/plain": [
              "(0.0034815673900152255, 0.00807345674217991, 0.0026124648924175414)"
            ]
          },
          "execution_count": 80,
          "metadata": {},
          "output_type": "execute_result"
        }
      ],
      "source": [
        "predicted_training_labels = classifier.predict(train_dataset)\n",
        "error_rate(training_labels, predicted_training_labels)"
      ]
    },
    {
      "cell_type": "code",
      "execution_count": null,
      "id": "ilgVWiL4cGtR",
      "metadata": {
        "colab": {
          "base_uri": "https://localhost:8080/"
        },
        "id": "ilgVWiL4cGtR",
        "outputId": "8f2e989f-356d-4314-8cd5-47524705d8af"
      },
      "outputs": [
        {
          "name": "stdout",
          "output_type": "stream",
          "text": [
            "43/43 [==============================] - 0s 10ms/step\n",
            "acc: 0.8635693215339233\n",
            "f1: 0.9195302305350151\n",
            "mcc: 0.475382650485338\n",
            "sn: [0.8952702702702703, 0.8984641638225256, 0.8975234842015372, 0.9, 0.9235294117647059, 0.9227467811158798, 0.9072512647554806, 0.9063829787234042, 0.9089347079037801, 0.9120689655172414, 0.9171648163962425, 0.9076406381192276, 0.9053356282271945, 0.890295358649789, 0.8994032395566922, 0.9026473099914603, 0.8987993138936535, 0.9196891191709845, 0.9036144578313253, 0.9130060292850991, 0.90754877014419, 0.8946037099494097, 0.9084687767322498, 0.9026845637583892, 0.9195893926432849, 0.909556313993174, 0.9113924050632911, 0.9137785291631445, 0.9031705227077977, 0.9106382978723404, 0.89666951323655, 0.902127659574468, 0.9015979814970564, 0.9025641025641026, 0.9054054054054054, 0.9142857142857143, 0.9084687767322498, 0.9011082693947144, 0.8990342405618964, 0.8992248062015504, 0.9024597116200169, 0.8950988822012038, 0.8975234842015372, 0.9153846153846154, 0.9086993970714901, 0.9015544041450777, 0.8955094991364422, 0.9017933390264731, 0.9123711340206185, 0.8890770533446232, 0.9, 0.888135593220339, 0.8946917808219178, 0.9077834179357022, 0.9143101970865467, 0.9134199134199135, 0.8994032395566922, 0.9138673557278209, 0.90848026868178, 0.8805194805194805, 0.9027072758037225, 0.9004366812227074, 0.8967576791808873, 0.896234309623431, 0.8950511945392492, 0.9119390347163421, 0.9165232358003442, 0.9085570469798657, 0.9134199134199135, 0.9047619047619048, 0.8991596638655462, 0.9055319148936171, 0.8967909800520382, 0.9100932994062765, 0.8938356164383562, 0.8846153846153846, 0.8950511945392492, 0.8894601542416453, 0.9041450777202072, 0.8994932432432432, 0.9178082191780822, 0.9093264248704663, 0.9198966408268734, 0.9131944444444444, 0.8921901528013583, 0.9019607843137255, 0.8992180712423979, 0.8966101694915254, 0.8912671232876712, 0.9026248941574937, 0.8966101694915254, 0.8963153384747216, 0.8961937716262975, 0.9025210084033614, 0.9064377682403434, 0.9094827586206896, 0.9040747028862479, 0.9024807527801539, 0.9100346020761245, 0.8993115318416524, 0.8995708154506438, 0.8946488294314381, 0.9019097222222222, 0.8911917098445595, 0.9015280135823429, 0.9133790737564322, 0.8954081632653061, 0.8902127659574468, 0.9166666666666666, 0.8940170940170941, 0.9152981849611063, 0.9196197061365601, 0.9043478260869565, 0.9019442096365173, 0.8986254295532646, 0.9093242087254063, 0.9074702886247877, 0.897172236503856, 0.9107901444350043, 0.8886075949367088, 0.9176470588235294, 0.9006849315068494, 0.911965811965812, 0.9056444818871103, 0.9120603015075377, 0.9043183742591024, 0.902027027027027, 0.9178662150719729, 0.9033078880407125, 0.9118150684931506, 0.9029209621993127, 0.9052173913043479, 0.9034188034188034, 0.8956743002544529, 0.9209855564995751, 0.9110535405872193, 0.9019097222222222, 0.8896434634974533, 0.8929503916449086, 0.9005190311418685, 0.9009235936188077, 0.908311910882605, 0.9113384484228474, 0.9012658227848102, 0.8980667838312829, 0.90595340811044, 0.9162393162393162, 0.8859118409680208, 0.9218213058419243, 0.8960817717206133, 0.9088586030664395, 0.9041916167664671, 0.902376910016978, 0.8995670995670996, 0.9084745762711864, 0.9079173838209983, 0.9036973344797936, 0.903056768558952, 0.8959587274290628, 0.9096334185848253, 0.9061962134251291, 0.9082251082251083, 0.8943781942078365, 0.8835443037974684, 0.9064080944350759, 0.9115120274914089, 0.91931330472103, 0.8932874354561101, 0.907679033649698, 0.9039932030586236, 0.889948006932409, 0.905982905982906, 0.9087779690189329, 0.9069767441860465, 0.8819982773471146, 0.9097872340425532, 0.8942065491183879, 0.9098712446351931, 0.9076271186440678, 0.9005145797598628, 0.9203849518810149, 0.905254091300603, 0.8973927670311186, 0.9078260869565218, 0.9110535405872193, 0.916595744680851, 0.9016681299385426, 0.8999144568006844, 0.92003367003367, 0.8986371379897785, 0.8970588235294118, 0.9068162208800691, 0.9128595600676819, 0.8889837745516652, 0.9028132992327366, 0.911130284728214, 0.908541846419327, 0.8992314261315115, 0.9200343938091143, 0.8902229845626072, 0.9007029876977153, 0.9010067114093959, 0.9028620988725065, 0.8918454935622318, 0.9030612244897959, 0.9065502183406113, 0.9002557544757033, 0.9043103448275862, 0.909248055315471, 0.9079061685490878, 0.8840579710144928, 0.895742832319722, 0.9100932994062765, 0.9128978224455612, 0.9080168776371308, 0.9086294416243654, 0.9077834179357022, 0.8934010152284264, 0.9033078880407125, 0.9035532994923858, 0.9032534246575342, 0.9245929734361611, 0.8964346349745331, 0.8951817413355875, 0.8995670995670996, 0.8997429305912596, 0.903747870528109, 0.9104991394148021, 0.9121909633418585, 0.9181184668989547, 0.8934010152284264, 0.9009314140558848, 0.9142614601018676, 0.9019097222222222, 0.9006849315068494, 0.892399658411614, 0.893859649122807, 0.9007698887938409, 0.9114359415305245, 0.9117647058823529, 0.8904109589041096, 0.9116638078902229, 0.9083837510803803, 0.9072164948453608, 0.9131556319862425, 0.9093242087254063, 0.9077834179357022, 0.8992314261315115, 0.9014443500424809, 0.8919831223628693, 0.8945111492281304, 0.8943781942078365, 0.9185059422750425, 0.9121909633418585, 0.9173764906303237, 0.9155900086132644, 0.9048442906574394, 0.9083904109589042, 0.9065180102915952, 0.9081545064377683, 0.907391673746814, 0.8970840480274442, 0.8894691035683203, 0.9016115351993215, 0.9111111111111111, 0.9057412167952014, 0.9061433447098977, 0.9110922946655376, 0.9112627986348123, 0.8993174061433447, 0.9091688089117395, 0.888129803586678, 0.897196261682243, 0.8841567291311755, 0.8930434782608696, 0.9065656565656566, 0.9169491525423729, 0.9096385542168675, 0.8879528222409435, 0.8955094991364422, 0.9086206896551724, 0.9121160409556314, 0.9107296137339056, 0.9096334185848253, 0.8905172413793103, 0.9191238416175231, 0.9041916167664671, 0.9102564102564102, 0.9146238377007607, 0.8966101694915254, 0.8929188255613126, 0.9083837510803803, 0.9099405267629567, 0.9137489325362937, 0.883304940374787, 0.8923728813559322, 0.9017241379310345, 0.8980836236933798, 0.9026933101650738, 0.908936170212766, 0.9037294015611448, 0.9060052219321149, 0.9130801687763713, 0.9123711340206185, 0.9151670951156813, 0.8931034482758621, 0.9083904109589042, 0.8939130434782608, 0.9202081526452732, 0.9217687074829932, 0.9061962134251291, 0.9045571797076526, 0.9112833763996555, 0.9083904109589042, 0.9002557544757033, 0.9123404255319149, 0.9111675126903553, 0.9023972602739726, 0.9035621198957429, 0.9070373588184187, 0.9028960817717206, 0.896137339055794, 0.9137055837563451, 0.9066442388561816, 0.9079061685490878, 0.896551724137931, 0.9094754653130288, 0.895458440445587, 0.8920308483290489, 0.9122957867583835, 0.9117395029991431, 0.9077711357813835, 0.9053254437869822, 0.9013490725126475, 0.8995708154506438, 0.9069373942470389, 0.9062233589087809, 0.8982035928143712, 0.9094754653130288, 0.8918228279386712, 0.9000861326442722, 0.9006734006734006, 0.9029535864978903, 0.8994032395566922, 0.9082491582491582, 0.8943722943722944, 0.9198988195615514, 0.9103448275862069, 0.9080068143100511, 0.8995708154506438, 0.9036658141517476, 0.9045996592844975, 0.897370653095844, 0.9027538726333907, 0.9020618556701031, 0.9049235993208828, 0.8908780903665814, 0.9043183742591024, 0.8901830282861897, 0.9072790294627383, 0.9150214592274678, 0.9108494533221194, 0.9050470487596236, 0.9009393680614859, 0.902229845626072, 0.9077586206896552, 0.896845694799659, 0.9097938144329897, 0.9070373588184187, 0.8994032395566922, 0.8973684210526316, 0.8981481481481481, 0.9063032367972743, 0.9056924384027187, 0.905090595340811, 0.8974358974358975, 0.9149484536082474, 0.9158798283261803, 0.8997407087294728, 0.9141156462585034, 0.8997429305912596, 0.9083969465648855, 0.9, 0.8799313893653516, 0.8932536293766012, 0.9128595600676819, 0.9038297872340425, 0.8947826086956522, 0.9046413502109705, 0.9017781541066893, 0.9172354948805461, 0.8912855910267472, 0.9050470487596236, 0.8936905790838375, 0.8983050847457628, 0.9054514480408858, 0.9008547008547009, 0.8961937716262975, 0.9117132867132867, 0.9018087855297158, 0.9024597116200169, 0.9108225108225109, 0.8899317406143344, 0.9148753224419605, 0.9020618556701031, 0.8966101694915254, 0.8946925021061499, 0.9012027491408935, 0.9061433447098977, 0.903471634208298, 0.8867120954003407, 0.921165381319623, 0.9081545064377683, 0.8914529914529915, 0.8985507246376812, 0.9029787234042553, 0.9029535864978903, 0.9163851351351351, 0.8977469670710572, 0.8965811965811966, 0.8989455184534271, 0.9038785834738617, 0.8977853492333902, 0.8950988822012038, 0.895742832319722, 0.9075342465753424, 0.8904923599320883, 0.9019097222222222, 0.8943839061190276, 0.918918918918919, 0.8934142114384749, 0.89666951323655, 0.8973252804141502, 0.9097807757166948, 0.9114359415305245, 0.9065420560747663, 0.9106529209621993, 0.8939779474130619, 0.9011824324324325, 0.9031719532554258, 0.9080851063829787, 0.9138959931798807, 0.9151356080489939, 0.8939393939393939, 0.8980291345329906, 0.8991379310344828, 0.9064625850340136, 0.8968804159445407, 0.9049235993208828, 0.9236641221374046, 0.9064625850340136, 0.9011925042589438, 0.9150943396226415, 0.8930976430976431, 0.9108826049700086, 0.9033898305084745, 0.898981324278438, 0.9087837837837838, 0.9011177987962167, 0.9107142857142857, 0.9000853970964987, 0.9078260869565218, 0.9094827586206896, 0.9096334185848253, 0.9149484536082474, 0.9136325148179509, 0.9236051502145923, 0.8973684210526316, 0.908541846419327, 0.9066551426101987, 0.903471634208298, 0.8887945670628183, 0.8920308483290489, 0.9066780821917808, 0.9153122326775022, 0.911130284728214, 0.9128559102674719, 0.9163851351351351, 0.9001706484641638, 0.9181184668989547, 0.9059024807527801, 0.903448275862069, 0.9039595619208087, 0.8829516539440203, 0.9029045643153527, 0.9, 0.9039792387543253, 0.910267471958585, 0.9113175675675675, 0.910333048676345, 0.8985629754860525, 0.9202037351443124, 0.8997429305912596, 0.9060118543607113, 0.897196261682243, 0.9158163265306123, 0.9108061749571184, 0.8776371308016878, 0.9051724137931034, 0.8922675933970461, 0.9085470085470085, 0.8982758620689655, 0.9094790777113578, 0.9081364829396326, 0.9201388888888888, 0.9088541666666666, 0.9072961373390558, 0.9097938144329897, 0.9063313096270599, 0.9144792548687553, 0.9072340425531915, 0.9164535379369139, 0.9114893617021277, 0.9039932030586236, 0.9178785286569717, 0.90595340811044, 0.8957264957264958, 0.8938356164383562, 0.9147084421235857, 0.8990748528174937, 0.9005102040816326, 0.9134860050890585, 0.9061433447098977, 0.9175965665236051, 0.9075342465753424, 0.8976784178847808, 0.9069373942470389, 0.9021459227467811, 0.8964941569282137, 0.8980291345329906, 0.9091688089117395, 0.9017094017094017, 0.9106382978723404, 0.9078498293515358, 0.8972198820556023, 0.919451585261354, 0.9148753224419605, 0.903448275862069, 0.9021459227467811, 0.8984641638225256, 0.9108225108225109, 0.8923728813559322, 0.9181739879414298, 0.9061707523245984, 0.8998272884283247, 0.9028132992327366, 0.8815566835871405, 0.9122502172024327, 0.9121447028423773, 0.8878504672897196, 0.9138959931798807, 0.9148020654044751, 0.9086294416243654, 0.8904227782571182, 0.8896434634974533, 0.9043183742591024, 0.9046808510638298, 0.8878504672897196, 0.9108225108225109, 0.9009393680614859, 0.9055793991416309, 0.8994032395566922, 0.9070567986230637, 0.9075993091537133, 0.922165820642978, 0.9146551724137931, 0.8957968476357268, 0.9131556319862425, 0.911890504704876, 0.8954081632653061, 0.9131534569983136, 0.9023136246786633, 0.9111111111111111, 0.9129332206255283, 0.9104095563139932, 0.90042194092827, 0.9136630343671417, 0.9015544041450777, 0.8965811965811966, 0.8919382504288165, 0.9210526315789473, 0.9042735042735043, 0.9019776440240757, 0.8983634797588286, 0.9195596951735817, 0.9076923076923077, 0.9105760963026656, 0.8988954970263382, 0.9072961373390558, 0.9011925042589438, 0.909965034965035, 0.9003378378378378, 0.89666951323655, 0.9084628670120898, 0.9180470793374019, 0.9110320284697508, 0.9040622299049266, 0.91396933560477, 0.9168787107718406, 0.8905723905723906, 0.9092465753424658, 0.890742285237698, 0.9053356282271945, 0.9058721934369602, 0.9114035087719298, 0.9055459272097054, 0.9074702886247877, 0.9006908462867013, 0.9136325148179509, 0.8981164383561644, 0.8922413793103449, 0.9090909090909091, 0.9131190269331017, 0.8999144568006844, 0.8950563746747615, 0.9090909090909091, 0.8980458793542906, 0.9044750430292599, 0.9028960817717206, 0.9052997393570807, 0.9096334185848253, 0.9063829787234042, 0.9047619047619048, 0.9122957867583835, 0.9190110826939472, 0.923407917383821, 0.9051651143099069, 0.9185441941074524, 0.8951890034364262, 0.909248055315471, 0.9, 0.9133790737564322, 0.9095652173913044, 0.9157986111111112, 0.9105125977410947, 0.894869638351556, 0.9033333333333333, 0.8981164383561644, 0.9049235993208828, 0.8947368421052632, 0.9038961038961039, 0.9173060528559249, 0.9049657534246576, 0.902542372881356, 0.901541095890411, 0.9082251082251083, 0.9012027491408935, 0.8996598639455783, 0.8954970263381479, 0.9052092228864219, 0.8980623420387531, 0.9003407155025553, 0.9017781541066893, 0.9083191850594228, 0.9057591623036649, 0.9119127516778524, 0.8870547350130321, 0.9007633587786259, 0.8976109215017065, 0.885593220338983, 0.9068162208800691, 0.9249578414839797, 0.9011177987962167, 0.8989637305699482, 0.9072961373390558, 0.909704641350211, 0.9164535379369139, 0.9010416666666666, 0.8849785407725322, 0.8930390492359932, 0.8997451146983857, 0.9056924384027187, 0.8955857385398981, 0.9112426035502958, 0.9048843187660668, 0.913338997451147, 0.9061707523245984, 0.9057724957555179, 0.8979057591623036, 0.9190353143841516, 0.9090909090909091, 0.9151670951156813, 0.9019947961838681, 0.9094827586206896, 0.9050847457627119, 0.8928262748487468, 0.9124579124579124, 0.902333621434745, 0.9083904109589042, 0.8954468802698144, 0.9092436974789916, 0.8945147679324894, 0.9005947323704333, 0.89748045178106, 0.9024807527801539, 0.8993981083404987, 0.9067796610169492, 0.9167389418907199, 0.8976982097186701, 0.9004291845493563, 0.9027303754266212, 0.895458440445587, 0.9001706484641638, 0.9039451114922813, 0.8939393939393939, 0.9090909090909091, 0.9172297297297297, 0.893859649122807, 0.9125636672325976, 0.8983634797588286, 0.9076655052264808, 0.9032534246575342, 0.9028132992327366, 0.9113814074717637, 0.9026248941574937, 0.9039451114922813, 0.91928632115548, 0.9050086355785838, 0.9156829679595279, 0.911993097497843, 0.9060913705583756, 0.9056277056277057, 0.9081632653061225, 0.9034188034188034, 0.9064625850340136, 0.9048034934497816, 0.8953687821612349, 0.9068994181213632, 0.9137353433835846, 0.9116397621070518, 0.9112627986348123, 0.9129310344827586, 0.8958333333333334, 0.9123263888888888, 0.9027303754266212, 0.9068162208800691, 0.8902127659574468, 0.903747870528109, 0.8988095238095238, 0.8865979381443299, 0.9019607843137255, 0.9040747028862479, 0.8969957081545065, 0.9168096054888508, 0.9045996592844975, 0.8969335604770017, 0.8963093145869947, 0.9144792548687553, 0.9151823579304496, 0.9068162208800691, 0.9133858267716536, 0.9008474576271186, 0.8907563025210085, 0.9074550128534704, 0.9045183290707587, 0.9100169779286927, 0.9114671163575042, 0.9069965870307167, 0.9009393680614859, 0.9064935064935065, 0.9051580698835274, 0.9182282793867121, 0.9045571797076526, 0.9122657580919932, 0.9067579127459366, 0.9078380706287683, 0.9075, 0.9150382327952421, 0.9080659150043365, 0.909556313993174, 0.9106678230702515, 0.9153122326775022, 0.8979238754325259, 0.9077711357813835, 0.9045996592844975, 0.9129707112970711, 0.9138225255972696, 0.919104991394148, 0.8920800696257616, 0.9183318853171155, 0.9127459366980325, 0.9059322033898305, 0.9072961373390558, 0.9117147707979627, 0.9012765957446809, 0.9302721088435374, 0.9038297872340425, 0.9042735042735043, 0.9082412914188616, 0.9145374449339208, 0.90595340811044, 0.8981001727115717, 0.902542372881356, 0.907679033649698, 0.8938879456706282, 0.9036144578313253, 0.9012987012987013, 0.9156414762741653, 0.9094017094017094, 0.9269521410579346, 0.9026933101650738, 0.9005998286203942, 0.8917306052855924, 0.9258943781942078, 0.8905172413793103, 0.9098639455782312, 0.8955479452054794, 0.8994932432432432, 0.9063291139240506, 0.907439446366782, 0.9091688089117395, 0.8908780903665814, 0.8979947689625108, 0.8975903614457831, 0.8972366148531952, 0.9183673469387755, 0.9062768701633706, 0.9050470487596236, 0.9144568006843456, 0.9011177987962167, 0.8915456874466268, 0.8899237933954276, 0.8970212765957447, 0.906896551724138, 0.9032534246575342, 0.8994082840236687, 0.9045226130653267, 0.9110169491525424, 0.8987447698744769, 0.90595340811044, 0.8978354978354979, 0.9137489325362937, 0.9160173160173161, 0.8942390369733448, 0.887489504617968, 0.9082969432314411, 0.900418410041841, 0.8847457627118644, 0.9184735472679966, 0.9125964010282777, 0.9014443500424809, 0.9033078880407125, 0.9183147033533964, 0.9153577661431065, 0.9081632653061225, 0.9056603773584906, 0.9050131926121372, 0.9019097222222222, 0.9005998286203942, 0.9009474590869939, 0.9128949615713066, 0.8959390862944162, 0.9186923721709975, 0.896551724137931, 0.8989547038327527, 0.908936170212766, 0.899067005937235, 0.9081632653061225, 0.9128595600676819, 0.9136442141623489, 0.9153976311336718, 0.9244288224956063, 0.8888888888888888, 0.9114671163575042, 0.897766323024055, 0.9055793991416309, 0.9048821548821548, 0.8967851099830795, 0.8916382252559727, 0.9106529209621993, 0.8976109215017065, 0.9101027397260274, 0.9009474590869939, 0.9087779690189329, 0.913527397260274, 0.9068585944115156, 0.9026086956521739, 0.903035413153457, 0.9105485232067511, 0.8860325621251071, 0.8896377422072451, 0.8873362445414847, 0.9023136246786633, 0.8909710391822828, 0.9024807527801539, 0.9104859335038363, 0.913338997451147, 0.8977176669484361, 0.9155172413793103, 0.901541095890411, 0.8993928881179531, 0.8901192504258943, 0.9064869418702611, 0.8961702127659574, 0.8881524440762221, 0.8856900931414056, 0.8950988822012038, 0.9151823579304496, 0.8989983305509182, 0.9046793760831889, 0.8985629754860525, 0.9120879120879121, 0.8950988822012038, 0.9046793760831889, 0.9082332761578045, 0.9083044982698962, 0.9152397260273972, 0.8991379310344828, 0.9112271540469974, 0.9162348877374784, 0.9083904109589042, 0.8989455184534271, 0.8931297709923665, 0.897766323024055, 0.8882252559726962, 0.9010989010989011, 0.8939264328485885, 0.9146551724137931, 0.9063829787234042, 0.8920552677029361, 0.8943781942078365, 0.9079173838209983, 0.8936708860759494, 0.9120135363790186, 0.9110922946655376, 0.9014693171996543, 0.8877721943048577, 0.904639175257732, 0.90625, 0.9025641025641026, 0.9018771331058021, 0.9027538726333907, 0.8894601542416453, 0.918825561312608, 0.9119170984455959, 0.9063573883161512, 0.9247404844290658, 0.9098786828422877, 0.9079391891891891, 0.896845694799659, 0.8993981083404987, 0.9056277056277057, 0.897133220910624, 0.9030303030303031, 0.8963153384747216, 0.9012765957446809, 0.8995744680851064, 0.9041916167664671, 0.896551724137931, 0.908703071672355, 0.9039792387543253, 0.8987234042553192, 0.9068791946308725, 0.9028620988725065, 0.8974358974358975, 0.9092436974789916, 0.8955613577023499, 0.905852417302799, 0.896943231441048, 0.8976510067114094, 0.9241261722080136, 0.9104220499569337, 0.8981324278438031, 0.9016253207869974, 0.9148753224419605, 0.9018771331058021, 0.9054640069384216, 0.9078380706287683, 0.8939393939393939, 0.8990590248075278, 0.899913718723037, 0.9020797227036396, 0.8954191875540191, 0.9175965665236051, 0.9017781541066893, 0.8984238178633975, 0.9036973344797936, 0.9007765314926661, 0.902229845626072, 0.9128205128205128, 0.8921232876712328, 0.9144792548687553, 0.907439446366782, 0.8958509737510584, 0.9021645021645022, 0.898972602739726, 0.9090909090909091, 0.8946917808219178, 0.8960817717206133, 0.9077711357813835, 0.9083837510803803, 0.9093220338983051, 0.9080756013745704, 0.9117395029991431, 0.9080851063829787, 0.9039932030586236, 0.9006849315068494, 0.9105760963026656, 0.9077586206896552, 0.8948275862068965]\n",
            "sp: [0.8952702702702703, 0.8984641638225256, 0.8975234842015372, 0.9, 0.9235294117647059, 0.9227467811158798, 0.9072512647554806, 0.9063829787234042, 0.9089347079037801, 0.9120689655172414, 0.9171648163962425, 0.9076406381192276, 0.9053356282271945, 0.890295358649789, 0.8994032395566922, 0.9026473099914603, 0.8987993138936535, 0.9196891191709845, 0.9036144578313253, 0.9130060292850991, 0.90754877014419, 0.8946037099494097, 0.9084687767322498, 0.9026845637583892, 0.9195893926432849, 0.909556313993174, 0.9113924050632911, 0.9137785291631445, 0.9031705227077977, 0.9106382978723404, 0.89666951323655, 0.902127659574468, 0.9015979814970564, 0.9025641025641026, 0.9054054054054054, 0.9142857142857143, 0.9084687767322498, 0.9011082693947144, 0.8990342405618964, 0.8992248062015504, 0.9024597116200169, 0.8950988822012038, 0.8975234842015372, 0.9153846153846154, 0.9086993970714901, 0.9015544041450777, 0.8955094991364422, 0.9017933390264731, 0.9123711340206185, 0.8890770533446232, 0.9, 0.888135593220339, 0.8946917808219178, 0.9077834179357022, 0.9143101970865467, 0.9134199134199135, 0.8994032395566922, 0.9138673557278209, 0.90848026868178, 0.8805194805194805, 0.9027072758037225, 0.9004366812227074, 0.8967576791808873, 0.896234309623431, 0.8950511945392492, 0.9119390347163421, 0.9165232358003442, 0.9085570469798657, 0.9134199134199135, 0.9047619047619048, 0.8991596638655462, 0.9055319148936171, 0.8967909800520382, 0.9100932994062765, 0.8938356164383562, 0.8846153846153846, 0.8950511945392492, 0.8894601542416453, 0.9041450777202072, 0.8994932432432432, 0.9178082191780822, 0.9093264248704663, 0.9198966408268734, 0.9131944444444444, 0.8921901528013583, 0.9019607843137255, 0.8992180712423979, 0.8966101694915254, 0.8912671232876712, 0.9026248941574937, 0.8966101694915254, 0.8963153384747216, 0.8961937716262975, 0.9025210084033614, 0.9064377682403434, 0.9094827586206896, 0.9040747028862479, 0.9024807527801539, 0.9100346020761245, 0.8993115318416524, 0.8995708154506438, 0.8946488294314381, 0.9019097222222222, 0.8911917098445595, 0.9015280135823429, 0.9133790737564322, 0.8954081632653061, 0.8902127659574468, 0.9166666666666666, 0.8940170940170941, 0.9152981849611063, 0.9196197061365601, 0.9043478260869565, 0.9019442096365173, 0.8986254295532646, 0.9093242087254063, 0.9074702886247877, 0.897172236503856, 0.9107901444350043, 0.8886075949367088, 0.9176470588235294, 0.9006849315068494, 0.911965811965812, 0.9056444818871103, 0.9120603015075377, 0.9043183742591024, 0.902027027027027, 0.9178662150719729, 0.9033078880407125, 0.9118150684931506, 0.9029209621993127, 0.9052173913043479, 0.9034188034188034, 0.8956743002544529, 0.9209855564995751, 0.9110535405872193, 0.9019097222222222, 0.8896434634974533, 0.8929503916449086, 0.9005190311418685, 0.9009235936188077, 0.908311910882605, 0.9113384484228474, 0.9012658227848102, 0.8980667838312829, 0.90595340811044, 0.9162393162393162, 0.8859118409680208, 0.9218213058419243, 0.8960817717206133, 0.9088586030664395, 0.9041916167664671, 0.902376910016978, 0.8995670995670996, 0.9084745762711864, 0.9079173838209983, 0.9036973344797936, 0.903056768558952, 0.8959587274290628, 0.9096334185848253, 0.9061962134251291, 0.9082251082251083, 0.8943781942078365, 0.8835443037974684, 0.9064080944350759, 0.9115120274914089, 0.91931330472103, 0.8932874354561101, 0.907679033649698, 0.9039932030586236, 0.889948006932409, 0.905982905982906, 0.9087779690189329, 0.9069767441860465, 0.8819982773471146, 0.9097872340425532, 0.8942065491183879, 0.9098712446351931, 0.9076271186440678, 0.9005145797598628, 0.9203849518810149, 0.905254091300603, 0.8973927670311186, 0.9078260869565218, 0.9110535405872193, 0.916595744680851, 0.9016681299385426, 0.8999144568006844, 0.92003367003367, 0.8986371379897785, 0.8970588235294118, 0.9068162208800691, 0.9128595600676819, 0.8889837745516652, 0.9028132992327366, 0.911130284728214, 0.908541846419327, 0.8992314261315115, 0.9200343938091143, 0.8902229845626072, 0.9007029876977153, 0.9010067114093959, 0.9028620988725065, 0.8918454935622318, 0.9030612244897959, 0.9065502183406113, 0.9002557544757033, 0.9043103448275862, 0.909248055315471, 0.9079061685490878, 0.8840579710144928, 0.895742832319722, 0.9100932994062765, 0.9128978224455612, 0.9080168776371308, 0.9086294416243654, 0.9077834179357022, 0.8934010152284264, 0.9033078880407125, 0.9035532994923858, 0.9032534246575342, 0.9245929734361611, 0.8964346349745331, 0.8951817413355875, 0.8995670995670996, 0.8997429305912596, 0.903747870528109, 0.9104991394148021, 0.9121909633418585, 0.9181184668989547, 0.8934010152284264, 0.9009314140558848, 0.9142614601018676, 0.9019097222222222, 0.9006849315068494, 0.892399658411614, 0.893859649122807, 0.9007698887938409, 0.9114359415305245, 0.9117647058823529, 0.8904109589041096, 0.9116638078902229, 0.9083837510803803, 0.9072164948453608, 0.9131556319862425, 0.9093242087254063, 0.9077834179357022, 0.8992314261315115, 0.9014443500424809, 0.8919831223628693, 0.8945111492281304, 0.8943781942078365, 0.9185059422750425, 0.9121909633418585, 0.9173764906303237, 0.9155900086132644, 0.9048442906574394, 0.9083904109589042, 0.9065180102915952, 0.9081545064377683, 0.907391673746814, 0.8970840480274442, 0.8894691035683203, 0.9016115351993215, 0.9111111111111111, 0.9057412167952014, 0.9061433447098977, 0.9110922946655376, 0.9112627986348123, 0.8993174061433447, 0.9091688089117395, 0.888129803586678, 0.897196261682243, 0.8841567291311755, 0.8930434782608696, 0.9065656565656566, 0.9169491525423729, 0.9096385542168675, 0.8879528222409435, 0.8955094991364422, 0.9086206896551724, 0.9121160409556314, 0.9107296137339056, 0.9096334185848253, 0.8905172413793103, 0.9191238416175231, 0.9041916167664671, 0.9102564102564102, 0.9146238377007607, 0.8966101694915254, 0.8929188255613126, 0.9083837510803803, 0.9099405267629567, 0.9137489325362937, 0.883304940374787, 0.8923728813559322, 0.9017241379310345, 0.8980836236933798, 0.9026933101650738, 0.908936170212766, 0.9037294015611448, 0.9060052219321149, 0.9130801687763713, 0.9123711340206185, 0.9151670951156813, 0.8931034482758621, 0.9083904109589042, 0.8939130434782608, 0.9202081526452732, 0.9217687074829932, 0.9061962134251291, 0.9045571797076526, 0.9112833763996555, 0.9083904109589042, 0.9002557544757033, 0.9123404255319149, 0.9111675126903553, 0.9023972602739726, 0.9035621198957429, 0.9070373588184187, 0.9028960817717206, 0.896137339055794, 0.9137055837563451, 0.9066442388561816, 0.9079061685490878, 0.896551724137931, 0.9094754653130288, 0.895458440445587, 0.8920308483290489, 0.9122957867583835, 0.9117395029991431, 0.9077711357813835, 0.9053254437869822, 0.9013490725126475, 0.8995708154506438, 0.9069373942470389, 0.9062233589087809, 0.8982035928143712, 0.9094754653130288, 0.8918228279386712, 0.9000861326442722, 0.9006734006734006, 0.9029535864978903, 0.8994032395566922, 0.9082491582491582, 0.8943722943722944, 0.9198988195615514, 0.9103448275862069, 0.9080068143100511, 0.8995708154506438, 0.9036658141517476, 0.9045996592844975, 0.897370653095844, 0.9027538726333907, 0.9020618556701031, 0.9049235993208828, 0.8908780903665814, 0.9043183742591024, 0.8901830282861897, 0.9072790294627383, 0.9150214592274678, 0.9108494533221194, 0.9050470487596236, 0.9009393680614859, 0.902229845626072, 0.9077586206896552, 0.896845694799659, 0.9097938144329897, 0.9070373588184187, 0.8994032395566922, 0.8973684210526316, 0.8981481481481481, 0.9063032367972743, 0.9056924384027187, 0.905090595340811, 0.8974358974358975, 0.9149484536082474, 0.9158798283261803, 0.8997407087294728, 0.9141156462585034, 0.8997429305912596, 0.9083969465648855, 0.9, 0.8799313893653516, 0.8932536293766012, 0.9128595600676819, 0.9038297872340425, 0.8947826086956522, 0.9046413502109705, 0.9017781541066893, 0.9172354948805461, 0.8912855910267472, 0.9050470487596236, 0.8936905790838375, 0.8983050847457628, 0.9054514480408858, 0.9008547008547009, 0.8961937716262975, 0.9117132867132867, 0.9018087855297158, 0.9024597116200169, 0.9108225108225109, 0.8899317406143344, 0.9148753224419605, 0.9020618556701031, 0.8966101694915254, 0.8946925021061499, 0.9012027491408935, 0.9061433447098977, 0.903471634208298, 0.8867120954003407, 0.921165381319623, 0.9081545064377683, 0.8914529914529915, 0.8985507246376812, 0.9029787234042553, 0.9029535864978903, 0.9163851351351351, 0.8977469670710572, 0.8965811965811966, 0.8989455184534271, 0.9038785834738617, 0.8977853492333902, 0.8950988822012038, 0.895742832319722, 0.9075342465753424, 0.8904923599320883, 0.9019097222222222, 0.8943839061190276, 0.918918918918919, 0.8934142114384749, 0.89666951323655, 0.8973252804141502, 0.9097807757166948, 0.9114359415305245, 0.9065420560747663, 0.9106529209621993, 0.8939779474130619, 0.9011824324324325, 0.9031719532554258, 0.9080851063829787, 0.9138959931798807, 0.9151356080489939, 0.8939393939393939, 0.8980291345329906, 0.8991379310344828, 0.9064625850340136, 0.8968804159445407, 0.9049235993208828, 0.9236641221374046, 0.9064625850340136, 0.9011925042589438, 0.9150943396226415, 0.8930976430976431, 0.9108826049700086, 0.9033898305084745, 0.898981324278438, 0.9087837837837838, 0.9011177987962167, 0.9107142857142857, 0.9000853970964987, 0.9078260869565218, 0.9094827586206896, 0.9096334185848253, 0.9149484536082474, 0.9136325148179509, 0.9236051502145923, 0.8973684210526316, 0.908541846419327, 0.9066551426101987, 0.903471634208298, 0.8887945670628183, 0.8920308483290489, 0.9066780821917808, 0.9153122326775022, 0.911130284728214, 0.9128559102674719, 0.9163851351351351, 0.9001706484641638, 0.9181184668989547, 0.9059024807527801, 0.903448275862069, 0.9039595619208087, 0.8829516539440203, 0.9029045643153527, 0.9, 0.9039792387543253, 0.910267471958585, 0.9113175675675675, 0.910333048676345, 0.8985629754860525, 0.9202037351443124, 0.8997429305912596, 0.9060118543607113, 0.897196261682243, 0.9158163265306123, 0.9108061749571184, 0.8776371308016878, 0.9051724137931034, 0.8922675933970461, 0.9085470085470085, 0.8982758620689655, 0.9094790777113578, 0.9081364829396326, 0.9201388888888888, 0.9088541666666666, 0.9072961373390558, 0.9097938144329897, 0.9063313096270599, 0.9144792548687553, 0.9072340425531915, 0.9164535379369139, 0.9114893617021277, 0.9039932030586236, 0.9178785286569717, 0.90595340811044, 0.8957264957264958, 0.8938356164383562, 0.9147084421235857, 0.8990748528174937, 0.9005102040816326, 0.9134860050890585, 0.9061433447098977, 0.9175965665236051, 0.9075342465753424, 0.8976784178847808, 0.9069373942470389, 0.9021459227467811, 0.8964941569282137, 0.8980291345329906, 0.9091688089117395, 0.9017094017094017, 0.9106382978723404, 0.9078498293515358, 0.8972198820556023, 0.919451585261354, 0.9148753224419605, 0.903448275862069, 0.9021459227467811, 0.8984641638225256, 0.9108225108225109, 0.8923728813559322, 0.9181739879414298, 0.9061707523245984, 0.8998272884283247, 0.9028132992327366, 0.8815566835871405, 0.9122502172024327, 0.9121447028423773, 0.8878504672897196, 0.9138959931798807, 0.9148020654044751, 0.9086294416243654, 0.8904227782571182, 0.8896434634974533, 0.9043183742591024, 0.9046808510638298, 0.8878504672897196, 0.9108225108225109, 0.9009393680614859, 0.9055793991416309, 0.8994032395566922, 0.9070567986230637, 0.9075993091537133, 0.922165820642978, 0.9146551724137931, 0.8957968476357268, 0.9131556319862425, 0.911890504704876, 0.8954081632653061, 0.9131534569983136, 0.9023136246786633, 0.9111111111111111, 0.9129332206255283, 0.9104095563139932, 0.90042194092827, 0.9136630343671417, 0.9015544041450777, 0.8965811965811966, 0.8919382504288165, 0.9210526315789473, 0.9042735042735043, 0.9019776440240757, 0.8983634797588286, 0.9195596951735817, 0.9076923076923077, 0.9105760963026656, 0.8988954970263382, 0.9072961373390558, 0.9011925042589438, 0.909965034965035, 0.9003378378378378, 0.89666951323655, 0.9084628670120898, 0.9180470793374019, 0.9110320284697508, 0.9040622299049266, 0.91396933560477, 0.9168787107718406, 0.8905723905723906, 0.9092465753424658, 0.890742285237698, 0.9053356282271945, 0.9058721934369602, 0.9114035087719298, 0.9055459272097054, 0.9074702886247877, 0.9006908462867013, 0.9136325148179509, 0.8981164383561644, 0.8922413793103449, 0.9090909090909091, 0.9131190269331017, 0.8999144568006844, 0.8950563746747615, 0.9090909090909091, 0.8980458793542906, 0.9044750430292599, 0.9028960817717206, 0.9052997393570807, 0.9096334185848253, 0.9063829787234042, 0.9047619047619048, 0.9122957867583835, 0.9190110826939472, 0.923407917383821, 0.9051651143099069, 0.9185441941074524, 0.8951890034364262, 0.909248055315471, 0.9, 0.9133790737564322, 0.9095652173913044, 0.9157986111111112, 0.9105125977410947, 0.894869638351556, 0.9033333333333333, 0.8981164383561644, 0.9049235993208828, 0.8947368421052632, 0.9038961038961039, 0.9173060528559249, 0.9049657534246576, 0.902542372881356, 0.901541095890411, 0.9082251082251083, 0.9012027491408935, 0.8996598639455783, 0.8954970263381479, 0.9052092228864219, 0.8980623420387531, 0.9003407155025553, 0.9017781541066893, 0.9083191850594228, 0.9057591623036649, 0.9119127516778524, 0.8870547350130321, 0.9007633587786259, 0.8976109215017065, 0.885593220338983, 0.9068162208800691, 0.9249578414839797, 0.9011177987962167, 0.8989637305699482, 0.9072961373390558, 0.909704641350211, 0.9164535379369139, 0.9010416666666666, 0.8849785407725322, 0.8930390492359932, 0.8997451146983857, 0.9056924384027187, 0.8955857385398981, 0.9112426035502958, 0.9048843187660668, 0.913338997451147, 0.9061707523245984, 0.9057724957555179, 0.8979057591623036, 0.9190353143841516, 0.9090909090909091, 0.9151670951156813, 0.9019947961838681, 0.9094827586206896, 0.9050847457627119, 0.8928262748487468, 0.9124579124579124, 0.902333621434745, 0.9083904109589042, 0.8954468802698144, 0.9092436974789916, 0.8945147679324894, 0.9005947323704333, 0.89748045178106, 0.9024807527801539, 0.8993981083404987, 0.9067796610169492, 0.9167389418907199, 0.8976982097186701, 0.9004291845493563, 0.9027303754266212, 0.895458440445587, 0.9001706484641638, 0.9039451114922813, 0.8939393939393939, 0.9090909090909091, 0.9172297297297297, 0.893859649122807, 0.9125636672325976, 0.8983634797588286, 0.9076655052264808, 0.9032534246575342, 0.9028132992327366, 0.9113814074717637, 0.9026248941574937, 0.9039451114922813, 0.91928632115548, 0.9050086355785838, 0.9156829679595279, 0.911993097497843, 0.9060913705583756, 0.9056277056277057, 0.9081632653061225, 0.9034188034188034, 0.9064625850340136, 0.9048034934497816, 0.8953687821612349, 0.9068994181213632, 0.9137353433835846, 0.9116397621070518, 0.9112627986348123, 0.9129310344827586, 0.8958333333333334, 0.9123263888888888, 0.9027303754266212, 0.9068162208800691, 0.8902127659574468, 0.903747870528109, 0.8988095238095238, 0.8865979381443299, 0.9019607843137255, 0.9040747028862479, 0.8969957081545065, 0.9168096054888508, 0.9045996592844975, 0.8969335604770017, 0.8963093145869947, 0.9144792548687553, 0.9151823579304496, 0.9068162208800691, 0.9133858267716536, 0.9008474576271186, 0.8907563025210085, 0.9074550128534704, 0.9045183290707587, 0.9100169779286927, 0.9114671163575042, 0.9069965870307167, 0.9009393680614859, 0.9064935064935065, 0.9051580698835274, 0.9182282793867121, 0.9045571797076526, 0.9122657580919932, 0.9067579127459366, 0.9078380706287683, 0.9075, 0.9150382327952421, 0.9080659150043365, 0.909556313993174, 0.9106678230702515, 0.9153122326775022, 0.8979238754325259, 0.9077711357813835, 0.9045996592844975, 0.9129707112970711, 0.9138225255972696, 0.919104991394148, 0.8920800696257616, 0.9183318853171155, 0.9127459366980325, 0.9059322033898305, 0.9072961373390558, 0.9117147707979627, 0.9012765957446809, 0.9302721088435374, 0.9038297872340425, 0.9042735042735043, 0.9082412914188616, 0.9145374449339208, 0.90595340811044, 0.8981001727115717, 0.902542372881356, 0.907679033649698, 0.8938879456706282, 0.9036144578313253, 0.9012987012987013, 0.9156414762741653, 0.9094017094017094, 0.9269521410579346, 0.9026933101650738, 0.9005998286203942, 0.8917306052855924, 0.9258943781942078, 0.8905172413793103, 0.9098639455782312, 0.8955479452054794, 0.8994932432432432, 0.9063291139240506, 0.907439446366782, 0.9091688089117395, 0.8908780903665814, 0.8979947689625108, 0.8975903614457831, 0.8972366148531952, 0.9183673469387755, 0.9062768701633706, 0.9050470487596236, 0.9144568006843456, 0.9011177987962167, 0.8915456874466268, 0.8899237933954276, 0.8970212765957447, 0.906896551724138, 0.9032534246575342, 0.8994082840236687, 0.9045226130653267, 0.9110169491525424, 0.8987447698744769, 0.90595340811044, 0.8978354978354979, 0.9137489325362937, 0.9160173160173161, 0.8942390369733448, 0.887489504617968, 0.9082969432314411, 0.900418410041841, 0.8847457627118644, 0.9184735472679966, 0.9125964010282777, 0.9014443500424809, 0.9033078880407125, 0.9183147033533964, 0.9153577661431065, 0.9081632653061225, 0.9056603773584906, 0.9050131926121372, 0.9019097222222222, 0.9005998286203942, 0.9009474590869939, 0.9128949615713066, 0.8959390862944162, 0.9186923721709975, 0.896551724137931, 0.8989547038327527, 0.908936170212766, 0.899067005937235, 0.9081632653061225, 0.9128595600676819, 0.9136442141623489, 0.9153976311336718, 0.9244288224956063, 0.8888888888888888, 0.9114671163575042, 0.897766323024055, 0.9055793991416309, 0.9048821548821548, 0.8967851099830795, 0.8916382252559727, 0.9106529209621993, 0.8976109215017065, 0.9101027397260274, 0.9009474590869939, 0.9087779690189329, 0.913527397260274, 0.9068585944115156, 0.9026086956521739, 0.903035413153457, 0.9105485232067511, 0.8860325621251071, 0.8896377422072451, 0.8873362445414847, 0.9023136246786633, 0.8909710391822828, 0.9024807527801539, 0.9104859335038363, 0.913338997451147, 0.8977176669484361, 0.9155172413793103, 0.901541095890411, 0.8993928881179531, 0.8901192504258943, 0.9064869418702611, 0.8961702127659574, 0.8881524440762221, 0.8856900931414056, 0.8950988822012038, 0.9151823579304496, 0.8989983305509182, 0.9046793760831889, 0.8985629754860525, 0.9120879120879121, 0.8950988822012038, 0.9046793760831889, 0.9082332761578045, 0.9083044982698962, 0.9152397260273972, 0.8991379310344828, 0.9112271540469974, 0.9162348877374784, 0.9083904109589042, 0.8989455184534271, 0.8931297709923665, 0.897766323024055, 0.8882252559726962, 0.9010989010989011, 0.8939264328485885, 0.9146551724137931, 0.9063829787234042, 0.8920552677029361, 0.8943781942078365, 0.9079173838209983, 0.8936708860759494, 0.9120135363790186, 0.9110922946655376, 0.9014693171996543, 0.8877721943048577, 0.904639175257732, 0.90625, 0.9025641025641026, 0.9018771331058021, 0.9027538726333907, 0.8894601542416453, 0.918825561312608, 0.9119170984455959, 0.9063573883161512, 0.9247404844290658, 0.9098786828422877, 0.9079391891891891, 0.896845694799659, 0.8993981083404987, 0.9056277056277057, 0.897133220910624, 0.9030303030303031, 0.8963153384747216, 0.9012765957446809, 0.8995744680851064, 0.9041916167664671, 0.896551724137931, 0.908703071672355, 0.9039792387543253, 0.8987234042553192, 0.9068791946308725, 0.9028620988725065, 0.8974358974358975, 0.9092436974789916, 0.8955613577023499, 0.905852417302799, 0.896943231441048, 0.8976510067114094, 0.9241261722080136, 0.9104220499569337, 0.8981324278438031, 0.9016253207869974, 0.9148753224419605, 0.9018771331058021, 0.9054640069384216, 0.9078380706287683, 0.8939393939393939, 0.8990590248075278, 0.899913718723037, 0.9020797227036396, 0.8954191875540191, 0.9175965665236051, 0.9017781541066893, 0.8984238178633975, 0.9036973344797936, 0.9007765314926661, 0.902229845626072, 0.9128205128205128, 0.8921232876712328, 0.9144792548687553, 0.907439446366782, 0.8958509737510584, 0.9021645021645022, 0.898972602739726, 0.9090909090909091, 0.8946917808219178, 0.8960817717206133, 0.9077711357813835, 0.9083837510803803, 0.9093220338983051, 0.9080756013745704, 0.9117395029991431, 0.9080851063829787, 0.9039932030586236, 0.9006849315068494, 0.9105760963026656, 0.9077586206896552, 0.8948275862068965]\n",
            "sd_acc: 0.008888448344366223\n",
            "sd_f1: 0.005595985792235228\n",
            "sd_mcc: 0.03238416673708293\n",
            "sd_sn: 0.008312620166897778\n",
            "sd_sp: 0.008312620166897778\n",
            "              precision    recall  f1-score   support\n",
            "\n",
            "           0       0.50      0.61      0.55       187\n",
            "           1       0.94      0.90      0.92      1169\n",
            "\n",
            "    accuracy                           0.86      1356\n",
            "   macro avg       0.72      0.76      0.74      1356\n",
            "weighted avg       0.88      0.86      0.87      1356\n",
            "\n"
          ]
        },
        {
          "data": {
            "text/plain": [
              "(0.008888448344366223, 0.03238416673708293, 0.005595985792235228)"
            ]
          },
          "execution_count": 81,
          "metadata": {},
          "output_type": "execute_result"
        }
      ],
      "source": [
        "predicted_cnn = classifier.predict(test_dataset)\n",
        "error_rate(testing_labels, predicted_cnn)"
      ]
    },
    {
      "cell_type": "code",
      "execution_count": null,
      "id": "GvU3yNNhgdFO",
      "metadata": {
        "id": "GvU3yNNhgdFO"
      },
      "outputs": [],
      "source": [
        "def display_cv_results(search_results):\n",
        "    print('Best score = {:.4f} using {}'.format(search_results.best_score_, search_results.best_params_))\n",
        "    means = search_results.cv_results_['mean_test_score']\n",
        "    stds = search_results.cv_results_['std_test_score']\n",
        "    params = search_results.cv_results_['params']\n",
        "    for mean, stdev, param in zip(means, stds, params):\n",
        "        print('mean test accuracy +/- std = {:.4f} +/- {:.4f} with: {}'.format(mean, stdev, param))"
      ]
    },
    {
      "cell_type": "code",
      "execution_count": null,
      "id": "pdc9syuZgPDy",
      "metadata": {
        "id": "pdc9syuZgPDy"
      },
      "outputs": [],
      "source": [
        "# summarize results\n",
        "#print('time for grid search = {:.0f} sec'.format(time()-start))\n",
        "#display_cv_results(grid_result)"
      ]
    },
    {
      "cell_type": "code",
      "execution_count": null,
      "id": "Tn8hczYMdLy5",
      "metadata": {
        "id": "Tn8hczYMdLy5"
      },
      "outputs": [],
      "source": [
        "df =pd.DataFrame(grid.cv_results_)\n",
        "#new_path = '/content/test.xls'\n",
        "#writer = pd.ExcelWriter(new_path, engine='xlsxwriter')\n",
        "df.to_excel('/content/drive/MyDrive/Halophilic/AnkhCNN.xlsx')"
      ]
    },
    {
      "cell_type": "code",
      "execution_count": null,
      "id": "45PkomX_j9dy",
      "metadata": {
        "id": "45PkomX_j9dy"
      },
      "outputs": [],
      "source": [
        "df =pd.DataFrame(train_dataset)\n",
        "df.to_excel('/content/cnn_train_dataset.xlsx')\n",
        "df =pd.DataFrame(training_labels)\n",
        "df.to_excel('/content/cnn_training_labels.xlsx')\n",
        "df =pd.DataFrame(predicted_training_labels)\n",
        "df.to_excel('/content/cnn_pred_train_labels.xlsx')\n",
        "\n",
        "df =pd.DataFrame(test_dataset)\n",
        "df.to_excel('/content/cnn_test_dataset.xlsx')\n",
        "df =pd.DataFrame(testing_labels)\n",
        "df.to_excel('/content/cnn_testing_labels.xlsx')\n",
        "df =pd.DataFrame(predicted_cnn)\n",
        "df.to_excel('/content/cnn_pred_test_labels.xlsx')"
      ]
    },
    {
      "cell_type": "code",
      "execution_count": null,
      "id": "2e7ei0hoj9dy",
      "metadata": {
        "id": "2e7ei0hoj9dy"
      },
      "outputs": [],
      "source": [
        "#from pandas import DataFrame\n",
        "#cv_results = DataFrame(grid.cv_results_)\n",
        "\n",
        "#cv_results[['param_conv_activation','split0_test_score', 'split1_test_score', 'split2_test_score']]"
      ]
    },
    {
      "cell_type": "code",
      "execution_count": null,
      "id": "R1Ut3Y2ej9dy",
      "metadata": {
        "id": "R1Ut3Y2ej9dy"
      },
      "outputs": [],
      "source": [
        "# Further metrics\n",
        "from sklearn.metrics import confusion_matrix\n",
        "\n",
        "# Data visualization\n",
        "import plotly.express as px"
      ]
    },
    {
      "cell_type": "code",
      "execution_count": null,
      "id": "EvD7KRaBj9dy",
      "metadata": {
        "colab": {
          "base_uri": "https://localhost:8080/",
          "height": 557
        },
        "id": "EvD7KRaBj9dy",
        "outputId": "187adaa2-7503-427d-ff42-d42d716a400f"
      },
      "outputs": [
        {
          "name": "stderr",
          "output_type": "stream",
          "text": [
            "<ipython-input-30-286145be1eb1>:9: UserWarning: FixedFormatter should only be used together with FixedLocator\n",
            "  ax.set_xticklabels([''] + labels)\n",
            "<ipython-input-30-286145be1eb1>:10: UserWarning: FixedFormatter should only be used together with FixedLocator\n",
            "  ax.set_yticklabels([''] + labels)\n"
          ]
        },
        {
          "data": {
            "image/png": "[encoded data removed]",
            "text/plain": [
              "<Figure size 640x480 with 2 Axes>"
            ]
          },
          "metadata": {},
          "output_type": "display_data"
        },
        {
          "data": {
            "text/plain": [
              "array([[ 114,   73],\n",
              "       [ 112, 1057]])"
            ]
          },
          "execution_count": 88,
          "metadata": {},
          "output_type": "execute_result"
        }
      ],
      "source": [
        "classes = np.unique(testing_labels)\n",
        "\n",
        "confusion_matrix_data = confusion_matrix(testing_labels, predicted_cnn, labels=classes)\n",
        "conf_matrix(confusion_matrix_data)\n",
        "confusion_matrix_data"
      ]
    },
    {
      "cell_type": "code",
      "execution_count": null,
      "id": "guHyXf_vj9dy",
      "metadata": {
        "id": "guHyXf_vj9dy"
      },
      "outputs": [],
      "source": [
        "TP = confusion_matrix_data[1,1]\n",
        "TN = confusion_matrix_data[0,0]\n",
        "FP = confusion_matrix_data[0,1]\n",
        "FN = confusion_matrix_data[1,0]"
      ]
    },
    {
      "cell_type": "code",
      "execution_count": null,
      "id": "FpqxYh-7j9dy",
      "metadata": {
        "colab": {
          "base_uri": "https://localhost:8080/"
        },
        "id": "FpqxYh-7j9dy",
        "outputId": "2ad478df-63f7-4b27-8e20-cb4090bf50c2"
      },
      "outputs": [
        {
          "name": "stdout",
          "output_type": "stream",
          "text": [
            "0.9041916167664671\n"
          ]
        }
      ],
      "source": [
        "sn = TP / float(TP + FN)\n",
        "print(sn)"
      ]
    },
    {
      "cell_type": "code",
      "execution_count": null,
      "id": "NPGTyFCcj9dy",
      "metadata": {
        "colab": {
          "base_uri": "https://localhost:8080/"
        },
        "id": "NPGTyFCcj9dy",
        "outputId": "4bfd636a-721d-491f-9bbb-0b339f11940a"
      },
      "outputs": [
        {
          "name": "stdout",
          "output_type": "stream",
          "text": [
            "0.6096256684491979\n"
          ]
        }
      ],
      "source": [
        "sp = TN / float(TN + FP)\n",
        "print(sp)"
      ]
    },
    {
      "cell_type": "code",
      "execution_count": null,
      "id": "yJyR0W1cj9dy",
      "metadata": {
        "colab": {
          "base_uri": "https://localhost:8080/",
          "height": 542
        },
        "id": "yJyR0W1cj9dy",
        "outputId": "efa92c32-3eb6-4c5b-845f-bc2495b743f7"
      },
      "outputs": [
        {
          "data": {
            "text/html": [
              "<html>\n",
              "<head><meta charset=\"utf-8\" /></head>\n",
              "<body>\n",
              "    <div>            <script src=\"https://cdnjs.cloudflare.com/ajax/libs/mathjax/2.7.5/MathJax.js?config=TeX-AMS-MML_SVG\"></script><script type=\"text/javascript\">if (window.MathJax && window.MathJax.Hub && window.MathJax.Hub.Config) {window.MathJax.Hub.Config({SVG: {font: \"STIX-Web\"}});}</script>                <script type=\"text/javascript\">window.PlotlyConfig = {MathJaxConfig: 'local'};</script>\n",
              "        <script charset=\"utf-8\" src=\"https://cdn.plot.ly/plotly-2.24.1.min.js\"></script>                <div id=\"7c82f3ae-37e7-4bdf-a4d4-91d609e3d539\" class=\"plotly-graph-div\" style=\"height:525px; width:100%;\"></div>            <script type=\"text/javascript\">                                    window.PLOTLYENV=window.PLOTLYENV || {};                                    if (document.getElementById(\"7c82f3ae-37e7-4bdf-a4d4-91d609e3d539\")) {                    Plotly.newPlot(                        \"7c82f3ae-37e7-4bdf-a4d4-91d609e3d539\",                        [{\"coloraxis\":\"coloraxis\",\"name\":\"0\",\"x\":[0,1],\"y\":[0,1],\"z\":[[114,73],[112,1057]],\"type\":\"heatmap\",\"xaxis\":\"x\",\"yaxis\":\"y\",\"hovertemplate\":\"True label: %{x}\\u003cbr\\u003ePredicted label: %{y}\\u003cbr\\u003e# of samples: %{z}\\u003cextra\\u003e\\u003c\\u002fextra\\u003e\"}],                        {\"template\":{\"data\":{\"histogram2dcontour\":[{\"type\":\"histogram2dcontour\",\"colorbar\":{\"outlinewidth\":0,\"ticks\":\"\"},\"colorscale\":[[0.0,\"#0d0887\"],[0.1111111111111111,\"#46039f\"],[0.2222222222222222,\"#7201a8\"],[0.3333333333333333,\"#9c179e\"],[0.4444444444444444,\"#bd3786\"],[0.5555555555555556,\"#d8576b\"],[0.6666666666666666,\"#ed7953\"],[0.7777777777777778,\"#fb9f3a\"],[0.8888888888888888,\"#fdca26\"],[1.0,\"#f0f921\"]]}],\"choropleth\":[{\"type\":\"choropleth\",\"colorbar\":{\"outlinewidth\":0,\"ticks\":\"\"}}],\"histogram2d\":[{\"type\":\"histogram2d\",\"colorbar\":{\"outlinewidth\":0,\"ticks\":\"\"},\"colorscale\":[[0.0,\"#0d0887\"],[0.1111111111111111,\"#46039f\"],[0.2222222222222222,\"#7201a8\"],[0.3333333333333333,\"#9c179e\"],[0.4444444444444444,\"#bd3786\"],[0.5555555555555556,\"#d8576b\"],[0.6666666666666666,\"#ed7953\"],[0.7777777777777778,\"#fb9f3a\"],[0.8888888888888888,\"#fdca26\"],[1.0,\"#f0f921\"]]}],\"heatmap\":[{\"type\":\"heatmap\",\"colorbar\":{\"outlinewidth\":0,\"ticks\":\"\"},\"colorscale\":[[0.0,\"#0d0887\"],[0.1111111111111111,\"#46039f\"],[0.2222222222222222,\"#7201a8\"],[0.3333333333333333,\"#9c179e\"],[0.4444444444444444,\"#bd3786\"],[0.5555555555555556,\"#d8576b\"],[0.6666666666666666,\"#ed7953\"],[0.7777777777777778,\"#fb9f3a\"],[0.8888888888888888,\"#fdca26\"],[1.0,\"#f0f921\"]]}],\"heatmapgl\":[{\"type\":\"heatmapgl\",\"colorbar\":{\"outlinewidth\":0,\"ticks\":\"\"},\"colorscale\":[[0.0,\"#0d0887\"],[0.1111111111111111,\"#46039f\"],[0.2222222222222222,\"#7201a8\"],[0.3333333333333333,\"#9c179e\"],[0.4444444444444444,\"#bd3786\"],[0.5555555555555556,\"#d8576b\"],[0.6666666666666666,\"#ed7953\"],[0.7777777777777778,\"#fb9f3a\"],[0.8888888888888888,\"#fdca26\"],[1.0,\"#f0f921\"]]}],\"contourcarpet\":[{\"type\":\"contourcarpet\",\"colorbar\":{\"outlinewidth\":0,\"ticks\":\"\"}}],\"contour\":[{\"type\":\"contour\",\"colorbar\":{\"outlinewidth\":0,\"ticks\":\"\"},\"colorscale\":[[0.0,\"#0d0887\"],[0.1111111111111111,\"#46039f\"],[0.2222222222222222,\"#7201a8\"],[0.3333333333333333,\"#9c179e\"],[0.4444444444444444,\"#bd3786\"],[0.5555555555555556,\"#d8576b\"],[0.6666666666666666,\"#ed7953\"],[0.7777777777777778,\"#fb9f3a\"],[0.8888888888888888,\"#fdca26\"],[1.0,\"#f0f921\"]]}],\"surface\":[{\"type\":\"surface\",\"colorbar\":{\"outlinewidth\":0,\"ticks\":\"\"},\"colorscale\":[[0.0,\"#0d0887\"],[0.1111111111111111,\"#46039f\"],[0.2222222222222222,\"#7201a8\"],[0.3333333333333333,\"#9c179e\"],[0.4444444444444444,\"#bd3786\"],[0.5555555555555556,\"#d8576b\"],[0.6666666666666666,\"#ed7953\"],[0.7777777777777778,\"#fb9f3a\"],[0.8888888888888888,\"#fdca26\"],[1.0,\"#f0f921\"]]}],\"mesh3d\":[{\"type\":\"mesh3d\",\"colorbar\":{\"outlinewidth\":0,\"ticks\":\"\"}}],\"scatter\":[{\"fillpattern\":{\"fillmode\":\"overlay\",\"size\":10,\"solidity\":0.2},\"type\":\"scatter\"}],\"parcoords\":[{\"type\":\"parcoords\",\"line\":{\"colorbar\":{\"outlinewidth\":0,\"ticks\":\"\"}}}],\"scatterpolargl\":[{\"type\":\"scatterpolargl\",\"marker\":{\"colorbar\":{\"outlinewidth\":0,\"ticks\":\"\"}}}],\"bar\":[{\"error_x\":{\"color\":\"#2a3f5f\"},\"error_y\":{\"color\":\"#2a3f5f\"},\"marker\":{\"line\":{\"color\":\"#E5ECF6\",\"width\":0.5},\"pattern\":{\"fillmode\":\"overlay\",\"size\":10,\"solidity\":0.2}},\"type\":\"bar\"}],\"scattergeo\":[{\"type\":\"scattergeo\",\"marker\":{\"colorbar\":{\"outlinewidth\":0,\"ticks\":\"\"}}}],\"scatterpolar\":[{\"type\":\"scatterpolar\",\"marker\":{\"colorbar\":{\"outlinewidth\":0,\"ticks\":\"\"}}}],\"histogram\":[{\"marker\":{\"pattern\":{\"fillmode\":\"overlay\",\"size\":10,\"solidity\":0.2}},\"type\":\"histogram\"}],\"scattergl\":[{\"type\":\"scattergl\",\"marker\":{\"colorbar\":{\"outlinewidth\":0,\"ticks\":\"\"}}}],\"scatter3d\":[{\"type\":\"scatter3d\",\"line\":{\"colorbar\":{\"outlinewidth\":0,\"ticks\":\"\"}},\"marker\":{\"colorbar\":{\"outlinewidth\":0,\"ticks\":\"\"}}}],\"scattermapbox\":[{\"type\":\"scattermapbox\",\"marker\":{\"colorbar\":{\"outlinewidth\":0,\"ticks\":\"\"}}}],\"scatterternary\":[{\"type\":\"scatterternary\",\"marker\":{\"colorbar\":{\"outlinewidth\":0,\"ticks\":\"\"}}}],\"scattercarpet\":[{\"type\":\"scattercarpet\",\"marker\":{\"colorbar\":{\"outlinewidth\":0,\"ticks\":\"\"}}}],\"carpet\":[{\"aaxis\":{\"endlinecolor\":\"#2a3f5f\",\"gridcolor\":\"white\",\"linecolor\":\"white\",\"minorgridcolor\":\"white\",\"startlinecolor\":\"#2a3f5f\"},\"baxis\":{\"endlinecolor\":\"#2a3f5f\",\"gridcolor\":\"white\",\"linecolor\":\"white\",\"minorgridcolor\":\"white\",\"startlinecolor\":\"#2a3f5f\"},\"type\":\"carpet\"}],\"table\":[{\"cells\":{\"fill\":{\"color\":\"#EBF0F8\"},\"line\":{\"color\":\"white\"}},\"header\":{\"fill\":{\"color\":\"#C8D4E3\"},\"line\":{\"color\":\"white\"}},\"type\":\"table\"}],\"barpolar\":[{\"marker\":{\"line\":{\"color\":\"#E5ECF6\",\"width\":0.5},\"pattern\":{\"fillmode\":\"overlay\",\"size\":10,\"solidity\":0.2}},\"type\":\"barpolar\"}],\"pie\":[{\"automargin\":true,\"type\":\"pie\"}]},\"layout\":{\"autotypenumbers\":\"strict\",\"colorway\":[\"#636efa\",\"#EF553B\",\"#00cc96\",\"#ab63fa\",\"#FFA15A\",\"#19d3f3\",\"#FF6692\",\"#B6E880\",\"#FF97FF\",\"#FECB52\"],\"font\":{\"color\":\"#2a3f5f\"},\"hovermode\":\"closest\",\"hoverlabel\":{\"align\":\"left\"},\"paper_bgcolor\":\"white\",\"plot_bgcolor\":\"#E5ECF6\",\"polar\":{\"bgcolor\":\"#E5ECF6\",\"angularaxis\":{\"gridcolor\":\"white\",\"linecolor\":\"white\",\"ticks\":\"\"},\"radialaxis\":{\"gridcolor\":\"white\",\"linecolor\":\"white\",\"ticks\":\"\"}},\"ternary\":{\"bgcolor\":\"#E5ECF6\",\"aaxis\":{\"gridcolor\":\"white\",\"linecolor\":\"white\",\"ticks\":\"\"},\"baxis\":{\"gridcolor\":\"white\",\"linecolor\":\"white\",\"ticks\":\"\"},\"caxis\":{\"gridcolor\":\"white\",\"linecolor\":\"white\",\"ticks\":\"\"}},\"coloraxis\":{\"colorbar\":{\"outlinewidth\":0,\"ticks\":\"\"}},\"colorscale\":{\"sequential\":[[0.0,\"#0d0887\"],[0.1111111111111111,\"#46039f\"],[0.2222222222222222,\"#7201a8\"],[0.3333333333333333,\"#9c179e\"],[0.4444444444444444,\"#bd3786\"],[0.5555555555555556,\"#d8576b\"],[0.6666666666666666,\"#ed7953\"],[0.7777777777777778,\"#fb9f3a\"],[0.8888888888888888,\"#fdca26\"],[1.0,\"#f0f921\"]],\"sequentialminus\":[[0.0,\"#0d0887\"],[0.1111111111111111,\"#46039f\"],[0.2222222222222222,\"#7201a8\"],[0.3333333333333333,\"#9c179e\"],[0.4444444444444444,\"#bd3786\"],[0.5555555555555556,\"#d8576b\"],[0.6666666666666666,\"#ed7953\"],[0.7777777777777778,\"#fb9f3a\"],[0.8888888888888888,\"#fdca26\"],[1.0,\"#f0f921\"]],\"diverging\":[[0,\"#8e0152\"],[0.1,\"#c51b7d\"],[0.2,\"#de77ae\"],[0.3,\"#f1b6da\"],[0.4,\"#fde0ef\"],[0.5,\"#f7f7f7\"],[0.6,\"#e6f5d0\"],[0.7,\"#b8e186\"],[0.8,\"#7fbc41\"],[0.9,\"#4d9221\"],[1,\"#276419\"]]},\"xaxis\":{\"gridcolor\":\"white\",\"linecolor\":\"white\",\"ticks\":\"\",\"title\":{\"standoff\":15},\"zerolinecolor\":\"white\",\"automargin\":true,\"zerolinewidth\":2},\"yaxis\":{\"gridcolor\":\"white\",\"linecolor\":\"white\",\"ticks\":\"\",\"title\":{\"standoff\":15},\"zerolinecolor\":\"white\",\"automargin\":true,\"zerolinewidth\":2},\"scene\":{\"xaxis\":{\"backgroundcolor\":\"#E5ECF6\",\"gridcolor\":\"white\",\"linecolor\":\"white\",\"showbackground\":true,\"ticks\":\"\",\"zerolinecolor\":\"white\",\"gridwidth\":2},\"yaxis\":{\"backgroundcolor\":\"#E5ECF6\",\"gridcolor\":\"white\",\"linecolor\":\"white\",\"showbackground\":true,\"ticks\":\"\",\"zerolinecolor\":\"white\",\"gridwidth\":2},\"zaxis\":{\"backgroundcolor\":\"#E5ECF6\",\"gridcolor\":\"white\",\"linecolor\":\"white\",\"showbackground\":true,\"ticks\":\"\",\"zerolinecolor\":\"white\",\"gridwidth\":2}},\"shapedefaults\":{\"line\":{\"color\":\"#2a3f5f\"}},\"annotationdefaults\":{\"arrowcolor\":\"#2a3f5f\",\"arrowhead\":0,\"arrowwidth\":1},\"geo\":{\"bgcolor\":\"white\",\"landcolor\":\"#E5ECF6\",\"subunitcolor\":\"white\",\"showland\":true,\"showlakes\":true,\"lakecolor\":\"white\"},\"title\":{\"x\":0.05},\"mapbox\":{\"style\":\"light\"}}},\"xaxis\":{\"anchor\":\"y\",\"domain\":[0.0,1.0],\"scaleanchor\":\"y\",\"constrain\":\"domain\",\"title\":{\"text\":\"True label\"}},\"yaxis\":{\"anchor\":\"x\",\"domain\":[0.0,1.0],\"autorange\":\"reversed\",\"constrain\":\"domain\",\"title\":{\"text\":\"Predicted label\"}},\"coloraxis\":{\"colorbar\":{\"title\":{\"text\":\"# of samples\"}},\"colorscale\":[[0.0,\"rgb(254, 254, 253)\"],[0.09090909090909091,\"rgb(224, 224, 223)\"],[0.18181818181818182,\"rgb(197, 197, 195)\"],[0.2727272727272727,\"rgb(171, 171, 170)\"],[0.36363636363636365,\"rgb(146, 146, 145)\"],[0.45454545454545453,\"rgb(124, 123, 122)\"],[0.5454545454545454,\"rgb(102, 101, 101)\"],[0.6363636363636364,\"rgb(81, 80, 80)\"],[0.7272727272727273,\"rgb(59, 59, 59)\"],[0.8181818181818182,\"rgb(38, 38, 38)\"],[0.9090909090909091,\"rgb(16, 16, 16)\"],[1.0,\"rgb(0, 0, 0)\"]]},\"margin\":{\"t\":60}},                        {\"responsive\": true}                    ).then(function(){\n",
              "                            \n",
              "var gd = document.getElementById('7c82f3ae-37e7-4bdf-a4d4-91d609e3d539');\n",
              "var x = new MutationObserver(function (mutations, observer) {{\n",
              "        var display = window.getComputedStyle(gd).display;\n",
              "        if (!display || display === 'none') {{\n",
              "            console.log([gd, 'removed!']);\n",
              "            Plotly.purge(gd);\n",
              "            observer.disconnect();\n",
              "        }}\n",
              "}});\n",
              "\n",
              "// Listen for the removal of the full notebook cells\n",
              "var notebookContainer = gd.closest('#notebook-container');\n",
              "if (notebookContainer) {{\n",
              "    x.observe(notebookContainer, {childList: true});\n",
              "}}\n",
              "\n",
              "// Listen for the clearing of the current output cell\n",
              "var outputEl = gd.closest('.output');\n",
              "if (outputEl) {{\n",
              "    x.observe(outputEl, {childList: true});\n",
              "}}\n",
              "\n",
              "                        })                };                            </script>        </div>\n",
              "</body>\n",
              "</html>"
            ]
          },
          "metadata": {},
          "output_type": "display_data"
        }
      ],
      "source": [
        "confusion_matrix_figure = px.imshow(\n",
        "    confusion_matrix_data,\n",
        "    labels=dict(x=\"True label\", y=\"Predicted label\", color=\"# of samples\"),\n",
        "    x=classes,\n",
        "    y=classes,\n",
        "    color_continuous_scale='Gray_r'\n",
        ")\n",
        "confusion_matrix_figure.show()"
      ]
    },
    {
      "cell_type": "markdown",
      "id": "-tgM9DaT4iGC",
      "metadata": {
        "id": "-tgM9DaT4iGC"
      },
      "source": [
        "### RNN with GridSearch"
      ]
    },
    {
      "cell_type": "code",
      "execution_count": null,
      "id": "cK16axrl4iGE",
      "metadata": {
        "colab": {
          "base_uri": "https://localhost:8080/",
          "height": 385
        },
        "id": "cK16axrl4iGE",
        "outputId": "205807b8-3c1a-41da-98ad-947f7cb1b44b"
      },
      "outputs": [
        {
          "ename": "ModuleNotFoundError",
          "evalue": "No module named 'keras.wrappers'",
          "output_type": "error",
          "traceback": [
            "\u001b[0;31m---------------------------------------------------------------------------\u001b[0m",
            "\u001b[0;31mModuleNotFoundError\u001b[0m                       Traceback (most recent call last)",
            "\u001b[0;32m<ipython-input-1-45b15676886c>\u001b[0m in \u001b[0;36m<cell line: 7>\u001b[0;34m()\u001b[0m\n\u001b[1;32m      5\u001b[0m \u001b[0;32mfrom\u001b[0m \u001b[0mkeras\u001b[0m\u001b[0;34m.\u001b[0m\u001b[0mlayers\u001b[0m \u001b[0;32mimport\u001b[0m \u001b[0mEmbedding\u001b[0m\u001b[0;34m,\u001b[0m \u001b[0mBidirectional\u001b[0m\u001b[0;34m\u001b[0m\u001b[0;34m\u001b[0m\u001b[0m\n\u001b[1;32m      6\u001b[0m \u001b[0;32mfrom\u001b[0m \u001b[0mkeras\u001b[0m\u001b[0;34m.\u001b[0m\u001b[0mregularizers\u001b[0m \u001b[0;32mimport\u001b[0m \u001b[0ml2\u001b[0m\u001b[0;34m\u001b[0m\u001b[0;34m\u001b[0m\u001b[0m\n\u001b[0;32m----> 7\u001b[0;31m \u001b[0;32mfrom\u001b[0m \u001b[0mkeras\u001b[0m\u001b[0;34m.\u001b[0m\u001b[0mwrappers\u001b[0m\u001b[0;34m.\u001b[0m\u001b[0mscikit_learn\u001b[0m \u001b[0;32mimport\u001b[0m \u001b[0mKerasClassifier\u001b[0m\u001b[0;34m\u001b[0m\u001b[0;34m\u001b[0m\u001b[0m\n\u001b[0m\u001b[1;32m      8\u001b[0m \u001b[0;32mfrom\u001b[0m \u001b[0mtime\u001b[0m \u001b[0;32mimport\u001b[0m \u001b[0mtime\u001b[0m\u001b[0;34m\u001b[0m\u001b[0;34m\u001b[0m\u001b[0m\n\u001b[1;32m      9\u001b[0m \u001b[0;32mfrom\u001b[0m \u001b[0mtensorflow\u001b[0m\u001b[0;34m.\u001b[0m\u001b[0mkeras\u001b[0m \u001b[0;32mimport\u001b[0m \u001b[0mlayers\u001b[0m\u001b[0;34m\u001b[0m\u001b[0;34m\u001b[0m\u001b[0m\n",
            "\u001b[0;31mModuleNotFoundError\u001b[0m: No module named 'keras.wrappers'",
            "",
            "\u001b[0;31m---------------------------------------------------------------------------\u001b[0;32m\nNOTE: If your import is failing due to a missing package, you can\nmanually install dependencies using either !pip or !apt.\n\nTo view examples of installing some common dependencies, click the\n\"Open Examples\" button below.\n\u001b[0;31m---------------------------------------------------------------------------\u001b[0m\n"
          ]
        }
      ],
      "source": [
        "import tensorflow as tf\n",
        "from tensorflow.keras.layers import SimpleRNN, Bidirectional, Input, Embedding, LSTM, Dropout, Dense, InputLayer, GRU\n",
        "from tensorflow.keras.models import Model, Sequential\n",
        "from keras import regularizers\n",
        "from keras.layers import Embedding, Bidirectional\n",
        "from keras.regularizers import l2\n",
        "from keras.wrappers.scikit_learn import KerasClassifier\n",
        "from time import time\n",
        "from tensorflow.keras import layers"
      ]
    },
    {
      "cell_type": "code",
      "execution_count": null,
      "id": "-1GErIWQWyRF",
      "metadata": {
        "id": "-1GErIWQWyRF"
      },
      "outputs": [],
      "source": [
        "from numpy.random import seed\n",
        "seed(1)"
      ]
    },
    {
      "cell_type": "code",
      "execution_count": null,
      "id": "HtwPIv02WyRH",
      "metadata": {
        "id": "HtwPIv02WyRH"
      },
      "outputs": [],
      "source": [
        "from tensorflow.keras.utils import set_random_seed\n",
        "set_random_seed(2)"
      ]
    },
    {
      "cell_type": "code",
      "execution_count": null,
      "id": "wUc3tuPW4iGE",
      "metadata": {
        "id": "wUc3tuPW4iGE"
      },
      "outputs": [],
      "source": [
        "max_length = 1280"
      ]
    },
    {
      "cell_type": "code",
      "execution_count": null,
      "id": "xE7qx0Ef4iGF",
      "metadata": {
        "id": "xE7qx0Ef4iGF"
      },
      "outputs": [],
      "source": [
        "X_train, X_test= train_dataset, test_dataset\n",
        "y_train, y_test = training_labels, testing_labels"
      ]
    },
    {
      "cell_type": "code",
      "execution_count": null,
      "id": "omdigfpk4iGF",
      "metadata": {
        "id": "omdigfpk4iGF"
      },
      "outputs": [],
      "source": [
        "X_train = np.reshape(X_train, (X_train.shape[0], X_train.shape[1],1))\n",
        "X_test = np.reshape(X_test, (X_test.shape[0], X_test.shape[1],1))"
      ]
    },
    {
      "cell_type": "code",
      "execution_count": null,
      "id": "og6-h7Hl4iGF",
      "metadata": {
        "id": "og6-h7Hl4iGF"
      },
      "outputs": [],
      "source": [
        "input_shape = X_train[1,:].shape"
      ]
    },
    {
      "cell_type": "code",
      "execution_count": null,
      "id": "oY61j3y24iGG",
      "metadata": {
        "id": "oY61j3y24iGG"
      },
      "outputs": [],
      "source": [
        "Y_train = np.reshape(y_train,(len(y_train),1)).astype(int)\n",
        "Y_test = np.reshape(y_test,(len(y_test),1)).astype(int)"
      ]
    },
    {
      "cell_type": "code",
      "execution_count": null,
      "id": "vibk8C8t4iGG",
      "metadata": {
        "id": "vibk8C8t4iGG"
      },
      "outputs": [],
      "source": [
        "def create_rnn_model(dropout_rate=0.0, units=50, learning_rate_init=0.001, regularizer=0.0, solver='adam'):\n",
        "    x_input = layers.Input(input_shape)\n",
        "    #emb = Embedding(21, units, input_length=max_length)(x_input)\n",
        "    rnn = SimpleRNN(units, activity_regularizer=l2(regularizer), return_sequences = True)(x_input) #kernel_regularizer=l2(0.01), recurrent_regularizer=l2(0.01), bias_regularizer=l2(0.01)\n",
        "    x = Dropout(dropout_rate)(rnn)\n",
        "    rnn2 =SimpleRNN(units, activity_regularizer=l2(dropout_rate))(x) #kernel_regularizer=l2(0.01), recurrent_regularizer=l2(0.01), bias_regularizer=l2(0.01)\n",
        "    x2 = Dropout(dropout_rate)(rnn2)\n",
        "    # softmax classifier\n",
        "    x_output = Dense(1, activation='sigmoid')(x2)\n",
        "\n",
        "    model = Model(inputs=x_input, outputs=x_output)\n",
        "    # Compile model\n",
        "    model.compile(\n",
        "        optimizer=tf.keras.optimizers.Adam(learning_rate=learning_rate_init),#solver,#\n",
        "        loss='binary_crossentropy',\n",
        "        metrics=['accuracy'],\n",
        "        )\n",
        "    return model"
      ]
    },
    {
      "cell_type": "code",
      "execution_count": null,
      "id": "1Fx-WbXR4iGG",
      "metadata": {
        "colab": {
          "base_uri": "https://localhost:8080/"
        },
        "id": "1Fx-WbXR4iGG",
        "outputId": "fff43a1f-4064-45f8-b99d-d07dd78cdaae"
      },
      "outputs": [
        {
          "name": "stdout",
          "output_type": "stream",
          "text": [
            "Model: \"model_2\"\n",
            "_________________________________________________________________\n",
            " Layer (type)                Output Shape              Param #   \n",
            "=================================================================\n",
            " input_3 (InputLayer)        [(None, 1536, 1)]         0         \n",
            "                                                                 \n",
            " simple_rnn_2 (SimpleRNN)    (None, 1536, 50)          2600      \n",
            "                                                                 \n",
            " dropout_4 (Dropout)         (None, 1536, 50)          0         \n",
            "                                                                 \n",
            " simple_rnn_3 (SimpleRNN)    (None, 50)                5050      \n",
            "                                                                 \n",
            " dropout_5 (Dropout)         (None, 50)                0         \n",
            "                                                                 \n",
            " dense_2 (Dense)             (None, 1)                 51        \n",
            "                                                                 \n",
            "=================================================================\n",
            "Total params: 7,701\n",
            "Trainable params: 7,701\n",
            "Non-trainable params: 0\n",
            "_________________________________________________________________\n"
          ]
        }
      ],
      "source": [
        "rnn_model = create_rnn_model()\n",
        "rnn_model.summary()"
      ]
    },
    {
      "cell_type": "code",
      "execution_count": null,
      "id": "SZ8aG71e4iGH",
      "metadata": {
        "colab": {
          "base_uri": "https://localhost:8080/"
        },
        "id": "SZ8aG71e4iGH",
        "outputId": "596497d4-e2e6-41e1-b6bb-e576dd392c1d"
      },
      "outputs": [
        {
          "name": "stderr",
          "output_type": "stream",
          "text": [
            "<ipython-input-78-d4d62c73a518>:4: DeprecationWarning: KerasClassifier is deprecated, use Sci-Keras (https://github.com/adriangb/scikeras) instead. See https://www.adriangb.com/scikeras/stable/migration.html for help migrating.\n",
            "  model = KerasClassifier(build_fn=create_rnn_model, verbose=1, epochs=5)\n"
          ]
        }
      ],
      "source": [
        "start = time()\n",
        "\n",
        "# create model\n",
        "model = KerasClassifier(build_fn=create_rnn_model, verbose=1, epochs=5)\n",
        "# define parameters and values for grid search\n",
        "\n",
        "parameters = {\n",
        "    'units':[50], # 1024\n",
        "    #'learning_rate_init': [0.001, 0.01],\n",
        "    'solver':['sgd', 'adam'],\n",
        "    'epochs':[2,3,5,10]\n",
        "    #'dropout_rate':[0.0,0.05, 0.1], #0.05\n",
        "    #'regularizer':[0.0,0.05, 0.1],\n",
        "}"
      ]
    },
    {
      "cell_type": "code",
      "execution_count": null,
      "id": "K0Us0Bmf4iGH",
      "metadata": {
        "id": "K0Us0Bmf4iGH"
      },
      "outputs": [],
      "source": [
        "metrics = {'accuracy':make_scorer(accuracy_score,greater_is_better=True),'f1':make_scorer(f1_score,greater_is_better=True),'mcc':make_scorer(matthews_corrcoef,greater_is_better=True)}"
      ]
    },
    {
      "cell_type": "code",
      "execution_count": null,
      "id": "VId_Vtu64iGI",
      "metadata": {
        "colab": {
          "background_save": true,
          "base_uri": "https://localhost:8080/"
        },
        "id": "VId_Vtu64iGI",
        "outputId": "c3f46975-3a68-4135-bf04-7e7adacb16a7"
      },
      "outputs": [
        {
          "name": "stderr",
          "output_type": "stream",
          "text": [
            "/usr/local/lib/python3.10/dist-packages/joblib/externals/loky/backend/fork_exec.py:38: RuntimeWarning: os.fork() was called. os.fork() is incompatible with multithreaded code, and JAX is multithreaded, so this will likely lead to a deadlock.\n",
            "  pid = os.fork()\n",
            "/usr/local/lib/python3.10/dist-packages/joblib/externals/loky/process_executor.py:752: UserWarning: A worker stopped while some jobs were given to the executor. This can be caused by a too short worker timeout or by a memory leak.\n",
            "  warnings.warn(\n"
          ]
        },
        {
          "name": "stdout",
          "output_type": "stream",
          "text": [
            "Epoch 1/2\n",
            "178/178 [==============================] - 144s 796ms/step - loss: 0.6329 - accuracy: 0.6750\n",
            "Epoch 2/2\n",
            "178/178 [==============================] - 142s 796ms/step - loss: 0.6311 - accuracy: 0.6778\n"
          ]
        }
      ],
      "source": [
        "grid = GridSearchCV(estimator=model, param_grid=parameters, n_jobs=-1, cv=10, scoring=metrics, refit='mcc')\n",
        "grid_result = grid.fit(X_train, Y_train)"
      ]
    },
    {
      "cell_type": "code",
      "execution_count": null,
      "id": "n6V4U-0E4iGI",
      "metadata": {
        "colab": {
          "background_save": true
        },
        "id": "n6V4U-0E4iGI"
      },
      "outputs": [],
      "source": [
        "classifier = grid.best_estimator_"
      ]
    },
    {
      "cell_type": "code",
      "execution_count": null,
      "id": "XxZTjoZX4iGJ",
      "metadata": {
        "colab": {
          "background_save": true
        },
        "id": "XxZTjoZX4iGJ",
        "outputId": "a15df80e-5877-4d52-92f3-dc564c89e157"
      },
      "outputs": [
        {
          "data": {
            "text/plain": [
              "{'verbose': 1,\n",
              " 'epochs': 2,\n",
              " 'solver': 'sgd',\n",
              " 'units': 50,\n",
              " 'build_fn': <function __main__.create_rnn_model(dropout_rate=0.0, units=50, learning_rate_init=0.001, regularizer=0.0, solver='adam')>}"
            ]
          },
          "execution_count": 82,
          "metadata": {},
          "output_type": "execute_result"
        }
      ],
      "source": [
        "params = classifier.get_params()\n",
        "params"
      ]
    },
    {
      "cell_type": "code",
      "execution_count": null,
      "id": "eU7pc4Fz4iGJ",
      "metadata": {
        "colab": {
          "background_save": true
        },
        "id": "eU7pc4Fz4iGJ"
      },
      "outputs": [],
      "source": [
        "#cv_results = DataFrame(grid.cv_results_)\n",
        "\n",
        "#cv_results[['param_units','param_dropout_rate','param_regularizer','split0_test_score', 'split1_test_score', 'split2_test_score']]"
      ]
    },
    {
      "cell_type": "code",
      "execution_count": null,
      "id": "OGc8apIR4iGJ",
      "metadata": {
        "colab": {
          "background_save": true
        },
        "id": "OGc8apIR4iGJ"
      },
      "outputs": [],
      "source": [
        "df =pd.DataFrame(grid.cv_results_)\n",
        "new_path = '/content/test.xls'\n",
        "writer = pd.ExcelWriter(new_path, engine='xlsxwriter')\n",
        "df.to_excel('/content/drive/MyDrive/Halophilic/AnkhRNN.xlsx')"
      ]
    },
    {
      "cell_type": "code",
      "execution_count": null,
      "id": "RtA2NV_z4iGK",
      "metadata": {
        "colab": {
          "background_save": true
        },
        "id": "RtA2NV_z4iGK",
        "outputId": "faaf3341-8044-44dc-cb03-b8c5a04611f6"
      },
      "outputs": [
        {
          "name": "stdout",
          "output_type": "stream",
          "text": [
            "178/178 [==============================] - 24s 133ms/step\n",
            "acc: 0.6788359788359788\n",
            "f1: 0.8086983926883076\n",
            "mcc: 0.0\n",
            "sn: [1.0, 1.0, 1.0, 1.0, 1.0, 1.0, 1.0, 1.0, 1.0, 1.0, 1.0, 1.0, 1.0, 1.0, 1.0, 1.0, 1.0, 1.0, 1.0, 1.0, 1.0, 1.0, 1.0, 1.0, 1.0, 1.0, 1.0, 1.0, 1.0, 1.0, 1.0, 1.0, 1.0, 1.0, 1.0, 1.0, 1.0, 1.0, 1.0, 1.0, 1.0, 1.0, 1.0, 1.0, 1.0, 1.0, 1.0, 1.0, 1.0, 1.0, 1.0, 1.0, 1.0, 1.0, 1.0, 1.0, 1.0, 1.0, 1.0, 1.0, 1.0, 1.0, 1.0, 1.0, 1.0, 1.0, 1.0, 1.0, 1.0, 1.0, 1.0, 1.0, 1.0, 1.0, 1.0, 1.0, 1.0, 1.0, 1.0, 1.0, 1.0, 1.0, 1.0, 1.0, 1.0, 1.0, 1.0, 1.0, 1.0, 1.0, 1.0, 1.0, 1.0, 1.0, 1.0, 1.0, 1.0, 1.0, 1.0, 1.0, 1.0, 1.0, 1.0, 1.0, 1.0, 1.0, 1.0, 1.0, 1.0, 1.0, 1.0, 1.0, 1.0, 1.0, 1.0, 1.0, 1.0, 1.0, 1.0, 1.0, 1.0, 1.0, 1.0, 1.0, 1.0, 1.0, 1.0, 1.0, 1.0, 1.0, 1.0, 1.0, 1.0, 1.0, 1.0, 1.0, 1.0, 1.0, 1.0, 1.0, 1.0, 1.0, 1.0, 1.0, 1.0, 1.0, 1.0, 1.0, 1.0, 1.0, 1.0, 1.0, 1.0, 1.0, 1.0, 1.0, 1.0, 1.0, 1.0, 1.0, 1.0, 1.0, 1.0, 1.0, 1.0, 1.0, 1.0, 1.0, 1.0, 1.0, 1.0, 1.0, 1.0, 1.0, 1.0, 1.0, 1.0, 1.0, 1.0, 1.0, 1.0, 1.0, 1.0, 1.0, 1.0, 1.0, 1.0, 1.0, 1.0, 1.0, 1.0, 1.0, 1.0, 1.0, 1.0, 1.0, 1.0, 1.0, 1.0, 1.0, 1.0, 1.0, 1.0, 1.0, 1.0, 1.0, 1.0, 1.0, 1.0, 1.0, 1.0, 1.0, 1.0, 1.0, 1.0, 1.0, 1.0, 1.0, 1.0, 1.0, 1.0, 1.0, 1.0, 1.0, 1.0, 1.0, 1.0, 1.0, 1.0, 1.0, 1.0, 1.0, 1.0, 1.0, 1.0, 1.0, 1.0, 1.0, 1.0, 1.0, 1.0, 1.0, 1.0, 1.0, 1.0, 1.0, 1.0, 1.0, 1.0, 1.0, 1.0, 1.0, 1.0, 1.0, 1.0, 1.0, 1.0, 1.0, 1.0, 1.0, 1.0, 1.0, 1.0, 1.0, 1.0, 1.0, 1.0, 1.0, 1.0, 1.0, 1.0, 1.0, 1.0, 1.0, 1.0, 1.0, 1.0, 1.0, 1.0, 1.0, 1.0, 1.0, 1.0, 1.0, 1.0, 1.0, 1.0, 1.0, 1.0, 1.0, 1.0, 1.0, 1.0, 1.0, 1.0, 1.0, 1.0, 1.0, 1.0, 1.0, 1.0, 1.0, 1.0, 1.0, 1.0, 1.0, 1.0, 1.0, 1.0, 1.0, 1.0, 1.0, 1.0, 1.0, 1.0, 1.0, 1.0, 1.0, 1.0, 1.0, 1.0, 1.0, 1.0, 1.0, 1.0, 1.0, 1.0, 1.0, 1.0, 1.0, 1.0, 1.0, 1.0, 1.0, 1.0, 1.0, 1.0, 1.0, 1.0, 1.0, 1.0, 1.0, 1.0, 1.0, 1.0, 1.0, 1.0, 1.0, 1.0, 1.0, 1.0, 1.0, 1.0, 1.0, 1.0, 1.0, 1.0, 1.0, 1.0, 1.0, 1.0, 1.0, 1.0, 1.0, 1.0, 1.0, 1.0, 1.0, 1.0, 1.0, 1.0, 1.0, 1.0, 1.0, 1.0, 1.0, 1.0, 1.0, 1.0, 1.0, 1.0, 1.0, 1.0, 1.0, 1.0, 1.0, 1.0, 1.0, 1.0, 1.0, 1.0, 1.0, 1.0, 1.0, 1.0, 1.0, 1.0, 1.0, 1.0, 1.0, 1.0, 1.0, 1.0, 1.0, 1.0, 1.0, 1.0, 1.0, 1.0, 1.0, 1.0, 1.0, 1.0, 1.0, 1.0, 1.0, 1.0, 1.0, 1.0, 1.0, 1.0, 1.0, 1.0, 1.0, 1.0, 1.0, 1.0, 1.0, 1.0, 1.0, 1.0, 1.0, 1.0, 1.0, 1.0, 1.0, 1.0, 1.0, 1.0, 1.0, 1.0, 1.0, 1.0, 1.0, 1.0, 1.0, 1.0, 1.0, 1.0, 1.0, 1.0, 1.0, 1.0, 1.0, 1.0, 1.0, 1.0, 1.0, 1.0, 1.0, 1.0, 1.0, 1.0, 1.0, 1.0, 1.0, 1.0, 1.0, 1.0, 1.0, 1.0, 1.0, 1.0, 1.0, 1.0, 1.0, 1.0, 1.0, 1.0, 1.0, 1.0, 1.0, 1.0, 1.0, 1.0, 1.0, 1.0, 1.0, 1.0, 1.0, 1.0, 1.0, 1.0, 1.0, 1.0, 1.0, 1.0, 1.0, 1.0, 1.0, 1.0, 1.0, 1.0, 1.0, 1.0, 1.0, 1.0, 1.0, 1.0, 1.0, 1.0, 1.0, 1.0, 1.0, 1.0, 1.0, 1.0, 1.0, 1.0, 1.0, 1.0, 1.0, 1.0, 1.0, 1.0, 1.0, 1.0, 1.0, 1.0, 1.0, 1.0, 1.0, 1.0, 1.0, 1.0, 1.0, 1.0, 1.0, 1.0, 1.0, 1.0, 1.0, 1.0, 1.0, 1.0, 1.0, 1.0, 1.0, 1.0, 1.0, 1.0, 1.0, 1.0, 1.0, 1.0, 1.0, 1.0, 1.0, 1.0, 1.0, 1.0, 1.0, 1.0, 1.0, 1.0, 1.0, 1.0, 1.0, 1.0, 1.0, 1.0, 1.0, 1.0, 1.0, 1.0, 1.0, 1.0, 1.0, 1.0, 1.0, 1.0, 1.0, 1.0, 1.0, 1.0, 1.0, 1.0, 1.0, 1.0, 1.0, 1.0, 1.0, 1.0, 1.0, 1.0, 1.0, 1.0, 1.0, 1.0, 1.0, 1.0, 1.0, 1.0, 1.0, 1.0, 1.0, 1.0, 1.0, 1.0, 1.0, 1.0, 1.0, 1.0, 1.0, 1.0, 1.0, 1.0, 1.0, 1.0, 1.0, 1.0, 1.0, 1.0, 1.0, 1.0, 1.0, 1.0, 1.0, 1.0, 1.0, 1.0, 1.0, 1.0, 1.0, 1.0, 1.0, 1.0, 1.0, 1.0, 1.0, 1.0, 1.0, 1.0, 1.0, 1.0, 1.0, 1.0, 1.0, 1.0, 1.0, 1.0, 1.0, 1.0, 1.0, 1.0, 1.0, 1.0, 1.0, 1.0, 1.0, 1.0, 1.0, 1.0, 1.0, 1.0, 1.0, 1.0, 1.0, 1.0, 1.0, 1.0, 1.0, 1.0, 1.0, 1.0, 1.0, 1.0, 1.0, 1.0, 1.0, 1.0, 1.0, 1.0, 1.0, 1.0, 1.0, 1.0, 1.0, 1.0, 1.0, 1.0, 1.0, 1.0, 1.0, 1.0, 1.0, 1.0, 1.0, 1.0, 1.0, 1.0, 1.0, 1.0, 1.0, 1.0, 1.0, 1.0, 1.0, 1.0, 1.0, 1.0, 1.0, 1.0, 1.0, 1.0, 1.0, 1.0, 1.0, 1.0, 1.0, 1.0, 1.0, 1.0, 1.0, 1.0, 1.0, 1.0, 1.0, 1.0, 1.0, 1.0, 1.0, 1.0, 1.0, 1.0, 1.0, 1.0, 1.0, 1.0, 1.0, 1.0, 1.0, 1.0, 1.0, 1.0, 1.0, 1.0, 1.0, 1.0, 1.0, 1.0, 1.0, 1.0, 1.0, 1.0, 1.0, 1.0, 1.0, 1.0, 1.0, 1.0, 1.0, 1.0, 1.0, 1.0, 1.0, 1.0, 1.0, 1.0, 1.0, 1.0, 1.0, 1.0, 1.0, 1.0, 1.0, 1.0, 1.0, 1.0, 1.0, 1.0, 1.0, 1.0, 1.0, 1.0, 1.0, 1.0, 1.0, 1.0, 1.0, 1.0, 1.0, 1.0, 1.0, 1.0, 1.0, 1.0, 1.0, 1.0, 1.0, 1.0, 1.0, 1.0, 1.0, 1.0, 1.0, 1.0, 1.0, 1.0, 1.0, 1.0, 1.0, 1.0, 1.0, 1.0, 1.0, 1.0, 1.0, 1.0, 1.0, 1.0, 1.0, 1.0, 1.0, 1.0, 1.0, 1.0, 1.0, 1.0, 1.0, 1.0, 1.0, 1.0, 1.0, 1.0, 1.0, 1.0, 1.0, 1.0, 1.0, 1.0, 1.0, 1.0, 1.0, 1.0, 1.0, 1.0, 1.0, 1.0, 1.0, 1.0, 1.0, 1.0, 1.0, 1.0, 1.0, 1.0, 1.0, 1.0, 1.0, 1.0, 1.0, 1.0, 1.0, 1.0, 1.0, 1.0, 1.0, 1.0, 1.0, 1.0, 1.0, 1.0, 1.0, 1.0, 1.0, 1.0, 1.0, 1.0, 1.0, 1.0, 1.0, 1.0, 1.0, 1.0, 1.0, 1.0, 1.0, 1.0, 1.0, 1.0, 1.0, 1.0, 1.0, 1.0, 1.0, 1.0, 1.0, 1.0, 1.0, 1.0, 1.0, 1.0, 1.0, 1.0, 1.0, 1.0, 1.0, 1.0, 1.0, 1.0, 1.0, 1.0, 1.0, 1.0, 1.0, 1.0, 1.0, 1.0, 1.0, 1.0, 1.0, 1.0, 1.0, 1.0, 1.0, 1.0, 1.0, 1.0, 1.0, 1.0, 1.0, 1.0, 1.0, 1.0, 1.0, 1.0, 1.0, 1.0, 1.0, 1.0, 1.0, 1.0, 1.0, 1.0, 1.0, 1.0, 1.0, 1.0, 1.0, 1.0, 1.0, 1.0, 1.0, 1.0, 1.0, 1.0, 1.0, 1.0, 1.0, 1.0, 1.0, 1.0, 1.0, 1.0, 1.0, 1.0, 1.0, 1.0, 1.0, 1.0, 1.0, 1.0, 1.0, 1.0, 1.0, 1.0, 1.0, 1.0, 1.0, 1.0, 1.0, 1.0, 1.0, 1.0, 1.0, 1.0, 1.0, 1.0, 1.0, 1.0, 1.0, 1.0, 1.0, 1.0, 1.0, 1.0, 1.0, 1.0, 1.0]\n",
            "sp: [1.0, 1.0, 1.0, 1.0, 1.0, 1.0, 1.0, 1.0, 1.0, 1.0, 1.0, 1.0, 1.0, 1.0, 1.0, 1.0, 1.0, 1.0, 1.0, 1.0, 1.0, 1.0, 1.0, 1.0, 1.0, 1.0, 1.0, 1.0, 1.0, 1.0, 1.0, 1.0, 1.0, 1.0, 1.0, 1.0, 1.0, 1.0, 1.0, 1.0, 1.0, 1.0, 1.0, 1.0, 1.0, 1.0, 1.0, 1.0, 1.0, 1.0, 1.0, 1.0, 1.0, 1.0, 1.0, 1.0, 1.0, 1.0, 1.0, 1.0, 1.0, 1.0, 1.0, 1.0, 1.0, 1.0, 1.0, 1.0, 1.0, 1.0, 1.0, 1.0, 1.0, 1.0, 1.0, 1.0, 1.0, 1.0, 1.0, 1.0, 1.0, 1.0, 1.0, 1.0, 1.0, 1.0, 1.0, 1.0, 1.0, 1.0, 1.0, 1.0, 1.0, 1.0, 1.0, 1.0, 1.0, 1.0, 1.0, 1.0, 1.0, 1.0, 1.0, 1.0, 1.0, 1.0, 1.0, 1.0, 1.0, 1.0, 1.0, 1.0, 1.0, 1.0, 1.0, 1.0, 1.0, 1.0, 1.0, 1.0, 1.0, 1.0, 1.0, 1.0, 1.0, 1.0, 1.0, 1.0, 1.0, 1.0, 1.0, 1.0, 1.0, 1.0, 1.0, 1.0, 1.0, 1.0, 1.0, 1.0, 1.0, 1.0, 1.0, 1.0, 1.0, 1.0, 1.0, 1.0, 1.0, 1.0, 1.0, 1.0, 1.0, 1.0, 1.0, 1.0, 1.0, 1.0, 1.0, 1.0, 1.0, 1.0, 1.0, 1.0, 1.0, 1.0, 1.0, 1.0, 1.0, 1.0, 1.0, 1.0, 1.0, 1.0, 1.0, 1.0, 1.0, 1.0, 1.0, 1.0, 1.0, 1.0, 1.0, 1.0, 1.0, 1.0, 1.0, 1.0, 1.0, 1.0, 1.0, 1.0, 1.0, 1.0, 1.0, 1.0, 1.0, 1.0, 1.0, 1.0, 1.0, 1.0, 1.0, 1.0, 1.0, 1.0, 1.0, 1.0, 1.0, 1.0, 1.0, 1.0, 1.0, 1.0, 1.0, 1.0, 1.0, 1.0, 1.0, 1.0, 1.0, 1.0, 1.0, 1.0, 1.0, 1.0, 1.0, 1.0, 1.0, 1.0, 1.0, 1.0, 1.0, 1.0, 1.0, 1.0, 1.0, 1.0, 1.0, 1.0, 1.0, 1.0, 1.0, 1.0, 1.0, 1.0, 1.0, 1.0, 1.0, 1.0, 1.0, 1.0, 1.0, 1.0, 1.0, 1.0, 1.0, 1.0, 1.0, 1.0, 1.0, 1.0, 1.0, 1.0, 1.0, 1.0, 1.0, 1.0, 1.0, 1.0, 1.0, 1.0, 1.0, 1.0, 1.0, 1.0, 1.0, 1.0, 1.0, 1.0, 1.0, 1.0, 1.0, 1.0, 1.0, 1.0, 1.0, 1.0, 1.0, 1.0, 1.0, 1.0, 1.0, 1.0, 1.0, 1.0, 1.0, 1.0, 1.0, 1.0, 1.0, 1.0, 1.0, 1.0, 1.0, 1.0, 1.0, 1.0, 1.0, 1.0, 1.0, 1.0, 1.0, 1.0, 1.0, 1.0, 1.0, 1.0, 1.0, 1.0, 1.0, 1.0, 1.0, 1.0, 1.0, 1.0, 1.0, 1.0, 1.0, 1.0, 1.0, 1.0, 1.0, 1.0, 1.0, 1.0, 1.0, 1.0, 1.0, 1.0, 1.0, 1.0, 1.0, 1.0, 1.0, 1.0, 1.0, 1.0, 1.0, 1.0, 1.0, 1.0, 1.0, 1.0, 1.0, 1.0, 1.0, 1.0, 1.0, 1.0, 1.0, 1.0, 1.0, 1.0, 1.0, 1.0, 1.0, 1.0, 1.0, 1.0, 1.0, 1.0, 1.0, 1.0, 1.0, 1.0, 1.0, 1.0, 1.0, 1.0, 1.0, 1.0, 1.0, 1.0, 1.0, 1.0, 1.0, 1.0, 1.0, 1.0, 1.0, 1.0, 1.0, 1.0, 1.0, 1.0, 1.0, 1.0, 1.0, 1.0, 1.0, 1.0, 1.0, 1.0, 1.0, 1.0, 1.0, 1.0, 1.0, 1.0, 1.0, 1.0, 1.0, 1.0, 1.0, 1.0, 1.0, 1.0, 1.0, 1.0, 1.0, 1.0, 1.0, 1.0, 1.0, 1.0, 1.0, 1.0, 1.0, 1.0, 1.0, 1.0, 1.0, 1.0, 1.0, 1.0, 1.0, 1.0, 1.0, 1.0, 1.0, 1.0, 1.0, 1.0, 1.0, 1.0, 1.0, 1.0, 1.0, 1.0, 1.0, 1.0, 1.0, 1.0, 1.0, 1.0, 1.0, 1.0, 1.0, 1.0, 1.0, 1.0, 1.0, 1.0, 1.0, 1.0, 1.0, 1.0, 1.0, 1.0, 1.0, 1.0, 1.0, 1.0, 1.0, 1.0, 1.0, 1.0, 1.0, 1.0, 1.0, 1.0, 1.0, 1.0, 1.0, 1.0, 1.0, 1.0, 1.0, 1.0, 1.0, 1.0, 1.0, 1.0, 1.0, 1.0, 1.0, 1.0, 1.0, 1.0, 1.0, 1.0, 1.0, 1.0, 1.0, 1.0, 1.0, 1.0, 1.0, 1.0, 1.0, 1.0, 1.0, 1.0, 1.0, 1.0, 1.0, 1.0, 1.0, 1.0, 1.0, 1.0, 1.0, 1.0, 1.0, 1.0, 1.0, 1.0, 1.0, 1.0, 1.0, 1.0, 1.0, 1.0, 1.0, 1.0, 1.0, 1.0, 1.0, 1.0, 1.0, 1.0, 1.0, 1.0, 1.0, 1.0, 1.0, 1.0, 1.0, 1.0, 1.0, 1.0, 1.0, 1.0, 1.0, 1.0, 1.0, 1.0, 1.0, 1.0, 1.0, 1.0, 1.0, 1.0, 1.0, 1.0, 1.0, 1.0, 1.0, 1.0, 1.0, 1.0, 1.0, 1.0, 1.0, 1.0, 1.0, 1.0, 1.0, 1.0, 1.0, 1.0, 1.0, 1.0, 1.0, 1.0, 1.0, 1.0, 1.0, 1.0, 1.0, 1.0, 1.0, 1.0, 1.0, 1.0, 1.0, 1.0, 1.0, 1.0, 1.0, 1.0, 1.0, 1.0, 1.0, 1.0, 1.0, 1.0, 1.0, 1.0, 1.0, 1.0, 1.0, 1.0, 1.0, 1.0, 1.0, 1.0, 1.0, 1.0, 1.0, 1.0, 1.0, 1.0, 1.0, 1.0, 1.0, 1.0, 1.0, 1.0, 1.0, 1.0, 1.0, 1.0, 1.0, 1.0, 1.0, 1.0, 1.0, 1.0, 1.0, 1.0, 1.0, 1.0, 1.0, 1.0, 1.0, 1.0, 1.0, 1.0, 1.0, 1.0, 1.0, 1.0, 1.0, 1.0, 1.0, 1.0, 1.0, 1.0, 1.0, 1.0, 1.0, 1.0, 1.0, 1.0, 1.0, 1.0, 1.0, 1.0, 1.0, 1.0, 1.0, 1.0, 1.0, 1.0, 1.0, 1.0, 1.0, 1.0, 1.0, 1.0, 1.0, 1.0, 1.0, 1.0, 1.0, 1.0, 1.0, 1.0, 1.0, 1.0, 1.0, 1.0, 1.0, 1.0, 1.0, 1.0, 1.0, 1.0, 1.0, 1.0, 1.0, 1.0, 1.0, 1.0, 1.0, 1.0, 1.0, 1.0, 1.0, 1.0, 1.0, 1.0, 1.0, 1.0, 1.0, 1.0, 1.0, 1.0, 1.0, 1.0, 1.0, 1.0, 1.0, 1.0, 1.0, 1.0, 1.0, 1.0, 1.0, 1.0, 1.0, 1.0, 1.0, 1.0, 1.0, 1.0, 1.0, 1.0, 1.0, 1.0, 1.0, 1.0, 1.0, 1.0, 1.0, 1.0, 1.0, 1.0, 1.0, 1.0, 1.0, 1.0, 1.0, 1.0, 1.0, 1.0, 1.0, 1.0, 1.0, 1.0, 1.0, 1.0, 1.0, 1.0, 1.0, 1.0, 1.0, 1.0, 1.0, 1.0, 1.0, 1.0, 1.0, 1.0, 1.0, 1.0, 1.0, 1.0, 1.0, 1.0, 1.0, 1.0, 1.0, 1.0, 1.0, 1.0, 1.0, 1.0, 1.0, 1.0, 1.0, 1.0, 1.0, 1.0, 1.0, 1.0, 1.0, 1.0, 1.0, 1.0, 1.0, 1.0, 1.0, 1.0, 1.0, 1.0, 1.0, 1.0, 1.0, 1.0, 1.0, 1.0, 1.0, 1.0, 1.0, 1.0, 1.0, 1.0, 1.0, 1.0, 1.0, 1.0, 1.0, 1.0, 1.0, 1.0, 1.0, 1.0, 1.0, 1.0, 1.0, 1.0, 1.0, 1.0, 1.0, 1.0, 1.0, 1.0, 1.0, 1.0, 1.0, 1.0, 1.0, 1.0, 1.0, 1.0, 1.0, 1.0, 1.0, 1.0, 1.0, 1.0, 1.0, 1.0, 1.0, 1.0, 1.0, 1.0, 1.0, 1.0, 1.0, 1.0, 1.0, 1.0, 1.0, 1.0, 1.0, 1.0, 1.0, 1.0, 1.0, 1.0, 1.0, 1.0, 1.0, 1.0, 1.0, 1.0, 1.0, 1.0, 1.0, 1.0, 1.0, 1.0, 1.0, 1.0, 1.0, 1.0, 1.0, 1.0, 1.0, 1.0, 1.0, 1.0, 1.0, 1.0, 1.0, 1.0, 1.0, 1.0, 1.0, 1.0, 1.0, 1.0, 1.0, 1.0, 1.0, 1.0, 1.0, 1.0, 1.0, 1.0, 1.0, 1.0, 1.0, 1.0, 1.0, 1.0, 1.0, 1.0, 1.0, 1.0, 1.0, 1.0, 1.0, 1.0, 1.0, 1.0, 1.0, 1.0, 1.0, 1.0, 1.0, 1.0, 1.0, 1.0, 1.0, 1.0, 1.0, 1.0, 1.0, 1.0, 1.0, 1.0, 1.0, 1.0, 1.0, 1.0, 1.0, 1.0, 1.0, 1.0, 1.0, 1.0, 1.0, 1.0, 1.0, 1.0, 1.0, 1.0, 1.0, 1.0, 1.0, 1.0, 1.0, 1.0, 1.0, 1.0, 1.0, 1.0, 1.0, 1.0, 1.0, 1.0, 1.0, 1.0, 1.0, 1.0, 1.0, 1.0, 1.0, 1.0, 1.0, 1.0, 1.0, 1.0, 1.0, 1.0, 1.0, 1.0, 1.0, 1.0, 1.0, 1.0, 1.0, 1.0, 1.0, 1.0]\n",
            "sd_acc: 0.006067042153683595\n",
            "sd_f1: 0.004306772776841184\n",
            "sd_mcc: 0.0\n",
            "sd_sn: 0.0\n",
            "sd_sp: 0.0\n",
            "              precision    recall  f1-score   support\n",
            "\n",
            "           0       0.00      0.00      0.00      1821\n",
            "           1       0.68      1.00      0.81      3849\n",
            "\n",
            "    accuracy                           0.68      5670\n",
            "   macro avg       0.34      0.50      0.40      5670\n",
            "weighted avg       0.46      0.68      0.55      5670\n",
            "\n"
          ]
        },
        {
          "name": "stderr",
          "output_type": "stream",
          "text": [
            "/usr/local/lib/python3.10/dist-packages/sklearn/metrics/_classification.py:1344: UndefinedMetricWarning: Precision and F-score are ill-defined and being set to 0.0 in labels with no predicted samples. Use `zero_division` parameter to control this behavior.\n",
            "  _warn_prf(average, modifier, msg_start, len(result))\n",
            "/usr/local/lib/python3.10/dist-packages/sklearn/metrics/_classification.py:1344: UndefinedMetricWarning: Precision and F-score are ill-defined and being set to 0.0 in labels with no predicted samples. Use `zero_division` parameter to control this behavior.\n",
            "  _warn_prf(average, modifier, msg_start, len(result))\n",
            "/usr/local/lib/python3.10/dist-packages/sklearn/metrics/_classification.py:1344: UndefinedMetricWarning: Precision and F-score are ill-defined and being set to 0.0 in labels with no predicted samples. Use `zero_division` parameter to control this behavior.\n",
            "  _warn_prf(average, modifier, msg_start, len(result))\n"
          ]
        },
        {
          "data": {
            "text/plain": [
              "(0.006067042153683595, 0.0, 0.004306772776841184)"
            ]
          },
          "execution_count": 85,
          "metadata": {},
          "output_type": "execute_result"
        }
      ],
      "source": [
        "predicted_training_labels = classifier.predict(X_train)\n",
        "predicted_training_labels = np.where(predicted_training_labels > 0.5, 1, 0)\n",
        "predicted_training_labels = np.reshape(predicted_training_labels,(len(predicted_training_labels),)).astype(int)\n",
        "error_rate(Y_train, predicted_training_labels)"
      ]
    },
    {
      "cell_type": "code",
      "execution_count": null,
      "id": "EZNsQYdJ4iGL",
      "metadata": {
        "colab": {
          "background_save": true
        },
        "id": "EZNsQYdJ4iGL",
        "outputId": "3d1cd9c9-e034-49fb-ef4d-583dbc6b7c2c"
      },
      "outputs": [
        {
          "name": "stdout",
          "output_type": "stream",
          "text": [
            "43/43 [==============================] - 6s 133ms/step\n",
            "acc: 0.862094395280236\n",
            "f1: 0.925940594059406\n",
            "mcc: 0.0\n",
            "sn: [1.0, 1.0, 1.0, 1.0, 1.0, 1.0, 1.0, 1.0, 1.0, 1.0, 1.0, 1.0, 1.0, 1.0, 1.0, 1.0, 1.0, 1.0, 1.0, 1.0, 1.0, 1.0, 1.0, 1.0, 1.0, 1.0, 1.0, 1.0, 1.0, 1.0, 1.0, 1.0, 1.0, 1.0, 1.0, 1.0, 1.0, 1.0, 1.0, 1.0, 1.0, 1.0, 1.0, 1.0, 1.0, 1.0, 1.0, 1.0, 1.0, 1.0, 1.0, 1.0, 1.0, 1.0, 1.0, 1.0, 1.0, 1.0, 1.0, 1.0, 1.0, 1.0, 1.0, 1.0, 1.0, 1.0, 1.0, 1.0, 1.0, 1.0, 1.0, 1.0, 1.0, 1.0, 1.0, 1.0, 1.0, 1.0, 1.0, 1.0, 1.0, 1.0, 1.0, 1.0, 1.0, 1.0, 1.0, 1.0, 1.0, 1.0, 1.0, 1.0, 1.0, 1.0, 1.0, 1.0, 1.0, 1.0, 1.0, 1.0, 1.0, 1.0, 1.0, 1.0, 1.0, 1.0, 1.0, 1.0, 1.0, 1.0, 1.0, 1.0, 1.0, 1.0, 1.0, 1.0, 1.0, 1.0, 1.0, 1.0, 1.0, 1.0, 1.0, 1.0, 1.0, 1.0, 1.0, 1.0, 1.0, 1.0, 1.0, 1.0, 1.0, 1.0, 1.0, 1.0, 1.0, 1.0, 1.0, 1.0, 1.0, 1.0, 1.0, 1.0, 1.0, 1.0, 1.0, 1.0, 1.0, 1.0, 1.0, 1.0, 1.0, 1.0, 1.0, 1.0, 1.0, 1.0, 1.0, 1.0, 1.0, 1.0, 1.0, 1.0, 1.0, 1.0, 1.0, 1.0, 1.0, 1.0, 1.0, 1.0, 1.0, 1.0, 1.0, 1.0, 1.0, 1.0, 1.0, 1.0, 1.0, 1.0, 1.0, 1.0, 1.0, 1.0, 1.0, 1.0, 1.0, 1.0, 1.0, 1.0, 1.0, 1.0, 1.0, 1.0, 1.0, 1.0, 1.0, 1.0, 1.0, 1.0, 1.0, 1.0, 1.0, 1.0, 1.0, 1.0, 1.0, 1.0, 1.0, 1.0, 1.0, 1.0, 1.0, 1.0, 1.0, 1.0, 1.0, 1.0, 1.0, 1.0, 1.0, 1.0, 1.0, 1.0, 1.0, 1.0, 1.0, 1.0, 1.0, 1.0, 1.0, 1.0, 1.0, 1.0, 1.0, 1.0, 1.0, 1.0, 1.0, 1.0, 1.0, 1.0, 1.0, 1.0, 1.0, 1.0, 1.0, 1.0, 1.0, 1.0, 1.0, 1.0, 1.0, 1.0, 1.0, 1.0, 1.0, 1.0, 1.0, 1.0, 1.0, 1.0, 1.0, 1.0, 1.0, 1.0, 1.0, 1.0, 1.0, 1.0, 1.0, 1.0, 1.0, 1.0, 1.0, 1.0, 1.0, 1.0, 1.0, 1.0, 1.0, 1.0, 1.0, 1.0, 1.0, 1.0, 1.0, 1.0, 1.0, 1.0, 1.0, 1.0, 1.0, 1.0, 1.0, 1.0, 1.0, 1.0, 1.0, 1.0, 1.0, 1.0, 1.0, 1.0, 1.0, 1.0, 1.0, 1.0, 1.0, 1.0, 1.0, 1.0, 1.0, 1.0, 1.0, 1.0, 1.0, 1.0, 1.0, 1.0, 1.0, 1.0, 1.0, 1.0, 1.0, 1.0, 1.0, 1.0, 1.0, 1.0, 1.0, 1.0, 1.0, 1.0, 1.0, 1.0, 1.0, 1.0, 1.0, 1.0, 1.0, 1.0, 1.0, 1.0, 1.0, 1.0, 1.0, 1.0, 1.0, 1.0, 1.0, 1.0, 1.0, 1.0, 1.0, 1.0, 1.0, 1.0, 1.0, 1.0, 1.0, 1.0, 1.0, 1.0, 1.0, 1.0, 1.0, 1.0, 1.0, 1.0, 1.0, 1.0, 1.0, 1.0, 1.0, 1.0, 1.0, 1.0, 1.0, 1.0, 1.0, 1.0, 1.0, 1.0, 1.0, 1.0, 1.0, 1.0, 1.0, 1.0, 1.0, 1.0, 1.0, 1.0, 1.0, 1.0, 1.0, 1.0, 1.0, 1.0, 1.0, 1.0, 1.0, 1.0, 1.0, 1.0, 1.0, 1.0, 1.0, 1.0, 1.0, 1.0, 1.0, 1.0, 1.0, 1.0, 1.0, 1.0, 1.0, 1.0, 1.0, 1.0, 1.0, 1.0, 1.0, 1.0, 1.0, 1.0, 1.0, 1.0, 1.0, 1.0, 1.0, 1.0, 1.0, 1.0, 1.0, 1.0, 1.0, 1.0, 1.0, 1.0, 1.0, 1.0, 1.0, 1.0, 1.0, 1.0, 1.0, 1.0, 1.0, 1.0, 1.0, 1.0, 1.0, 1.0, 1.0, 1.0, 1.0, 1.0, 1.0, 1.0, 1.0, 1.0, 1.0, 1.0, 1.0, 1.0, 1.0, 1.0, 1.0, 1.0, 1.0, 1.0, 1.0, 1.0, 1.0, 1.0, 1.0, 1.0, 1.0, 1.0, 1.0, 1.0, 1.0, 1.0, 1.0, 1.0, 1.0, 1.0, 1.0, 1.0, 1.0, 1.0, 1.0, 1.0, 1.0, 1.0, 1.0, 1.0, 1.0, 1.0, 1.0, 1.0, 1.0, 1.0, 1.0, 1.0, 1.0, 1.0, 1.0, 1.0, 1.0, 1.0, 1.0, 1.0, 1.0, 1.0, 1.0, 1.0, 1.0, 1.0, 1.0, 1.0, 1.0, 1.0, 1.0, 1.0, 1.0, 1.0, 1.0, 1.0, 1.0, 1.0, 1.0, 1.0, 1.0, 1.0, 1.0, 1.0, 1.0, 1.0, 1.0, 1.0, 1.0, 1.0, 1.0, 1.0, 1.0, 1.0, 1.0, 1.0, 1.0, 1.0, 1.0, 1.0, 1.0, 1.0, 1.0, 1.0, 1.0, 1.0, 1.0, 1.0, 1.0, 1.0, 1.0, 1.0, 1.0, 1.0, 1.0, 1.0, 1.0, 1.0, 1.0, 1.0, 1.0, 1.0, 1.0, 1.0, 1.0, 1.0, 1.0, 1.0, 1.0, 1.0, 1.0, 1.0, 1.0, 1.0, 1.0, 1.0, 1.0, 1.0, 1.0, 1.0, 1.0, 1.0, 1.0, 1.0, 1.0, 1.0, 1.0, 1.0, 1.0, 1.0, 1.0, 1.0, 1.0, 1.0, 1.0, 1.0, 1.0, 1.0, 1.0, 1.0, 1.0, 1.0, 1.0, 1.0, 1.0, 1.0, 1.0, 1.0, 1.0, 1.0, 1.0, 1.0, 1.0, 1.0, 1.0, 1.0, 1.0, 1.0, 1.0, 1.0, 1.0, 1.0, 1.0, 1.0, 1.0, 1.0, 1.0, 1.0, 1.0, 1.0, 1.0, 1.0, 1.0, 1.0, 1.0, 1.0, 1.0, 1.0, 1.0, 1.0, 1.0, 1.0, 1.0, 1.0, 1.0, 1.0, 1.0, 1.0, 1.0, 1.0, 1.0, 1.0, 1.0, 1.0, 1.0, 1.0, 1.0, 1.0, 1.0, 1.0, 1.0, 1.0, 1.0, 1.0, 1.0, 1.0, 1.0, 1.0, 1.0, 1.0, 1.0, 1.0, 1.0, 1.0, 1.0, 1.0, 1.0, 1.0, 1.0, 1.0, 1.0, 1.0, 1.0, 1.0, 1.0, 1.0, 1.0, 1.0, 1.0, 1.0, 1.0, 1.0, 1.0, 1.0, 1.0, 1.0, 1.0, 1.0, 1.0, 1.0, 1.0, 1.0, 1.0, 1.0, 1.0, 1.0, 1.0, 1.0, 1.0, 1.0, 1.0, 1.0, 1.0, 1.0, 1.0, 1.0, 1.0, 1.0, 1.0, 1.0, 1.0, 1.0, 1.0, 1.0, 1.0, 1.0, 1.0, 1.0, 1.0, 1.0, 1.0, 1.0, 1.0, 1.0, 1.0, 1.0, 1.0, 1.0, 1.0, 1.0, 1.0, 1.0, 1.0, 1.0, 1.0, 1.0, 1.0, 1.0, 1.0, 1.0, 1.0, 1.0, 1.0, 1.0, 1.0, 1.0, 1.0, 1.0, 1.0, 1.0, 1.0, 1.0, 1.0, 1.0, 1.0, 1.0, 1.0, 1.0, 1.0, 1.0, 1.0, 1.0, 1.0, 1.0, 1.0, 1.0, 1.0, 1.0, 1.0, 1.0, 1.0, 1.0, 1.0, 1.0, 1.0, 1.0, 1.0, 1.0, 1.0, 1.0, 1.0, 1.0, 1.0, 1.0, 1.0, 1.0, 1.0, 1.0, 1.0, 1.0, 1.0, 1.0, 1.0, 1.0, 1.0, 1.0, 1.0, 1.0, 1.0, 1.0, 1.0, 1.0, 1.0, 1.0, 1.0, 1.0, 1.0, 1.0, 1.0, 1.0, 1.0, 1.0, 1.0, 1.0, 1.0, 1.0, 1.0, 1.0, 1.0, 1.0, 1.0, 1.0, 1.0, 1.0, 1.0, 1.0, 1.0, 1.0, 1.0, 1.0, 1.0, 1.0, 1.0, 1.0, 1.0, 1.0, 1.0, 1.0, 1.0, 1.0, 1.0, 1.0, 1.0, 1.0, 1.0, 1.0, 1.0, 1.0, 1.0, 1.0, 1.0, 1.0, 1.0, 1.0, 1.0, 1.0, 1.0, 1.0, 1.0, 1.0, 1.0, 1.0, 1.0, 1.0, 1.0, 1.0, 1.0, 1.0, 1.0, 1.0, 1.0, 1.0, 1.0, 1.0, 1.0, 1.0, 1.0, 1.0, 1.0, 1.0, 1.0, 1.0, 1.0, 1.0, 1.0, 1.0, 1.0, 1.0, 1.0, 1.0, 1.0, 1.0, 1.0, 1.0, 1.0, 1.0, 1.0, 1.0, 1.0, 1.0, 1.0, 1.0, 1.0, 1.0, 1.0, 1.0, 1.0, 1.0, 1.0, 1.0, 1.0, 1.0, 1.0, 1.0, 1.0, 1.0, 1.0, 1.0, 1.0, 1.0, 1.0, 1.0, 1.0, 1.0, 1.0, 1.0, 1.0, 1.0, 1.0, 1.0, 1.0, 1.0, 1.0, 1.0, 1.0, 1.0, 1.0, 1.0, 1.0, 1.0, 1.0, 1.0, 1.0, 1.0, 1.0, 1.0, 1.0, 1.0, 1.0, 1.0, 1.0, 1.0, 1.0, 1.0, 1.0, 1.0, 1.0, 1.0, 1.0, 1.0, 1.0, 1.0, 1.0, 1.0, 1.0, 1.0, 1.0, 1.0, 1.0, 1.0, 1.0, 1.0]\n",
            "sp: [1.0, 1.0, 1.0, 1.0, 1.0, 1.0, 1.0, 1.0, 1.0, 1.0, 1.0, 1.0, 1.0, 1.0, 1.0, 1.0, 1.0, 1.0, 1.0, 1.0, 1.0, 1.0, 1.0, 1.0, 1.0, 1.0, 1.0, 1.0, 1.0, 1.0, 1.0, 1.0, 1.0, 1.0, 1.0, 1.0, 1.0, 1.0, 1.0, 1.0, 1.0, 1.0, 1.0, 1.0, 1.0, 1.0, 1.0, 1.0, 1.0, 1.0, 1.0, 1.0, 1.0, 1.0, 1.0, 1.0, 1.0, 1.0, 1.0, 1.0, 1.0, 1.0, 1.0, 1.0, 1.0, 1.0, 1.0, 1.0, 1.0, 1.0, 1.0, 1.0, 1.0, 1.0, 1.0, 1.0, 1.0, 1.0, 1.0, 1.0, 1.0, 1.0, 1.0, 1.0, 1.0, 1.0, 1.0, 1.0, 1.0, 1.0, 1.0, 1.0, 1.0, 1.0, 1.0, 1.0, 1.0, 1.0, 1.0, 1.0, 1.0, 1.0, 1.0, 1.0, 1.0, 1.0, 1.0, 1.0, 1.0, 1.0, 1.0, 1.0, 1.0, 1.0, 1.0, 1.0, 1.0, 1.0, 1.0, 1.0, 1.0, 1.0, 1.0, 1.0, 1.0, 1.0, 1.0, 1.0, 1.0, 1.0, 1.0, 1.0, 1.0, 1.0, 1.0, 1.0, 1.0, 1.0, 1.0, 1.0, 1.0, 1.0, 1.0, 1.0, 1.0, 1.0, 1.0, 1.0, 1.0, 1.0, 1.0, 1.0, 1.0, 1.0, 1.0, 1.0, 1.0, 1.0, 1.0, 1.0, 1.0, 1.0, 1.0, 1.0, 1.0, 1.0, 1.0, 1.0, 1.0, 1.0, 1.0, 1.0, 1.0, 1.0, 1.0, 1.0, 1.0, 1.0, 1.0, 1.0, 1.0, 1.0, 1.0, 1.0, 1.0, 1.0, 1.0, 1.0, 1.0, 1.0, 1.0, 1.0, 1.0, 1.0, 1.0, 1.0, 1.0, 1.0, 1.0, 1.0, 1.0, 1.0, 1.0, 1.0, 1.0, 1.0, 1.0, 1.0, 1.0, 1.0, 1.0, 1.0, 1.0, 1.0, 1.0, 1.0, 1.0, 1.0, 1.0, 1.0, 1.0, 1.0, 1.0, 1.0, 1.0, 1.0, 1.0, 1.0, 1.0, 1.0, 1.0, 1.0, 1.0, 1.0, 1.0, 1.0, 1.0, 1.0, 1.0, 1.0, 1.0, 1.0, 1.0, 1.0, 1.0, 1.0, 1.0, 1.0, 1.0, 1.0, 1.0, 1.0, 1.0, 1.0, 1.0, 1.0, 1.0, 1.0, 1.0, 1.0, 1.0, 1.0, 1.0, 1.0, 1.0, 1.0, 1.0, 1.0, 1.0, 1.0, 1.0, 1.0, 1.0, 1.0, 1.0, 1.0, 1.0, 1.0, 1.0, 1.0, 1.0, 1.0, 1.0, 1.0, 1.0, 1.0, 1.0, 1.0, 1.0, 1.0, 1.0, 1.0, 1.0, 1.0, 1.0, 1.0, 1.0, 1.0, 1.0, 1.0, 1.0, 1.0, 1.0, 1.0, 1.0, 1.0, 1.0, 1.0, 1.0, 1.0, 1.0, 1.0, 1.0, 1.0, 1.0, 1.0, 1.0, 1.0, 1.0, 1.0, 1.0, 1.0, 1.0, 1.0, 1.0, 1.0, 1.0, 1.0, 1.0, 1.0, 1.0, 1.0, 1.0, 1.0, 1.0, 1.0, 1.0, 1.0, 1.0, 1.0, 1.0, 1.0, 1.0, 1.0, 1.0, 1.0, 1.0, 1.0, 1.0, 1.0, 1.0, 1.0, 1.0, 1.0, 1.0, 1.0, 1.0, 1.0, 1.0, 1.0, 1.0, 1.0, 1.0, 1.0, 1.0, 1.0, 1.0, 1.0, 1.0, 1.0, 1.0, 1.0, 1.0, 1.0, 1.0, 1.0, 1.0, 1.0, 1.0, 1.0, 1.0, 1.0, 1.0, 1.0, 1.0, 1.0, 1.0, 1.0, 1.0, 1.0, 1.0, 1.0, 1.0, 1.0, 1.0, 1.0, 1.0, 1.0, 1.0, 1.0, 1.0, 1.0, 1.0, 1.0, 1.0, 1.0, 1.0, 1.0, 1.0, 1.0, 1.0, 1.0, 1.0, 1.0, 1.0, 1.0, 1.0, 1.0, 1.0, 1.0, 1.0, 1.0, 1.0, 1.0, 1.0, 1.0, 1.0, 1.0, 1.0, 1.0, 1.0, 1.0, 1.0, 1.0, 1.0, 1.0, 1.0, 1.0, 1.0, 1.0, 1.0, 1.0, 1.0, 1.0, 1.0, 1.0, 1.0, 1.0, 1.0, 1.0, 1.0, 1.0, 1.0, 1.0, 1.0, 1.0, 1.0, 1.0, 1.0, 1.0, 1.0, 1.0, 1.0, 1.0, 1.0, 1.0, 1.0, 1.0, 1.0, 1.0, 1.0, 1.0, 1.0, 1.0, 1.0, 1.0, 1.0, 1.0, 1.0, 1.0, 1.0, 1.0, 1.0, 1.0, 1.0, 1.0, 1.0, 1.0, 1.0, 1.0, 1.0, 1.0, 1.0, 1.0, 1.0, 1.0, 1.0, 1.0, 1.0, 1.0, 1.0, 1.0, 1.0, 1.0, 1.0, 1.0, 1.0, 1.0, 1.0, 1.0, 1.0, 1.0, 1.0, 1.0, 1.0, 1.0, 1.0, 1.0, 1.0, 1.0, 1.0, 1.0, 1.0, 1.0, 1.0, 1.0, 1.0, 1.0, 1.0, 1.0, 1.0, 1.0, 1.0, 1.0, 1.0, 1.0, 1.0, 1.0, 1.0, 1.0, 1.0, 1.0, 1.0, 1.0, 1.0, 1.0, 1.0, 1.0, 1.0, 1.0, 1.0, 1.0, 1.0, 1.0, 1.0, 1.0, 1.0, 1.0, 1.0, 1.0, 1.0, 1.0, 1.0, 1.0, 1.0, 1.0, 1.0, 1.0, 1.0, 1.0, 1.0, 1.0, 1.0, 1.0, 1.0, 1.0, 1.0, 1.0, 1.0, 1.0, 1.0, 1.0, 1.0, 1.0, 1.0, 1.0, 1.0, 1.0, 1.0, 1.0, 1.0, 1.0, 1.0, 1.0, 1.0, 1.0, 1.0, 1.0, 1.0, 1.0, 1.0, 1.0, 1.0, 1.0, 1.0, 1.0, 1.0, 1.0, 1.0, 1.0, 1.0, 1.0, 1.0, 1.0, 1.0, 1.0, 1.0, 1.0, 1.0, 1.0, 1.0, 1.0, 1.0, 1.0, 1.0, 1.0, 1.0, 1.0, 1.0, 1.0, 1.0, 1.0, 1.0, 1.0, 1.0, 1.0, 1.0, 1.0, 1.0, 1.0, 1.0, 1.0, 1.0, 1.0, 1.0, 1.0, 1.0, 1.0, 1.0, 1.0, 1.0, 1.0, 1.0, 1.0, 1.0, 1.0, 1.0, 1.0, 1.0, 1.0, 1.0, 1.0, 1.0, 1.0, 1.0, 1.0, 1.0, 1.0, 1.0, 1.0, 1.0, 1.0, 1.0, 1.0, 1.0, 1.0, 1.0, 1.0, 1.0, 1.0, 1.0, 1.0, 1.0, 1.0, 1.0, 1.0, 1.0, 1.0, 1.0, 1.0, 1.0, 1.0, 1.0, 1.0, 1.0, 1.0, 1.0, 1.0, 1.0, 1.0, 1.0, 1.0, 1.0, 1.0, 1.0, 1.0, 1.0, 1.0, 1.0, 1.0, 1.0, 1.0, 1.0, 1.0, 1.0, 1.0, 1.0, 1.0, 1.0, 1.0, 1.0, 1.0, 1.0, 1.0, 1.0, 1.0, 1.0, 1.0, 1.0, 1.0, 1.0, 1.0, 1.0, 1.0, 1.0, 1.0, 1.0, 1.0, 1.0, 1.0, 1.0, 1.0, 1.0, 1.0, 1.0, 1.0, 1.0, 1.0, 1.0, 1.0, 1.0, 1.0, 1.0, 1.0, 1.0, 1.0, 1.0, 1.0, 1.0, 1.0, 1.0, 1.0, 1.0, 1.0, 1.0, 1.0, 1.0, 1.0, 1.0, 1.0, 1.0, 1.0, 1.0, 1.0, 1.0, 1.0, 1.0, 1.0, 1.0, 1.0, 1.0, 1.0, 1.0, 1.0, 1.0, 1.0, 1.0, 1.0, 1.0, 1.0, 1.0, 1.0, 1.0, 1.0, 1.0, 1.0, 1.0, 1.0, 1.0, 1.0, 1.0, 1.0, 1.0, 1.0, 1.0, 1.0, 1.0, 1.0, 1.0, 1.0, 1.0, 1.0, 1.0, 1.0, 1.0, 1.0, 1.0, 1.0, 1.0, 1.0, 1.0, 1.0, 1.0, 1.0, 1.0, 1.0, 1.0, 1.0, 1.0, 1.0, 1.0, 1.0, 1.0, 1.0, 1.0, 1.0, 1.0, 1.0, 1.0, 1.0, 1.0, 1.0, 1.0, 1.0, 1.0, 1.0, 1.0, 1.0, 1.0, 1.0, 1.0, 1.0, 1.0, 1.0, 1.0, 1.0, 1.0, 1.0, 1.0, 1.0, 1.0, 1.0, 1.0, 1.0, 1.0, 1.0, 1.0, 1.0, 1.0, 1.0, 1.0, 1.0, 1.0, 1.0, 1.0, 1.0, 1.0, 1.0, 1.0, 1.0, 1.0, 1.0, 1.0, 1.0, 1.0, 1.0, 1.0, 1.0, 1.0, 1.0, 1.0, 1.0, 1.0, 1.0, 1.0, 1.0, 1.0, 1.0, 1.0, 1.0, 1.0, 1.0, 1.0, 1.0, 1.0, 1.0, 1.0, 1.0, 1.0, 1.0, 1.0, 1.0, 1.0, 1.0, 1.0, 1.0, 1.0, 1.0, 1.0, 1.0, 1.0, 1.0, 1.0, 1.0, 1.0, 1.0, 1.0, 1.0, 1.0, 1.0, 1.0, 1.0, 1.0, 1.0, 1.0, 1.0, 1.0, 1.0, 1.0, 1.0, 1.0, 1.0, 1.0, 1.0, 1.0, 1.0, 1.0, 1.0, 1.0, 1.0, 1.0, 1.0, 1.0, 1.0, 1.0, 1.0, 1.0, 1.0, 1.0, 1.0, 1.0, 1.0, 1.0, 1.0, 1.0, 1.0, 1.0, 1.0, 1.0, 1.0, 1.0, 1.0, 1.0, 1.0, 1.0, 1.0, 1.0, 1.0, 1.0, 1.0, 1.0, 1.0, 1.0, 1.0, 1.0, 1.0, 1.0, 1.0, 1.0, 1.0, 1.0, 1.0, 1.0, 1.0, 1.0, 1.0, 1.0, 1.0, 1.0, 1.0]\n",
            "sd_acc: 0.009120942014934137\n",
            "sd_f1: 0.0052629142327598535\n",
            "sd_mcc: 0.0\n",
            "sd_sn: 0.0\n",
            "sd_sp: 0.0\n",
            "              precision    recall  f1-score   support\n",
            "\n",
            "           0       0.00      0.00      0.00       187\n",
            "           1       0.86      1.00      0.93      1169\n",
            "\n",
            "    accuracy                           0.86      1356\n",
            "   macro avg       0.43      0.50      0.46      1356\n",
            "weighted avg       0.74      0.86      0.80      1356\n",
            "\n"
          ]
        },
        {
          "name": "stderr",
          "output_type": "stream",
          "text": [
            "/usr/local/lib/python3.10/dist-packages/sklearn/metrics/_classification.py:1344: UndefinedMetricWarning: Precision and F-score are ill-defined and being set to 0.0 in labels with no predicted samples. Use `zero_division` parameter to control this behavior.\n",
            "  _warn_prf(average, modifier, msg_start, len(result))\n",
            "/usr/local/lib/python3.10/dist-packages/sklearn/metrics/_classification.py:1344: UndefinedMetricWarning: Precision and F-score are ill-defined and being set to 0.0 in labels with no predicted samples. Use `zero_division` parameter to control this behavior.\n",
            "  _warn_prf(average, modifier, msg_start, len(result))\n",
            "/usr/local/lib/python3.10/dist-packages/sklearn/metrics/_classification.py:1344: UndefinedMetricWarning: Precision and F-score are ill-defined and being set to 0.0 in labels with no predicted samples. Use `zero_division` parameter to control this behavior.\n",
            "  _warn_prf(average, modifier, msg_start, len(result))\n"
          ]
        },
        {
          "data": {
            "text/plain": [
              "(0.009120942014934137, 0.0, 0.0052629142327598535)"
            ]
          },
          "execution_count": 86,
          "metadata": {},
          "output_type": "execute_result"
        }
      ],
      "source": [
        "predicted_rnn = classifier.predict(X_test)\n",
        "predicted_rnn = np.where(predicted_rnn > 0.5, 1, 0)\n",
        "predicted_rnn = np.reshape(predicted_rnn,(len(predicted_rnn),)).astype(int)\n",
        "error_rate(Y_test, predicted_rnn)"
      ]
    },
    {
      "cell_type": "markdown",
      "id": "08-efAVMAMpe",
      "metadata": {
        "id": "08-efAVMAMpe"
      },
      "source": [
        "### GRU with GridSearch"
      ]
    },
    {
      "cell_type": "code",
      "execution_count": null,
      "id": "OkFKB2K0AMpe",
      "metadata": {
        "colab": {
          "background_save": true
        },
        "id": "OkFKB2K0AMpe"
      },
      "outputs": [],
      "source": [
        "import tensorflow as tf\n",
        "from tensorflow.keras.layers import SimpleRNN, Bidirectional, Input, Embedding, LSTM, Dropout, Dense, InputLayer, GRU\n",
        "from tensorflow.keras.models import Model, Sequential\n",
        "from keras import regularizers\n",
        "from keras.layers import Embedding, Bidirectional\n",
        "from keras.regularizers import l2\n",
        "from keras.wrappers.scikit_learn import KerasClassifier\n",
        "from time import time\n",
        "from tensorflow.keras import layers"
      ]
    },
    {
      "cell_type": "code",
      "execution_count": null,
      "id": "LpOrZtVaUy7L",
      "metadata": {
        "colab": {
          "background_save": true
        },
        "id": "LpOrZtVaUy7L"
      },
      "outputs": [],
      "source": [
        "from numpy.random import seed\n",
        "seed(1)"
      ]
    },
    {
      "cell_type": "code",
      "execution_count": null,
      "id": "CMBmAb4dUy7L",
      "metadata": {
        "colab": {
          "background_save": true
        },
        "id": "CMBmAb4dUy7L"
      },
      "outputs": [],
      "source": [
        "from tensorflow.keras.utils import set_random_seed\n",
        "set_random_seed(2)"
      ]
    },
    {
      "cell_type": "code",
      "execution_count": null,
      "id": "nqOBv6FqAMpe",
      "metadata": {
        "colab": {
          "background_save": true
        },
        "id": "nqOBv6FqAMpe"
      },
      "outputs": [],
      "source": [
        "max_length = 1280"
      ]
    },
    {
      "cell_type": "code",
      "execution_count": null,
      "id": "KIgk3kMWAMpf",
      "metadata": {
        "colab": {
          "background_save": true
        },
        "id": "KIgk3kMWAMpf"
      },
      "outputs": [],
      "source": [
        "X_train, X_test= train_dataset, test_dataset\n",
        "y_train, y_test = training_labels, testing_labels"
      ]
    },
    {
      "cell_type": "code",
      "execution_count": null,
      "id": "jekKhU6uAMpf",
      "metadata": {
        "colab": {
          "background_save": true
        },
        "id": "jekKhU6uAMpf"
      },
      "outputs": [],
      "source": [
        "X_train = np.reshape(X_train, (X_train.shape[0], X_train.shape[1],1))\n",
        "X_test = np.reshape(X_test, (X_test.shape[0], X_test.shape[1],1))"
      ]
    },
    {
      "cell_type": "code",
      "execution_count": null,
      "id": "-LtStluIAMpf",
      "metadata": {
        "colab": {
          "background_save": true
        },
        "id": "-LtStluIAMpf"
      },
      "outputs": [],
      "source": [
        "input_shape = X_train[1,:].shape"
      ]
    },
    {
      "cell_type": "code",
      "execution_count": null,
      "id": "IRScf_IEAMpf",
      "metadata": {
        "colab": {
          "background_save": true
        },
        "id": "IRScf_IEAMpf"
      },
      "outputs": [],
      "source": [
        "Y_train = np.reshape(y_train,(len(y_train),1)).astype(int)\n",
        "Y_test = np.reshape(y_test,(len(y_test),1)).astype(int)"
      ]
    },
    {
      "cell_type": "code",
      "execution_count": null,
      "id": "IAw2m_sEAMpf",
      "metadata": {
        "colab": {
          "background_save": true
        },
        "id": "IAw2m_sEAMpf"
      },
      "outputs": [],
      "source": [
        "def create_gru_model(dropout_rate=0.0, units=50, learning_rate_init=0.001, regularizer=0.0, solver='adam'):\n",
        "    x_input = layers.Input(input_shape)\n",
        "    #emb = Embedding(21, units, input_length=max_length)(x_input)\n",
        "    gru = GRU(units, activity_regularizer=l2(regularizer), return_sequences = True)(x_input) #kernel_regularizer=l2(0.01), recurrent_regularizer=l2(0.01), bias_regularizer=l2(0.01)\n",
        "    x = Dropout(dropout_rate)(gru)\n",
        "    gru2 =GRU(units, activity_regularizer=l2(dropout_rate))(x) #kernel_regularizer=l2(0.01), recurrent_regularizer=l2(0.01), bias_regularizer=l2(0.01)\n",
        "    x2 = Dropout(dropout_rate)(gru2)\n",
        "    # softmax classifier\n",
        "    x_output = Dense(1, activation='sigmoid')(x2)\n",
        "\n",
        "    model = Model(inputs=x_input, outputs=x_output)\n",
        "    # Compile model\n",
        "    model.compile(\n",
        "        optimizer=tf.keras.optimizers.Adam(learning_rate=learning_rate_init),#solver,#\n",
        "        loss='binary_crossentropy',\n",
        "        metrics=['accuracy'],\n",
        "        )\n",
        "    return model"
      ]
    },
    {
      "cell_type": "code",
      "execution_count": null,
      "id": "ZWjZhNmaAMpf",
      "metadata": {
        "colab": {
          "background_save": true
        },
        "id": "ZWjZhNmaAMpf",
        "outputId": "f6350799-c6ec-43d7-e68f-e260186e3a50"
      },
      "outputs": [
        {
          "name": "stdout",
          "output_type": "stream",
          "text": [
            "Model: \"model_4\"\n",
            "_________________________________________________________________\n",
            " Layer (type)                Output Shape              Param #   \n",
            "=================================================================\n",
            " input_5 (InputLayer)        [(None, 1536, 1)]         0         \n",
            "                                                                 \n",
            " gru_2 (GRU)                 (None, 1536, 50)          7950      \n",
            "                                                                 \n",
            " dropout_8 (Dropout)         (None, 1536, 50)          0         \n",
            "                                                                 \n",
            " gru_3 (GRU)                 (None, 50)                15300     \n",
            "                                                                 \n",
            " dropout_9 (Dropout)         (None, 50)                0         \n",
            "                                                                 \n",
            " dense_4 (Dense)             (None, 1)                 51        \n",
            "                                                                 \n",
            "=================================================================\n",
            "Total params: 23,301\n",
            "Trainable params: 23,301\n",
            "Non-trainable params: 0\n",
            "_________________________________________________________________\n"
          ]
        }
      ],
      "source": [
        "gru_model = create_gru_model()\n",
        "gru_model.summary()"
      ]
    },
    {
      "cell_type": "code",
      "execution_count": null,
      "id": "aEngQp4tAMpf",
      "metadata": {
        "colab": {
          "background_save": true
        },
        "id": "aEngQp4tAMpf",
        "outputId": "772a0034-8179-46e3-fee5-d34ef9ac9b42"
      },
      "outputs": [
        {
          "name": "stderr",
          "output_type": "stream",
          "text": [
            "<ipython-input-97-c73ca1a6eab2>:4: DeprecationWarning: KerasClassifier is deprecated, use Sci-Keras (https://github.com/adriangb/scikeras) instead. See https://www.adriangb.com/scikeras/stable/migration.html for help migrating.\n",
            "  model = KerasClassifier(build_fn=create_gru_model, verbose=1, batch_size = 256, epochs=10)\n"
          ]
        }
      ],
      "source": [
        "start = time()\n",
        "\n",
        "# create model\n",
        "model = KerasClassifier(build_fn=create_gru_model, verbose=1, batch_size = 256, epochs=10)\n",
        "# define parameters and values for grid search\n",
        "\n",
        "parameters = {\n",
        "    'units':[50], # 1024\n",
        "    #'learning_rate_init': [0.001, 0.01],\n",
        "    'solver':['adam'],\n",
        "    #'epochs':[3,5,10]\n",
        "    #'dropout_rate':[0.0,0.05, 0.1], #0.05\n",
        "    #'regularizer':[0.0,0.05, 0.1],\n",
        "}"
      ]
    },
    {
      "cell_type": "code",
      "execution_count": null,
      "id": "QhB4jEx8AMpg",
      "metadata": {
        "colab": {
          "background_save": true
        },
        "id": "QhB4jEx8AMpg"
      },
      "outputs": [],
      "source": [
        "metrics = {'accuracy':make_scorer(accuracy_score,greater_is_better=True),'f1':make_scorer(f1_score,greater_is_better=True),'mcc':make_scorer(matthews_corrcoef,greater_is_better=True)}"
      ]
    },
    {
      "cell_type": "code",
      "execution_count": null,
      "id": "OFG1wNb2AMpg",
      "metadata": {
        "colab": {
          "background_save": true
        },
        "id": "OFG1wNb2AMpg",
        "outputId": "15c16323-2e39-4050-efd0-f6129d52c6c4"
      },
      "outputs": [
        {
          "name": "stderr",
          "output_type": "stream",
          "text": [
            "/usr/local/lib/python3.10/dist-packages/joblib/externals/loky/backend/fork_exec.py:38: RuntimeWarning: os.fork() was called. os.fork() is incompatible with multithreaded code, and JAX is multithreaded, so this will likely lead to a deadlock.\n",
            "  pid = os.fork()\n"
          ]
        },
        {
          "name": "stdout",
          "output_type": "stream",
          "text": [
            "Epoch 1/10\n",
            "23/23 [==============================] - 56s 2s/step - loss: 0.6539 - accuracy: 0.6767\n",
            "Epoch 2/10\n",
            "23/23 [==============================] - 51s 2s/step - loss: 0.6295 - accuracy: 0.6788\n",
            "Epoch 3/10\n",
            "23/23 [==============================] - 50s 2s/step - loss: 0.6278 - accuracy: 0.6788\n",
            "Epoch 4/10\n",
            "23/23 [==============================] - 49s 2s/step - loss: 0.6279 - accuracy: 0.6788\n",
            "Epoch 5/10\n",
            "23/23 [==============================] - 49s 2s/step - loss: 0.6280 - accuracy: 0.6788\n",
            "Epoch 6/10\n",
            "23/23 [==============================] - 49s 2s/step - loss: 0.6283 - accuracy: 0.6788\n",
            "Epoch 7/10\n",
            "23/23 [==============================] - 49s 2s/step - loss: 0.6283 - accuracy: 0.6788\n",
            "Epoch 8/10\n",
            "23/23 [==============================] - 49s 2s/step - loss: 0.6285 - accuracy: 0.6788\n",
            "Epoch 9/10\n",
            "23/23 [==============================] - 49s 2s/step - loss: 0.6279 - accuracy: 0.6788\n",
            "Epoch 10/10\n",
            "23/23 [==============================] - 49s 2s/step - loss: 0.6284 - accuracy: 0.6788\n"
          ]
        }
      ],
      "source": [
        "grid = GridSearchCV(estimator=model, param_grid=parameters, n_jobs=-1, cv=10, scoring=metrics, refit='mcc')\n",
        "grid_result = grid.fit(X_train, Y_train)"
      ]
    },
    {
      "cell_type": "code",
      "execution_count": null,
      "id": "JE1zJUaAAMpg",
      "metadata": {
        "colab": {
          "background_save": true
        },
        "id": "JE1zJUaAAMpg"
      },
      "outputs": [],
      "source": [
        "classifier = grid.best_estimator_"
      ]
    },
    {
      "cell_type": "code",
      "execution_count": null,
      "id": "BL5EUnbHAMpg",
      "metadata": {
        "colab": {
          "background_save": true
        },
        "id": "BL5EUnbHAMpg",
        "outputId": "0e24a3d9-757f-487b-edfa-942d9f45c6a4"
      },
      "outputs": [
        {
          "data": {
            "text/plain": [
              "{'verbose': 1,\n",
              " 'batch_size': 256,\n",
              " 'epochs': 10,\n",
              " 'solver': 'adam',\n",
              " 'units': 50,\n",
              " 'build_fn': <function __main__.create_gru_model(dropout_rate=0.0, units=50, learning_rate_init=0.001, regularizer=0.0, solver='adam')>}"
            ]
          },
          "execution_count": 101,
          "metadata": {},
          "output_type": "execute_result"
        }
      ],
      "source": [
        "params = classifier.get_params()\n",
        "params"
      ]
    },
    {
      "cell_type": "code",
      "execution_count": null,
      "id": "vF8zMX5jAMpg",
      "metadata": {
        "colab": {
          "background_save": true
        },
        "id": "vF8zMX5jAMpg"
      },
      "outputs": [],
      "source": [
        "#cv_results = DataFrame(grid.cv_results_)\n",
        "\n",
        "#cv_results[['param_units','param_dropout_rate','param_regularizer','split0_test_score', 'split1_test_score', 'split2_test_score']]"
      ]
    },
    {
      "cell_type": "code",
      "execution_count": null,
      "id": "nIC-yOznAMpg",
      "metadata": {
        "colab": {
          "background_save": true
        },
        "id": "nIC-yOznAMpg"
      },
      "outputs": [],
      "source": [
        "df =pd.DataFrame(grid.cv_results_)\n",
        "new_path = '/content/test.xls'\n",
        "writer = pd.ExcelWriter(new_path, engine='xlsxwriter')\n",
        "df.to_excel('/content/drive/MyDrive/Halophilic/AnkhGRU.xlsx')"
      ]
    },
    {
      "cell_type": "code",
      "execution_count": null,
      "id": "fyNEgPlWAMpg",
      "metadata": {
        "colab": {
          "background_save": true
        },
        "id": "fyNEgPlWAMpg",
        "outputId": "106b82f8-35a7-4a0f-f075-99cbdb19fc95"
      },
      "outputs": [
        {
          "name": "stdout",
          "output_type": "stream",
          "text": [
            "178/178 [==============================] - 45s 250ms/step\n",
            "acc: 0.6788359788359788\n",
            "f1: 0.8086983926883076\n",
            "mcc: 0.0\n",
            "sn: [1.0, 1.0, 1.0, 1.0, 1.0, 1.0, 1.0, 1.0, 1.0, 1.0, 1.0, 1.0, 1.0, 1.0, 1.0, 1.0, 1.0, 1.0, 1.0, 1.0, 1.0, 1.0, 1.0, 1.0, 1.0, 1.0, 1.0, 1.0, 1.0, 1.0, 1.0, 1.0, 1.0, 1.0, 1.0, 1.0, 1.0, 1.0, 1.0, 1.0, 1.0, 1.0, 1.0, 1.0, 1.0, 1.0, 1.0, 1.0, 1.0, 1.0, 1.0, 1.0, 1.0, 1.0, 1.0, 1.0, 1.0, 1.0, 1.0, 1.0, 1.0, 1.0, 1.0, 1.0, 1.0, 1.0, 1.0, 1.0, 1.0, 1.0, 1.0, 1.0, 1.0, 1.0, 1.0, 1.0, 1.0, 1.0, 1.0, 1.0, 1.0, 1.0, 1.0, 1.0, 1.0, 1.0, 1.0, 1.0, 1.0, 1.0, 1.0, 1.0, 1.0, 1.0, 1.0, 1.0, 1.0, 1.0, 1.0, 1.0, 1.0, 1.0, 1.0, 1.0, 1.0, 1.0, 1.0, 1.0, 1.0, 1.0, 1.0, 1.0, 1.0, 1.0, 1.0, 1.0, 1.0, 1.0, 1.0, 1.0, 1.0, 1.0, 1.0, 1.0, 1.0, 1.0, 1.0, 1.0, 1.0, 1.0, 1.0, 1.0, 1.0, 1.0, 1.0, 1.0, 1.0, 1.0, 1.0, 1.0, 1.0, 1.0, 1.0, 1.0, 1.0, 1.0, 1.0, 1.0, 1.0, 1.0, 1.0, 1.0, 1.0, 1.0, 1.0, 1.0, 1.0, 1.0, 1.0, 1.0, 1.0, 1.0, 1.0, 1.0, 1.0, 1.0, 1.0, 1.0, 1.0, 1.0, 1.0, 1.0, 1.0, 1.0, 1.0, 1.0, 1.0, 1.0, 1.0, 1.0, 1.0, 1.0, 1.0, 1.0, 1.0, 1.0, 1.0, 1.0, 1.0, 1.0, 1.0, 1.0, 1.0, 1.0, 1.0, 1.0, 1.0, 1.0, 1.0, 1.0, 1.0, 1.0, 1.0, 1.0, 1.0, 1.0, 1.0, 1.0, 1.0, 1.0, 1.0, 1.0, 1.0, 1.0, 1.0, 1.0, 1.0, 1.0, 1.0, 1.0, 1.0, 1.0, 1.0, 1.0, 1.0, 1.0, 1.0, 1.0, 1.0, 1.0, 1.0, 1.0, 1.0, 1.0, 1.0, 1.0, 1.0, 1.0, 1.0, 1.0, 1.0, 1.0, 1.0, 1.0, 1.0, 1.0, 1.0, 1.0, 1.0, 1.0, 1.0, 1.0, 1.0, 1.0, 1.0, 1.0, 1.0, 1.0, 1.0, 1.0, 1.0, 1.0, 1.0, 1.0, 1.0, 1.0, 1.0, 1.0, 1.0, 1.0, 1.0, 1.0, 1.0, 1.0, 1.0, 1.0, 1.0, 1.0, 1.0, 1.0, 1.0, 1.0, 1.0, 1.0, 1.0, 1.0, 1.0, 1.0, 1.0, 1.0, 1.0, 1.0, 1.0, 1.0, 1.0, 1.0, 1.0, 1.0, 1.0, 1.0, 1.0, 1.0, 1.0, 1.0, 1.0, 1.0, 1.0, 1.0, 1.0, 1.0, 1.0, 1.0, 1.0, 1.0, 1.0, 1.0, 1.0, 1.0, 1.0, 1.0, 1.0, 1.0, 1.0, 1.0, 1.0, 1.0, 1.0, 1.0, 1.0, 1.0, 1.0, 1.0, 1.0, 1.0, 1.0, 1.0, 1.0, 1.0, 1.0, 1.0, 1.0, 1.0, 1.0, 1.0, 1.0, 1.0, 1.0, 1.0, 1.0, 1.0, 1.0, 1.0, 1.0, 1.0, 1.0, 1.0, 1.0, 1.0, 1.0, 1.0, 1.0, 1.0, 1.0, 1.0, 1.0, 1.0, 1.0, 1.0, 1.0, 1.0, 1.0, 1.0, 1.0, 1.0, 1.0, 1.0, 1.0, 1.0, 1.0, 1.0, 1.0, 1.0, 1.0, 1.0, 1.0, 1.0, 1.0, 1.0, 1.0, 1.0, 1.0, 1.0, 1.0, 1.0, 1.0, 1.0, 1.0, 1.0, 1.0, 1.0, 1.0, 1.0, 1.0, 1.0, 1.0, 1.0, 1.0, 1.0, 1.0, 1.0, 1.0, 1.0, 1.0, 1.0, 1.0, 1.0, 1.0, 1.0, 1.0, 1.0, 1.0, 1.0, 1.0, 1.0, 1.0, 1.0, 1.0, 1.0, 1.0, 1.0, 1.0, 1.0, 1.0, 1.0, 1.0, 1.0, 1.0, 1.0, 1.0, 1.0, 1.0, 1.0, 1.0, 1.0, 1.0, 1.0, 1.0, 1.0, 1.0, 1.0, 1.0, 1.0, 1.0, 1.0, 1.0, 1.0, 1.0, 1.0, 1.0, 1.0, 1.0, 1.0, 1.0, 1.0, 1.0, 1.0, 1.0, 1.0, 1.0, 1.0, 1.0, 1.0, 1.0, 1.0, 1.0, 1.0, 1.0, 1.0, 1.0, 1.0, 1.0, 1.0, 1.0, 1.0, 1.0, 1.0, 1.0, 1.0, 1.0, 1.0, 1.0, 1.0, 1.0, 1.0, 1.0, 1.0, 1.0, 1.0, 1.0, 1.0, 1.0, 1.0, 1.0, 1.0, 1.0, 1.0, 1.0, 1.0, 1.0, 1.0, 1.0, 1.0, 1.0, 1.0, 1.0, 1.0, 1.0, 1.0, 1.0, 1.0, 1.0, 1.0, 1.0, 1.0, 1.0, 1.0, 1.0, 1.0, 1.0, 1.0, 1.0, 1.0, 1.0, 1.0, 1.0, 1.0, 1.0, 1.0, 1.0, 1.0, 1.0, 1.0, 1.0, 1.0, 1.0, 1.0, 1.0, 1.0, 1.0, 1.0, 1.0, 1.0, 1.0, 1.0, 1.0, 1.0, 1.0, 1.0, 1.0, 1.0, 1.0, 1.0, 1.0, 1.0, 1.0, 1.0, 1.0, 1.0, 1.0, 1.0, 1.0, 1.0, 1.0, 1.0, 1.0, 1.0, 1.0, 1.0, 1.0, 1.0, 1.0, 1.0, 1.0, 1.0, 1.0, 1.0, 1.0, 1.0, 1.0, 1.0, 1.0, 1.0, 1.0, 1.0, 1.0, 1.0, 1.0, 1.0, 1.0, 1.0, 1.0, 1.0, 1.0, 1.0, 1.0, 1.0, 1.0, 1.0, 1.0, 1.0, 1.0, 1.0, 1.0, 1.0, 1.0, 1.0, 1.0, 1.0, 1.0, 1.0, 1.0, 1.0, 1.0, 1.0, 1.0, 1.0, 1.0, 1.0, 1.0, 1.0, 1.0, 1.0, 1.0, 1.0, 1.0, 1.0, 1.0, 1.0, 1.0, 1.0, 1.0, 1.0, 1.0, 1.0, 1.0, 1.0, 1.0, 1.0, 1.0, 1.0, 1.0, 1.0, 1.0, 1.0, 1.0, 1.0, 1.0, 1.0, 1.0, 1.0, 1.0, 1.0, 1.0, 1.0, 1.0, 1.0, 1.0, 1.0, 1.0, 1.0, 1.0, 1.0, 1.0, 1.0, 1.0, 1.0, 1.0, 1.0, 1.0, 1.0, 1.0, 1.0, 1.0, 1.0, 1.0, 1.0, 1.0, 1.0, 1.0, 1.0, 1.0, 1.0, 1.0, 1.0, 1.0, 1.0, 1.0, 1.0, 1.0, 1.0, 1.0, 1.0, 1.0, 1.0, 1.0, 1.0, 1.0, 1.0, 1.0, 1.0, 1.0, 1.0, 1.0, 1.0, 1.0, 1.0, 1.0, 1.0, 1.0, 1.0, 1.0, 1.0, 1.0, 1.0, 1.0, 1.0, 1.0, 1.0, 1.0, 1.0, 1.0, 1.0, 1.0, 1.0, 1.0, 1.0, 1.0, 1.0, 1.0, 1.0, 1.0, 1.0, 1.0, 1.0, 1.0, 1.0, 1.0, 1.0, 1.0, 1.0, 1.0, 1.0, 1.0, 1.0, 1.0, 1.0, 1.0, 1.0, 1.0, 1.0, 1.0, 1.0, 1.0, 1.0, 1.0, 1.0, 1.0, 1.0, 1.0, 1.0, 1.0, 1.0, 1.0, 1.0, 1.0, 1.0, 1.0, 1.0, 1.0, 1.0, 1.0, 1.0, 1.0, 1.0, 1.0, 1.0, 1.0, 1.0, 1.0, 1.0, 1.0, 1.0, 1.0, 1.0, 1.0, 1.0, 1.0, 1.0, 1.0, 1.0, 1.0, 1.0, 1.0, 1.0, 1.0, 1.0, 1.0, 1.0, 1.0, 1.0, 1.0, 1.0, 1.0, 1.0, 1.0, 1.0, 1.0, 1.0, 1.0, 1.0, 1.0, 1.0, 1.0, 1.0, 1.0, 1.0, 1.0, 1.0, 1.0, 1.0, 1.0, 1.0, 1.0, 1.0, 1.0, 1.0, 1.0, 1.0, 1.0, 1.0, 1.0, 1.0, 1.0, 1.0, 1.0, 1.0, 1.0, 1.0, 1.0, 1.0, 1.0, 1.0, 1.0, 1.0, 1.0, 1.0, 1.0, 1.0, 1.0, 1.0, 1.0, 1.0, 1.0, 1.0, 1.0, 1.0, 1.0, 1.0, 1.0, 1.0, 1.0, 1.0, 1.0, 1.0, 1.0, 1.0, 1.0, 1.0, 1.0, 1.0, 1.0, 1.0, 1.0, 1.0, 1.0, 1.0, 1.0, 1.0, 1.0, 1.0, 1.0, 1.0, 1.0, 1.0, 1.0, 1.0, 1.0, 1.0, 1.0, 1.0, 1.0, 1.0, 1.0, 1.0, 1.0, 1.0, 1.0, 1.0, 1.0, 1.0, 1.0, 1.0, 1.0, 1.0, 1.0, 1.0, 1.0, 1.0, 1.0, 1.0, 1.0, 1.0, 1.0, 1.0, 1.0, 1.0, 1.0, 1.0, 1.0, 1.0, 1.0, 1.0, 1.0, 1.0, 1.0, 1.0, 1.0, 1.0, 1.0, 1.0, 1.0, 1.0, 1.0, 1.0, 1.0, 1.0, 1.0, 1.0, 1.0, 1.0, 1.0, 1.0, 1.0, 1.0, 1.0, 1.0, 1.0, 1.0, 1.0, 1.0, 1.0, 1.0, 1.0, 1.0, 1.0, 1.0, 1.0, 1.0, 1.0, 1.0, 1.0, 1.0, 1.0, 1.0, 1.0, 1.0, 1.0, 1.0, 1.0, 1.0, 1.0, 1.0, 1.0, 1.0, 1.0, 1.0, 1.0, 1.0, 1.0, 1.0, 1.0, 1.0, 1.0, 1.0, 1.0, 1.0, 1.0, 1.0, 1.0, 1.0]\n",
            "sp: [1.0, 1.0, 1.0, 1.0, 1.0, 1.0, 1.0, 1.0, 1.0, 1.0, 1.0, 1.0, 1.0, 1.0, 1.0, 1.0, 1.0, 1.0, 1.0, 1.0, 1.0, 1.0, 1.0, 1.0, 1.0, 1.0, 1.0, 1.0, 1.0, 1.0, 1.0, 1.0, 1.0, 1.0, 1.0, 1.0, 1.0, 1.0, 1.0, 1.0, 1.0, 1.0, 1.0, 1.0, 1.0, 1.0, 1.0, 1.0, 1.0, 1.0, 1.0, 1.0, 1.0, 1.0, 1.0, 1.0, 1.0, 1.0, 1.0, 1.0, 1.0, 1.0, 1.0, 1.0, 1.0, 1.0, 1.0, 1.0, 1.0, 1.0, 1.0, 1.0, 1.0, 1.0, 1.0, 1.0, 1.0, 1.0, 1.0, 1.0, 1.0, 1.0, 1.0, 1.0, 1.0, 1.0, 1.0, 1.0, 1.0, 1.0, 1.0, 1.0, 1.0, 1.0, 1.0, 1.0, 1.0, 1.0, 1.0, 1.0, 1.0, 1.0, 1.0, 1.0, 1.0, 1.0, 1.0, 1.0, 1.0, 1.0, 1.0, 1.0, 1.0, 1.0, 1.0, 1.0, 1.0, 1.0, 1.0, 1.0, 1.0, 1.0, 1.0, 1.0, 1.0, 1.0, 1.0, 1.0, 1.0, 1.0, 1.0, 1.0, 1.0, 1.0, 1.0, 1.0, 1.0, 1.0, 1.0, 1.0, 1.0, 1.0, 1.0, 1.0, 1.0, 1.0, 1.0, 1.0, 1.0, 1.0, 1.0, 1.0, 1.0, 1.0, 1.0, 1.0, 1.0, 1.0, 1.0, 1.0, 1.0, 1.0, 1.0, 1.0, 1.0, 1.0, 1.0, 1.0, 1.0, 1.0, 1.0, 1.0, 1.0, 1.0, 1.0, 1.0, 1.0, 1.0, 1.0, 1.0, 1.0, 1.0, 1.0, 1.0, 1.0, 1.0, 1.0, 1.0, 1.0, 1.0, 1.0, 1.0, 1.0, 1.0, 1.0, 1.0, 1.0, 1.0, 1.0, 1.0, 1.0, 1.0, 1.0, 1.0, 1.0, 1.0, 1.0, 1.0, 1.0, 1.0, 1.0, 1.0, 1.0, 1.0, 1.0, 1.0, 1.0, 1.0, 1.0, 1.0, 1.0, 1.0, 1.0, 1.0, 1.0, 1.0, 1.0, 1.0, 1.0, 1.0, 1.0, 1.0, 1.0, 1.0, 1.0, 1.0, 1.0, 1.0, 1.0, 1.0, 1.0, 1.0, 1.0, 1.0, 1.0, 1.0, 1.0, 1.0, 1.0, 1.0, 1.0, 1.0, 1.0, 1.0, 1.0, 1.0, 1.0, 1.0, 1.0, 1.0, 1.0, 1.0, 1.0, 1.0, 1.0, 1.0, 1.0, 1.0, 1.0, 1.0, 1.0, 1.0, 1.0, 1.0, 1.0, 1.0, 1.0, 1.0, 1.0, 1.0, 1.0, 1.0, 1.0, 1.0, 1.0, 1.0, 1.0, 1.0, 1.0, 1.0, 1.0, 1.0, 1.0, 1.0, 1.0, 1.0, 1.0, 1.0, 1.0, 1.0, 1.0, 1.0, 1.0, 1.0, 1.0, 1.0, 1.0, 1.0, 1.0, 1.0, 1.0, 1.0, 1.0, 1.0, 1.0, 1.0, 1.0, 1.0, 1.0, 1.0, 1.0, 1.0, 1.0, 1.0, 1.0, 1.0, 1.0, 1.0, 1.0, 1.0, 1.0, 1.0, 1.0, 1.0, 1.0, 1.0, 1.0, 1.0, 1.0, 1.0, 1.0, 1.0, 1.0, 1.0, 1.0, 1.0, 1.0, 1.0, 1.0, 1.0, 1.0, 1.0, 1.0, 1.0, 1.0, 1.0, 1.0, 1.0, 1.0, 1.0, 1.0, 1.0, 1.0, 1.0, 1.0, 1.0, 1.0, 1.0, 1.0, 1.0, 1.0, 1.0, 1.0, 1.0, 1.0, 1.0, 1.0, 1.0, 1.0, 1.0, 1.0, 1.0, 1.0, 1.0, 1.0, 1.0, 1.0, 1.0, 1.0, 1.0, 1.0, 1.0, 1.0, 1.0, 1.0, 1.0, 1.0, 1.0, 1.0, 1.0, 1.0, 1.0, 1.0, 1.0, 1.0, 1.0, 1.0, 1.0, 1.0, 1.0, 1.0, 1.0, 1.0, 1.0, 1.0, 1.0, 1.0, 1.0, 1.0, 1.0, 1.0, 1.0, 1.0, 1.0, 1.0, 1.0, 1.0, 1.0, 1.0, 1.0, 1.0, 1.0, 1.0, 1.0, 1.0, 1.0, 1.0, 1.0, 1.0, 1.0, 1.0, 1.0, 1.0, 1.0, 1.0, 1.0, 1.0, 1.0, 1.0, 1.0, 1.0, 1.0, 1.0, 1.0, 1.0, 1.0, 1.0, 1.0, 1.0, 1.0, 1.0, 1.0, 1.0, 1.0, 1.0, 1.0, 1.0, 1.0, 1.0, 1.0, 1.0, 1.0, 1.0, 1.0, 1.0, 1.0, 1.0, 1.0, 1.0, 1.0, 1.0, 1.0, 1.0, 1.0, 1.0, 1.0, 1.0, 1.0, 1.0, 1.0, 1.0, 1.0, 1.0, 1.0, 1.0, 1.0, 1.0, 1.0, 1.0, 1.0, 1.0, 1.0, 1.0, 1.0, 1.0, 1.0, 1.0, 1.0, 1.0, 1.0, 1.0, 1.0, 1.0, 1.0, 1.0, 1.0, 1.0, 1.0, 1.0, 1.0, 1.0, 1.0, 1.0, 1.0, 1.0, 1.0, 1.0, 1.0, 1.0, 1.0, 1.0, 1.0, 1.0, 1.0, 1.0, 1.0, 1.0, 1.0, 1.0, 1.0, 1.0, 1.0, 1.0, 1.0, 1.0, 1.0, 1.0, 1.0, 1.0, 1.0, 1.0, 1.0, 1.0, 1.0, 1.0, 1.0, 1.0, 1.0, 1.0, 1.0, 1.0, 1.0, 1.0, 1.0, 1.0, 1.0, 1.0, 1.0, 1.0, 1.0, 1.0, 1.0, 1.0, 1.0, 1.0, 1.0, 1.0, 1.0, 1.0, 1.0, 1.0, 1.0, 1.0, 1.0, 1.0, 1.0, 1.0, 1.0, 1.0, 1.0, 1.0, 1.0, 1.0, 1.0, 1.0, 1.0, 1.0, 1.0, 1.0, 1.0, 1.0, 1.0, 1.0, 1.0, 1.0, 1.0, 1.0, 1.0, 1.0, 1.0, 1.0, 1.0, 1.0, 1.0, 1.0, 1.0, 1.0, 1.0, 1.0, 1.0, 1.0, 1.0, 1.0, 1.0, 1.0, 1.0, 1.0, 1.0, 1.0, 1.0, 1.0, 1.0, 1.0, 1.0, 1.0, 1.0, 1.0, 1.0, 1.0, 1.0, 1.0, 1.0, 1.0, 1.0, 1.0, 1.0, 1.0, 1.0, 1.0, 1.0, 1.0, 1.0, 1.0, 1.0, 1.0, 1.0, 1.0, 1.0, 1.0, 1.0, 1.0, 1.0, 1.0, 1.0, 1.0, 1.0, 1.0, 1.0, 1.0, 1.0, 1.0, 1.0, 1.0, 1.0, 1.0, 1.0, 1.0, 1.0, 1.0, 1.0, 1.0, 1.0, 1.0, 1.0, 1.0, 1.0, 1.0, 1.0, 1.0, 1.0, 1.0, 1.0, 1.0, 1.0, 1.0, 1.0, 1.0, 1.0, 1.0, 1.0, 1.0, 1.0, 1.0, 1.0, 1.0, 1.0, 1.0, 1.0, 1.0, 1.0, 1.0, 1.0, 1.0, 1.0, 1.0, 1.0, 1.0, 1.0, 1.0, 1.0, 1.0, 1.0, 1.0, 1.0, 1.0, 1.0, 1.0, 1.0, 1.0, 1.0, 1.0, 1.0, 1.0, 1.0, 1.0, 1.0, 1.0, 1.0, 1.0, 1.0, 1.0, 1.0, 1.0, 1.0, 1.0, 1.0, 1.0, 1.0, 1.0, 1.0, 1.0, 1.0, 1.0, 1.0, 1.0, 1.0, 1.0, 1.0, 1.0, 1.0, 1.0, 1.0, 1.0, 1.0, 1.0, 1.0, 1.0, 1.0, 1.0, 1.0, 1.0, 1.0, 1.0, 1.0, 1.0, 1.0, 1.0, 1.0, 1.0, 1.0, 1.0, 1.0, 1.0, 1.0, 1.0, 1.0, 1.0, 1.0, 1.0, 1.0, 1.0, 1.0, 1.0, 1.0, 1.0, 1.0, 1.0, 1.0, 1.0, 1.0, 1.0, 1.0, 1.0, 1.0, 1.0, 1.0, 1.0, 1.0, 1.0, 1.0, 1.0, 1.0, 1.0, 1.0, 1.0, 1.0, 1.0, 1.0, 1.0, 1.0, 1.0, 1.0, 1.0, 1.0, 1.0, 1.0, 1.0, 1.0, 1.0, 1.0, 1.0, 1.0, 1.0, 1.0, 1.0, 1.0, 1.0, 1.0, 1.0, 1.0, 1.0, 1.0, 1.0, 1.0, 1.0, 1.0, 1.0, 1.0, 1.0, 1.0, 1.0, 1.0, 1.0, 1.0, 1.0, 1.0, 1.0, 1.0, 1.0, 1.0, 1.0, 1.0, 1.0, 1.0, 1.0, 1.0, 1.0, 1.0, 1.0, 1.0, 1.0, 1.0, 1.0, 1.0, 1.0, 1.0, 1.0, 1.0, 1.0, 1.0, 1.0, 1.0, 1.0, 1.0, 1.0, 1.0, 1.0, 1.0, 1.0, 1.0, 1.0, 1.0, 1.0, 1.0, 1.0, 1.0, 1.0, 1.0, 1.0, 1.0, 1.0, 1.0, 1.0, 1.0, 1.0, 1.0, 1.0, 1.0, 1.0, 1.0, 1.0, 1.0, 1.0, 1.0, 1.0, 1.0, 1.0, 1.0, 1.0, 1.0, 1.0, 1.0, 1.0, 1.0, 1.0, 1.0, 1.0, 1.0, 1.0, 1.0, 1.0, 1.0, 1.0, 1.0, 1.0, 1.0, 1.0, 1.0, 1.0, 1.0, 1.0, 1.0, 1.0, 1.0, 1.0, 1.0, 1.0, 1.0, 1.0, 1.0, 1.0, 1.0, 1.0, 1.0, 1.0, 1.0, 1.0, 1.0, 1.0, 1.0, 1.0, 1.0, 1.0, 1.0, 1.0, 1.0, 1.0, 1.0, 1.0, 1.0, 1.0, 1.0, 1.0, 1.0, 1.0, 1.0, 1.0, 1.0, 1.0, 1.0, 1.0, 1.0, 1.0, 1.0, 1.0, 1.0, 1.0, 1.0, 1.0, 1.0, 1.0, 1.0, 1.0, 1.0, 1.0, 1.0, 1.0, 1.0, 1.0, 1.0]\n",
            "sd_acc: 0.006067042153683595\n",
            "sd_f1: 0.004306772776841184\n",
            "sd_mcc: 0.0\n",
            "sd_sn: 0.0\n",
            "sd_sp: 0.0\n",
            "              precision    recall  f1-score   support\n",
            "\n",
            "           0       0.00      0.00      0.00      1821\n",
            "           1       0.68      1.00      0.81      3849\n",
            "\n",
            "    accuracy                           0.68      5670\n",
            "   macro avg       0.34      0.50      0.40      5670\n",
            "weighted avg       0.46      0.68      0.55      5670\n",
            "\n"
          ]
        },
        {
          "name": "stderr",
          "output_type": "stream",
          "text": [
            "/usr/local/lib/python3.10/dist-packages/sklearn/metrics/_classification.py:1344: UndefinedMetricWarning: Precision and F-score are ill-defined and being set to 0.0 in labels with no predicted samples. Use `zero_division` parameter to control this behavior.\n",
            "  _warn_prf(average, modifier, msg_start, len(result))\n",
            "/usr/local/lib/python3.10/dist-packages/sklearn/metrics/_classification.py:1344: UndefinedMetricWarning: Precision and F-score are ill-defined and being set to 0.0 in labels with no predicted samples. Use `zero_division` parameter to control this behavior.\n",
            "  _warn_prf(average, modifier, msg_start, len(result))\n",
            "/usr/local/lib/python3.10/dist-packages/sklearn/metrics/_classification.py:1344: UndefinedMetricWarning: Precision and F-score are ill-defined and being set to 0.0 in labels with no predicted samples. Use `zero_division` parameter to control this behavior.\n",
            "  _warn_prf(average, modifier, msg_start, len(result))\n"
          ]
        },
        {
          "data": {
            "text/plain": [
              "(0.006067042153683595, 0.0, 0.004306772776841184)"
            ]
          },
          "execution_count": 104,
          "metadata": {},
          "output_type": "execute_result"
        }
      ],
      "source": [
        "predicted_training_labels = classifier.predict(X_train)\n",
        "predicted_training_labels = np.where(predicted_training_labels > 0.5, 1, 0)\n",
        "predicted_training_labels = np.reshape(predicted_training_labels,(len(predicted_training_labels),)).astype(int)\n",
        "error_rate(Y_train, predicted_training_labels)"
      ]
    },
    {
      "cell_type": "code",
      "execution_count": null,
      "id": "k4jGE6nUAMpg",
      "metadata": {
        "colab": {
          "background_save": true
        },
        "id": "k4jGE6nUAMpg",
        "outputId": "e36bc751-d3e2-4c10-be8f-7c503b9d1f8a"
      },
      "outputs": [
        {
          "name": "stdout",
          "output_type": "stream",
          "text": [
            "43/43 [==============================] - 11s 256ms/step\n",
            "acc: 0.862094395280236\n",
            "f1: 0.925940594059406\n",
            "mcc: 0.0\n",
            "sn: [1.0, 1.0, 1.0, 1.0, 1.0, 1.0, 1.0, 1.0, 1.0, 1.0, 1.0, 1.0, 1.0, 1.0, 1.0, 1.0, 1.0, 1.0, 1.0, 1.0, 1.0, 1.0, 1.0, 1.0, 1.0, 1.0, 1.0, 1.0, 1.0, 1.0, 1.0, 1.0, 1.0, 1.0, 1.0, 1.0, 1.0, 1.0, 1.0, 1.0, 1.0, 1.0, 1.0, 1.0, 1.0, 1.0, 1.0, 1.0, 1.0, 1.0, 1.0, 1.0, 1.0, 1.0, 1.0, 1.0, 1.0, 1.0, 1.0, 1.0, 1.0, 1.0, 1.0, 1.0, 1.0, 1.0, 1.0, 1.0, 1.0, 1.0, 1.0, 1.0, 1.0, 1.0, 1.0, 1.0, 1.0, 1.0, 1.0, 1.0, 1.0, 1.0, 1.0, 1.0, 1.0, 1.0, 1.0, 1.0, 1.0, 1.0, 1.0, 1.0, 1.0, 1.0, 1.0, 1.0, 1.0, 1.0, 1.0, 1.0, 1.0, 1.0, 1.0, 1.0, 1.0, 1.0, 1.0, 1.0, 1.0, 1.0, 1.0, 1.0, 1.0, 1.0, 1.0, 1.0, 1.0, 1.0, 1.0, 1.0, 1.0, 1.0, 1.0, 1.0, 1.0, 1.0, 1.0, 1.0, 1.0, 1.0, 1.0, 1.0, 1.0, 1.0, 1.0, 1.0, 1.0, 1.0, 1.0, 1.0, 1.0, 1.0, 1.0, 1.0, 1.0, 1.0, 1.0, 1.0, 1.0, 1.0, 1.0, 1.0, 1.0, 1.0, 1.0, 1.0, 1.0, 1.0, 1.0, 1.0, 1.0, 1.0, 1.0, 1.0, 1.0, 1.0, 1.0, 1.0, 1.0, 1.0, 1.0, 1.0, 1.0, 1.0, 1.0, 1.0, 1.0, 1.0, 1.0, 1.0, 1.0, 1.0, 1.0, 1.0, 1.0, 1.0, 1.0, 1.0, 1.0, 1.0, 1.0, 1.0, 1.0, 1.0, 1.0, 1.0, 1.0, 1.0, 1.0, 1.0, 1.0, 1.0, 1.0, 1.0, 1.0, 1.0, 1.0, 1.0, 1.0, 1.0, 1.0, 1.0, 1.0, 1.0, 1.0, 1.0, 1.0, 1.0, 1.0, 1.0, 1.0, 1.0, 1.0, 1.0, 1.0, 1.0, 1.0, 1.0, 1.0, 1.0, 1.0, 1.0, 1.0, 1.0, 1.0, 1.0, 1.0, 1.0, 1.0, 1.0, 1.0, 1.0, 1.0, 1.0, 1.0, 1.0, 1.0, 1.0, 1.0, 1.0, 1.0, 1.0, 1.0, 1.0, 1.0, 1.0, 1.0, 1.0, 1.0, 1.0, 1.0, 1.0, 1.0, 1.0, 1.0, 1.0, 1.0, 1.0, 1.0, 1.0, 1.0, 1.0, 1.0, 1.0, 1.0, 1.0, 1.0, 1.0, 1.0, 1.0, 1.0, 1.0, 1.0, 1.0, 1.0, 1.0, 1.0, 1.0, 1.0, 1.0, 1.0, 1.0, 1.0, 1.0, 1.0, 1.0, 1.0, 1.0, 1.0, 1.0, 1.0, 1.0, 1.0, 1.0, 1.0, 1.0, 1.0, 1.0, 1.0, 1.0, 1.0, 1.0, 1.0, 1.0, 1.0, 1.0, 1.0, 1.0, 1.0, 1.0, 1.0, 1.0, 1.0, 1.0, 1.0, 1.0, 1.0, 1.0, 1.0, 1.0, 1.0, 1.0, 1.0, 1.0, 1.0, 1.0, 1.0, 1.0, 1.0, 1.0, 1.0, 1.0, 1.0, 1.0, 1.0, 1.0, 1.0, 1.0, 1.0, 1.0, 1.0, 1.0, 1.0, 1.0, 1.0, 1.0, 1.0, 1.0, 1.0, 1.0, 1.0, 1.0, 1.0, 1.0, 1.0, 1.0, 1.0, 1.0, 1.0, 1.0, 1.0, 1.0, 1.0, 1.0, 1.0, 1.0, 1.0, 1.0, 1.0, 1.0, 1.0, 1.0, 1.0, 1.0, 1.0, 1.0, 1.0, 1.0, 1.0, 1.0, 1.0, 1.0, 1.0, 1.0, 1.0, 1.0, 1.0, 1.0, 1.0, 1.0, 1.0, 1.0, 1.0, 1.0, 1.0, 1.0, 1.0, 1.0, 1.0, 1.0, 1.0, 1.0, 1.0, 1.0, 1.0, 1.0, 1.0, 1.0, 1.0, 1.0, 1.0, 1.0, 1.0, 1.0, 1.0, 1.0, 1.0, 1.0, 1.0, 1.0, 1.0, 1.0, 1.0, 1.0, 1.0, 1.0, 1.0, 1.0, 1.0, 1.0, 1.0, 1.0, 1.0, 1.0, 1.0, 1.0, 1.0, 1.0, 1.0, 1.0, 1.0, 1.0, 1.0, 1.0, 1.0, 1.0, 1.0, 1.0, 1.0, 1.0, 1.0, 1.0, 1.0, 1.0, 1.0, 1.0, 1.0, 1.0, 1.0, 1.0, 1.0, 1.0, 1.0, 1.0, 1.0, 1.0, 1.0, 1.0, 1.0, 1.0, 1.0, 1.0, 1.0, 1.0, 1.0, 1.0, 1.0, 1.0, 1.0, 1.0, 1.0, 1.0, 1.0, 1.0, 1.0, 1.0, 1.0, 1.0, 1.0, 1.0, 1.0, 1.0, 1.0, 1.0, 1.0, 1.0, 1.0, 1.0, 1.0, 1.0, 1.0, 1.0, 1.0, 1.0, 1.0, 1.0, 1.0, 1.0, 1.0, 1.0, 1.0, 1.0, 1.0, 1.0, 1.0, 1.0, 1.0, 1.0, 1.0, 1.0, 1.0, 1.0, 1.0, 1.0, 1.0, 1.0, 1.0, 1.0, 1.0, 1.0, 1.0, 1.0, 1.0, 1.0, 1.0, 1.0, 1.0, 1.0, 1.0, 1.0, 1.0, 1.0, 1.0, 1.0, 1.0, 1.0, 1.0, 1.0, 1.0, 1.0, 1.0, 1.0, 1.0, 1.0, 1.0, 1.0, 1.0, 1.0, 1.0, 1.0, 1.0, 1.0, 1.0, 1.0, 1.0, 1.0, 1.0, 1.0, 1.0, 1.0, 1.0, 1.0, 1.0, 1.0, 1.0, 1.0, 1.0, 1.0, 1.0, 1.0, 1.0, 1.0, 1.0, 1.0, 1.0, 1.0, 1.0, 1.0, 1.0, 1.0, 1.0, 1.0, 1.0, 1.0, 1.0, 1.0, 1.0, 1.0, 1.0, 1.0, 1.0, 1.0, 1.0, 1.0, 1.0, 1.0, 1.0, 1.0, 1.0, 1.0, 1.0, 1.0, 1.0, 1.0, 1.0, 1.0, 1.0, 1.0, 1.0, 1.0, 1.0, 1.0, 1.0, 1.0, 1.0, 1.0, 1.0, 1.0, 1.0, 1.0, 1.0, 1.0, 1.0, 1.0, 1.0, 1.0, 1.0, 1.0, 1.0, 1.0, 1.0, 1.0, 1.0, 1.0, 1.0, 1.0, 1.0, 1.0, 1.0, 1.0, 1.0, 1.0, 1.0, 1.0, 1.0, 1.0, 1.0, 1.0, 1.0, 1.0, 1.0, 1.0, 1.0, 1.0, 1.0, 1.0, 1.0, 1.0, 1.0, 1.0, 1.0, 1.0, 1.0, 1.0, 1.0, 1.0, 1.0, 1.0, 1.0, 1.0, 1.0, 1.0, 1.0, 1.0, 1.0, 1.0, 1.0, 1.0, 1.0, 1.0, 1.0, 1.0, 1.0, 1.0, 1.0, 1.0, 1.0, 1.0, 1.0, 1.0, 1.0, 1.0, 1.0, 1.0, 1.0, 1.0, 1.0, 1.0, 1.0, 1.0, 1.0, 1.0, 1.0, 1.0, 1.0, 1.0, 1.0, 1.0, 1.0, 1.0, 1.0, 1.0, 1.0, 1.0, 1.0, 1.0, 1.0, 1.0, 1.0, 1.0, 1.0, 1.0, 1.0, 1.0, 1.0, 1.0, 1.0, 1.0, 1.0, 1.0, 1.0, 1.0, 1.0, 1.0, 1.0, 1.0, 1.0, 1.0, 1.0, 1.0, 1.0, 1.0, 1.0, 1.0, 1.0, 1.0, 1.0, 1.0, 1.0, 1.0, 1.0, 1.0, 1.0, 1.0, 1.0, 1.0, 1.0, 1.0, 1.0, 1.0, 1.0, 1.0, 1.0, 1.0, 1.0, 1.0, 1.0, 1.0, 1.0, 1.0, 1.0, 1.0, 1.0, 1.0, 1.0, 1.0, 1.0, 1.0, 1.0, 1.0, 1.0, 1.0, 1.0, 1.0, 1.0, 1.0, 1.0, 1.0, 1.0, 1.0, 1.0, 1.0, 1.0, 1.0, 1.0, 1.0, 1.0, 1.0, 1.0, 1.0, 1.0, 1.0, 1.0, 1.0, 1.0, 1.0, 1.0, 1.0, 1.0, 1.0, 1.0, 1.0, 1.0, 1.0, 1.0, 1.0, 1.0, 1.0, 1.0, 1.0, 1.0, 1.0, 1.0, 1.0, 1.0, 1.0, 1.0, 1.0, 1.0, 1.0, 1.0, 1.0, 1.0, 1.0, 1.0, 1.0, 1.0, 1.0, 1.0, 1.0, 1.0, 1.0, 1.0, 1.0, 1.0, 1.0, 1.0, 1.0, 1.0, 1.0, 1.0, 1.0, 1.0, 1.0, 1.0, 1.0, 1.0, 1.0, 1.0, 1.0, 1.0, 1.0, 1.0, 1.0, 1.0, 1.0, 1.0, 1.0, 1.0, 1.0, 1.0, 1.0, 1.0, 1.0, 1.0, 1.0, 1.0, 1.0, 1.0, 1.0, 1.0, 1.0, 1.0, 1.0, 1.0, 1.0, 1.0, 1.0, 1.0, 1.0, 1.0, 1.0, 1.0, 1.0, 1.0, 1.0, 1.0, 1.0, 1.0, 1.0, 1.0, 1.0, 1.0, 1.0, 1.0, 1.0, 1.0, 1.0, 1.0, 1.0, 1.0, 1.0, 1.0, 1.0, 1.0, 1.0, 1.0, 1.0, 1.0, 1.0, 1.0, 1.0, 1.0, 1.0, 1.0, 1.0, 1.0, 1.0, 1.0, 1.0, 1.0, 1.0, 1.0, 1.0, 1.0, 1.0, 1.0, 1.0, 1.0, 1.0, 1.0, 1.0, 1.0, 1.0, 1.0, 1.0, 1.0, 1.0, 1.0, 1.0, 1.0, 1.0, 1.0, 1.0, 1.0, 1.0, 1.0, 1.0, 1.0, 1.0, 1.0, 1.0, 1.0, 1.0, 1.0, 1.0, 1.0, 1.0, 1.0, 1.0, 1.0, 1.0, 1.0, 1.0, 1.0, 1.0, 1.0, 1.0, 1.0, 1.0]\n",
            "sp: [1.0, 1.0, 1.0, 1.0, 1.0, 1.0, 1.0, 1.0, 1.0, 1.0, 1.0, 1.0, 1.0, 1.0, 1.0, 1.0, 1.0, 1.0, 1.0, 1.0, 1.0, 1.0, 1.0, 1.0, 1.0, 1.0, 1.0, 1.0, 1.0, 1.0, 1.0, 1.0, 1.0, 1.0, 1.0, 1.0, 1.0, 1.0, 1.0, 1.0, 1.0, 1.0, 1.0, 1.0, 1.0, 1.0, 1.0, 1.0, 1.0, 1.0, 1.0, 1.0, 1.0, 1.0, 1.0, 1.0, 1.0, 1.0, 1.0, 1.0, 1.0, 1.0, 1.0, 1.0, 1.0, 1.0, 1.0, 1.0, 1.0, 1.0, 1.0, 1.0, 1.0, 1.0, 1.0, 1.0, 1.0, 1.0, 1.0, 1.0, 1.0, 1.0, 1.0, 1.0, 1.0, 1.0, 1.0, 1.0, 1.0, 1.0, 1.0, 1.0, 1.0, 1.0, 1.0, 1.0, 1.0, 1.0, 1.0, 1.0, 1.0, 1.0, 1.0, 1.0, 1.0, 1.0, 1.0, 1.0, 1.0, 1.0, 1.0, 1.0, 1.0, 1.0, 1.0, 1.0, 1.0, 1.0, 1.0, 1.0, 1.0, 1.0, 1.0, 1.0, 1.0, 1.0, 1.0, 1.0, 1.0, 1.0, 1.0, 1.0, 1.0, 1.0, 1.0, 1.0, 1.0, 1.0, 1.0, 1.0, 1.0, 1.0, 1.0, 1.0, 1.0, 1.0, 1.0, 1.0, 1.0, 1.0, 1.0, 1.0, 1.0, 1.0, 1.0, 1.0, 1.0, 1.0, 1.0, 1.0, 1.0, 1.0, 1.0, 1.0, 1.0, 1.0, 1.0, 1.0, 1.0, 1.0, 1.0, 1.0, 1.0, 1.0, 1.0, 1.0, 1.0, 1.0, 1.0, 1.0, 1.0, 1.0, 1.0, 1.0, 1.0, 1.0, 1.0, 1.0, 1.0, 1.0, 1.0, 1.0, 1.0, 1.0, 1.0, 1.0, 1.0, 1.0, 1.0, 1.0, 1.0, 1.0, 1.0, 1.0, 1.0, 1.0, 1.0, 1.0, 1.0, 1.0, 1.0, 1.0, 1.0, 1.0, 1.0, 1.0, 1.0, 1.0, 1.0, 1.0, 1.0, 1.0, 1.0, 1.0, 1.0, 1.0, 1.0, 1.0, 1.0, 1.0, 1.0, 1.0, 1.0, 1.0, 1.0, 1.0, 1.0, 1.0, 1.0, 1.0, 1.0, 1.0, 1.0, 1.0, 1.0, 1.0, 1.0, 1.0, 1.0, 1.0, 1.0, 1.0, 1.0, 1.0, 1.0, 1.0, 1.0, 1.0, 1.0, 1.0, 1.0, 1.0, 1.0, 1.0, 1.0, 1.0, 1.0, 1.0, 1.0, 1.0, 1.0, 1.0, 1.0, 1.0, 1.0, 1.0, 1.0, 1.0, 1.0, 1.0, 1.0, 1.0, 1.0, 1.0, 1.0, 1.0, 1.0, 1.0, 1.0, 1.0, 1.0, 1.0, 1.0, 1.0, 1.0, 1.0, 1.0, 1.0, 1.0, 1.0, 1.0, 1.0, 1.0, 1.0, 1.0, 1.0, 1.0, 1.0, 1.0, 1.0, 1.0, 1.0, 1.0, 1.0, 1.0, 1.0, 1.0, 1.0, 1.0, 1.0, 1.0, 1.0, 1.0, 1.0, 1.0, 1.0, 1.0, 1.0, 1.0, 1.0, 1.0, 1.0, 1.0, 1.0, 1.0, 1.0, 1.0, 1.0, 1.0, 1.0, 1.0, 1.0, 1.0, 1.0, 1.0, 1.0, 1.0, 1.0, 1.0, 1.0, 1.0, 1.0, 1.0, 1.0, 1.0, 1.0, 1.0, 1.0, 1.0, 1.0, 1.0, 1.0, 1.0, 1.0, 1.0, 1.0, 1.0, 1.0, 1.0, 1.0, 1.0, 1.0, 1.0, 1.0, 1.0, 1.0, 1.0, 1.0, 1.0, 1.0, 1.0, 1.0, 1.0, 1.0, 1.0, 1.0, 1.0, 1.0, 1.0, 1.0, 1.0, 1.0, 1.0, 1.0, 1.0, 1.0, 1.0, 1.0, 1.0, 1.0, 1.0, 1.0, 1.0, 1.0, 1.0, 1.0, 1.0, 1.0, 1.0, 1.0, 1.0, 1.0, 1.0, 1.0, 1.0, 1.0, 1.0, 1.0, 1.0, 1.0, 1.0, 1.0, 1.0, 1.0, 1.0, 1.0, 1.0, 1.0, 1.0, 1.0, 1.0, 1.0, 1.0, 1.0, 1.0, 1.0, 1.0, 1.0, 1.0, 1.0, 1.0, 1.0, 1.0, 1.0, 1.0, 1.0, 1.0, 1.0, 1.0, 1.0, 1.0, 1.0, 1.0, 1.0, 1.0, 1.0, 1.0, 1.0, 1.0, 1.0, 1.0, 1.0, 1.0, 1.0, 1.0, 1.0, 1.0, 1.0, 1.0, 1.0, 1.0, 1.0, 1.0, 1.0, 1.0, 1.0, 1.0, 1.0, 1.0, 1.0, 1.0, 1.0, 1.0, 1.0, 1.0, 1.0, 1.0, 1.0, 1.0, 1.0, 1.0, 1.0, 1.0, 1.0, 1.0, 1.0, 1.0, 1.0, 1.0, 1.0, 1.0, 1.0, 1.0, 1.0, 1.0, 1.0, 1.0, 1.0, 1.0, 1.0, 1.0, 1.0, 1.0, 1.0, 1.0, 1.0, 1.0, 1.0, 1.0, 1.0, 1.0, 1.0, 1.0, 1.0, 1.0, 1.0, 1.0, 1.0, 1.0, 1.0, 1.0, 1.0, 1.0, 1.0, 1.0, 1.0, 1.0, 1.0, 1.0, 1.0, 1.0, 1.0, 1.0, 1.0, 1.0, 1.0, 1.0, 1.0, 1.0, 1.0, 1.0, 1.0, 1.0, 1.0, 1.0, 1.0, 1.0, 1.0, 1.0, 1.0, 1.0, 1.0, 1.0, 1.0, 1.0, 1.0, 1.0, 1.0, 1.0, 1.0, 1.0, 1.0, 1.0, 1.0, 1.0, 1.0, 1.0, 1.0, 1.0, 1.0, 1.0, 1.0, 1.0, 1.0, 1.0, 1.0, 1.0, 1.0, 1.0, 1.0, 1.0, 1.0, 1.0, 1.0, 1.0, 1.0, 1.0, 1.0, 1.0, 1.0, 1.0, 1.0, 1.0, 1.0, 1.0, 1.0, 1.0, 1.0, 1.0, 1.0, 1.0, 1.0, 1.0, 1.0, 1.0, 1.0, 1.0, 1.0, 1.0, 1.0, 1.0, 1.0, 1.0, 1.0, 1.0, 1.0, 1.0, 1.0, 1.0, 1.0, 1.0, 1.0, 1.0, 1.0, 1.0, 1.0, 1.0, 1.0, 1.0, 1.0, 1.0, 1.0, 1.0, 1.0, 1.0, 1.0, 1.0, 1.0, 1.0, 1.0, 1.0, 1.0, 1.0, 1.0, 1.0, 1.0, 1.0, 1.0, 1.0, 1.0, 1.0, 1.0, 1.0, 1.0, 1.0, 1.0, 1.0, 1.0, 1.0, 1.0, 1.0, 1.0, 1.0, 1.0, 1.0, 1.0, 1.0, 1.0, 1.0, 1.0, 1.0, 1.0, 1.0, 1.0, 1.0, 1.0, 1.0, 1.0, 1.0, 1.0, 1.0, 1.0, 1.0, 1.0, 1.0, 1.0, 1.0, 1.0, 1.0, 1.0, 1.0, 1.0, 1.0, 1.0, 1.0, 1.0, 1.0, 1.0, 1.0, 1.0, 1.0, 1.0, 1.0, 1.0, 1.0, 1.0, 1.0, 1.0, 1.0, 1.0, 1.0, 1.0, 1.0, 1.0, 1.0, 1.0, 1.0, 1.0, 1.0, 1.0, 1.0, 1.0, 1.0, 1.0, 1.0, 1.0, 1.0, 1.0, 1.0, 1.0, 1.0, 1.0, 1.0, 1.0, 1.0, 1.0, 1.0, 1.0, 1.0, 1.0, 1.0, 1.0, 1.0, 1.0, 1.0, 1.0, 1.0, 1.0, 1.0, 1.0, 1.0, 1.0, 1.0, 1.0, 1.0, 1.0, 1.0, 1.0, 1.0, 1.0, 1.0, 1.0, 1.0, 1.0, 1.0, 1.0, 1.0, 1.0, 1.0, 1.0, 1.0, 1.0, 1.0, 1.0, 1.0, 1.0, 1.0, 1.0, 1.0, 1.0, 1.0, 1.0, 1.0, 1.0, 1.0, 1.0, 1.0, 1.0, 1.0, 1.0, 1.0, 1.0, 1.0, 1.0, 1.0, 1.0, 1.0, 1.0, 1.0, 1.0, 1.0, 1.0, 1.0, 1.0, 1.0, 1.0, 1.0, 1.0, 1.0, 1.0, 1.0, 1.0, 1.0, 1.0, 1.0, 1.0, 1.0, 1.0, 1.0, 1.0, 1.0, 1.0, 1.0, 1.0, 1.0, 1.0, 1.0, 1.0, 1.0, 1.0, 1.0, 1.0, 1.0, 1.0, 1.0, 1.0, 1.0, 1.0, 1.0, 1.0, 1.0, 1.0, 1.0, 1.0, 1.0, 1.0, 1.0, 1.0, 1.0, 1.0, 1.0, 1.0, 1.0, 1.0, 1.0, 1.0, 1.0, 1.0, 1.0, 1.0, 1.0, 1.0, 1.0, 1.0, 1.0, 1.0, 1.0, 1.0, 1.0, 1.0, 1.0, 1.0, 1.0, 1.0, 1.0, 1.0, 1.0, 1.0, 1.0, 1.0, 1.0, 1.0, 1.0, 1.0, 1.0, 1.0, 1.0, 1.0, 1.0, 1.0, 1.0, 1.0, 1.0, 1.0, 1.0, 1.0, 1.0, 1.0, 1.0, 1.0, 1.0, 1.0, 1.0, 1.0, 1.0, 1.0, 1.0, 1.0, 1.0, 1.0, 1.0, 1.0, 1.0, 1.0, 1.0, 1.0, 1.0, 1.0, 1.0, 1.0, 1.0, 1.0, 1.0, 1.0, 1.0, 1.0, 1.0, 1.0, 1.0, 1.0, 1.0, 1.0, 1.0, 1.0, 1.0, 1.0, 1.0, 1.0, 1.0, 1.0, 1.0, 1.0, 1.0, 1.0, 1.0, 1.0, 1.0, 1.0, 1.0, 1.0, 1.0, 1.0, 1.0, 1.0, 1.0, 1.0, 1.0, 1.0, 1.0, 1.0, 1.0, 1.0, 1.0, 1.0, 1.0, 1.0, 1.0, 1.0, 1.0, 1.0, 1.0, 1.0, 1.0, 1.0, 1.0, 1.0, 1.0, 1.0, 1.0, 1.0, 1.0, 1.0, 1.0, 1.0, 1.0, 1.0, 1.0, 1.0, 1.0, 1.0]\n",
            "sd_acc: 0.009120942014934137\n",
            "sd_f1: 0.0052629142327598535\n",
            "sd_mcc: 0.0\n",
            "sd_sn: 0.0\n",
            "sd_sp: 0.0\n",
            "              precision    recall  f1-score   support\n",
            "\n",
            "           0       0.00      0.00      0.00       187\n",
            "           1       0.86      1.00      0.93      1169\n",
            "\n",
            "    accuracy                           0.86      1356\n",
            "   macro avg       0.43      0.50      0.46      1356\n",
            "weighted avg       0.74      0.86      0.80      1356\n",
            "\n"
          ]
        },
        {
          "name": "stderr",
          "output_type": "stream",
          "text": [
            "/usr/local/lib/python3.10/dist-packages/sklearn/metrics/_classification.py:1344: UndefinedMetricWarning: Precision and F-score are ill-defined and being set to 0.0 in labels with no predicted samples. Use `zero_division` parameter to control this behavior.\n",
            "  _warn_prf(average, modifier, msg_start, len(result))\n",
            "/usr/local/lib/python3.10/dist-packages/sklearn/metrics/_classification.py:1344: UndefinedMetricWarning: Precision and F-score are ill-defined and being set to 0.0 in labels with no predicted samples. Use `zero_division` parameter to control this behavior.\n",
            "  _warn_prf(average, modifier, msg_start, len(result))\n",
            "/usr/local/lib/python3.10/dist-packages/sklearn/metrics/_classification.py:1344: UndefinedMetricWarning: Precision and F-score are ill-defined and being set to 0.0 in labels with no predicted samples. Use `zero_division` parameter to control this behavior.\n",
            "  _warn_prf(average, modifier, msg_start, len(result))\n"
          ]
        },
        {
          "data": {
            "text/plain": [
              "(0.009120942014934137, 0.0, 0.0052629142327598535)"
            ]
          },
          "execution_count": 105,
          "metadata": {},
          "output_type": "execute_result"
        }
      ],
      "source": [
        "predicted_gru = classifier.predict(X_test)\n",
        "predicted_gru = np.where(predicted_gru > 0.5, 1, 0)\n",
        "predicted_gru = np.reshape(predicted_gru,(len(predicted_gru),)).astype(int)\n",
        "error_rate(Y_test, predicted_gru)"
      ]
    },
    {
      "cell_type": "markdown",
      "id": "E76ef8-KUQkP",
      "metadata": {
        "id": "E76ef8-KUQkP"
      },
      "source": [
        "### LSTM with GridSearch"
      ]
    },
    {
      "cell_type": "code",
      "execution_count": null,
      "id": "88td3Dd4UUSl",
      "metadata": {
        "colab": {
          "background_save": true
        },
        "id": "88td3Dd4UUSl"
      },
      "outputs": [],
      "source": [
        "import tensorflow as tf\n",
        "from tensorflow.keras.layers import SimpleRNN, Bidirectional, Input, Embedding, LSTM, Dropout, Dense, InputLayer\n",
        "from tensorflow.keras.models import Model, Sequential\n",
        "from keras import regularizers\n",
        "from keras.layers import Embedding, Bidirectional\n",
        "from keras.regularizers import l2\n",
        "from keras.wrappers.scikit_learn import KerasClassifier\n",
        "from time import time\n",
        "from tensorflow.keras import layers"
      ]
    },
    {
      "cell_type": "code",
      "execution_count": null,
      "id": "ckcUO-v09XUY",
      "metadata": {
        "colab": {
          "background_save": true
        },
        "id": "ckcUO-v09XUY"
      },
      "outputs": [],
      "source": [
        "from numpy.random import seed\n",
        "seed(1)"
      ]
    },
    {
      "cell_type": "code",
      "execution_count": null,
      "id": "Bu3pXV8o9XUZ",
      "metadata": {
        "colab": {
          "background_save": true
        },
        "id": "Bu3pXV8o9XUZ"
      },
      "outputs": [],
      "source": [
        "from tensorflow.keras.utils import set_random_seed\n",
        "set_random_seed(2)"
      ]
    },
    {
      "cell_type": "code",
      "execution_count": null,
      "id": "eByT44Fj8Mvw",
      "metadata": {
        "colab": {
          "background_save": true
        },
        "id": "eByT44Fj8Mvw"
      },
      "outputs": [],
      "source": [
        "max_length = 1280"
      ]
    },
    {
      "cell_type": "code",
      "execution_count": null,
      "id": "QpWikkLDVESA",
      "metadata": {
        "colab": {
          "background_save": true
        },
        "id": "QpWikkLDVESA"
      },
      "outputs": [],
      "source": [
        "X_train, X_test= train_dataset, test_dataset\n",
        "y_train, y_test = training_labels, testing_labels"
      ]
    },
    {
      "cell_type": "code",
      "execution_count": null,
      "id": "jVdkEABDUKuw",
      "metadata": {
        "colab": {
          "background_save": true
        },
        "id": "jVdkEABDUKuw"
      },
      "outputs": [],
      "source": [
        "X_train = np.reshape(X_train, (X_train.shape[0], X_train.shape[1],1))\n",
        "X_test = np.reshape(X_test, (X_test.shape[0], X_test.shape[1],1))"
      ]
    },
    {
      "cell_type": "code",
      "execution_count": null,
      "id": "Qd_XYxWoJ8Uw",
      "metadata": {
        "colab": {
          "background_save": true
        },
        "id": "Qd_XYxWoJ8Uw"
      },
      "outputs": [],
      "source": [
        "input_shape = X_train[1,:].shape"
      ]
    },
    {
      "cell_type": "code",
      "execution_count": null,
      "id": "bhJ5yPWsVESB",
      "metadata": {
        "colab": {
          "background_save": true
        },
        "id": "bhJ5yPWsVESB"
      },
      "outputs": [],
      "source": [
        "Y_train = np.reshape(y_train,(len(y_train),1)).astype(int)\n",
        "Y_test = np.reshape(y_test,(len(y_test),1)).astype(int)"
      ]
    },
    {
      "cell_type": "code",
      "execution_count": null,
      "id": "bABscCD2UdFT",
      "metadata": {
        "colab": {
          "background_save": true
        },
        "id": "bABscCD2UdFT"
      },
      "outputs": [],
      "source": [
        "def create_lstm_model(dropout_rate=0.0, units=50, learning_rate_init=0.001, regularizer=0.0, solver='adam'):\n",
        "    x_input = layers.Input(input_shape)\n",
        "    #emb = Embedding(21, units, input_length=max_length)(x_input)\n",
        "    lstm = LSTM(units, activity_regularizer=l2(regularizer))(x_input) #kernel_regularizer=l2(0.01), recurrent_regularizer=l2(0.01), bias_regularizer=l2(0.01)\n",
        "    x = Dropout(dropout_rate)(lstm)\n",
        "    #lstm2 =LSTM(units, activity_regularizer=l2(dropout_rate))(x) #kernel_regularizer=l2(0.01), recurrent_regularizer=l2(0.01), bias_regularizer=l2(0.01)\n",
        "    #x2 = Dropout(dropout_rate)(lstm2)\n",
        "    # softmax classifier\n",
        "    x_output = Dense(1, activation='sigmoid')(x)\n",
        "\n",
        "    model = Model(inputs=x_input, outputs=x_output)\n",
        "    # Compile model\n",
        "    model.compile(\n",
        "        optimizer=solver,#tf.keras.optimizers.Adam(learning_rate=learning_rate_init),\n",
        "        loss='binary_crossentropy',\n",
        "        metrics=['accuracy'],\n",
        "        )\n",
        "    return model"
      ]
    },
    {
      "cell_type": "code",
      "execution_count": null,
      "id": "yRwnsQ75Ue-6",
      "metadata": {
        "colab": {
          "background_save": true
        },
        "id": "yRwnsQ75Ue-6",
        "outputId": "7117e979-8d35-4d06-8c07-75facef0eb90"
      },
      "outputs": [
        {
          "name": "stdout",
          "output_type": "stream",
          "text": [
            "Model: \"model_6\"\n",
            "_________________________________________________________________\n",
            " Layer (type)                Output Shape              Param #   \n",
            "=================================================================\n",
            " input_7 (InputLayer)        [(None, 1536, 1)]         0         \n",
            "                                                                 \n",
            " lstm (LSTM)                 (None, 50)                10400     \n",
            "                                                                 \n",
            " dropout_12 (Dropout)        (None, 50)                0         \n",
            "                                                                 \n",
            " dense_6 (Dense)             (None, 1)                 51        \n",
            "                                                                 \n",
            "=================================================================\n",
            "Total params: 10,451\n",
            "Trainable params: 10,451\n",
            "Non-trainable params: 0\n",
            "_________________________________________________________________\n"
          ]
        }
      ],
      "source": [
        "lstm_model = create_lstm_model()\n",
        "lstm_model.summary()"
      ]
    },
    {
      "cell_type": "code",
      "execution_count": null,
      "id": "GdZ6JgxYUg-G",
      "metadata": {
        "colab": {
          "background_save": true
        },
        "id": "GdZ6JgxYUg-G",
        "outputId": "a97eede5-b07d-4efd-b3d2-8393be4cf951"
      },
      "outputs": [
        {
          "name": "stderr",
          "output_type": "stream",
          "text": [
            "<ipython-input-116-7d51c6a25297>:4: DeprecationWarning: KerasClassifier is deprecated, use Sci-Keras (https://github.com/adriangb/scikeras) instead. See https://www.adriangb.com/scikeras/stable/migration.html for help migrating.\n",
            "  model = KerasClassifier(build_fn=create_lstm_model, verbose=1, batch_size=256, epochs=5)\n"
          ]
        }
      ],
      "source": [
        "start = time()\n",
        "\n",
        "# create model\n",
        "model = KerasClassifier(build_fn=create_lstm_model, verbose=1, batch_size=256, epochs=5)\n",
        "# define parameters and values for grid search\n",
        "\n",
        "parameters = {\n",
        "    'units':[50], # 1024\n",
        "    #'learning_rate_init': [0.001, 0.01],\n",
        "    'solver':['adam'],\n",
        "    #'epochs':[3,5,10],\n",
        "    #'dropout_rate':[0.0,0.05, 0.1], #0.05\n",
        "    #'regularizer':[0.0,0.05, 0.1],\n",
        "}"
      ]
    },
    {
      "cell_type": "code",
      "execution_count": null,
      "id": "hos-hNI7UpOs",
      "metadata": {
        "colab": {
          "background_save": true
        },
        "id": "hos-hNI7UpOs"
      },
      "outputs": [],
      "source": [
        "metrics = {'accuracy':make_scorer(accuracy_score,greater_is_better=True),'f1':make_scorer(f1_score,greater_is_better=True),'mcc':make_scorer(matthews_corrcoef,greater_is_better=True)}"
      ]
    },
    {
      "cell_type": "code",
      "execution_count": null,
      "id": "P0Xa7AQTUqIO",
      "metadata": {
        "colab": {
          "background_save": true
        },
        "id": "P0Xa7AQTUqIO",
        "outputId": "b1b13b75-0c6c-401c-bec8-296d0d7f4f0e"
      },
      "outputs": [
        {
          "name": "stderr",
          "output_type": "stream",
          "text": [
            "/usr/local/lib/python3.10/dist-packages/joblib/externals/loky/backend/fork_exec.py:38: RuntimeWarning: os.fork() was called. os.fork() is incompatible with multithreaded code, and JAX is multithreaded, so this will likely lead to a deadlock.\n",
            "  pid = os.fork()\n"
          ]
        },
        {
          "name": "stdout",
          "output_type": "stream",
          "text": [
            "Epoch 1/5\n",
            "23/23 [==============================] - 28s 1s/step - loss: 0.6614 - accuracy: 0.6624\n",
            "Epoch 2/5\n",
            "23/23 [==============================] - 26s 1s/step - loss: 0.6309 - accuracy: 0.6788\n",
            "Epoch 3/5\n",
            "23/23 [==============================] - 26s 1s/step - loss: 0.6284 - accuracy: 0.6788\n",
            "Epoch 4/5\n",
            "23/23 [==============================] - 25s 1s/step - loss: 0.6282 - accuracy: 0.6788\n",
            "Epoch 5/5\n",
            "23/23 [==============================] - 26s 1s/step - loss: 0.6280 - accuracy: 0.6788\n"
          ]
        }
      ],
      "source": [
        "grid = GridSearchCV(estimator=model, param_grid=parameters, n_jobs=-1, cv=10, scoring=metrics, refit='mcc')\n",
        "grid_result = grid.fit(X_train, Y_train)"
      ]
    },
    {
      "cell_type": "code",
      "execution_count": null,
      "id": "Qttmg9ayVGeL",
      "metadata": {
        "colab": {
          "background_save": true
        },
        "id": "Qttmg9ayVGeL"
      },
      "outputs": [],
      "source": [
        "classifier = grid.best_estimator_"
      ]
    },
    {
      "cell_type": "code",
      "execution_count": null,
      "id": "3zvaGtn0VGeL",
      "metadata": {
        "colab": {
          "background_save": true
        },
        "id": "3zvaGtn0VGeL",
        "outputId": "152122e7-d476-4970-c57c-5f51458db4a8"
      },
      "outputs": [
        {
          "data": {
            "text/plain": [
              "{'verbose': 1,\n",
              " 'batch_size': 256,\n",
              " 'epochs': 5,\n",
              " 'solver': 'adam',\n",
              " 'units': 50,\n",
              " 'build_fn': <function __main__.create_lstm_model(dropout_rate=0.0, units=50, learning_rate_init=0.001, regularizer=0.0, solver='adam')>}"
            ]
          },
          "execution_count": 120,
          "metadata": {},
          "output_type": "execute_result"
        }
      ],
      "source": [
        "params = classifier.get_params()\n",
        "params"
      ]
    },
    {
      "cell_type": "code",
      "execution_count": null,
      "id": "u_kGV3S6VGeL",
      "metadata": {
        "colab": {
          "background_save": true
        },
        "id": "u_kGV3S6VGeL"
      },
      "outputs": [],
      "source": [
        "#cv_results = DataFrame(grid.cv_results_)\n",
        "\n",
        "#cv_results[['param_units','param_dropout_rate','param_regularizer','split0_test_score', 'split1_test_score', 'split2_test_score']]"
      ]
    },
    {
      "cell_type": "code",
      "execution_count": null,
      "id": "dYpncXoMTPWa",
      "metadata": {
        "colab": {
          "background_save": true
        },
        "id": "dYpncXoMTPWa"
      },
      "outputs": [],
      "source": [
        "df =pd.DataFrame(grid.cv_results_)\n",
        "new_path = '/content/test.xls'\n",
        "writer = pd.ExcelWriter(new_path, engine='xlsxwriter')\n",
        "df.to_excel('/content/drive/MyDrive/Halophilic/AnkhLSTM.xlsx')"
      ]
    },
    {
      "cell_type": "code",
      "execution_count": null,
      "id": "VsMHQT0K8vHE",
      "metadata": {
        "colab": {
          "background_save": true
        },
        "id": "VsMHQT0K8vHE",
        "outputId": "d100b360-ccd2-4f85-9892-252924f9345c"
      },
      "outputs": [
        {
          "name": "stdout",
          "output_type": "stream",
          "text": [
            "178/178 [==============================] - 27s 148ms/step\n",
            "acc: 0.6788359788359788\n",
            "f1: 0.8086983926883076\n",
            "mcc: 0.0\n",
            "sn: [1.0, 1.0, 1.0, 1.0, 1.0, 1.0, 1.0, 1.0, 1.0, 1.0, 1.0, 1.0, 1.0, 1.0, 1.0, 1.0, 1.0, 1.0, 1.0, 1.0, 1.0, 1.0, 1.0, 1.0, 1.0, 1.0, 1.0, 1.0, 1.0, 1.0, 1.0, 1.0, 1.0, 1.0, 1.0, 1.0, 1.0, 1.0, 1.0, 1.0, 1.0, 1.0, 1.0, 1.0, 1.0, 1.0, 1.0, 1.0, 1.0, 1.0, 1.0, 1.0, 1.0, 1.0, 1.0, 1.0, 1.0, 1.0, 1.0, 1.0, 1.0, 1.0, 1.0, 1.0, 1.0, 1.0, 1.0, 1.0, 1.0, 1.0, 1.0, 1.0, 1.0, 1.0, 1.0, 1.0, 1.0, 1.0, 1.0, 1.0, 1.0, 1.0, 1.0, 1.0, 1.0, 1.0, 1.0, 1.0, 1.0, 1.0, 1.0, 1.0, 1.0, 1.0, 1.0, 1.0, 1.0, 1.0, 1.0, 1.0, 1.0, 1.0, 1.0, 1.0, 1.0, 1.0, 1.0, 1.0, 1.0, 1.0, 1.0, 1.0, 1.0, 1.0, 1.0, 1.0, 1.0, 1.0, 1.0, 1.0, 1.0, 1.0, 1.0, 1.0, 1.0, 1.0, 1.0, 1.0, 1.0, 1.0, 1.0, 1.0, 1.0, 1.0, 1.0, 1.0, 1.0, 1.0, 1.0, 1.0, 1.0, 1.0, 1.0, 1.0, 1.0, 1.0, 1.0, 1.0, 1.0, 1.0, 1.0, 1.0, 1.0, 1.0, 1.0, 1.0, 1.0, 1.0, 1.0, 1.0, 1.0, 1.0, 1.0, 1.0, 1.0, 1.0, 1.0, 1.0, 1.0, 1.0, 1.0, 1.0, 1.0, 1.0, 1.0, 1.0, 1.0, 1.0, 1.0, 1.0, 1.0, 1.0, 1.0, 1.0, 1.0, 1.0, 1.0, 1.0, 1.0, 1.0, 1.0, 1.0, 1.0, 1.0, 1.0, 1.0, 1.0, 1.0, 1.0, 1.0, 1.0, 1.0, 1.0, 1.0, 1.0, 1.0, 1.0, 1.0, 1.0, 1.0, 1.0, 1.0, 1.0, 1.0, 1.0, 1.0, 1.0, 1.0, 1.0, 1.0, 1.0, 1.0, 1.0, 1.0, 1.0, 1.0, 1.0, 1.0, 1.0, 1.0, 1.0, 1.0, 1.0, 1.0, 1.0, 1.0, 1.0, 1.0, 1.0, 1.0, 1.0, 1.0, 1.0, 1.0, 1.0, 1.0, 1.0, 1.0, 1.0, 1.0, 1.0, 1.0, 1.0, 1.0, 1.0, 1.0, 1.0, 1.0, 1.0, 1.0, 1.0, 1.0, 1.0, 1.0, 1.0, 1.0, 1.0, 1.0, 1.0, 1.0, 1.0, 1.0, 1.0, 1.0, 1.0, 1.0, 1.0, 1.0, 1.0, 1.0, 1.0, 1.0, 1.0, 1.0, 1.0, 1.0, 1.0, 1.0, 1.0, 1.0, 1.0, 1.0, 1.0, 1.0, 1.0, 1.0, 1.0, 1.0, 1.0, 1.0, 1.0, 1.0, 1.0, 1.0, 1.0, 1.0, 1.0, 1.0, 1.0, 1.0, 1.0, 1.0, 1.0, 1.0, 1.0, 1.0, 1.0, 1.0, 1.0, 1.0, 1.0, 1.0, 1.0, 1.0, 1.0, 1.0, 1.0, 1.0, 1.0, 1.0, 1.0, 1.0, 1.0, 1.0, 1.0, 1.0, 1.0, 1.0, 1.0, 1.0, 1.0, 1.0, 1.0, 1.0, 1.0, 1.0, 1.0, 1.0, 1.0, 1.0, 1.0, 1.0, 1.0, 1.0, 1.0, 1.0, 1.0, 1.0, 1.0, 1.0, 1.0, 1.0, 1.0, 1.0, 1.0, 1.0, 1.0, 1.0, 1.0, 1.0, 1.0, 1.0, 1.0, 1.0, 1.0, 1.0, 1.0, 1.0, 1.0, 1.0, 1.0, 1.0, 1.0, 1.0, 1.0, 1.0, 1.0, 1.0, 1.0, 1.0, 1.0, 1.0, 1.0, 1.0, 1.0, 1.0, 1.0, 1.0, 1.0, 1.0, 1.0, 1.0, 1.0, 1.0, 1.0, 1.0, 1.0, 1.0, 1.0, 1.0, 1.0, 1.0, 1.0, 1.0, 1.0, 1.0, 1.0, 1.0, 1.0, 1.0, 1.0, 1.0, 1.0, 1.0, 1.0, 1.0, 1.0, 1.0, 1.0, 1.0, 1.0, 1.0, 1.0, 1.0, 1.0, 1.0, 1.0, 1.0, 1.0, 1.0, 1.0, 1.0, 1.0, 1.0, 1.0, 1.0, 1.0, 1.0, 1.0, 1.0, 1.0, 1.0, 1.0, 1.0, 1.0, 1.0, 1.0, 1.0, 1.0, 1.0, 1.0, 1.0, 1.0, 1.0, 1.0, 1.0, 1.0, 1.0, 1.0, 1.0, 1.0, 1.0, 1.0, 1.0, 1.0, 1.0, 1.0, 1.0, 1.0, 1.0, 1.0, 1.0, 1.0, 1.0, 1.0, 1.0, 1.0, 1.0, 1.0, 1.0, 1.0, 1.0, 1.0, 1.0, 1.0, 1.0, 1.0, 1.0, 1.0, 1.0, 1.0, 1.0, 1.0, 1.0, 1.0, 1.0, 1.0, 1.0, 1.0, 1.0, 1.0, 1.0, 1.0, 1.0, 1.0, 1.0, 1.0, 1.0, 1.0, 1.0, 1.0, 1.0, 1.0, 1.0, 1.0, 1.0, 1.0, 1.0, 1.0, 1.0, 1.0, 1.0, 1.0, 1.0, 1.0, 1.0, 1.0, 1.0, 1.0, 1.0, 1.0, 1.0, 1.0, 1.0, 1.0, 1.0, 1.0, 1.0, 1.0, 1.0, 1.0, 1.0, 1.0, 1.0, 1.0, 1.0, 1.0, 1.0, 1.0, 1.0, 1.0, 1.0, 1.0, 1.0, 1.0, 1.0, 1.0, 1.0, 1.0, 1.0, 1.0, 1.0, 1.0, 1.0, 1.0, 1.0, 1.0, 1.0, 1.0, 1.0, 1.0, 1.0, 1.0, 1.0, 1.0, 1.0, 1.0, 1.0, 1.0, 1.0, 1.0, 1.0, 1.0, 1.0, 1.0, 1.0, 1.0, 1.0, 1.0, 1.0, 1.0, 1.0, 1.0, 1.0, 1.0, 1.0, 1.0, 1.0, 1.0, 1.0, 1.0, 1.0, 1.0, 1.0, 1.0, 1.0, 1.0, 1.0, 1.0, 1.0, 1.0, 1.0, 1.0, 1.0, 1.0, 1.0, 1.0, 1.0, 1.0, 1.0, 1.0, 1.0, 1.0, 1.0, 1.0, 1.0, 1.0, 1.0, 1.0, 1.0, 1.0, 1.0, 1.0, 1.0, 1.0, 1.0, 1.0, 1.0, 1.0, 1.0, 1.0, 1.0, 1.0, 1.0, 1.0, 1.0, 1.0, 1.0, 1.0, 1.0, 1.0, 1.0, 1.0, 1.0, 1.0, 1.0, 1.0, 1.0, 1.0, 1.0, 1.0, 1.0, 1.0, 1.0, 1.0, 1.0, 1.0, 1.0, 1.0, 1.0, 1.0, 1.0, 1.0, 1.0, 1.0, 1.0, 1.0, 1.0, 1.0, 1.0, 1.0, 1.0, 1.0, 1.0, 1.0, 1.0, 1.0, 1.0, 1.0, 1.0, 1.0, 1.0, 1.0, 1.0, 1.0, 1.0, 1.0, 1.0, 1.0, 1.0, 1.0, 1.0, 1.0, 1.0, 1.0, 1.0, 1.0, 1.0, 1.0, 1.0, 1.0, 1.0, 1.0, 1.0, 1.0, 1.0, 1.0, 1.0, 1.0, 1.0, 1.0, 1.0, 1.0, 1.0, 1.0, 1.0, 1.0, 1.0, 1.0, 1.0, 1.0, 1.0, 1.0, 1.0, 1.0, 1.0, 1.0, 1.0, 1.0, 1.0, 1.0, 1.0, 1.0, 1.0, 1.0, 1.0, 1.0, 1.0, 1.0, 1.0, 1.0, 1.0, 1.0, 1.0, 1.0, 1.0, 1.0, 1.0, 1.0, 1.0, 1.0, 1.0, 1.0, 1.0, 1.0, 1.0, 1.0, 1.0, 1.0, 1.0, 1.0, 1.0, 1.0, 1.0, 1.0, 1.0, 1.0, 1.0, 1.0, 1.0, 1.0, 1.0, 1.0, 1.0, 1.0, 1.0, 1.0, 1.0, 1.0, 1.0, 1.0, 1.0, 1.0, 1.0, 1.0, 1.0, 1.0, 1.0, 1.0, 1.0, 1.0, 1.0, 1.0, 1.0, 1.0, 1.0, 1.0, 1.0, 1.0, 1.0, 1.0, 1.0, 1.0, 1.0, 1.0, 1.0, 1.0, 1.0, 1.0, 1.0, 1.0, 1.0, 1.0, 1.0, 1.0, 1.0, 1.0, 1.0, 1.0, 1.0, 1.0, 1.0, 1.0, 1.0, 1.0, 1.0, 1.0, 1.0, 1.0, 1.0, 1.0, 1.0, 1.0, 1.0, 1.0, 1.0, 1.0, 1.0, 1.0, 1.0, 1.0, 1.0, 1.0, 1.0, 1.0, 1.0, 1.0, 1.0, 1.0, 1.0, 1.0, 1.0, 1.0, 1.0, 1.0, 1.0, 1.0, 1.0, 1.0, 1.0, 1.0, 1.0, 1.0, 1.0, 1.0, 1.0, 1.0, 1.0, 1.0, 1.0, 1.0, 1.0, 1.0, 1.0, 1.0, 1.0, 1.0, 1.0, 1.0, 1.0, 1.0, 1.0, 1.0, 1.0, 1.0, 1.0, 1.0, 1.0, 1.0, 1.0, 1.0, 1.0, 1.0, 1.0, 1.0, 1.0, 1.0, 1.0, 1.0, 1.0, 1.0, 1.0, 1.0, 1.0, 1.0, 1.0, 1.0, 1.0, 1.0, 1.0, 1.0, 1.0, 1.0, 1.0, 1.0, 1.0, 1.0, 1.0, 1.0, 1.0, 1.0, 1.0, 1.0, 1.0, 1.0, 1.0, 1.0, 1.0, 1.0, 1.0, 1.0, 1.0, 1.0, 1.0, 1.0, 1.0, 1.0, 1.0, 1.0, 1.0, 1.0, 1.0, 1.0, 1.0, 1.0, 1.0, 1.0, 1.0, 1.0, 1.0, 1.0, 1.0, 1.0, 1.0, 1.0, 1.0, 1.0, 1.0, 1.0, 1.0, 1.0, 1.0, 1.0, 1.0, 1.0, 1.0, 1.0, 1.0, 1.0, 1.0, 1.0, 1.0, 1.0, 1.0, 1.0, 1.0, 1.0, 1.0, 1.0, 1.0]\n",
            "sp: [1.0, 1.0, 1.0, 1.0, 1.0, 1.0, 1.0, 1.0, 1.0, 1.0, 1.0, 1.0, 1.0, 1.0, 1.0, 1.0, 1.0, 1.0, 1.0, 1.0, 1.0, 1.0, 1.0, 1.0, 1.0, 1.0, 1.0, 1.0, 1.0, 1.0, 1.0, 1.0, 1.0, 1.0, 1.0, 1.0, 1.0, 1.0, 1.0, 1.0, 1.0, 1.0, 1.0, 1.0, 1.0, 1.0, 1.0, 1.0, 1.0, 1.0, 1.0, 1.0, 1.0, 1.0, 1.0, 1.0, 1.0, 1.0, 1.0, 1.0, 1.0, 1.0, 1.0, 1.0, 1.0, 1.0, 1.0, 1.0, 1.0, 1.0, 1.0, 1.0, 1.0, 1.0, 1.0, 1.0, 1.0, 1.0, 1.0, 1.0, 1.0, 1.0, 1.0, 1.0, 1.0, 1.0, 1.0, 1.0, 1.0, 1.0, 1.0, 1.0, 1.0, 1.0, 1.0, 1.0, 1.0, 1.0, 1.0, 1.0, 1.0, 1.0, 1.0, 1.0, 1.0, 1.0, 1.0, 1.0, 1.0, 1.0, 1.0, 1.0, 1.0, 1.0, 1.0, 1.0, 1.0, 1.0, 1.0, 1.0, 1.0, 1.0, 1.0, 1.0, 1.0, 1.0, 1.0, 1.0, 1.0, 1.0, 1.0, 1.0, 1.0, 1.0, 1.0, 1.0, 1.0, 1.0, 1.0, 1.0, 1.0, 1.0, 1.0, 1.0, 1.0, 1.0, 1.0, 1.0, 1.0, 1.0, 1.0, 1.0, 1.0, 1.0, 1.0, 1.0, 1.0, 1.0, 1.0, 1.0, 1.0, 1.0, 1.0, 1.0, 1.0, 1.0, 1.0, 1.0, 1.0, 1.0, 1.0, 1.0, 1.0, 1.0, 1.0, 1.0, 1.0, 1.0, 1.0, 1.0, 1.0, 1.0, 1.0, 1.0, 1.0, 1.0, 1.0, 1.0, 1.0, 1.0, 1.0, 1.0, 1.0, 1.0, 1.0, 1.0, 1.0, 1.0, 1.0, 1.0, 1.0, 1.0, 1.0, 1.0, 1.0, 1.0, 1.0, 1.0, 1.0, 1.0, 1.0, 1.0, 1.0, 1.0, 1.0, 1.0, 1.0, 1.0, 1.0, 1.0, 1.0, 1.0, 1.0, 1.0, 1.0, 1.0, 1.0, 1.0, 1.0, 1.0, 1.0, 1.0, 1.0, 1.0, 1.0, 1.0, 1.0, 1.0, 1.0, 1.0, 1.0, 1.0, 1.0, 1.0, 1.0, 1.0, 1.0, 1.0, 1.0, 1.0, 1.0, 1.0, 1.0, 1.0, 1.0, 1.0, 1.0, 1.0, 1.0, 1.0, 1.0, 1.0, 1.0, 1.0, 1.0, 1.0, 1.0, 1.0, 1.0, 1.0, 1.0, 1.0, 1.0, 1.0, 1.0, 1.0, 1.0, 1.0, 1.0, 1.0, 1.0, 1.0, 1.0, 1.0, 1.0, 1.0, 1.0, 1.0, 1.0, 1.0, 1.0, 1.0, 1.0, 1.0, 1.0, 1.0, 1.0, 1.0, 1.0, 1.0, 1.0, 1.0, 1.0, 1.0, 1.0, 1.0, 1.0, 1.0, 1.0, 1.0, 1.0, 1.0, 1.0, 1.0, 1.0, 1.0, 1.0, 1.0, 1.0, 1.0, 1.0, 1.0, 1.0, 1.0, 1.0, 1.0, 1.0, 1.0, 1.0, 1.0, 1.0, 1.0, 1.0, 1.0, 1.0, 1.0, 1.0, 1.0, 1.0, 1.0, 1.0, 1.0, 1.0, 1.0, 1.0, 1.0, 1.0, 1.0, 1.0, 1.0, 1.0, 1.0, 1.0, 1.0, 1.0, 1.0, 1.0, 1.0, 1.0, 1.0, 1.0, 1.0, 1.0, 1.0, 1.0, 1.0, 1.0, 1.0, 1.0, 1.0, 1.0, 1.0, 1.0, 1.0, 1.0, 1.0, 1.0, 1.0, 1.0, 1.0, 1.0, 1.0, 1.0, 1.0, 1.0, 1.0, 1.0, 1.0, 1.0, 1.0, 1.0, 1.0, 1.0, 1.0, 1.0, 1.0, 1.0, 1.0, 1.0, 1.0, 1.0, 1.0, 1.0, 1.0, 1.0, 1.0, 1.0, 1.0, 1.0, 1.0, 1.0, 1.0, 1.0, 1.0, 1.0, 1.0, 1.0, 1.0, 1.0, 1.0, 1.0, 1.0, 1.0, 1.0, 1.0, 1.0, 1.0, 1.0, 1.0, 1.0, 1.0, 1.0, 1.0, 1.0, 1.0, 1.0, 1.0, 1.0, 1.0, 1.0, 1.0, 1.0, 1.0, 1.0, 1.0, 1.0, 1.0, 1.0, 1.0, 1.0, 1.0, 1.0, 1.0, 1.0, 1.0, 1.0, 1.0, 1.0, 1.0, 1.0, 1.0, 1.0, 1.0, 1.0, 1.0, 1.0, 1.0, 1.0, 1.0, 1.0, 1.0, 1.0, 1.0, 1.0, 1.0, 1.0, 1.0, 1.0, 1.0, 1.0, 1.0, 1.0, 1.0, 1.0, 1.0, 1.0, 1.0, 1.0, 1.0, 1.0, 1.0, 1.0, 1.0, 1.0, 1.0, 1.0, 1.0, 1.0, 1.0, 1.0, 1.0, 1.0, 1.0, 1.0, 1.0, 1.0, 1.0, 1.0, 1.0, 1.0, 1.0, 1.0, 1.0, 1.0, 1.0, 1.0, 1.0, 1.0, 1.0, 1.0, 1.0, 1.0, 1.0, 1.0, 1.0, 1.0, 1.0, 1.0, 1.0, 1.0, 1.0, 1.0, 1.0, 1.0, 1.0, 1.0, 1.0, 1.0, 1.0, 1.0, 1.0, 1.0, 1.0, 1.0, 1.0, 1.0, 1.0, 1.0, 1.0, 1.0, 1.0, 1.0, 1.0, 1.0, 1.0, 1.0, 1.0, 1.0, 1.0, 1.0, 1.0, 1.0, 1.0, 1.0, 1.0, 1.0, 1.0, 1.0, 1.0, 1.0, 1.0, 1.0, 1.0, 1.0, 1.0, 1.0, 1.0, 1.0, 1.0, 1.0, 1.0, 1.0, 1.0, 1.0, 1.0, 1.0, 1.0, 1.0, 1.0, 1.0, 1.0, 1.0, 1.0, 1.0, 1.0, 1.0, 1.0, 1.0, 1.0, 1.0, 1.0, 1.0, 1.0, 1.0, 1.0, 1.0, 1.0, 1.0, 1.0, 1.0, 1.0, 1.0, 1.0, 1.0, 1.0, 1.0, 1.0, 1.0, 1.0, 1.0, 1.0, 1.0, 1.0, 1.0, 1.0, 1.0, 1.0, 1.0, 1.0, 1.0, 1.0, 1.0, 1.0, 1.0, 1.0, 1.0, 1.0, 1.0, 1.0, 1.0, 1.0, 1.0, 1.0, 1.0, 1.0, 1.0, 1.0, 1.0, 1.0, 1.0, 1.0, 1.0, 1.0, 1.0, 1.0, 1.0, 1.0, 1.0, 1.0, 1.0, 1.0, 1.0, 1.0, 1.0, 1.0, 1.0, 1.0, 1.0, 1.0, 1.0, 1.0, 1.0, 1.0, 1.0, 1.0, 1.0, 1.0, 1.0, 1.0, 1.0, 1.0, 1.0, 1.0, 1.0, 1.0, 1.0, 1.0, 1.0, 1.0, 1.0, 1.0, 1.0, 1.0, 1.0, 1.0, 1.0, 1.0, 1.0, 1.0, 1.0, 1.0, 1.0, 1.0, 1.0, 1.0, 1.0, 1.0, 1.0, 1.0, 1.0, 1.0, 1.0, 1.0, 1.0, 1.0, 1.0, 1.0, 1.0, 1.0, 1.0, 1.0, 1.0, 1.0, 1.0, 1.0, 1.0, 1.0, 1.0, 1.0, 1.0, 1.0, 1.0, 1.0, 1.0, 1.0, 1.0, 1.0, 1.0, 1.0, 1.0, 1.0, 1.0, 1.0, 1.0, 1.0, 1.0, 1.0, 1.0, 1.0, 1.0, 1.0, 1.0, 1.0, 1.0, 1.0, 1.0, 1.0, 1.0, 1.0, 1.0, 1.0, 1.0, 1.0, 1.0, 1.0, 1.0, 1.0, 1.0, 1.0, 1.0, 1.0, 1.0, 1.0, 1.0, 1.0, 1.0, 1.0, 1.0, 1.0, 1.0, 1.0, 1.0, 1.0, 1.0, 1.0, 1.0, 1.0, 1.0, 1.0, 1.0, 1.0, 1.0, 1.0, 1.0, 1.0, 1.0, 1.0, 1.0, 1.0, 1.0, 1.0, 1.0, 1.0, 1.0, 1.0, 1.0, 1.0, 1.0, 1.0, 1.0, 1.0, 1.0, 1.0, 1.0, 1.0, 1.0, 1.0, 1.0, 1.0, 1.0, 1.0, 1.0, 1.0, 1.0, 1.0, 1.0, 1.0, 1.0, 1.0, 1.0, 1.0, 1.0, 1.0, 1.0, 1.0, 1.0, 1.0, 1.0, 1.0, 1.0, 1.0, 1.0, 1.0, 1.0, 1.0, 1.0, 1.0, 1.0, 1.0, 1.0, 1.0, 1.0, 1.0, 1.0, 1.0, 1.0, 1.0, 1.0, 1.0, 1.0, 1.0, 1.0, 1.0, 1.0, 1.0, 1.0, 1.0, 1.0, 1.0, 1.0, 1.0, 1.0, 1.0, 1.0, 1.0, 1.0, 1.0, 1.0, 1.0, 1.0, 1.0, 1.0, 1.0, 1.0, 1.0, 1.0, 1.0, 1.0, 1.0, 1.0, 1.0, 1.0, 1.0, 1.0, 1.0, 1.0, 1.0, 1.0, 1.0, 1.0, 1.0, 1.0, 1.0, 1.0, 1.0, 1.0, 1.0, 1.0, 1.0, 1.0, 1.0, 1.0, 1.0, 1.0, 1.0, 1.0, 1.0, 1.0, 1.0, 1.0, 1.0, 1.0, 1.0, 1.0, 1.0, 1.0, 1.0, 1.0, 1.0, 1.0, 1.0, 1.0, 1.0, 1.0, 1.0, 1.0, 1.0, 1.0, 1.0, 1.0, 1.0, 1.0, 1.0, 1.0, 1.0, 1.0, 1.0, 1.0, 1.0, 1.0, 1.0, 1.0, 1.0, 1.0, 1.0, 1.0, 1.0, 1.0, 1.0, 1.0, 1.0, 1.0, 1.0, 1.0, 1.0, 1.0, 1.0, 1.0, 1.0, 1.0, 1.0, 1.0, 1.0, 1.0, 1.0, 1.0, 1.0, 1.0, 1.0, 1.0, 1.0, 1.0, 1.0, 1.0, 1.0, 1.0, 1.0, 1.0, 1.0, 1.0, 1.0, 1.0, 1.0, 1.0, 1.0, 1.0, 1.0, 1.0, 1.0, 1.0]\n",
            "sd_acc: 0.006067042153683595\n",
            "sd_f1: 0.004306772776841184\n",
            "sd_mcc: 0.0\n",
            "sd_sn: 0.0\n",
            "sd_sp: 0.0\n",
            "              precision    recall  f1-score   support\n",
            "\n",
            "           0       0.00      0.00      0.00      1821\n",
            "           1       0.68      1.00      0.81      3849\n",
            "\n",
            "    accuracy                           0.68      5670\n",
            "   macro avg       0.34      0.50      0.40      5670\n",
            "weighted avg       0.46      0.68      0.55      5670\n",
            "\n"
          ]
        },
        {
          "name": "stderr",
          "output_type": "stream",
          "text": [
            "/usr/local/lib/python3.10/dist-packages/sklearn/metrics/_classification.py:1344: UndefinedMetricWarning: Precision and F-score are ill-defined and being set to 0.0 in labels with no predicted samples. Use `zero_division` parameter to control this behavior.\n",
            "  _warn_prf(average, modifier, msg_start, len(result))\n",
            "/usr/local/lib/python3.10/dist-packages/sklearn/metrics/_classification.py:1344: UndefinedMetricWarning: Precision and F-score are ill-defined and being set to 0.0 in labels with no predicted samples. Use `zero_division` parameter to control this behavior.\n",
            "  _warn_prf(average, modifier, msg_start, len(result))\n",
            "/usr/local/lib/python3.10/dist-packages/sklearn/metrics/_classification.py:1344: UndefinedMetricWarning: Precision and F-score are ill-defined and being set to 0.0 in labels with no predicted samples. Use `zero_division` parameter to control this behavior.\n",
            "  _warn_prf(average, modifier, msg_start, len(result))\n"
          ]
        },
        {
          "data": {
            "text/plain": [
              "(0.006067042153683595, 0.0, 0.004306772776841184)"
            ]
          },
          "execution_count": 123,
          "metadata": {},
          "output_type": "execute_result"
        }
      ],
      "source": [
        "predicted_training_labels = classifier.predict(X_train)\n",
        "predicted_training_labels = np.where(predicted_training_labels > 0.5, 1, 0)\n",
        "predicted_training_labels = np.reshape(predicted_training_labels,(len(predicted_training_labels),)).astype(int)\n",
        "error_rate(Y_train, predicted_training_labels)"
      ]
    },
    {
      "cell_type": "code",
      "execution_count": null,
      "id": "jKqfkrJb1SP-",
      "metadata": {
        "colab": {
          "background_save": true
        },
        "id": "jKqfkrJb1SP-",
        "outputId": "6a2dba7a-b05e-496f-89e8-bc05bd8b28f7"
      },
      "outputs": [
        {
          "name": "stdout",
          "output_type": "stream",
          "text": [
            "43/43 [==============================] - 6s 147ms/step\n",
            "acc: 0.862094395280236\n",
            "f1: 0.925940594059406\n",
            "mcc: 0.0\n",
            "sn: [1.0, 1.0, 1.0, 1.0, 1.0, 1.0, 1.0, 1.0, 1.0, 1.0, 1.0, 1.0, 1.0, 1.0, 1.0, 1.0, 1.0, 1.0, 1.0, 1.0, 1.0, 1.0, 1.0, 1.0, 1.0, 1.0, 1.0, 1.0, 1.0, 1.0, 1.0, 1.0, 1.0, 1.0, 1.0, 1.0, 1.0, 1.0, 1.0, 1.0, 1.0, 1.0, 1.0, 1.0, 1.0, 1.0, 1.0, 1.0, 1.0, 1.0, 1.0, 1.0, 1.0, 1.0, 1.0, 1.0, 1.0, 1.0, 1.0, 1.0, 1.0, 1.0, 1.0, 1.0, 1.0, 1.0, 1.0, 1.0, 1.0, 1.0, 1.0, 1.0, 1.0, 1.0, 1.0, 1.0, 1.0, 1.0, 1.0, 1.0, 1.0, 1.0, 1.0, 1.0, 1.0, 1.0, 1.0, 1.0, 1.0, 1.0, 1.0, 1.0, 1.0, 1.0, 1.0, 1.0, 1.0, 1.0, 1.0, 1.0, 1.0, 1.0, 1.0, 1.0, 1.0, 1.0, 1.0, 1.0, 1.0, 1.0, 1.0, 1.0, 1.0, 1.0, 1.0, 1.0, 1.0, 1.0, 1.0, 1.0, 1.0, 1.0, 1.0, 1.0, 1.0, 1.0, 1.0, 1.0, 1.0, 1.0, 1.0, 1.0, 1.0, 1.0, 1.0, 1.0, 1.0, 1.0, 1.0, 1.0, 1.0, 1.0, 1.0, 1.0, 1.0, 1.0, 1.0, 1.0, 1.0, 1.0, 1.0, 1.0, 1.0, 1.0, 1.0, 1.0, 1.0, 1.0, 1.0, 1.0, 1.0, 1.0, 1.0, 1.0, 1.0, 1.0, 1.0, 1.0, 1.0, 1.0, 1.0, 1.0, 1.0, 1.0, 1.0, 1.0, 1.0, 1.0, 1.0, 1.0, 1.0, 1.0, 1.0, 1.0, 1.0, 1.0, 1.0, 1.0, 1.0, 1.0, 1.0, 1.0, 1.0, 1.0, 1.0, 1.0, 1.0, 1.0, 1.0, 1.0, 1.0, 1.0, 1.0, 1.0, 1.0, 1.0, 1.0, 1.0, 1.0, 1.0, 1.0, 1.0, 1.0, 1.0, 1.0, 1.0, 1.0, 1.0, 1.0, 1.0, 1.0, 1.0, 1.0, 1.0, 1.0, 1.0, 1.0, 1.0, 1.0, 1.0, 1.0, 1.0, 1.0, 1.0, 1.0, 1.0, 1.0, 1.0, 1.0, 1.0, 1.0, 1.0, 1.0, 1.0, 1.0, 1.0, 1.0, 1.0, 1.0, 1.0, 1.0, 1.0, 1.0, 1.0, 1.0, 1.0, 1.0, 1.0, 1.0, 1.0, 1.0, 1.0, 1.0, 1.0, 1.0, 1.0, 1.0, 1.0, 1.0, 1.0, 1.0, 1.0, 1.0, 1.0, 1.0, 1.0, 1.0, 1.0, 1.0, 1.0, 1.0, 1.0, 1.0, 1.0, 1.0, 1.0, 1.0, 1.0, 1.0, 1.0, 1.0, 1.0, 1.0, 1.0, 1.0, 1.0, 1.0, 1.0, 1.0, 1.0, 1.0, 1.0, 1.0, 1.0, 1.0, 1.0, 1.0, 1.0, 1.0, 1.0, 1.0, 1.0, 1.0, 1.0, 1.0, 1.0, 1.0, 1.0, 1.0, 1.0, 1.0, 1.0, 1.0, 1.0, 1.0, 1.0, 1.0, 1.0, 1.0, 1.0, 1.0, 1.0, 1.0, 1.0, 1.0, 1.0, 1.0, 1.0, 1.0, 1.0, 1.0, 1.0, 1.0, 1.0, 1.0, 1.0, 1.0, 1.0, 1.0, 1.0, 1.0, 1.0, 1.0, 1.0, 1.0, 1.0, 1.0, 1.0, 1.0, 1.0, 1.0, 1.0, 1.0, 1.0, 1.0, 1.0, 1.0, 1.0, 1.0, 1.0, 1.0, 1.0, 1.0, 1.0, 1.0, 1.0, 1.0, 1.0, 1.0, 1.0, 1.0, 1.0, 1.0, 1.0, 1.0, 1.0, 1.0, 1.0, 1.0, 1.0, 1.0, 1.0, 1.0, 1.0, 1.0, 1.0, 1.0, 1.0, 1.0, 1.0, 1.0, 1.0, 1.0, 1.0, 1.0, 1.0, 1.0, 1.0, 1.0, 1.0, 1.0, 1.0, 1.0, 1.0, 1.0, 1.0, 1.0, 1.0, 1.0, 1.0, 1.0, 1.0, 1.0, 1.0, 1.0, 1.0, 1.0, 1.0, 1.0, 1.0, 1.0, 1.0, 1.0, 1.0, 1.0, 1.0, 1.0, 1.0, 1.0, 1.0, 1.0, 1.0, 1.0, 1.0, 1.0, 1.0, 1.0, 1.0, 1.0, 1.0, 1.0, 1.0, 1.0, 1.0, 1.0, 1.0, 1.0, 1.0, 1.0, 1.0, 1.0, 1.0, 1.0, 1.0, 1.0, 1.0, 1.0, 1.0, 1.0, 1.0, 1.0, 1.0, 1.0, 1.0, 1.0, 1.0, 1.0, 1.0, 1.0, 1.0, 1.0, 1.0, 1.0, 1.0, 1.0, 1.0, 1.0, 1.0, 1.0, 1.0, 1.0, 1.0, 1.0, 1.0, 1.0, 1.0, 1.0, 1.0, 1.0, 1.0, 1.0, 1.0, 1.0, 1.0, 1.0, 1.0, 1.0, 1.0, 1.0, 1.0, 1.0, 1.0, 1.0, 1.0, 1.0, 1.0, 1.0, 1.0, 1.0, 1.0, 1.0, 1.0, 1.0, 1.0, 1.0, 1.0, 1.0, 1.0, 1.0, 1.0, 1.0, 1.0, 1.0, 1.0, 1.0, 1.0, 1.0, 1.0, 1.0, 1.0, 1.0, 1.0, 1.0, 1.0, 1.0, 1.0, 1.0, 1.0, 1.0, 1.0, 1.0, 1.0, 1.0, 1.0, 1.0, 1.0, 1.0, 1.0, 1.0, 1.0, 1.0, 1.0, 1.0, 1.0, 1.0, 1.0, 1.0, 1.0, 1.0, 1.0, 1.0, 1.0, 1.0, 1.0, 1.0, 1.0, 1.0, 1.0, 1.0, 1.0, 1.0, 1.0, 1.0, 1.0, 1.0, 1.0, 1.0, 1.0, 1.0, 1.0, 1.0, 1.0, 1.0, 1.0, 1.0, 1.0, 1.0, 1.0, 1.0, 1.0, 1.0, 1.0, 1.0, 1.0, 1.0, 1.0, 1.0, 1.0, 1.0, 1.0, 1.0, 1.0, 1.0, 1.0, 1.0, 1.0, 1.0, 1.0, 1.0, 1.0, 1.0, 1.0, 1.0, 1.0, 1.0, 1.0, 1.0, 1.0, 1.0, 1.0, 1.0, 1.0, 1.0, 1.0, 1.0, 1.0, 1.0, 1.0, 1.0, 1.0, 1.0, 1.0, 1.0, 1.0, 1.0, 1.0, 1.0, 1.0, 1.0, 1.0, 1.0, 1.0, 1.0, 1.0, 1.0, 1.0, 1.0, 1.0, 1.0, 1.0, 1.0, 1.0, 1.0, 1.0, 1.0, 1.0, 1.0, 1.0, 1.0, 1.0, 1.0, 1.0, 1.0, 1.0, 1.0, 1.0, 1.0, 1.0, 1.0, 1.0, 1.0, 1.0, 1.0, 1.0, 1.0, 1.0, 1.0, 1.0, 1.0, 1.0, 1.0, 1.0, 1.0, 1.0, 1.0, 1.0, 1.0, 1.0, 1.0, 1.0, 1.0, 1.0, 1.0, 1.0, 1.0, 1.0, 1.0, 1.0, 1.0, 1.0, 1.0, 1.0, 1.0, 1.0, 1.0, 1.0, 1.0, 1.0, 1.0, 1.0, 1.0, 1.0, 1.0, 1.0, 1.0, 1.0, 1.0, 1.0, 1.0, 1.0, 1.0, 1.0, 1.0, 1.0, 1.0, 1.0, 1.0, 1.0, 1.0, 1.0, 1.0, 1.0, 1.0, 1.0, 1.0, 1.0, 1.0, 1.0, 1.0, 1.0, 1.0, 1.0, 1.0, 1.0, 1.0, 1.0, 1.0, 1.0, 1.0, 1.0, 1.0, 1.0, 1.0, 1.0, 1.0, 1.0, 1.0, 1.0, 1.0, 1.0, 1.0, 1.0, 1.0, 1.0, 1.0, 1.0, 1.0, 1.0, 1.0, 1.0, 1.0, 1.0, 1.0, 1.0, 1.0, 1.0, 1.0, 1.0, 1.0, 1.0, 1.0, 1.0, 1.0, 1.0, 1.0, 1.0, 1.0, 1.0, 1.0, 1.0, 1.0, 1.0, 1.0, 1.0, 1.0, 1.0, 1.0, 1.0, 1.0, 1.0, 1.0, 1.0, 1.0, 1.0, 1.0, 1.0, 1.0, 1.0, 1.0, 1.0, 1.0, 1.0, 1.0, 1.0, 1.0, 1.0, 1.0, 1.0, 1.0, 1.0, 1.0, 1.0, 1.0, 1.0, 1.0, 1.0, 1.0, 1.0, 1.0, 1.0, 1.0, 1.0, 1.0, 1.0, 1.0, 1.0, 1.0, 1.0, 1.0, 1.0, 1.0, 1.0, 1.0, 1.0, 1.0, 1.0, 1.0, 1.0, 1.0, 1.0, 1.0, 1.0, 1.0, 1.0, 1.0, 1.0, 1.0, 1.0, 1.0, 1.0, 1.0, 1.0, 1.0, 1.0, 1.0, 1.0, 1.0, 1.0, 1.0, 1.0, 1.0, 1.0, 1.0, 1.0, 1.0, 1.0, 1.0, 1.0, 1.0, 1.0, 1.0, 1.0, 1.0, 1.0, 1.0, 1.0, 1.0, 1.0, 1.0, 1.0, 1.0, 1.0, 1.0, 1.0, 1.0, 1.0, 1.0, 1.0, 1.0, 1.0, 1.0, 1.0, 1.0, 1.0, 1.0, 1.0, 1.0, 1.0, 1.0, 1.0, 1.0, 1.0, 1.0, 1.0, 1.0, 1.0, 1.0, 1.0, 1.0, 1.0, 1.0, 1.0, 1.0, 1.0, 1.0, 1.0, 1.0, 1.0, 1.0, 1.0, 1.0, 1.0, 1.0, 1.0, 1.0, 1.0, 1.0, 1.0, 1.0, 1.0, 1.0, 1.0, 1.0, 1.0, 1.0, 1.0, 1.0, 1.0, 1.0, 1.0, 1.0, 1.0, 1.0, 1.0, 1.0, 1.0, 1.0, 1.0, 1.0, 1.0, 1.0, 1.0, 1.0, 1.0, 1.0, 1.0, 1.0, 1.0, 1.0, 1.0, 1.0, 1.0, 1.0, 1.0, 1.0, 1.0, 1.0, 1.0, 1.0, 1.0, 1.0, 1.0, 1.0, 1.0, 1.0, 1.0, 1.0, 1.0, 1.0, 1.0]\n",
            "sp: [1.0, 1.0, 1.0, 1.0, 1.0, 1.0, 1.0, 1.0, 1.0, 1.0, 1.0, 1.0, 1.0, 1.0, 1.0, 1.0, 1.0, 1.0, 1.0, 1.0, 1.0, 1.0, 1.0, 1.0, 1.0, 1.0, 1.0, 1.0, 1.0, 1.0, 1.0, 1.0, 1.0, 1.0, 1.0, 1.0, 1.0, 1.0, 1.0, 1.0, 1.0, 1.0, 1.0, 1.0, 1.0, 1.0, 1.0, 1.0, 1.0, 1.0, 1.0, 1.0, 1.0, 1.0, 1.0, 1.0, 1.0, 1.0, 1.0, 1.0, 1.0, 1.0, 1.0, 1.0, 1.0, 1.0, 1.0, 1.0, 1.0, 1.0, 1.0, 1.0, 1.0, 1.0, 1.0, 1.0, 1.0, 1.0, 1.0, 1.0, 1.0, 1.0, 1.0, 1.0, 1.0, 1.0, 1.0, 1.0, 1.0, 1.0, 1.0, 1.0, 1.0, 1.0, 1.0, 1.0, 1.0, 1.0, 1.0, 1.0, 1.0, 1.0, 1.0, 1.0, 1.0, 1.0, 1.0, 1.0, 1.0, 1.0, 1.0, 1.0, 1.0, 1.0, 1.0, 1.0, 1.0, 1.0, 1.0, 1.0, 1.0, 1.0, 1.0, 1.0, 1.0, 1.0, 1.0, 1.0, 1.0, 1.0, 1.0, 1.0, 1.0, 1.0, 1.0, 1.0, 1.0, 1.0, 1.0, 1.0, 1.0, 1.0, 1.0, 1.0, 1.0, 1.0, 1.0, 1.0, 1.0, 1.0, 1.0, 1.0, 1.0, 1.0, 1.0, 1.0, 1.0, 1.0, 1.0, 1.0, 1.0, 1.0, 1.0, 1.0, 1.0, 1.0, 1.0, 1.0, 1.0, 1.0, 1.0, 1.0, 1.0, 1.0, 1.0, 1.0, 1.0, 1.0, 1.0, 1.0, 1.0, 1.0, 1.0, 1.0, 1.0, 1.0, 1.0, 1.0, 1.0, 1.0, 1.0, 1.0, 1.0, 1.0, 1.0, 1.0, 1.0, 1.0, 1.0, 1.0, 1.0, 1.0, 1.0, 1.0, 1.0, 1.0, 1.0, 1.0, 1.0, 1.0, 1.0, 1.0, 1.0, 1.0, 1.0, 1.0, 1.0, 1.0, 1.0, 1.0, 1.0, 1.0, 1.0, 1.0, 1.0, 1.0, 1.0, 1.0, 1.0, 1.0, 1.0, 1.0, 1.0, 1.0, 1.0, 1.0, 1.0, 1.0, 1.0, 1.0, 1.0, 1.0, 1.0, 1.0, 1.0, 1.0, 1.0, 1.0, 1.0, 1.0, 1.0, 1.0, 1.0, 1.0, 1.0, 1.0, 1.0, 1.0, 1.0, 1.0, 1.0, 1.0, 1.0, 1.0, 1.0, 1.0, 1.0, 1.0, 1.0, 1.0, 1.0, 1.0, 1.0, 1.0, 1.0, 1.0, 1.0, 1.0, 1.0, 1.0, 1.0, 1.0, 1.0, 1.0, 1.0, 1.0, 1.0, 1.0, 1.0, 1.0, 1.0, 1.0, 1.0, 1.0, 1.0, 1.0, 1.0, 1.0, 1.0, 1.0, 1.0, 1.0, 1.0, 1.0, 1.0, 1.0, 1.0, 1.0, 1.0, 1.0, 1.0, 1.0, 1.0, 1.0, 1.0, 1.0, 1.0, 1.0, 1.0, 1.0, 1.0, 1.0, 1.0, 1.0, 1.0, 1.0, 1.0, 1.0, 1.0, 1.0, 1.0, 1.0, 1.0, 1.0, 1.0, 1.0, 1.0, 1.0, 1.0, 1.0, 1.0, 1.0, 1.0, 1.0, 1.0, 1.0, 1.0, 1.0, 1.0, 1.0, 1.0, 1.0, 1.0, 1.0, 1.0, 1.0, 1.0, 1.0, 1.0, 1.0, 1.0, 1.0, 1.0, 1.0, 1.0, 1.0, 1.0, 1.0, 1.0, 1.0, 1.0, 1.0, 1.0, 1.0, 1.0, 1.0, 1.0, 1.0, 1.0, 1.0, 1.0, 1.0, 1.0, 1.0, 1.0, 1.0, 1.0, 1.0, 1.0, 1.0, 1.0, 1.0, 1.0, 1.0, 1.0, 1.0, 1.0, 1.0, 1.0, 1.0, 1.0, 1.0, 1.0, 1.0, 1.0, 1.0, 1.0, 1.0, 1.0, 1.0, 1.0, 1.0, 1.0, 1.0, 1.0, 1.0, 1.0, 1.0, 1.0, 1.0, 1.0, 1.0, 1.0, 1.0, 1.0, 1.0, 1.0, 1.0, 1.0, 1.0, 1.0, 1.0, 1.0, 1.0, 1.0, 1.0, 1.0, 1.0, 1.0, 1.0, 1.0, 1.0, 1.0, 1.0, 1.0, 1.0, 1.0, 1.0, 1.0, 1.0, 1.0, 1.0, 1.0, 1.0, 1.0, 1.0, 1.0, 1.0, 1.0, 1.0, 1.0, 1.0, 1.0, 1.0, 1.0, 1.0, 1.0, 1.0, 1.0, 1.0, 1.0, 1.0, 1.0, 1.0, 1.0, 1.0, 1.0, 1.0, 1.0, 1.0, 1.0, 1.0, 1.0, 1.0, 1.0, 1.0, 1.0, 1.0, 1.0, 1.0, 1.0, 1.0, 1.0, 1.0, 1.0, 1.0, 1.0, 1.0, 1.0, 1.0, 1.0, 1.0, 1.0, 1.0, 1.0, 1.0, 1.0, 1.0, 1.0, 1.0, 1.0, 1.0, 1.0, 1.0, 1.0, 1.0, 1.0, 1.0, 1.0, 1.0, 1.0, 1.0, 1.0, 1.0, 1.0, 1.0, 1.0, 1.0, 1.0, 1.0, 1.0, 1.0, 1.0, 1.0, 1.0, 1.0, 1.0, 1.0, 1.0, 1.0, 1.0, 1.0, 1.0, 1.0, 1.0, 1.0, 1.0, 1.0, 1.0, 1.0, 1.0, 1.0, 1.0, 1.0, 1.0, 1.0, 1.0, 1.0, 1.0, 1.0, 1.0, 1.0, 1.0, 1.0, 1.0, 1.0, 1.0, 1.0, 1.0, 1.0, 1.0, 1.0, 1.0, 1.0, 1.0, 1.0, 1.0, 1.0, 1.0, 1.0, 1.0, 1.0, 1.0, 1.0, 1.0, 1.0, 1.0, 1.0, 1.0, 1.0, 1.0, 1.0, 1.0, 1.0, 1.0, 1.0, 1.0, 1.0, 1.0, 1.0, 1.0, 1.0, 1.0, 1.0, 1.0, 1.0, 1.0, 1.0, 1.0, 1.0, 1.0, 1.0, 1.0, 1.0, 1.0, 1.0, 1.0, 1.0, 1.0, 1.0, 1.0, 1.0, 1.0, 1.0, 1.0, 1.0, 1.0, 1.0, 1.0, 1.0, 1.0, 1.0, 1.0, 1.0, 1.0, 1.0, 1.0, 1.0, 1.0, 1.0, 1.0, 1.0, 1.0, 1.0, 1.0, 1.0, 1.0, 1.0, 1.0, 1.0, 1.0, 1.0, 1.0, 1.0, 1.0, 1.0, 1.0, 1.0, 1.0, 1.0, 1.0, 1.0, 1.0, 1.0, 1.0, 1.0, 1.0, 1.0, 1.0, 1.0, 1.0, 1.0, 1.0, 1.0, 1.0, 1.0, 1.0, 1.0, 1.0, 1.0, 1.0, 1.0, 1.0, 1.0, 1.0, 1.0, 1.0, 1.0, 1.0, 1.0, 1.0, 1.0, 1.0, 1.0, 1.0, 1.0, 1.0, 1.0, 1.0, 1.0, 1.0, 1.0, 1.0, 1.0, 1.0, 1.0, 1.0, 1.0, 1.0, 1.0, 1.0, 1.0, 1.0, 1.0, 1.0, 1.0, 1.0, 1.0, 1.0, 1.0, 1.0, 1.0, 1.0, 1.0, 1.0, 1.0, 1.0, 1.0, 1.0, 1.0, 1.0, 1.0, 1.0, 1.0, 1.0, 1.0, 1.0, 1.0, 1.0, 1.0, 1.0, 1.0, 1.0, 1.0, 1.0, 1.0, 1.0, 1.0, 1.0, 1.0, 1.0, 1.0, 1.0, 1.0, 1.0, 1.0, 1.0, 1.0, 1.0, 1.0, 1.0, 1.0, 1.0, 1.0, 1.0, 1.0, 1.0, 1.0, 1.0, 1.0, 1.0, 1.0, 1.0, 1.0, 1.0, 1.0, 1.0, 1.0, 1.0, 1.0, 1.0, 1.0, 1.0, 1.0, 1.0, 1.0, 1.0, 1.0, 1.0, 1.0, 1.0, 1.0, 1.0, 1.0, 1.0, 1.0, 1.0, 1.0, 1.0, 1.0, 1.0, 1.0, 1.0, 1.0, 1.0, 1.0, 1.0, 1.0, 1.0, 1.0, 1.0, 1.0, 1.0, 1.0, 1.0, 1.0, 1.0, 1.0, 1.0, 1.0, 1.0, 1.0, 1.0, 1.0, 1.0, 1.0, 1.0, 1.0, 1.0, 1.0, 1.0, 1.0, 1.0, 1.0, 1.0, 1.0, 1.0, 1.0, 1.0, 1.0, 1.0, 1.0, 1.0, 1.0, 1.0, 1.0, 1.0, 1.0, 1.0, 1.0, 1.0, 1.0, 1.0, 1.0, 1.0, 1.0, 1.0, 1.0, 1.0, 1.0, 1.0, 1.0, 1.0, 1.0, 1.0, 1.0, 1.0, 1.0, 1.0, 1.0, 1.0, 1.0, 1.0, 1.0, 1.0, 1.0, 1.0, 1.0, 1.0, 1.0, 1.0, 1.0, 1.0, 1.0, 1.0, 1.0, 1.0, 1.0, 1.0, 1.0, 1.0, 1.0, 1.0, 1.0, 1.0, 1.0, 1.0, 1.0, 1.0, 1.0, 1.0, 1.0, 1.0, 1.0, 1.0, 1.0, 1.0, 1.0, 1.0, 1.0, 1.0, 1.0, 1.0, 1.0, 1.0, 1.0, 1.0, 1.0, 1.0, 1.0, 1.0, 1.0, 1.0, 1.0, 1.0, 1.0, 1.0, 1.0, 1.0, 1.0, 1.0, 1.0, 1.0, 1.0, 1.0, 1.0, 1.0, 1.0, 1.0, 1.0, 1.0, 1.0, 1.0, 1.0, 1.0, 1.0, 1.0, 1.0, 1.0, 1.0, 1.0, 1.0, 1.0, 1.0, 1.0, 1.0, 1.0, 1.0, 1.0, 1.0, 1.0, 1.0, 1.0, 1.0, 1.0, 1.0, 1.0, 1.0, 1.0, 1.0, 1.0, 1.0, 1.0, 1.0, 1.0, 1.0, 1.0, 1.0, 1.0, 1.0, 1.0, 1.0, 1.0, 1.0, 1.0, 1.0, 1.0, 1.0, 1.0, 1.0, 1.0, 1.0, 1.0, 1.0, 1.0, 1.0, 1.0, 1.0, 1.0, 1.0]\n",
            "sd_acc: 0.009120942014934137\n",
            "sd_f1: 0.0052629142327598535\n",
            "sd_mcc: 0.0\n",
            "sd_sn: 0.0\n",
            "sd_sp: 0.0\n",
            "              precision    recall  f1-score   support\n",
            "\n",
            "           0       0.00      0.00      0.00       187\n",
            "           1       0.86      1.00      0.93      1169\n",
            "\n",
            "    accuracy                           0.86      1356\n",
            "   macro avg       0.43      0.50      0.46      1356\n",
            "weighted avg       0.74      0.86      0.80      1356\n",
            "\n"
          ]
        },
        {
          "name": "stderr",
          "output_type": "stream",
          "text": [
            "/usr/local/lib/python3.10/dist-packages/sklearn/metrics/_classification.py:1344: UndefinedMetricWarning: Precision and F-score are ill-defined and being set to 0.0 in labels with no predicted samples. Use `zero_division` parameter to control this behavior.\n",
            "  _warn_prf(average, modifier, msg_start, len(result))\n",
            "/usr/local/lib/python3.10/dist-packages/sklearn/metrics/_classification.py:1344: UndefinedMetricWarning: Precision and F-score are ill-defined and being set to 0.0 in labels with no predicted samples. Use `zero_division` parameter to control this behavior.\n",
            "  _warn_prf(average, modifier, msg_start, len(result))\n",
            "/usr/local/lib/python3.10/dist-packages/sklearn/metrics/_classification.py:1344: UndefinedMetricWarning: Precision and F-score are ill-defined and being set to 0.0 in labels with no predicted samples. Use `zero_division` parameter to control this behavior.\n",
            "  _warn_prf(average, modifier, msg_start, len(result))\n"
          ]
        },
        {
          "data": {
            "text/plain": [
              "(0.009120942014934137, 0.0, 0.0052629142327598535)"
            ]
          },
          "execution_count": 124,
          "metadata": {},
          "output_type": "execute_result"
        }
      ],
      "source": [
        "predicted_lstm = classifier.predict(X_test)\n",
        "predicted_lstm = np.where(predicted_lstm > 0.5, 1, 0)\n",
        "predicted_lstm = np.reshape(predicted_lstm,(len(predicted_lstm),)).astype(int)\n",
        "error_rate(Y_test, predicted_lstm)"
      ]
    },
    {
      "cell_type": "markdown",
      "id": "gghPVbbuLbqN",
      "metadata": {
        "id": "gghPVbbuLbqN"
      },
      "source": [
        "### BiLSTM with GridSearch"
      ]
    },
    {
      "cell_type": "code",
      "execution_count": null,
      "id": "l-ZqdqeELYEp",
      "metadata": {
        "colab": {
          "background_save": true
        },
        "id": "l-ZqdqeELYEp"
      },
      "outputs": [],
      "source": [
        "import tensorflow as tf\n",
        "from tensorflow.keras.layers import SimpleRNN, Bidirectional, Input, Embedding, LSTM, Dropout, Dense, InputLayer\n",
        "from tensorflow.keras.models import Model, Sequential\n",
        "from keras import regularizers\n",
        "from keras.layers import Embedding, Bidirectional\n",
        "from keras.regularizers import l2\n",
        "from sklearn.metrics import make_scorer\n",
        "from keras.wrappers.scikit_learn import KerasClassifier\n",
        "from time import time"
      ]
    },
    {
      "cell_type": "code",
      "execution_count": null,
      "id": "Oc2u5VPF9ZN_",
      "metadata": {
        "colab": {
          "background_save": true
        },
        "id": "Oc2u5VPF9ZN_"
      },
      "outputs": [],
      "source": [
        "from numpy.random import seed\n",
        "seed(1)"
      ]
    },
    {
      "cell_type": "code",
      "execution_count": null,
      "id": "7Z0kkcZp9ZN_",
      "metadata": {
        "colab": {
          "background_save": true
        },
        "id": "7Z0kkcZp9ZN_"
      },
      "outputs": [],
      "source": [
        "from tensorflow.keras.utils import set_random_seed\n",
        "set_random_seed(2)"
      ]
    },
    {
      "cell_type": "code",
      "execution_count": null,
      "id": "kAHT7mSNVGrU",
      "metadata": {
        "colab": {
          "background_save": true
        },
        "id": "kAHT7mSNVGrU"
      },
      "outputs": [],
      "source": [
        "X_train, X_test= train_dataset, test_dataset\n",
        "y_train, y_test = training_labels, testing_labels"
      ]
    },
    {
      "cell_type": "code",
      "execution_count": null,
      "id": "eD_Jcu4ST67v",
      "metadata": {
        "colab": {
          "background_save": true
        },
        "id": "eD_Jcu4ST67v"
      },
      "outputs": [],
      "source": [
        "X_train = np.reshape(X_train, (X_train.shape[0], X_train.shape[1],1))\n",
        "X_test = np.reshape(X_test, (X_test.shape[0], X_test.shape[1],1))"
      ]
    },
    {
      "cell_type": "code",
      "execution_count": null,
      "id": "p2z79_qvLZCo",
      "metadata": {
        "colab": {
          "background_save": true
        },
        "id": "p2z79_qvLZCo"
      },
      "outputs": [],
      "source": [
        "input_shape = X_train[1,:].shape"
      ]
    },
    {
      "cell_type": "code",
      "execution_count": null,
      "id": "CUwEv4vzSISY",
      "metadata": {
        "colab": {
          "background_save": true
        },
        "id": "CUwEv4vzSISY",
        "outputId": "4124bdcd-c051-46e2-ae80-b7cfbd99446d"
      },
      "outputs": [
        {
          "data": {
            "text/plain": [
              "(1536, 1)"
            ]
          },
          "execution_count": 40,
          "metadata": {},
          "output_type": "execute_result"
        }
      ],
      "source": [
        "input_shape"
      ]
    },
    {
      "cell_type": "code",
      "execution_count": null,
      "id": "2Sn7HB60VGrV",
      "metadata": {
        "colab": {
          "background_save": true
        },
        "id": "2Sn7HB60VGrV"
      },
      "outputs": [],
      "source": [
        "Y_train = np.reshape(y_train,(len(y_train),1)).astype(int)\n",
        "Y_test = np.reshape(y_test,(len(y_test),1)).astype(int)"
      ]
    },
    {
      "cell_type": "code",
      "execution_count": null,
      "id": "JN7ZQUqrWfW8",
      "metadata": {
        "colab": {
          "background_save": true
        },
        "id": "JN7ZQUqrWfW8"
      },
      "outputs": [],
      "source": [
        "num_words = 22\n",
        "num_classes = 1\n",
        "n_cv = 3\n",
        "num_hiddens = 1280\n",
        "num_steps = 10\n",
        "num_layers = 1\n",
        "max_length = 2560"
      ]
    },
    {
      "cell_type": "code",
      "execution_count": null,
      "id": "S8Q4lB7lDArN",
      "metadata": {
        "colab": {
          "background_save": true
        },
        "id": "S8Q4lB7lDArN"
      },
      "outputs": [],
      "source": [
        "def create_blstm_model1(dropout_rate=0.0, units=50, learning_rate_init=0.001, regularizer=0.0, solver='adam'):\n",
        "    x_input = Input(input_shape)\n",
        "    #emb = Embedding(21, units, input_length=max_length)(x_input)\n",
        "    bi_rnn = Bidirectional(LSTM(units, activity_regularizer=l2(dropout_rate),return_sequences=True))(x_input) #kernel_regularizer=l2(0.01), recurrent_regularizer=l2(0.01), bias_regularizer=l2(0.01)\n",
        "    x = Dropout(dropout_rate)(bi_rnn)\n",
        "    bi_rnn2 = Bidirectional(LSTM(units, activity_regularizer=l2(dropout_rate)))(x) #kernel_regularizer=l2(0.01), recurrent_regularizer=l2(0.01), bias_regularizer=l2(0.01)\n",
        "    x2 = Dropout(dropout_rate)(bi_rnn2)\n",
        "    x_output = Dense(1, activation='sigmoid')(x2)\n",
        "\n",
        "    model = Model(inputs=x_input, outputs=x_output)\n",
        "    # Compile model\n",
        "    model.compile(\n",
        "        optimizer=tf.keras.optimizers.Adam(learning_rate=learning_rate_init),#solver,#\n",
        "        loss='binary_crossentropy',\n",
        "        metrics=['accuracy'],\n",
        "        )\n",
        "    return model"
      ]
    },
    {
      "cell_type": "code",
      "execution_count": null,
      "id": "FWc9zaH0Oxmh",
      "metadata": {
        "colab": {
          "background_save": true
        },
        "id": "FWc9zaH0Oxmh"
      },
      "outputs": [],
      "source": [
        "blstm1 = create_blstm_model1()"
      ]
    },
    {
      "cell_type": "code",
      "execution_count": null,
      "id": "6eOvO9GBOyQo",
      "metadata": {
        "colab": {
          "background_save": true
        },
        "id": "6eOvO9GBOyQo",
        "outputId": "0960874d-56e1-4572-b546-bcea87d2074e"
      },
      "outputs": [
        {
          "name": "stdout",
          "output_type": "stream",
          "text": [
            "Model: \"model\"\n",
            "_________________________________________________________________\n",
            " Layer (type)                Output Shape              Param #   \n",
            "=================================================================\n",
            " input_1 (InputLayer)        [(None, 1536, 1)]         0         \n",
            "                                                                 \n",
            " bidirectional (Bidirectiona  (None, 1536, 100)        20800     \n",
            " l)                                                              \n",
            "                                                                 \n",
            " dropout (Dropout)           (None, 1536, 100)         0         \n",
            "                                                                 \n",
            " bidirectional_1 (Bidirectio  (None, 100)              60400     \n",
            " nal)                                                            \n",
            "                                                                 \n",
            " dropout_1 (Dropout)         (None, 100)               0         \n",
            "                                                                 \n",
            " dense (Dense)               (None, 1)                 101       \n",
            "                                                                 \n",
            "=================================================================\n",
            "Total params: 81,301\n",
            "Trainable params: 81,301\n",
            "Non-trainable params: 0\n",
            "_________________________________________________________________\n"
          ]
        }
      ],
      "source": [
        "blstm1.summary()"
      ]
    },
    {
      "cell_type": "code",
      "execution_count": null,
      "id": "tp0OAX3B_Q7p",
      "metadata": {
        "colab": {
          "background_save": true
        },
        "id": "tp0OAX3B_Q7p"
      },
      "outputs": [],
      "source": [
        "# Early Stopping\n",
        "#es = EarlyStopping(monitor='val_loss', patience=150, verbose=1)\n",
        "\n",
        "#history = blstm1.fit(train_pad, y_train,\n",
        "#                        validation_data=(val_pad, y_val),\n",
        "#                        callbacks=[es],\n",
        "#                        epochs=3, batch_size=256, verbose=1\n",
        "#                        )"
      ]
    },
    {
      "cell_type": "code",
      "execution_count": null,
      "id": "mF5onWhjNYEl",
      "metadata": {
        "colab": {
          "background_save": true
        },
        "id": "mF5onWhjNYEl"
      },
      "outputs": [],
      "source": [
        "#predicted_training_labels = blstm1.predict(train_pad)\n",
        "#predicted_training_labels = np.where(predicted_training_labels > 0.5, 1, 0)\n",
        "#predicted_training_labels = np.reshape(predicted_training_labels,(len(predicted_training_labels),)).astype(int)\n",
        "#error_rate(y_train, predicted_training_labels)"
      ]
    },
    {
      "cell_type": "code",
      "execution_count": null,
      "id": "y7qRQrGxNg9C",
      "metadata": {
        "colab": {
          "background_save": true
        },
        "id": "y7qRQrGxNg9C"
      },
      "outputs": [],
      "source": [
        "#predicted_testing_labels = blstm1.predict(val_pad)\n",
        "#predicted_testing_labels = np.where(predicted_testing_labels > 0.5, 1, 0)\n",
        "#predicted_testing_labels = np.reshape(predicted_testing_labels,(len(predicted_testing_labels),)).astype(int)\n",
        "#error_rate(y_val, predicted_testing_labels)"
      ]
    },
    {
      "cell_type": "code",
      "execution_count": null,
      "id": "oMK08riVVajL",
      "metadata": {
        "colab": {
          "background_save": true
        },
        "id": "oMK08riVVajL",
        "outputId": "9b5f8818-8740-4228-c84b-6a2da358eb06"
      },
      "outputs": [
        {
          "name": "stderr",
          "output_type": "stream",
          "text": [
            "<ipython-input-49-5dbbf9917eec>:4: DeprecationWarning: KerasClassifier is deprecated, use Sci-Keras (https://github.com/adriangb/scikeras) instead. See https://www.adriangb.com/scikeras/stable/migration.html for help migrating.\n",
            "  model = KerasClassifier(build_fn=create_blstm_model1, verbose=1, batch_size=128, epochs=3)\n"
          ]
        }
      ],
      "source": [
        "start = time()\n",
        "\n",
        "# create model\n",
        "model = KerasClassifier(build_fn=create_blstm_model1, verbose=1, batch_size=128, epochs=3)\n",
        "# define parameters and values for grid search\n",
        "\n",
        "parameters = {\n",
        "    'units':[50,],\n",
        "    #'learning_rate_init': [0.001, 0.01],\n",
        "    #'epochs': [2,3,5,10],\n",
        "    'solver':['adam'],\n",
        "    #'dropout_rate':[0.0,0.05, 0.1],\n",
        "    #'regularizer':[0.0,0.05, 0.1],\n",
        "}"
      ]
    },
    {
      "cell_type": "code",
      "execution_count": null,
      "id": "G4SgWBn54OyM",
      "metadata": {
        "colab": {
          "background_save": true
        },
        "id": "G4SgWBn54OyM"
      },
      "outputs": [],
      "source": [
        "metrics = {'accuracy':make_scorer(accuracy_score,greater_is_better=True),'f1':make_scorer(f1_score,greater_is_better=True),'mcc':make_scorer(matthews_corrcoef,greater_is_better=True)}"
      ]
    },
    {
      "cell_type": "code",
      "execution_count": null,
      "id": "y5gZrhg7XrYk",
      "metadata": {
        "colab": {
          "background_save": true
        },
        "id": "y5gZrhg7XrYk",
        "outputId": "33b70a95-2d80-42d1-b084-0b80c414e8c1"
      },
      "outputs": [
        {
          "name": "stderr",
          "output_type": "stream",
          "text": [
            "/usr/local/lib/python3.10/dist-packages/joblib/externals/loky/backend/fork_exec.py:38: RuntimeWarning: os.fork() was called. os.fork() is incompatible with multithreaded code, and JAX is multithreaded, so this will likely lead to a deadlock.\n",
            "  pid = os.fork()\n"
          ]
        },
        {
          "name": "stdout",
          "output_type": "stream",
          "text": [
            "Epoch 1/3\n",
            "45/45 [==============================] - 96s 2s/step - loss: 0.6405 - accuracy: 0.6748\n",
            "Epoch 2/3\n",
            "45/45 [==============================] - 89s 2s/step - loss: 0.6284 - accuracy: 0.6788\n",
            "Epoch 3/3\n",
            "45/45 [==============================] - 89s 2s/step - loss: 0.6281 - accuracy: 0.6788\n"
          ]
        }
      ],
      "source": [
        "grid = GridSearchCV(estimator=model, param_grid=parameters, n_jobs=-1, cv=10, scoring=metrics, refit='mcc')\n",
        "grid_result = grid.fit(X_train, Y_train)"
      ]
    },
    {
      "cell_type": "code",
      "execution_count": null,
      "id": "s34hMuo0Z2w2",
      "metadata": {
        "colab": {
          "background_save": true
        },
        "id": "s34hMuo0Z2w2"
      },
      "outputs": [],
      "source": [
        "classifier = grid.best_estimator_"
      ]
    },
    {
      "cell_type": "code",
      "execution_count": null,
      "id": "0xmAALc4Z-hd",
      "metadata": {
        "colab": {
          "background_save": true
        },
        "id": "0xmAALc4Z-hd",
        "outputId": "9dc90f74-162c-4003-87b3-8c945cb34439"
      },
      "outputs": [
        {
          "data": {
            "text/plain": [
              "{'verbose': 1,\n",
              " 'batch_size': 128,\n",
              " 'epochs': 3,\n",
              " 'solver': 'adam',\n",
              " 'units': 50,\n",
              " 'build_fn': <function __main__.create_blstm_model1(dropout_rate=0.0, units=50, learning_rate_init=0.001, regularizer=0.0, solver='adam')>}"
            ]
          },
          "execution_count": 53,
          "metadata": {},
          "output_type": "execute_result"
        }
      ],
      "source": [
        "params = classifier.get_params()\n",
        "params"
      ]
    },
    {
      "cell_type": "code",
      "execution_count": null,
      "id": "RmF350wmb3Bf",
      "metadata": {
        "colab": {
          "background_save": true
        },
        "id": "RmF350wmb3Bf"
      },
      "outputs": [],
      "source": [
        "#cv_results = DataFrame(grid.cv_results_)\n",
        "\n",
        "#cv_results[['param_units','param_activation','param_dropout_rate','param_regularizer','split0_test_score', 'split1_test_score', 'split2_test_score']]"
      ]
    },
    {
      "cell_type": "code",
      "execution_count": null,
      "id": "mnu0uvNzb3C0",
      "metadata": {
        "colab": {
          "background_save": true
        },
        "id": "mnu0uvNzb3C0"
      },
      "outputs": [],
      "source": [
        "df =pd.DataFrame(grid.cv_results_)\n",
        "new_path = '/content/test.xls'\n",
        "writer = pd.ExcelWriter(new_path, engine='xlsxwriter')\n",
        "df.to_excel('/content/drive/MyDrive/Halophilic/AnkhBLSTM.xlsx')"
      ]
    },
    {
      "cell_type": "code",
      "execution_count": null,
      "id": "toJ9ceVVcEVU",
      "metadata": {
        "colab": {
          "background_save": true
        },
        "id": "toJ9ceVVcEVU",
        "outputId": "4286446f-a51e-44ad-87d5-1d2ed76b2e42"
      },
      "outputs": [
        {
          "name": "stdout",
          "output_type": "stream",
          "text": [
            "178/178 [==============================] - 63s 345ms/step\n",
            "acc: 0.6788359788359788\n",
            "f1: 0.8086983926883076\n",
            "mcc: 0.0\n",
            "sn: [1.0, 1.0, 1.0, 1.0, 1.0, 1.0, 1.0, 1.0, 1.0, 1.0, 1.0, 1.0, 1.0, 1.0, 1.0, 1.0, 1.0, 1.0, 1.0, 1.0, 1.0, 1.0, 1.0, 1.0, 1.0, 1.0, 1.0, 1.0, 1.0, 1.0, 1.0, 1.0, 1.0, 1.0, 1.0, 1.0, 1.0, 1.0, 1.0, 1.0, 1.0, 1.0, 1.0, 1.0, 1.0, 1.0, 1.0, 1.0, 1.0, 1.0, 1.0, 1.0, 1.0, 1.0, 1.0, 1.0, 1.0, 1.0, 1.0, 1.0, 1.0, 1.0, 1.0, 1.0, 1.0, 1.0, 1.0, 1.0, 1.0, 1.0, 1.0, 1.0, 1.0, 1.0, 1.0, 1.0, 1.0, 1.0, 1.0, 1.0, 1.0, 1.0, 1.0, 1.0, 1.0, 1.0, 1.0, 1.0, 1.0, 1.0, 1.0, 1.0, 1.0, 1.0, 1.0, 1.0, 1.0, 1.0, 1.0, 1.0, 1.0, 1.0, 1.0, 1.0, 1.0, 1.0, 1.0, 1.0, 1.0, 1.0, 1.0, 1.0, 1.0, 1.0, 1.0, 1.0, 1.0, 1.0, 1.0, 1.0, 1.0, 1.0, 1.0, 1.0, 1.0, 1.0, 1.0, 1.0, 1.0, 1.0, 1.0, 1.0, 1.0, 1.0, 1.0, 1.0, 1.0, 1.0, 1.0, 1.0, 1.0, 1.0, 1.0, 1.0, 1.0, 1.0, 1.0, 1.0, 1.0, 1.0, 1.0, 1.0, 1.0, 1.0, 1.0, 1.0, 1.0, 1.0, 1.0, 1.0, 1.0, 1.0, 1.0, 1.0, 1.0, 1.0, 1.0, 1.0, 1.0, 1.0, 1.0, 1.0, 1.0, 1.0, 1.0, 1.0, 1.0, 1.0, 1.0, 1.0, 1.0, 1.0, 1.0, 1.0, 1.0, 1.0, 1.0, 1.0, 1.0, 1.0, 1.0, 1.0, 1.0, 1.0, 1.0, 1.0, 1.0, 1.0, 1.0, 1.0, 1.0, 1.0, 1.0, 1.0, 1.0, 1.0, 1.0, 1.0, 1.0, 1.0, 1.0, 1.0, 1.0, 1.0, 1.0, 1.0, 1.0, 1.0, 1.0, 1.0, 1.0, 1.0, 1.0, 1.0, 1.0, 1.0, 1.0, 1.0, 1.0, 1.0, 1.0, 1.0, 1.0, 1.0, 1.0, 1.0, 1.0, 1.0, 1.0, 1.0, 1.0, 1.0, 1.0, 1.0, 1.0, 1.0, 1.0, 1.0, 1.0, 1.0, 1.0, 1.0, 1.0, 1.0, 1.0, 1.0, 1.0, 1.0, 1.0, 1.0, 1.0, 1.0, 1.0, 1.0, 1.0, 1.0, 1.0, 1.0, 1.0, 1.0, 1.0, 1.0, 1.0, 1.0, 1.0, 1.0, 1.0, 1.0, 1.0, 1.0, 1.0, 1.0, 1.0, 1.0, 1.0, 1.0, 1.0, 1.0, 1.0, 1.0, 1.0, 1.0, 1.0, 1.0, 1.0, 1.0, 1.0, 1.0, 1.0, 1.0, 1.0, 1.0, 1.0, 1.0, 1.0, 1.0, 1.0, 1.0, 1.0, 1.0, 1.0, 1.0, 1.0, 1.0, 1.0, 1.0, 1.0, 1.0, 1.0, 1.0, 1.0, 1.0, 1.0, 1.0, 1.0, 1.0, 1.0, 1.0, 1.0, 1.0, 1.0, 1.0, 1.0, 1.0, 1.0, 1.0, 1.0, 1.0, 1.0, 1.0, 1.0, 1.0, 1.0, 1.0, 1.0, 1.0, 1.0, 1.0, 1.0, 1.0, 1.0, 1.0, 1.0, 1.0, 1.0, 1.0, 1.0, 1.0, 1.0, 1.0, 1.0, 1.0, 1.0, 1.0, 1.0, 1.0, 1.0, 1.0, 1.0, 1.0, 1.0, 1.0, 1.0, 1.0, 1.0, 1.0, 1.0, 1.0, 1.0, 1.0, 1.0, 1.0, 1.0, 1.0, 1.0, 1.0, 1.0, 1.0, 1.0, 1.0, 1.0, 1.0, 1.0, 1.0, 1.0, 1.0, 1.0, 1.0, 1.0, 1.0, 1.0, 1.0, 1.0, 1.0, 1.0, 1.0, 1.0, 1.0, 1.0, 1.0, 1.0, 1.0, 1.0, 1.0, 1.0, 1.0, 1.0, 1.0, 1.0, 1.0, 1.0, 1.0, 1.0, 1.0, 1.0, 1.0, 1.0, 1.0, 1.0, 1.0, 1.0, 1.0, 1.0, 1.0, 1.0, 1.0, 1.0, 1.0, 1.0, 1.0, 1.0, 1.0, 1.0, 1.0, 1.0, 1.0, 1.0, 1.0, 1.0, 1.0, 1.0, 1.0, 1.0, 1.0, 1.0, 1.0, 1.0, 1.0, 1.0, 1.0, 1.0, 1.0, 1.0, 1.0, 1.0, 1.0, 1.0, 1.0, 1.0, 1.0, 1.0, 1.0, 1.0, 1.0, 1.0, 1.0, 1.0, 1.0, 1.0, 1.0, 1.0, 1.0, 1.0, 1.0, 1.0, 1.0, 1.0, 1.0, 1.0, 1.0, 1.0, 1.0, 1.0, 1.0, 1.0, 1.0, 1.0, 1.0, 1.0, 1.0, 1.0, 1.0, 1.0, 1.0, 1.0, 1.0, 1.0, 1.0, 1.0, 1.0, 1.0, 1.0, 1.0, 1.0, 1.0, 1.0, 1.0, 1.0, 1.0, 1.0, 1.0, 1.0, 1.0, 1.0, 1.0, 1.0, 1.0, 1.0, 1.0, 1.0, 1.0, 1.0, 1.0, 1.0, 1.0, 1.0, 1.0, 1.0, 1.0, 1.0, 1.0, 1.0, 1.0, 1.0, 1.0, 1.0, 1.0, 1.0, 1.0, 1.0, 1.0, 1.0, 1.0, 1.0, 1.0, 1.0, 1.0, 1.0, 1.0, 1.0, 1.0, 1.0, 1.0, 1.0, 1.0, 1.0, 1.0, 1.0, 1.0, 1.0, 1.0, 1.0, 1.0, 1.0, 1.0, 1.0, 1.0, 1.0, 1.0, 1.0, 1.0, 1.0, 1.0, 1.0, 1.0, 1.0, 1.0, 1.0, 1.0, 1.0, 1.0, 1.0, 1.0, 1.0, 1.0, 1.0, 1.0, 1.0, 1.0, 1.0, 1.0, 1.0, 1.0, 1.0, 1.0, 1.0, 1.0, 1.0, 1.0, 1.0, 1.0, 1.0, 1.0, 1.0, 1.0, 1.0, 1.0, 1.0, 1.0, 1.0, 1.0, 1.0, 1.0, 1.0, 1.0, 1.0, 1.0, 1.0, 1.0, 1.0, 1.0, 1.0, 1.0, 1.0, 1.0, 1.0, 1.0, 1.0, 1.0, 1.0, 1.0, 1.0, 1.0, 1.0, 1.0, 1.0, 1.0, 1.0, 1.0, 1.0, 1.0, 1.0, 1.0, 1.0, 1.0, 1.0, 1.0, 1.0, 1.0, 1.0, 1.0, 1.0, 1.0, 1.0, 1.0, 1.0, 1.0, 1.0, 1.0, 1.0, 1.0, 1.0, 1.0, 1.0, 1.0, 1.0, 1.0, 1.0, 1.0, 1.0, 1.0, 1.0, 1.0, 1.0, 1.0, 1.0, 1.0, 1.0, 1.0, 1.0, 1.0, 1.0, 1.0, 1.0, 1.0, 1.0, 1.0, 1.0, 1.0, 1.0, 1.0, 1.0, 1.0, 1.0, 1.0, 1.0, 1.0, 1.0, 1.0, 1.0, 1.0, 1.0, 1.0, 1.0, 1.0, 1.0, 1.0, 1.0, 1.0, 1.0, 1.0, 1.0, 1.0, 1.0, 1.0, 1.0, 1.0, 1.0, 1.0, 1.0, 1.0, 1.0, 1.0, 1.0, 1.0, 1.0, 1.0, 1.0, 1.0, 1.0, 1.0, 1.0, 1.0, 1.0, 1.0, 1.0, 1.0, 1.0, 1.0, 1.0, 1.0, 1.0, 1.0, 1.0, 1.0, 1.0, 1.0, 1.0, 1.0, 1.0, 1.0, 1.0, 1.0, 1.0, 1.0, 1.0, 1.0, 1.0, 1.0, 1.0, 1.0, 1.0, 1.0, 1.0, 1.0, 1.0, 1.0, 1.0, 1.0, 1.0, 1.0, 1.0, 1.0, 1.0, 1.0, 1.0, 1.0, 1.0, 1.0, 1.0, 1.0, 1.0, 1.0, 1.0, 1.0, 1.0, 1.0, 1.0, 1.0, 1.0, 1.0, 1.0, 1.0, 1.0, 1.0, 1.0, 1.0, 1.0, 1.0, 1.0, 1.0, 1.0, 1.0, 1.0, 1.0, 1.0, 1.0, 1.0, 1.0, 1.0, 1.0, 1.0, 1.0, 1.0, 1.0, 1.0, 1.0, 1.0, 1.0, 1.0, 1.0, 1.0, 1.0, 1.0, 1.0, 1.0, 1.0, 1.0, 1.0, 1.0, 1.0, 1.0, 1.0, 1.0, 1.0, 1.0, 1.0, 1.0, 1.0, 1.0, 1.0, 1.0, 1.0, 1.0, 1.0, 1.0, 1.0, 1.0, 1.0, 1.0, 1.0, 1.0, 1.0, 1.0, 1.0, 1.0, 1.0, 1.0, 1.0, 1.0, 1.0, 1.0, 1.0, 1.0, 1.0, 1.0, 1.0, 1.0, 1.0, 1.0, 1.0, 1.0, 1.0, 1.0, 1.0, 1.0, 1.0, 1.0, 1.0, 1.0, 1.0, 1.0, 1.0, 1.0, 1.0, 1.0, 1.0, 1.0, 1.0, 1.0, 1.0, 1.0, 1.0, 1.0, 1.0, 1.0, 1.0, 1.0, 1.0, 1.0, 1.0, 1.0, 1.0, 1.0, 1.0, 1.0, 1.0, 1.0, 1.0, 1.0, 1.0, 1.0, 1.0, 1.0, 1.0, 1.0, 1.0, 1.0, 1.0, 1.0, 1.0, 1.0, 1.0, 1.0, 1.0, 1.0, 1.0, 1.0, 1.0, 1.0, 1.0, 1.0, 1.0, 1.0, 1.0, 1.0, 1.0, 1.0, 1.0, 1.0, 1.0, 1.0, 1.0, 1.0, 1.0, 1.0, 1.0, 1.0, 1.0, 1.0, 1.0, 1.0, 1.0, 1.0, 1.0, 1.0, 1.0, 1.0, 1.0, 1.0, 1.0, 1.0, 1.0, 1.0, 1.0, 1.0, 1.0, 1.0, 1.0, 1.0, 1.0, 1.0, 1.0, 1.0, 1.0, 1.0, 1.0, 1.0, 1.0, 1.0, 1.0, 1.0, 1.0, 1.0, 1.0, 1.0, 1.0, 1.0, 1.0, 1.0]\n",
            "sp: [1.0, 1.0, 1.0, 1.0, 1.0, 1.0, 1.0, 1.0, 1.0, 1.0, 1.0, 1.0, 1.0, 1.0, 1.0, 1.0, 1.0, 1.0, 1.0, 1.0, 1.0, 1.0, 1.0, 1.0, 1.0, 1.0, 1.0, 1.0, 1.0, 1.0, 1.0, 1.0, 1.0, 1.0, 1.0, 1.0, 1.0, 1.0, 1.0, 1.0, 1.0, 1.0, 1.0, 1.0, 1.0, 1.0, 1.0, 1.0, 1.0, 1.0, 1.0, 1.0, 1.0, 1.0, 1.0, 1.0, 1.0, 1.0, 1.0, 1.0, 1.0, 1.0, 1.0, 1.0, 1.0, 1.0, 1.0, 1.0, 1.0, 1.0, 1.0, 1.0, 1.0, 1.0, 1.0, 1.0, 1.0, 1.0, 1.0, 1.0, 1.0, 1.0, 1.0, 1.0, 1.0, 1.0, 1.0, 1.0, 1.0, 1.0, 1.0, 1.0, 1.0, 1.0, 1.0, 1.0, 1.0, 1.0, 1.0, 1.0, 1.0, 1.0, 1.0, 1.0, 1.0, 1.0, 1.0, 1.0, 1.0, 1.0, 1.0, 1.0, 1.0, 1.0, 1.0, 1.0, 1.0, 1.0, 1.0, 1.0, 1.0, 1.0, 1.0, 1.0, 1.0, 1.0, 1.0, 1.0, 1.0, 1.0, 1.0, 1.0, 1.0, 1.0, 1.0, 1.0, 1.0, 1.0, 1.0, 1.0, 1.0, 1.0, 1.0, 1.0, 1.0, 1.0, 1.0, 1.0, 1.0, 1.0, 1.0, 1.0, 1.0, 1.0, 1.0, 1.0, 1.0, 1.0, 1.0, 1.0, 1.0, 1.0, 1.0, 1.0, 1.0, 1.0, 1.0, 1.0, 1.0, 1.0, 1.0, 1.0, 1.0, 1.0, 1.0, 1.0, 1.0, 1.0, 1.0, 1.0, 1.0, 1.0, 1.0, 1.0, 1.0, 1.0, 1.0, 1.0, 1.0, 1.0, 1.0, 1.0, 1.0, 1.0, 1.0, 1.0, 1.0, 1.0, 1.0, 1.0, 1.0, 1.0, 1.0, 1.0, 1.0, 1.0, 1.0, 1.0, 1.0, 1.0, 1.0, 1.0, 1.0, 1.0, 1.0, 1.0, 1.0, 1.0, 1.0, 1.0, 1.0, 1.0, 1.0, 1.0, 1.0, 1.0, 1.0, 1.0, 1.0, 1.0, 1.0, 1.0, 1.0, 1.0, 1.0, 1.0, 1.0, 1.0, 1.0, 1.0, 1.0, 1.0, 1.0, 1.0, 1.0, 1.0, 1.0, 1.0, 1.0, 1.0, 1.0, 1.0, 1.0, 1.0, 1.0, 1.0, 1.0, 1.0, 1.0, 1.0, 1.0, 1.0, 1.0, 1.0, 1.0, 1.0, 1.0, 1.0, 1.0, 1.0, 1.0, 1.0, 1.0, 1.0, 1.0, 1.0, 1.0, 1.0, 1.0, 1.0, 1.0, 1.0, 1.0, 1.0, 1.0, 1.0, 1.0, 1.0, 1.0, 1.0, 1.0, 1.0, 1.0, 1.0, 1.0, 1.0, 1.0, 1.0, 1.0, 1.0, 1.0, 1.0, 1.0, 1.0, 1.0, 1.0, 1.0, 1.0, 1.0, 1.0, 1.0, 1.0, 1.0, 1.0, 1.0, 1.0, 1.0, 1.0, 1.0, 1.0, 1.0, 1.0, 1.0, 1.0, 1.0, 1.0, 1.0, 1.0, 1.0, 1.0, 1.0, 1.0, 1.0, 1.0, 1.0, 1.0, 1.0, 1.0, 1.0, 1.0, 1.0, 1.0, 1.0, 1.0, 1.0, 1.0, 1.0, 1.0, 1.0, 1.0, 1.0, 1.0, 1.0, 1.0, 1.0, 1.0, 1.0, 1.0, 1.0, 1.0, 1.0, 1.0, 1.0, 1.0, 1.0, 1.0, 1.0, 1.0, 1.0, 1.0, 1.0, 1.0, 1.0, 1.0, 1.0, 1.0, 1.0, 1.0, 1.0, 1.0, 1.0, 1.0, 1.0, 1.0, 1.0, 1.0, 1.0, 1.0, 1.0, 1.0, 1.0, 1.0, 1.0, 1.0, 1.0, 1.0, 1.0, 1.0, 1.0, 1.0, 1.0, 1.0, 1.0, 1.0, 1.0, 1.0, 1.0, 1.0, 1.0, 1.0, 1.0, 1.0, 1.0, 1.0, 1.0, 1.0, 1.0, 1.0, 1.0, 1.0, 1.0, 1.0, 1.0, 1.0, 1.0, 1.0, 1.0, 1.0, 1.0, 1.0, 1.0, 1.0, 1.0, 1.0, 1.0, 1.0, 1.0, 1.0, 1.0, 1.0, 1.0, 1.0, 1.0, 1.0, 1.0, 1.0, 1.0, 1.0, 1.0, 1.0, 1.0, 1.0, 1.0, 1.0, 1.0, 1.0, 1.0, 1.0, 1.0, 1.0, 1.0, 1.0, 1.0, 1.0, 1.0, 1.0, 1.0, 1.0, 1.0, 1.0, 1.0, 1.0, 1.0, 1.0, 1.0, 1.0, 1.0, 1.0, 1.0, 1.0, 1.0, 1.0, 1.0, 1.0, 1.0, 1.0, 1.0, 1.0, 1.0, 1.0, 1.0, 1.0, 1.0, 1.0, 1.0, 1.0, 1.0, 1.0, 1.0, 1.0, 1.0, 1.0, 1.0, 1.0, 1.0, 1.0, 1.0, 1.0, 1.0, 1.0, 1.0, 1.0, 1.0, 1.0, 1.0, 1.0, 1.0, 1.0, 1.0, 1.0, 1.0, 1.0, 1.0, 1.0, 1.0, 1.0, 1.0, 1.0, 1.0, 1.0, 1.0, 1.0, 1.0, 1.0, 1.0, 1.0, 1.0, 1.0, 1.0, 1.0, 1.0, 1.0, 1.0, 1.0, 1.0, 1.0, 1.0, 1.0, 1.0, 1.0, 1.0, 1.0, 1.0, 1.0, 1.0, 1.0, 1.0, 1.0, 1.0, 1.0, 1.0, 1.0, 1.0, 1.0, 1.0, 1.0, 1.0, 1.0, 1.0, 1.0, 1.0, 1.0, 1.0, 1.0, 1.0, 1.0, 1.0, 1.0, 1.0, 1.0, 1.0, 1.0, 1.0, 1.0, 1.0, 1.0, 1.0, 1.0, 1.0, 1.0, 1.0, 1.0, 1.0, 1.0, 1.0, 1.0, 1.0, 1.0, 1.0, 1.0, 1.0, 1.0, 1.0, 1.0, 1.0, 1.0, 1.0, 1.0, 1.0, 1.0, 1.0, 1.0, 1.0, 1.0, 1.0, 1.0, 1.0, 1.0, 1.0, 1.0, 1.0, 1.0, 1.0, 1.0, 1.0, 1.0, 1.0, 1.0, 1.0, 1.0, 1.0, 1.0, 1.0, 1.0, 1.0, 1.0, 1.0, 1.0, 1.0, 1.0, 1.0, 1.0, 1.0, 1.0, 1.0, 1.0, 1.0, 1.0, 1.0, 1.0, 1.0, 1.0, 1.0, 1.0, 1.0, 1.0, 1.0, 1.0, 1.0, 1.0, 1.0, 1.0, 1.0, 1.0, 1.0, 1.0, 1.0, 1.0, 1.0, 1.0, 1.0, 1.0, 1.0, 1.0, 1.0, 1.0, 1.0, 1.0, 1.0, 1.0, 1.0, 1.0, 1.0, 1.0, 1.0, 1.0, 1.0, 1.0, 1.0, 1.0, 1.0, 1.0, 1.0, 1.0, 1.0, 1.0, 1.0, 1.0, 1.0, 1.0, 1.0, 1.0, 1.0, 1.0, 1.0, 1.0, 1.0, 1.0, 1.0, 1.0, 1.0, 1.0, 1.0, 1.0, 1.0, 1.0, 1.0, 1.0, 1.0, 1.0, 1.0, 1.0, 1.0, 1.0, 1.0, 1.0, 1.0, 1.0, 1.0, 1.0, 1.0, 1.0, 1.0, 1.0, 1.0, 1.0, 1.0, 1.0, 1.0, 1.0, 1.0, 1.0, 1.0, 1.0, 1.0, 1.0, 1.0, 1.0, 1.0, 1.0, 1.0, 1.0, 1.0, 1.0, 1.0, 1.0, 1.0, 1.0, 1.0, 1.0, 1.0, 1.0, 1.0, 1.0, 1.0, 1.0, 1.0, 1.0, 1.0, 1.0, 1.0, 1.0, 1.0, 1.0, 1.0, 1.0, 1.0, 1.0, 1.0, 1.0, 1.0, 1.0, 1.0, 1.0, 1.0, 1.0, 1.0, 1.0, 1.0, 1.0, 1.0, 1.0, 1.0, 1.0, 1.0, 1.0, 1.0, 1.0, 1.0, 1.0, 1.0, 1.0, 1.0, 1.0, 1.0, 1.0, 1.0, 1.0, 1.0, 1.0, 1.0, 1.0, 1.0, 1.0, 1.0, 1.0, 1.0, 1.0, 1.0, 1.0, 1.0, 1.0, 1.0, 1.0, 1.0, 1.0, 1.0, 1.0, 1.0, 1.0, 1.0, 1.0, 1.0, 1.0, 1.0, 1.0, 1.0, 1.0, 1.0, 1.0, 1.0, 1.0, 1.0, 1.0, 1.0, 1.0, 1.0, 1.0, 1.0, 1.0, 1.0, 1.0, 1.0, 1.0, 1.0, 1.0, 1.0, 1.0, 1.0, 1.0, 1.0, 1.0, 1.0, 1.0, 1.0, 1.0, 1.0, 1.0, 1.0, 1.0, 1.0, 1.0, 1.0, 1.0, 1.0, 1.0, 1.0, 1.0, 1.0, 1.0, 1.0, 1.0, 1.0, 1.0, 1.0, 1.0, 1.0, 1.0, 1.0, 1.0, 1.0, 1.0, 1.0, 1.0, 1.0, 1.0, 1.0, 1.0, 1.0, 1.0, 1.0, 1.0, 1.0, 1.0, 1.0, 1.0, 1.0, 1.0, 1.0, 1.0, 1.0, 1.0, 1.0, 1.0, 1.0, 1.0, 1.0, 1.0, 1.0, 1.0, 1.0, 1.0, 1.0, 1.0, 1.0, 1.0, 1.0, 1.0, 1.0, 1.0, 1.0, 1.0, 1.0, 1.0, 1.0, 1.0, 1.0, 1.0, 1.0, 1.0, 1.0, 1.0, 1.0, 1.0, 1.0, 1.0, 1.0, 1.0, 1.0, 1.0, 1.0, 1.0, 1.0, 1.0, 1.0, 1.0, 1.0, 1.0, 1.0, 1.0, 1.0, 1.0, 1.0, 1.0, 1.0, 1.0, 1.0, 1.0, 1.0, 1.0, 1.0, 1.0, 1.0, 1.0, 1.0, 1.0, 1.0, 1.0, 1.0, 1.0, 1.0, 1.0, 1.0, 1.0, 1.0, 1.0, 1.0, 1.0, 1.0, 1.0, 1.0, 1.0, 1.0, 1.0, 1.0, 1.0, 1.0, 1.0, 1.0, 1.0]\n",
            "sd_acc: 0.006067042153683595\n",
            "sd_f1: 0.004306772776841184\n",
            "sd_mcc: 0.0\n",
            "sd_sn: 0.0\n",
            "sd_sp: 0.0\n",
            "              precision    recall  f1-score   support\n",
            "\n",
            "           0       0.00      0.00      0.00      1821\n",
            "           1       0.68      1.00      0.81      3849\n",
            "\n",
            "    accuracy                           0.68      5670\n",
            "   macro avg       0.34      0.50      0.40      5670\n",
            "weighted avg       0.46      0.68      0.55      5670\n",
            "\n"
          ]
        },
        {
          "name": "stderr",
          "output_type": "stream",
          "text": [
            "/usr/local/lib/python3.10/dist-packages/sklearn/metrics/_classification.py:1344: UndefinedMetricWarning: Precision and F-score are ill-defined and being set to 0.0 in labels with no predicted samples. Use `zero_division` parameter to control this behavior.\n",
            "  _warn_prf(average, modifier, msg_start, len(result))\n",
            "/usr/local/lib/python3.10/dist-packages/sklearn/metrics/_classification.py:1344: UndefinedMetricWarning: Precision and F-score are ill-defined and being set to 0.0 in labels with no predicted samples. Use `zero_division` parameter to control this behavior.\n",
            "  _warn_prf(average, modifier, msg_start, len(result))\n",
            "/usr/local/lib/python3.10/dist-packages/sklearn/metrics/_classification.py:1344: UndefinedMetricWarning: Precision and F-score are ill-defined and being set to 0.0 in labels with no predicted samples. Use `zero_division` parameter to control this behavior.\n",
            "  _warn_prf(average, modifier, msg_start, len(result))\n"
          ]
        },
        {
          "data": {
            "text/plain": [
              "(0.006067042153683595, 0.0, 0.004306772776841184)"
            ]
          },
          "execution_count": 56,
          "metadata": {},
          "output_type": "execute_result"
        }
      ],
      "source": [
        "predicted_training_labels = classifier.predict(X_train)\n",
        "predicted_training_labels = np.where(predicted_training_labels > 0.5, 1, 0)\n",
        "predicted_training_labels = np.reshape(predicted_training_labels,(len(predicted_training_labels),)).astype(int)\n",
        "error_rate(Y_train, predicted_training_labels)"
      ]
    },
    {
      "cell_type": "code",
      "execution_count": null,
      "id": "fRn-66gpcEWu",
      "metadata": {
        "colab": {
          "background_save": true
        },
        "id": "fRn-66gpcEWu",
        "outputId": "e291ce30-f707-45e3-89de-0a23946ac617"
      },
      "outputs": [
        {
          "name": "stdout",
          "output_type": "stream",
          "text": [
            "43/43 [==============================] - 15s 337ms/step\n",
            "acc: 0.862094395280236\n",
            "f1: 0.925940594059406\n",
            "mcc: 0.0\n",
            "sn: [1.0, 1.0, 1.0, 1.0, 1.0, 1.0, 1.0, 1.0, 1.0, 1.0, 1.0, 1.0, 1.0, 1.0, 1.0, 1.0, 1.0, 1.0, 1.0, 1.0, 1.0, 1.0, 1.0, 1.0, 1.0, 1.0, 1.0, 1.0, 1.0, 1.0, 1.0, 1.0, 1.0, 1.0, 1.0, 1.0, 1.0, 1.0, 1.0, 1.0, 1.0, 1.0, 1.0, 1.0, 1.0, 1.0, 1.0, 1.0, 1.0, 1.0, 1.0, 1.0, 1.0, 1.0, 1.0, 1.0, 1.0, 1.0, 1.0, 1.0, 1.0, 1.0, 1.0, 1.0, 1.0, 1.0, 1.0, 1.0, 1.0, 1.0, 1.0, 1.0, 1.0, 1.0, 1.0, 1.0, 1.0, 1.0, 1.0, 1.0, 1.0, 1.0, 1.0, 1.0, 1.0, 1.0, 1.0, 1.0, 1.0, 1.0, 1.0, 1.0, 1.0, 1.0, 1.0, 1.0, 1.0, 1.0, 1.0, 1.0, 1.0, 1.0, 1.0, 1.0, 1.0, 1.0, 1.0, 1.0, 1.0, 1.0, 1.0, 1.0, 1.0, 1.0, 1.0, 1.0, 1.0, 1.0, 1.0, 1.0, 1.0, 1.0, 1.0, 1.0, 1.0, 1.0, 1.0, 1.0, 1.0, 1.0, 1.0, 1.0, 1.0, 1.0, 1.0, 1.0, 1.0, 1.0, 1.0, 1.0, 1.0, 1.0, 1.0, 1.0, 1.0, 1.0, 1.0, 1.0, 1.0, 1.0, 1.0, 1.0, 1.0, 1.0, 1.0, 1.0, 1.0, 1.0, 1.0, 1.0, 1.0, 1.0, 1.0, 1.0, 1.0, 1.0, 1.0, 1.0, 1.0, 1.0, 1.0, 1.0, 1.0, 1.0, 1.0, 1.0, 1.0, 1.0, 1.0, 1.0, 1.0, 1.0, 1.0, 1.0, 1.0, 1.0, 1.0, 1.0, 1.0, 1.0, 1.0, 1.0, 1.0, 1.0, 1.0, 1.0, 1.0, 1.0, 1.0, 1.0, 1.0, 1.0, 1.0, 1.0, 1.0, 1.0, 1.0, 1.0, 1.0, 1.0, 1.0, 1.0, 1.0, 1.0, 1.0, 1.0, 1.0, 1.0, 1.0, 1.0, 1.0, 1.0, 1.0, 1.0, 1.0, 1.0, 1.0, 1.0, 1.0, 1.0, 1.0, 1.0, 1.0, 1.0, 1.0, 1.0, 1.0, 1.0, 1.0, 1.0, 1.0, 1.0, 1.0, 1.0, 1.0, 1.0, 1.0, 1.0, 1.0, 1.0, 1.0, 1.0, 1.0, 1.0, 1.0, 1.0, 1.0, 1.0, 1.0, 1.0, 1.0, 1.0, 1.0, 1.0, 1.0, 1.0, 1.0, 1.0, 1.0, 1.0, 1.0, 1.0, 1.0, 1.0, 1.0, 1.0, 1.0, 1.0, 1.0, 1.0, 1.0, 1.0, 1.0, 1.0, 1.0, 1.0, 1.0, 1.0, 1.0, 1.0, 1.0, 1.0, 1.0, 1.0, 1.0, 1.0, 1.0, 1.0, 1.0, 1.0, 1.0, 1.0, 1.0, 1.0, 1.0, 1.0, 1.0, 1.0, 1.0, 1.0, 1.0, 1.0, 1.0, 1.0, 1.0, 1.0, 1.0, 1.0, 1.0, 1.0, 1.0, 1.0, 1.0, 1.0, 1.0, 1.0, 1.0, 1.0, 1.0, 1.0, 1.0, 1.0, 1.0, 1.0, 1.0, 1.0, 1.0, 1.0, 1.0, 1.0, 1.0, 1.0, 1.0, 1.0, 1.0, 1.0, 1.0, 1.0, 1.0, 1.0, 1.0, 1.0, 1.0, 1.0, 1.0, 1.0, 1.0, 1.0, 1.0, 1.0, 1.0, 1.0, 1.0, 1.0, 1.0, 1.0, 1.0, 1.0, 1.0, 1.0, 1.0, 1.0, 1.0, 1.0, 1.0, 1.0, 1.0, 1.0, 1.0, 1.0, 1.0, 1.0, 1.0, 1.0, 1.0, 1.0, 1.0, 1.0, 1.0, 1.0, 1.0, 1.0, 1.0, 1.0, 1.0, 1.0, 1.0, 1.0, 1.0, 1.0, 1.0, 1.0, 1.0, 1.0, 1.0, 1.0, 1.0, 1.0, 1.0, 1.0, 1.0, 1.0, 1.0, 1.0, 1.0, 1.0, 1.0, 1.0, 1.0, 1.0, 1.0, 1.0, 1.0, 1.0, 1.0, 1.0, 1.0, 1.0, 1.0, 1.0, 1.0, 1.0, 1.0, 1.0, 1.0, 1.0, 1.0, 1.0, 1.0, 1.0, 1.0, 1.0, 1.0, 1.0, 1.0, 1.0, 1.0, 1.0, 1.0, 1.0, 1.0, 1.0, 1.0, 1.0, 1.0, 1.0, 1.0, 1.0, 1.0, 1.0, 1.0, 1.0, 1.0, 1.0, 1.0, 1.0, 1.0, 1.0, 1.0, 1.0, 1.0, 1.0, 1.0, 1.0, 1.0, 1.0, 1.0, 1.0, 1.0, 1.0, 1.0, 1.0, 1.0, 1.0, 1.0, 1.0, 1.0, 1.0, 1.0, 1.0, 1.0, 1.0, 1.0, 1.0, 1.0, 1.0, 1.0, 1.0, 1.0, 1.0, 1.0, 1.0, 1.0, 1.0, 1.0, 1.0, 1.0, 1.0, 1.0, 1.0, 1.0, 1.0, 1.0, 1.0, 1.0, 1.0, 1.0, 1.0, 1.0, 1.0, 1.0, 1.0, 1.0, 1.0, 1.0, 1.0, 1.0, 1.0, 1.0, 1.0, 1.0, 1.0, 1.0, 1.0, 1.0, 1.0, 1.0, 1.0, 1.0, 1.0, 1.0, 1.0, 1.0, 1.0, 1.0, 1.0, 1.0, 1.0, 1.0, 1.0, 1.0, 1.0, 1.0, 1.0, 1.0, 1.0, 1.0, 1.0, 1.0, 1.0, 1.0, 1.0, 1.0, 1.0, 1.0, 1.0, 1.0, 1.0, 1.0, 1.0, 1.0, 1.0, 1.0, 1.0, 1.0, 1.0, 1.0, 1.0, 1.0, 1.0, 1.0, 1.0, 1.0, 1.0, 1.0, 1.0, 1.0, 1.0, 1.0, 1.0, 1.0, 1.0, 1.0, 1.0, 1.0, 1.0, 1.0, 1.0, 1.0, 1.0, 1.0, 1.0, 1.0, 1.0, 1.0, 1.0, 1.0, 1.0, 1.0, 1.0, 1.0, 1.0, 1.0, 1.0, 1.0, 1.0, 1.0, 1.0, 1.0, 1.0, 1.0, 1.0, 1.0, 1.0, 1.0, 1.0, 1.0, 1.0, 1.0, 1.0, 1.0, 1.0, 1.0, 1.0, 1.0, 1.0, 1.0, 1.0, 1.0, 1.0, 1.0, 1.0, 1.0, 1.0, 1.0, 1.0, 1.0, 1.0, 1.0, 1.0, 1.0, 1.0, 1.0, 1.0, 1.0, 1.0, 1.0, 1.0, 1.0, 1.0, 1.0, 1.0, 1.0, 1.0, 1.0, 1.0, 1.0, 1.0, 1.0, 1.0, 1.0, 1.0, 1.0, 1.0, 1.0, 1.0, 1.0, 1.0, 1.0, 1.0, 1.0, 1.0, 1.0, 1.0, 1.0, 1.0, 1.0, 1.0, 1.0, 1.0, 1.0, 1.0, 1.0, 1.0, 1.0, 1.0, 1.0, 1.0, 1.0, 1.0, 1.0, 1.0, 1.0, 1.0, 1.0, 1.0, 1.0, 1.0, 1.0, 1.0, 1.0, 1.0, 1.0, 1.0, 1.0, 1.0, 1.0, 1.0, 1.0, 1.0, 1.0, 1.0, 1.0, 1.0, 1.0, 1.0, 1.0, 1.0, 1.0, 1.0, 1.0, 1.0, 1.0, 1.0, 1.0, 1.0, 1.0, 1.0, 1.0, 1.0, 1.0, 1.0, 1.0, 1.0, 1.0, 1.0, 1.0, 1.0, 1.0, 1.0, 1.0, 1.0, 1.0, 1.0, 1.0, 1.0, 1.0, 1.0, 1.0, 1.0, 1.0, 1.0, 1.0, 1.0, 1.0, 1.0, 1.0, 1.0, 1.0, 1.0, 1.0, 1.0, 1.0, 1.0, 1.0, 1.0, 1.0, 1.0, 1.0, 1.0, 1.0, 1.0, 1.0, 1.0, 1.0, 1.0, 1.0, 1.0, 1.0, 1.0, 1.0, 1.0, 1.0, 1.0, 1.0, 1.0, 1.0, 1.0, 1.0, 1.0, 1.0, 1.0, 1.0, 1.0, 1.0, 1.0, 1.0, 1.0, 1.0, 1.0, 1.0, 1.0, 1.0, 1.0, 1.0, 1.0, 1.0, 1.0, 1.0, 1.0, 1.0, 1.0, 1.0, 1.0, 1.0, 1.0, 1.0, 1.0, 1.0, 1.0, 1.0, 1.0, 1.0, 1.0, 1.0, 1.0, 1.0, 1.0, 1.0, 1.0, 1.0, 1.0, 1.0, 1.0, 1.0, 1.0, 1.0, 1.0, 1.0, 1.0, 1.0, 1.0, 1.0, 1.0, 1.0, 1.0, 1.0, 1.0, 1.0, 1.0, 1.0, 1.0, 1.0, 1.0, 1.0, 1.0, 1.0, 1.0, 1.0, 1.0, 1.0, 1.0, 1.0, 1.0, 1.0, 1.0, 1.0, 1.0, 1.0, 1.0, 1.0, 1.0, 1.0, 1.0, 1.0, 1.0, 1.0, 1.0, 1.0, 1.0, 1.0, 1.0, 1.0, 1.0, 1.0, 1.0, 1.0, 1.0, 1.0, 1.0, 1.0, 1.0, 1.0, 1.0, 1.0, 1.0, 1.0, 1.0, 1.0, 1.0, 1.0, 1.0, 1.0, 1.0, 1.0, 1.0, 1.0, 1.0, 1.0, 1.0, 1.0, 1.0, 1.0, 1.0, 1.0, 1.0, 1.0, 1.0, 1.0, 1.0, 1.0, 1.0, 1.0, 1.0, 1.0, 1.0, 1.0, 1.0, 1.0, 1.0, 1.0, 1.0, 1.0, 1.0, 1.0, 1.0, 1.0, 1.0, 1.0, 1.0, 1.0, 1.0, 1.0, 1.0, 1.0, 1.0, 1.0, 1.0, 1.0, 1.0, 1.0, 1.0, 1.0, 1.0, 1.0, 1.0, 1.0, 1.0, 1.0, 1.0, 1.0, 1.0, 1.0, 1.0, 1.0, 1.0, 1.0, 1.0, 1.0, 1.0, 1.0, 1.0, 1.0, 1.0, 1.0, 1.0, 1.0, 1.0, 1.0, 1.0, 1.0, 1.0, 1.0, 1.0, 1.0, 1.0, 1.0, 1.0, 1.0, 1.0]\n",
            "sp: [1.0, 1.0, 1.0, 1.0, 1.0, 1.0, 1.0, 1.0, 1.0, 1.0, 1.0, 1.0, 1.0, 1.0, 1.0, 1.0, 1.0, 1.0, 1.0, 1.0, 1.0, 1.0, 1.0, 1.0, 1.0, 1.0, 1.0, 1.0, 1.0, 1.0, 1.0, 1.0, 1.0, 1.0, 1.0, 1.0, 1.0, 1.0, 1.0, 1.0, 1.0, 1.0, 1.0, 1.0, 1.0, 1.0, 1.0, 1.0, 1.0, 1.0, 1.0, 1.0, 1.0, 1.0, 1.0, 1.0, 1.0, 1.0, 1.0, 1.0, 1.0, 1.0, 1.0, 1.0, 1.0, 1.0, 1.0, 1.0, 1.0, 1.0, 1.0, 1.0, 1.0, 1.0, 1.0, 1.0, 1.0, 1.0, 1.0, 1.0, 1.0, 1.0, 1.0, 1.0, 1.0, 1.0, 1.0, 1.0, 1.0, 1.0, 1.0, 1.0, 1.0, 1.0, 1.0, 1.0, 1.0, 1.0, 1.0, 1.0, 1.0, 1.0, 1.0, 1.0, 1.0, 1.0, 1.0, 1.0, 1.0, 1.0, 1.0, 1.0, 1.0, 1.0, 1.0, 1.0, 1.0, 1.0, 1.0, 1.0, 1.0, 1.0, 1.0, 1.0, 1.0, 1.0, 1.0, 1.0, 1.0, 1.0, 1.0, 1.0, 1.0, 1.0, 1.0, 1.0, 1.0, 1.0, 1.0, 1.0, 1.0, 1.0, 1.0, 1.0, 1.0, 1.0, 1.0, 1.0, 1.0, 1.0, 1.0, 1.0, 1.0, 1.0, 1.0, 1.0, 1.0, 1.0, 1.0, 1.0, 1.0, 1.0, 1.0, 1.0, 1.0, 1.0, 1.0, 1.0, 1.0, 1.0, 1.0, 1.0, 1.0, 1.0, 1.0, 1.0, 1.0, 1.0, 1.0, 1.0, 1.0, 1.0, 1.0, 1.0, 1.0, 1.0, 1.0, 1.0, 1.0, 1.0, 1.0, 1.0, 1.0, 1.0, 1.0, 1.0, 1.0, 1.0, 1.0, 1.0, 1.0, 1.0, 1.0, 1.0, 1.0, 1.0, 1.0, 1.0, 1.0, 1.0, 1.0, 1.0, 1.0, 1.0, 1.0, 1.0, 1.0, 1.0, 1.0, 1.0, 1.0, 1.0, 1.0, 1.0, 1.0, 1.0, 1.0, 1.0, 1.0, 1.0, 1.0, 1.0, 1.0, 1.0, 1.0, 1.0, 1.0, 1.0, 1.0, 1.0, 1.0, 1.0, 1.0, 1.0, 1.0, 1.0, 1.0, 1.0, 1.0, 1.0, 1.0, 1.0, 1.0, 1.0, 1.0, 1.0, 1.0, 1.0, 1.0, 1.0, 1.0, 1.0, 1.0, 1.0, 1.0, 1.0, 1.0, 1.0, 1.0, 1.0, 1.0, 1.0, 1.0, 1.0, 1.0, 1.0, 1.0, 1.0, 1.0, 1.0, 1.0, 1.0, 1.0, 1.0, 1.0, 1.0, 1.0, 1.0, 1.0, 1.0, 1.0, 1.0, 1.0, 1.0, 1.0, 1.0, 1.0, 1.0, 1.0, 1.0, 1.0, 1.0, 1.0, 1.0, 1.0, 1.0, 1.0, 1.0, 1.0, 1.0, 1.0, 1.0, 1.0, 1.0, 1.0, 1.0, 1.0, 1.0, 1.0, 1.0, 1.0, 1.0, 1.0, 1.0, 1.0, 1.0, 1.0, 1.0, 1.0, 1.0, 1.0, 1.0, 1.0, 1.0, 1.0, 1.0, 1.0, 1.0, 1.0, 1.0, 1.0, 1.0, 1.0, 1.0, 1.0, 1.0, 1.0, 1.0, 1.0, 1.0, 1.0, 1.0, 1.0, 1.0, 1.0, 1.0, 1.0, 1.0, 1.0, 1.0, 1.0, 1.0, 1.0, 1.0, 1.0, 1.0, 1.0, 1.0, 1.0, 1.0, 1.0, 1.0, 1.0, 1.0, 1.0, 1.0, 1.0, 1.0, 1.0, 1.0, 1.0, 1.0, 1.0, 1.0, 1.0, 1.0, 1.0, 1.0, 1.0, 1.0, 1.0, 1.0, 1.0, 1.0, 1.0, 1.0, 1.0, 1.0, 1.0, 1.0, 1.0, 1.0, 1.0, 1.0, 1.0, 1.0, 1.0, 1.0, 1.0, 1.0, 1.0, 1.0, 1.0, 1.0, 1.0, 1.0, 1.0, 1.0, 1.0, 1.0, 1.0, 1.0, 1.0, 1.0, 1.0, 1.0, 1.0, 1.0, 1.0, 1.0, 1.0, 1.0, 1.0, 1.0, 1.0, 1.0, 1.0, 1.0, 1.0, 1.0, 1.0, 1.0, 1.0, 1.0, 1.0, 1.0, 1.0, 1.0, 1.0, 1.0, 1.0, 1.0, 1.0, 1.0, 1.0, 1.0, 1.0, 1.0, 1.0, 1.0, 1.0, 1.0, 1.0, 1.0, 1.0, 1.0, 1.0, 1.0, 1.0, 1.0, 1.0, 1.0, 1.0, 1.0, 1.0, 1.0, 1.0, 1.0, 1.0, 1.0, 1.0, 1.0, 1.0, 1.0, 1.0, 1.0, 1.0, 1.0, 1.0, 1.0, 1.0, 1.0, 1.0, 1.0, 1.0, 1.0, 1.0, 1.0, 1.0, 1.0, 1.0, 1.0, 1.0, 1.0, 1.0, 1.0, 1.0, 1.0, 1.0, 1.0, 1.0, 1.0, 1.0, 1.0, 1.0, 1.0, 1.0, 1.0, 1.0, 1.0, 1.0, 1.0, 1.0, 1.0, 1.0, 1.0, 1.0, 1.0, 1.0, 1.0, 1.0, 1.0, 1.0, 1.0, 1.0, 1.0, 1.0, 1.0, 1.0, 1.0, 1.0, 1.0, 1.0, 1.0, 1.0, 1.0, 1.0, 1.0, 1.0, 1.0, 1.0, 1.0, 1.0, 1.0, 1.0, 1.0, 1.0, 1.0, 1.0, 1.0, 1.0, 1.0, 1.0, 1.0, 1.0, 1.0, 1.0, 1.0, 1.0, 1.0, 1.0, 1.0, 1.0, 1.0, 1.0, 1.0, 1.0, 1.0, 1.0, 1.0, 1.0, 1.0, 1.0, 1.0, 1.0, 1.0, 1.0, 1.0, 1.0, 1.0, 1.0, 1.0, 1.0, 1.0, 1.0, 1.0, 1.0, 1.0, 1.0, 1.0, 1.0, 1.0, 1.0, 1.0, 1.0, 1.0, 1.0, 1.0, 1.0, 1.0, 1.0, 1.0, 1.0, 1.0, 1.0, 1.0, 1.0, 1.0, 1.0, 1.0, 1.0, 1.0, 1.0, 1.0, 1.0, 1.0, 1.0, 1.0, 1.0, 1.0, 1.0, 1.0, 1.0, 1.0, 1.0, 1.0, 1.0, 1.0, 1.0, 1.0, 1.0, 1.0, 1.0, 1.0, 1.0, 1.0, 1.0, 1.0, 1.0, 1.0, 1.0, 1.0, 1.0, 1.0, 1.0, 1.0, 1.0, 1.0, 1.0, 1.0, 1.0, 1.0, 1.0, 1.0, 1.0, 1.0, 1.0, 1.0, 1.0, 1.0, 1.0, 1.0, 1.0, 1.0, 1.0, 1.0, 1.0, 1.0, 1.0, 1.0, 1.0, 1.0, 1.0, 1.0, 1.0, 1.0, 1.0, 1.0, 1.0, 1.0, 1.0, 1.0, 1.0, 1.0, 1.0, 1.0, 1.0, 1.0, 1.0, 1.0, 1.0, 1.0, 1.0, 1.0, 1.0, 1.0, 1.0, 1.0, 1.0, 1.0, 1.0, 1.0, 1.0, 1.0, 1.0, 1.0, 1.0, 1.0, 1.0, 1.0, 1.0, 1.0, 1.0, 1.0, 1.0, 1.0, 1.0, 1.0, 1.0, 1.0, 1.0, 1.0, 1.0, 1.0, 1.0, 1.0, 1.0, 1.0, 1.0, 1.0, 1.0, 1.0, 1.0, 1.0, 1.0, 1.0, 1.0, 1.0, 1.0, 1.0, 1.0, 1.0, 1.0, 1.0, 1.0, 1.0, 1.0, 1.0, 1.0, 1.0, 1.0, 1.0, 1.0, 1.0, 1.0, 1.0, 1.0, 1.0, 1.0, 1.0, 1.0, 1.0, 1.0, 1.0, 1.0, 1.0, 1.0, 1.0, 1.0, 1.0, 1.0, 1.0, 1.0, 1.0, 1.0, 1.0, 1.0, 1.0, 1.0, 1.0, 1.0, 1.0, 1.0, 1.0, 1.0, 1.0, 1.0, 1.0, 1.0, 1.0, 1.0, 1.0, 1.0, 1.0, 1.0, 1.0, 1.0, 1.0, 1.0, 1.0, 1.0, 1.0, 1.0, 1.0, 1.0, 1.0, 1.0, 1.0, 1.0, 1.0, 1.0, 1.0, 1.0, 1.0, 1.0, 1.0, 1.0, 1.0, 1.0, 1.0, 1.0, 1.0, 1.0, 1.0, 1.0, 1.0, 1.0, 1.0, 1.0, 1.0, 1.0, 1.0, 1.0, 1.0, 1.0, 1.0, 1.0, 1.0, 1.0, 1.0, 1.0, 1.0, 1.0, 1.0, 1.0, 1.0, 1.0, 1.0, 1.0, 1.0, 1.0, 1.0, 1.0, 1.0, 1.0, 1.0, 1.0, 1.0, 1.0, 1.0, 1.0, 1.0, 1.0, 1.0, 1.0, 1.0, 1.0, 1.0, 1.0, 1.0, 1.0, 1.0, 1.0, 1.0, 1.0, 1.0, 1.0, 1.0, 1.0, 1.0, 1.0, 1.0, 1.0, 1.0, 1.0, 1.0, 1.0, 1.0, 1.0, 1.0, 1.0, 1.0, 1.0, 1.0, 1.0, 1.0, 1.0, 1.0, 1.0, 1.0, 1.0, 1.0, 1.0, 1.0, 1.0, 1.0, 1.0, 1.0, 1.0, 1.0, 1.0, 1.0, 1.0, 1.0, 1.0, 1.0, 1.0, 1.0, 1.0, 1.0, 1.0, 1.0, 1.0, 1.0, 1.0, 1.0, 1.0, 1.0, 1.0, 1.0, 1.0, 1.0, 1.0, 1.0, 1.0, 1.0, 1.0, 1.0, 1.0, 1.0, 1.0, 1.0, 1.0, 1.0, 1.0, 1.0, 1.0, 1.0, 1.0, 1.0, 1.0, 1.0, 1.0, 1.0, 1.0, 1.0, 1.0, 1.0, 1.0, 1.0, 1.0, 1.0, 1.0, 1.0, 1.0, 1.0, 1.0, 1.0, 1.0, 1.0, 1.0, 1.0, 1.0, 1.0, 1.0, 1.0, 1.0, 1.0, 1.0, 1.0, 1.0, 1.0, 1.0, 1.0, 1.0, 1.0, 1.0, 1.0, 1.0, 1.0]\n",
            "sd_acc: 0.009120942014934137\n",
            "sd_f1: 0.0052629142327598535\n",
            "sd_mcc: 0.0\n",
            "sd_sn: 0.0\n",
            "sd_sp: 0.0\n",
            "              precision    recall  f1-score   support\n",
            "\n",
            "           0       0.00      0.00      0.00       187\n",
            "           1       0.86      1.00      0.93      1169\n",
            "\n",
            "    accuracy                           0.86      1356\n",
            "   macro avg       0.43      0.50      0.46      1356\n",
            "weighted avg       0.74      0.86      0.80      1356\n",
            "\n"
          ]
        },
        {
          "name": "stderr",
          "output_type": "stream",
          "text": [
            "/usr/local/lib/python3.10/dist-packages/sklearn/metrics/_classification.py:1344: UndefinedMetricWarning: Precision and F-score are ill-defined and being set to 0.0 in labels with no predicted samples. Use `zero_division` parameter to control this behavior.\n",
            "  _warn_prf(average, modifier, msg_start, len(result))\n",
            "/usr/local/lib/python3.10/dist-packages/sklearn/metrics/_classification.py:1344: UndefinedMetricWarning: Precision and F-score are ill-defined and being set to 0.0 in labels with no predicted samples. Use `zero_division` parameter to control this behavior.\n",
            "  _warn_prf(average, modifier, msg_start, len(result))\n",
            "/usr/local/lib/python3.10/dist-packages/sklearn/metrics/_classification.py:1344: UndefinedMetricWarning: Precision and F-score are ill-defined and being set to 0.0 in labels with no predicted samples. Use `zero_division` parameter to control this behavior.\n",
            "  _warn_prf(average, modifier, msg_start, len(result))\n"
          ]
        },
        {
          "data": {
            "text/plain": [
              "(0.009120942014934137, 0.0, 0.0052629142327598535)"
            ]
          },
          "execution_count": 57,
          "metadata": {},
          "output_type": "execute_result"
        }
      ],
      "source": [
        "predicted_blstm = classifier.predict(X_test)\n",
        "predicted_blstm = np.where(predicted_blstm > 0.5, 1, 0)\n",
        "predicted_blstm = np.reshape(predicted_blstm,(len(predicted_blstm),)).astype(int)\n",
        "error_rate(Y_test, predicted_blstm)"
      ]
    },
    {
      "cell_type": "code",
      "execution_count": null,
      "id": "mtyKU7eecPix",
      "metadata": {
        "colab": {
          "background_save": true
        },
        "id": "mtyKU7eecPix",
        "outputId": "7218ebab-0820-4a62-c464-a8aa5ccef641"
      },
      "outputs": [
        {
          "name": "stderr",
          "output_type": "stream",
          "text": [
            "<ipython-input-30-286145be1eb1>:9: UserWarning: FixedFormatter should only be used together with FixedLocator\n",
            "  ax.set_xticklabels([''] + labels)\n",
            "<ipython-input-30-286145be1eb1>:10: UserWarning: FixedFormatter should only be used together with FixedLocator\n",
            "  ax.set_yticklabels([''] + labels)\n"
          ]
        },
        {
          "data": {
            "image/png": "[encoded data removed]",
            "text/plain": [
              "<Figure size 640x480 with 2 Axes>"
            ]
          },
          "metadata": {},
          "output_type": "display_data"
        },
        {
          "data": {
            "text/plain": [
              "array([[   0,  187],\n",
              "       [   0, 1169]])"
            ]
          },
          "execution_count": 58,
          "metadata": {},
          "output_type": "execute_result"
        }
      ],
      "source": [
        "classes = np.unique(Y_test)\n",
        "\n",
        "confusion_matrix_data = confusion_matrix(Y_test, predicted_blstm, labels=classes)\n",
        "conf_matrix(confusion_matrix_data)\n",
        "confusion_matrix_data"
      ]
    }
  ],
  "metadata": {
    "accelerator": "GPU",
    "colab": {
      "collapsed_sections": [
        "916de6b1",
        "079738e9",
        "4297c663",
        "70dbc2c0",
        "6281f193",
        "Zpez8nyOvPOF",
        "UC6sZ0D_kgZj",
        "-tgM9DaT4iGC",
        "08-efAVMAMpe",
        "E76ef8-KUQkP"
      ],
      "gpuType": "L4",
      "machine_shape": "hm",
      "provenance": [],
      "toc_visible": true
    },
    "kernelspec": {
      "display_name": "Python 3",
      "name": "python3"
    },
    "language_info": {
      "codemirror_mode": {
        "name": "ipython",
        "version": 3
      },
      "file_extension": ".py",
      "mimetype": "text/x-python",
      "name": "python",
      "nbconvert_exporter": "python",
      "pygments_lexer": "ipython3",
      "version": "3.7.13"
    },
    "widgets": {
      "application/vnd.jupyter.widget-state+json": {
        "4f87d42f77af4c9e861291968766860f": {
          "model_module": "@jupyter-widgets/controls",
          "model_name": "HBoxModel",
          "model_module_version": "1.5.0",
          "state": {
            "_dom_classes": [],
            "_model_module": "@jupyter-widgets/controls",
            "_model_module_version": "1.5.0",
            "_model_name": "HBoxModel",
            "_view_count": null,
            "_view_module": "@jupyter-widgets/controls",
            "_view_module_version": "1.5.0",
            "_view_name": "HBoxView",
            "box_style": "",
            "children": [
              "IPY_MODEL_7bd94016048d4ef6b03315a2d8d2004d",
              "IPY_MODEL_3110a587af094092af6b30242b81be57",
              "IPY_MODEL_f820a008a2654a26a62e010fd6a580c2"
            ],
            "layout": "IPY_MODEL_7afdb8a199d644e8b9ee911ddb3413b9"
          }
        },
        "7bd94016048d4ef6b03315a2d8d2004d": {
          "model_module": "@jupyter-widgets/controls",
          "model_name": "HTMLModel",
          "model_module_version": "1.5.0",
          "state": {
            "_dom_classes": [],
            "_model_module": "@jupyter-widgets/controls",
            "_model_module_version": "1.5.0",
            "_model_name": "HTMLModel",
            "_view_count": null,
            "_view_module": "@jupyter-widgets/controls",
            "_view_module_version": "1.5.0",
            "_view_name": "HTMLView",
            "description": "",
            "description_tooltip": null,
            "layout": "IPY_MODEL_446c5b25f9344d048895d257ca3967b1",
            "placeholder": "​",
            "style": "IPY_MODEL_0fdaa3cf16d341888aa427cc01d66f39",
            "value": "tokenizer_config.json: 100%"
          }
        },
        "3110a587af094092af6b30242b81be57": {
          "model_module": "@jupyter-widgets/controls",
          "model_name": "FloatProgressModel",
          "model_module_version": "1.5.0",
          "state": {
            "_dom_classes": [],
            "_model_module": "@jupyter-widgets/controls",
            "_model_module_version": "1.5.0",
            "_model_name": "FloatProgressModel",
            "_view_count": null,
            "_view_module": "@jupyter-widgets/controls",
            "_view_module_version": "1.5.0",
            "_view_name": "ProgressView",
            "bar_style": "success",
            "description": "",
            "description_tooltip": null,
            "layout": "IPY_MODEL_1bb7a61d612f4348b5f11f50af804653",
            "max": 2851,
            "min": 0,
            "orientation": "horizontal",
            "style": "IPY_MODEL_63715e73931c46f9835517cea227d23c",
            "value": 2851
          }
        },
        "f820a008a2654a26a62e010fd6a580c2": {
          "model_module": "@jupyter-widgets/controls",
          "model_name": "HTMLModel",
          "model_module_version": "1.5.0",
          "state": {
            "_dom_classes": [],
            "_model_module": "@jupyter-widgets/controls",
            "_model_module_version": "1.5.0",
            "_model_name": "HTMLModel",
            "_view_count": null,
            "_view_module": "@jupyter-widgets/controls",
            "_view_module_version": "1.5.0",
            "_view_name": "HTMLView",
            "description": "",
            "description_tooltip": null,
            "layout": "IPY_MODEL_ab00bb16062e448cad47c34f96b29ee4",
            "placeholder": "​",
            "style": "IPY_MODEL_abd91905d1d34e368459dff171f9e6c5",
            "value": " 2.85k/2.85k [00:00&lt;00:00, 234kB/s]"
          }
        },
        "7afdb8a199d644e8b9ee911ddb3413b9": {
          "model_module": "@jupyter-widgets/base",
          "model_name": "LayoutModel",
          "model_module_version": "1.2.0",
          "state": {
            "_model_module": "@jupyter-widgets/base",
            "_model_module_version": "1.2.0",
            "_model_name": "LayoutModel",
            "_view_count": null,
            "_view_module": "@jupyter-widgets/base",
            "_view_module_version": "1.2.0",
            "_view_name": "LayoutView",
            "align_content": null,
            "align_items": null,
            "align_self": null,
            "border": null,
            "bottom": null,
            "display": null,
            "flex": null,
            "flex_flow": null,
            "grid_area": null,
            "grid_auto_columns": null,
            "grid_auto_flow": null,
            "grid_auto_rows": null,
            "grid_column": null,
            "grid_gap": null,
            "grid_row": null,
            "grid_template_areas": null,
            "grid_template_columns": null,
            "grid_template_rows": null,
            "height": null,
            "justify_content": null,
            "justify_items": null,
            "left": null,
            "margin": null,
            "max_height": null,
            "max_width": null,
            "min_height": null,
            "min_width": null,
            "object_fit": null,
            "object_position": null,
            "order": null,
            "overflow": null,
            "overflow_x": null,
            "overflow_y": null,
            "padding": null,
            "right": null,
            "top": null,
            "visibility": null,
            "width": null
          }
        },
        "446c5b25f9344d048895d257ca3967b1": {
          "model_module": "@jupyter-widgets/base",
          "model_name": "LayoutModel",
          "model_module_version": "1.2.0",
          "state": {
            "_model_module": "@jupyter-widgets/base",
            "_model_module_version": "1.2.0",
            "_model_name": "LayoutModel",
            "_view_count": null,
            "_view_module": "@jupyter-widgets/base",
            "_view_module_version": "1.2.0",
            "_view_name": "LayoutView",
            "align_content": null,
            "align_items": null,
            "align_self": null,
            "border": null,
            "bottom": null,
            "display": null,
            "flex": null,
            "flex_flow": null,
            "grid_area": null,
            "grid_auto_columns": null,
            "grid_auto_flow": null,
            "grid_auto_rows": null,
            "grid_column": null,
            "grid_gap": null,
            "grid_row": null,
            "grid_template_areas": null,
            "grid_template_columns": null,
            "grid_template_rows": null,
            "height": null,
            "justify_content": null,
            "justify_items": null,
            "left": null,
            "margin": null,
            "max_height": null,
            "max_width": null,
            "min_height": null,
            "min_width": null,
            "object_fit": null,
            "object_position": null,
            "order": null,
            "overflow": null,
            "overflow_x": null,
            "overflow_y": null,
            "padding": null,
            "right": null,
            "top": null,
            "visibility": null,
            "width": null
          }
        },
        "0fdaa3cf16d341888aa427cc01d66f39": {
          "model_module": "@jupyter-widgets/controls",
          "model_name": "DescriptionStyleModel",
          "model_module_version": "1.5.0",
          "state": {
            "_model_module": "@jupyter-widgets/controls",
            "_model_module_version": "1.5.0",
            "_model_name": "DescriptionStyleModel",
            "_view_count": null,
            "_view_module": "@jupyter-widgets/base",
            "_view_module_version": "1.2.0",
            "_view_name": "StyleView",
            "description_width": ""
          }
        },
        "1bb7a61d612f4348b5f11f50af804653": {
          "model_module": "@jupyter-widgets/base",
          "model_name": "LayoutModel",
          "model_module_version": "1.2.0",
          "state": {
            "_model_module": "@jupyter-widgets/base",
            "_model_module_version": "1.2.0",
            "_model_name": "LayoutModel",
            "_view_count": null,
            "_view_module": "@jupyter-widgets/base",
            "_view_module_version": "1.2.0",
            "_view_name": "LayoutView",
            "align_content": null,
            "align_items": null,
            "align_self": null,
            "border": null,
            "bottom": null,
            "display": null,
            "flex": null,
            "flex_flow": null,
            "grid_area": null,
            "grid_auto_columns": null,
            "grid_auto_flow": null,
            "grid_auto_rows": null,
            "grid_column": null,
            "grid_gap": null,
            "grid_row": null,
            "grid_template_areas": null,
            "grid_template_columns": null,
            "grid_template_rows": null,
            "height": null,
            "justify_content": null,
            "justify_items": null,
            "left": null,
            "margin": null,
            "max_height": null,
            "max_width": null,
            "min_height": null,
            "min_width": null,
            "object_fit": null,
            "object_position": null,
            "order": null,
            "overflow": null,
            "overflow_x": null,
            "overflow_y": null,
            "padding": null,
            "right": null,
            "top": null,
            "visibility": null,
            "width": null
          }
        },
        "63715e73931c46f9835517cea227d23c": {
          "model_module": "@jupyter-widgets/controls",
          "model_name": "ProgressStyleModel",
          "model_module_version": "1.5.0",
          "state": {
            "_model_module": "@jupyter-widgets/controls",
            "_model_module_version": "1.5.0",
            "_model_name": "ProgressStyleModel",
            "_view_count": null,
            "_view_module": "@jupyter-widgets/base",
            "_view_module_version": "1.2.0",
            "_view_name": "StyleView",
            "bar_color": null,
            "description_width": ""
          }
        },
        "ab00bb16062e448cad47c34f96b29ee4": {
          "model_module": "@jupyter-widgets/base",
          "model_name": "LayoutModel",
          "model_module_version": "1.2.0",
          "state": {
            "_model_module": "@jupyter-widgets/base",
            "_model_module_version": "1.2.0",
            "_model_name": "LayoutModel",
            "_view_count": null,
            "_view_module": "@jupyter-widgets/base",
            "_view_module_version": "1.2.0",
            "_view_name": "LayoutView",
            "align_content": null,
            "align_items": null,
            "align_self": null,
            "border": null,
            "bottom": null,
            "display": null,
            "flex": null,
            "flex_flow": null,
            "grid_area": null,
            "grid_auto_columns": null,
            "grid_auto_flow": null,
            "grid_auto_rows": null,
            "grid_column": null,
            "grid_gap": null,
            "grid_row": null,
            "grid_template_areas": null,
            "grid_template_columns": null,
            "grid_template_rows": null,
            "height": null,
            "justify_content": null,
            "justify_items": null,
            "left": null,
            "margin": null,
            "max_height": null,
            "max_width": null,
            "min_height": null,
            "min_width": null,
            "object_fit": null,
            "object_position": null,
            "order": null,
            "overflow": null,
            "overflow_x": null,
            "overflow_y": null,
            "padding": null,
            "right": null,
            "top": null,
            "visibility": null,
            "width": null
          }
        },
        "abd91905d1d34e368459dff171f9e6c5": {
          "model_module": "@jupyter-widgets/controls",
          "model_name": "DescriptionStyleModel",
          "model_module_version": "1.5.0",
          "state": {
            "_model_module": "@jupyter-widgets/controls",
            "_model_module_version": "1.5.0",
            "_model_name": "DescriptionStyleModel",
            "_view_count": null,
            "_view_module": "@jupyter-widgets/base",
            "_view_module_version": "1.2.0",
            "_view_name": "StyleView",
            "description_width": ""
          }
        },
        "f3fad6b95ee044119da29a8fb30d2311": {
          "model_module": "@jupyter-widgets/controls",
          "model_name": "HBoxModel",
          "model_module_version": "1.5.0",
          "state": {
            "_dom_classes": [],
            "_model_module": "@jupyter-widgets/controls",
            "_model_module_version": "1.5.0",
            "_model_name": "HBoxModel",
            "_view_count": null,
            "_view_module": "@jupyter-widgets/controls",
            "_view_module_version": "1.5.0",
            "_view_name": "HBoxView",
            "box_style": "",
            "children": [
              "IPY_MODEL_4171937285ba44c08244fdf9a90b9282",
              "IPY_MODEL_01e42c1bbdbe41db8e86af2652dfb9d1",
              "IPY_MODEL_b48668823aef46e0aa4a3294274bd3f3"
            ],
            "layout": "IPY_MODEL_dd9cdfe38dbd434aba13dd1d484617c1"
          }
        },
        "4171937285ba44c08244fdf9a90b9282": {
          "model_module": "@jupyter-widgets/controls",
          "model_name": "HTMLModel",
          "model_module_version": "1.5.0",
          "state": {
            "_dom_classes": [],
            "_model_module": "@jupyter-widgets/controls",
            "_model_module_version": "1.5.0",
            "_model_name": "HTMLModel",
            "_view_count": null,
            "_view_module": "@jupyter-widgets/controls",
            "_view_module_version": "1.5.0",
            "_view_name": "HTMLView",
            "description": "",
            "description_tooltip": null,
            "layout": "IPY_MODEL_065f36a951b04766908d9dd54d43c959",
            "placeholder": "​",
            "style": "IPY_MODEL_94521ac20c4348258f0989525a8fe75e",
            "value": "tokenizer.json: 100%"
          }
        },
        "01e42c1bbdbe41db8e86af2652dfb9d1": {
          "model_module": "@jupyter-widgets/controls",
          "model_name": "FloatProgressModel",
          "model_module_version": "1.5.0",
          "state": {
            "_dom_classes": [],
            "_model_module": "@jupyter-widgets/controls",
            "_model_module_version": "1.5.0",
            "_model_name": "FloatProgressModel",
            "_view_count": null,
            "_view_module": "@jupyter-widgets/controls",
            "_view_module_version": "1.5.0",
            "_view_name": "ProgressView",
            "bar_style": "success",
            "description": "",
            "description_tooltip": null,
            "layout": "IPY_MODEL_d06c2f8c7328492a884e3948252d6b89",
            "max": 31153,
            "min": 0,
            "orientation": "horizontal",
            "style": "IPY_MODEL_c558187fe42c45f98e603e9294728083",
            "value": 31153
          }
        },
        "b48668823aef46e0aa4a3294274bd3f3": {
          "model_module": "@jupyter-widgets/controls",
          "model_name": "HTMLModel",
          "model_module_version": "1.5.0",
          "state": {
            "_dom_classes": [],
            "_model_module": "@jupyter-widgets/controls",
            "_model_module_version": "1.5.0",
            "_model_name": "HTMLModel",
            "_view_count": null,
            "_view_module": "@jupyter-widgets/controls",
            "_view_module_version": "1.5.0",
            "_view_name": "HTMLView",
            "description": "",
            "description_tooltip": null,
            "layout": "IPY_MODEL_40417f583bbd45a8b80532959b5f79bf",
            "placeholder": "​",
            "style": "IPY_MODEL_72e31d16eb3b4f66964ca74b8ed3f25e",
            "value": " 31.2k/31.2k [00:00&lt;00:00, 2.68MB/s]"
          }
        },
        "dd9cdfe38dbd434aba13dd1d484617c1": {
          "model_module": "@jupyter-widgets/base",
          "model_name": "LayoutModel",
          "model_module_version": "1.2.0",
          "state": {
            "_model_module": "@jupyter-widgets/base",
            "_model_module_version": "1.2.0",
            "_model_name": "LayoutModel",
            "_view_count": null,
            "_view_module": "@jupyter-widgets/base",
            "_view_module_version": "1.2.0",
            "_view_name": "LayoutView",
            "align_content": null,
            "align_items": null,
            "align_self": null,
            "border": null,
            "bottom": null,
            "display": null,
            "flex": null,
            "flex_flow": null,
            "grid_area": null,
            "grid_auto_columns": null,
            "grid_auto_flow": null,
            "grid_auto_rows": null,
            "grid_column": null,
            "grid_gap": null,
            "grid_row": null,
            "grid_template_areas": null,
            "grid_template_columns": null,
            "grid_template_rows": null,
            "height": null,
            "justify_content": null,
            "justify_items": null,
            "left": null,
            "margin": null,
            "max_height": null,
            "max_width": null,
            "min_height": null,
            "min_width": null,
            "object_fit": null,
            "object_position": null,
            "order": null,
            "overflow": null,
            "overflow_x": null,
            "overflow_y": null,
            "padding": null,
            "right": null,
            "top": null,
            "visibility": null,
            "width": null
          }
        },
        "065f36a951b04766908d9dd54d43c959": {
          "model_module": "@jupyter-widgets/base",
          "model_name": "LayoutModel",
          "model_module_version": "1.2.0",
          "state": {
            "_model_module": "@jupyter-widgets/base",
            "_model_module_version": "1.2.0",
            "_model_name": "LayoutModel",
            "_view_count": null,
            "_view_module": "@jupyter-widgets/base",
            "_view_module_version": "1.2.0",
            "_view_name": "LayoutView",
            "align_content": null,
            "align_items": null,
            "align_self": null,
            "border": null,
            "bottom": null,
            "display": null,
            "flex": null,
            "flex_flow": null,
            "grid_area": null,
            "grid_auto_columns": null,
            "grid_auto_flow": null,
            "grid_auto_rows": null,
            "grid_column": null,
            "grid_gap": null,
            "grid_row": null,
            "grid_template_areas": null,
            "grid_template_columns": null,
            "grid_template_rows": null,
            "height": null,
            "justify_content": null,
            "justify_items": null,
            "left": null,
            "margin": null,
            "max_height": null,
            "max_width": null,
            "min_height": null,
            "min_width": null,
            "object_fit": null,
            "object_position": null,
            "order": null,
            "overflow": null,
            "overflow_x": null,
            "overflow_y": null,
            "padding": null,
            "right": null,
            "top": null,
            "visibility": null,
            "width": null
          }
        },
        "94521ac20c4348258f0989525a8fe75e": {
          "model_module": "@jupyter-widgets/controls",
          "model_name": "DescriptionStyleModel",
          "model_module_version": "1.5.0",
          "state": {
            "_model_module": "@jupyter-widgets/controls",
            "_model_module_version": "1.5.0",
            "_model_name": "DescriptionStyleModel",
            "_view_count": null,
            "_view_module": "@jupyter-widgets/base",
            "_view_module_version": "1.2.0",
            "_view_name": "StyleView",
            "description_width": ""
          }
        },
        "d06c2f8c7328492a884e3948252d6b89": {
          "model_module": "@jupyter-widgets/base",
          "model_name": "LayoutModel",
          "model_module_version": "1.2.0",
          "state": {
            "_model_module": "@jupyter-widgets/base",
            "_model_module_version": "1.2.0",
            "_model_name": "LayoutModel",
            "_view_count": null,
            "_view_module": "@jupyter-widgets/base",
            "_view_module_version": "1.2.0",
            "_view_name": "LayoutView",
            "align_content": null,
            "align_items": null,
            "align_self": null,
            "border": null,
            "bottom": null,
            "display": null,
            "flex": null,
            "flex_flow": null,
            "grid_area": null,
            "grid_auto_columns": null,
            "grid_auto_flow": null,
            "grid_auto_rows": null,
            "grid_column": null,
            "grid_gap": null,
            "grid_row": null,
            "grid_template_areas": null,
            "grid_template_columns": null,
            "grid_template_rows": null,
            "height": null,
            "justify_content": null,
            "justify_items": null,
            "left": null,
            "margin": null,
            "max_height": null,
            "max_width": null,
            "min_height": null,
            "min_width": null,
            "object_fit": null,
            "object_position": null,
            "order": null,
            "overflow": null,
            "overflow_x": null,
            "overflow_y": null,
            "padding": null,
            "right": null,
            "top": null,
            "visibility": null,
            "width": null
          }
        },
        "c558187fe42c45f98e603e9294728083": {
          "model_module": "@jupyter-widgets/controls",
          "model_name": "ProgressStyleModel",
          "model_module_version": "1.5.0",
          "state": {
            "_model_module": "@jupyter-widgets/controls",
            "_model_module_version": "1.5.0",
            "_model_name": "ProgressStyleModel",
            "_view_count": null,
            "_view_module": "@jupyter-widgets/base",
            "_view_module_version": "1.2.0",
            "_view_name": "StyleView",
            "bar_color": null,
            "description_width": ""
          }
        },
        "40417f583bbd45a8b80532959b5f79bf": {
          "model_module": "@jupyter-widgets/base",
          "model_name": "LayoutModel",
          "model_module_version": "1.2.0",
          "state": {
            "_model_module": "@jupyter-widgets/base",
            "_model_module_version": "1.2.0",
            "_model_name": "LayoutModel",
            "_view_count": null,
            "_view_module": "@jupyter-widgets/base",
            "_view_module_version": "1.2.0",
            "_view_name": "LayoutView",
            "align_content": null,
            "align_items": null,
            "align_self": null,
            "border": null,
            "bottom": null,
            "display": null,
            "flex": null,
            "flex_flow": null,
            "grid_area": null,
            "grid_auto_columns": null,
            "grid_auto_flow": null,
            "grid_auto_rows": null,
            "grid_column": null,
            "grid_gap": null,
            "grid_row": null,
            "grid_template_areas": null,
            "grid_template_columns": null,
            "grid_template_rows": null,
            "height": null,
            "justify_content": null,
            "justify_items": null,
            "left": null,
            "margin": null,
            "max_height": null,
            "max_width": null,
            "min_height": null,
            "min_width": null,
            "object_fit": null,
            "object_position": null,
            "order": null,
            "overflow": null,
            "overflow_x": null,
            "overflow_y": null,
            "padding": null,
            "right": null,
            "top": null,
            "visibility": null,
            "width": null
          }
        },
        "72e31d16eb3b4f66964ca74b8ed3f25e": {
          "model_module": "@jupyter-widgets/controls",
          "model_name": "DescriptionStyleModel",
          "model_module_version": "1.5.0",
          "state": {
            "_model_module": "@jupyter-widgets/controls",
            "_model_module_version": "1.5.0",
            "_model_name": "DescriptionStyleModel",
            "_view_count": null,
            "_view_module": "@jupyter-widgets/base",
            "_view_module_version": "1.2.0",
            "_view_name": "StyleView",
            "description_width": ""
          }
        },
        "5428e117562f469d8eb1abcbb1c62967": {
          "model_module": "@jupyter-widgets/controls",
          "model_name": "HBoxModel",
          "model_module_version": "1.5.0",
          "state": {
            "_dom_classes": [],
            "_model_module": "@jupyter-widgets/controls",
            "_model_module_version": "1.5.0",
            "_model_name": "HBoxModel",
            "_view_count": null,
            "_view_module": "@jupyter-widgets/controls",
            "_view_module_version": "1.5.0",
            "_view_name": "HBoxView",
            "box_style": "",
            "children": [
              "IPY_MODEL_2b83506ff81d4d71bb159e96d174a474",
              "IPY_MODEL_88b01fcf17794fd6a8f1b5e09ea6153f",
              "IPY_MODEL_f371a1f2d76b42ec9a93f2259ee6ff64"
            ],
            "layout": "IPY_MODEL_6fe4017833c745e28619e72712840b66"
          }
        },
        "2b83506ff81d4d71bb159e96d174a474": {
          "model_module": "@jupyter-widgets/controls",
          "model_name": "HTMLModel",
          "model_module_version": "1.5.0",
          "state": {
            "_dom_classes": [],
            "_model_module": "@jupyter-widgets/controls",
            "_model_module_version": "1.5.0",
            "_model_name": "HTMLModel",
            "_view_count": null,
            "_view_module": "@jupyter-widgets/controls",
            "_view_module_version": "1.5.0",
            "_view_name": "HTMLView",
            "description": "",
            "description_tooltip": null,
            "layout": "IPY_MODEL_d956c67f468e4651b3a79285f7985274",
            "placeholder": "​",
            "style": "IPY_MODEL_198a35f133ff4576bebb68dbc685838a",
            "value": "special_tokens_map.json: 100%"
          }
        },
        "88b01fcf17794fd6a8f1b5e09ea6153f": {
          "model_module": "@jupyter-widgets/controls",
          "model_name": "FloatProgressModel",
          "model_module_version": "1.5.0",
          "state": {
            "_dom_classes": [],
            "_model_module": "@jupyter-widgets/controls",
            "_model_module_version": "1.5.0",
            "_model_name": "FloatProgressModel",
            "_view_count": null,
            "_view_module": "@jupyter-widgets/controls",
            "_view_module_version": "1.5.0",
            "_view_name": "ProgressView",
            "bar_style": "success",
            "description": "",
            "description_tooltip": null,
            "layout": "IPY_MODEL_c11a2f4f57714945af2ee3530c5e999b",
            "max": 2585,
            "min": 0,
            "orientation": "horizontal",
            "style": "IPY_MODEL_18ae3cd6e8e44d948ac97ea061967d23",
            "value": 2585
          }
        },
        "f371a1f2d76b42ec9a93f2259ee6ff64": {
          "model_module": "@jupyter-widgets/controls",
          "model_name": "HTMLModel",
          "model_module_version": "1.5.0",
          "state": {
            "_dom_classes": [],
            "_model_module": "@jupyter-widgets/controls",
            "_model_module_version": "1.5.0",
            "_model_name": "HTMLModel",
            "_view_count": null,
            "_view_module": "@jupyter-widgets/controls",
            "_view_module_version": "1.5.0",
            "_view_name": "HTMLView",
            "description": "",
            "description_tooltip": null,
            "layout": "IPY_MODEL_e48446532d244c2f9d8741265f9d41fc",
            "placeholder": "​",
            "style": "IPY_MODEL_607a3c6c8a7b4eb2a2b3027c63fffa0c",
            "value": " 2.58k/2.58k [00:00&lt;00:00, 231kB/s]"
          }
        },
        "6fe4017833c745e28619e72712840b66": {
          "model_module": "@jupyter-widgets/base",
          "model_name": "LayoutModel",
          "model_module_version": "1.2.0",
          "state": {
            "_model_module": "@jupyter-widgets/base",
            "_model_module_version": "1.2.0",
            "_model_name": "LayoutModel",
            "_view_count": null,
            "_view_module": "@jupyter-widgets/base",
            "_view_module_version": "1.2.0",
            "_view_name": "LayoutView",
            "align_content": null,
            "align_items": null,
            "align_self": null,
            "border": null,
            "bottom": null,
            "display": null,
            "flex": null,
            "flex_flow": null,
            "grid_area": null,
            "grid_auto_columns": null,
            "grid_auto_flow": null,
            "grid_auto_rows": null,
            "grid_column": null,
            "grid_gap": null,
            "grid_row": null,
            "grid_template_areas": null,
            "grid_template_columns": null,
            "grid_template_rows": null,
            "height": null,
            "justify_content": null,
            "justify_items": null,
            "left": null,
            "margin": null,
            "max_height": null,
            "max_width": null,
            "min_height": null,
            "min_width": null,
            "object_fit": null,
            "object_position": null,
            "order": null,
            "overflow": null,
            "overflow_x": null,
            "overflow_y": null,
            "padding": null,
            "right": null,
            "top": null,
            "visibility": null,
            "width": null
          }
        },
        "d956c67f468e4651b3a79285f7985274": {
          "model_module": "@jupyter-widgets/base",
          "model_name": "LayoutModel",
          "model_module_version": "1.2.0",
          "state": {
            "_model_module": "@jupyter-widgets/base",
            "_model_module_version": "1.2.0",
            "_model_name": "LayoutModel",
            "_view_count": null,
            "_view_module": "@jupyter-widgets/base",
            "_view_module_version": "1.2.0",
            "_view_name": "LayoutView",
            "align_content": null,
            "align_items": null,
            "align_self": null,
            "border": null,
            "bottom": null,
            "display": null,
            "flex": null,
            "flex_flow": null,
            "grid_area": null,
            "grid_auto_columns": null,
            "grid_auto_flow": null,
            "grid_auto_rows": null,
            "grid_column": null,
            "grid_gap": null,
            "grid_row": null,
            "grid_template_areas": null,
            "grid_template_columns": null,
            "grid_template_rows": null,
            "height": null,
            "justify_content": null,
            "justify_items": null,
            "left": null,
            "margin": null,
            "max_height": null,
            "max_width": null,
            "min_height": null,
            "min_width": null,
            "object_fit": null,
            "object_position": null,
            "order": null,
            "overflow": null,
            "overflow_x": null,
            "overflow_y": null,
            "padding": null,
            "right": null,
            "top": null,
            "visibility": null,
            "width": null
          }
        },
        "198a35f133ff4576bebb68dbc685838a": {
          "model_module": "@jupyter-widgets/controls",
          "model_name": "DescriptionStyleModel",
          "model_module_version": "1.5.0",
          "state": {
            "_model_module": "@jupyter-widgets/controls",
            "_model_module_version": "1.5.0",
            "_model_name": "DescriptionStyleModel",
            "_view_count": null,
            "_view_module": "@jupyter-widgets/base",
            "_view_module_version": "1.2.0",
            "_view_name": "StyleView",
            "description_width": ""
          }
        },
        "c11a2f4f57714945af2ee3530c5e999b": {
          "model_module": "@jupyter-widgets/base",
          "model_name": "LayoutModel",
          "model_module_version": "1.2.0",
          "state": {
            "_model_module": "@jupyter-widgets/base",
            "_model_module_version": "1.2.0",
            "_model_name": "LayoutModel",
            "_view_count": null,
            "_view_module": "@jupyter-widgets/base",
            "_view_module_version": "1.2.0",
            "_view_name": "LayoutView",
            "align_content": null,
            "align_items": null,
            "align_self": null,
            "border": null,
            "bottom": null,
            "display": null,
            "flex": null,
            "flex_flow": null,
            "grid_area": null,
            "grid_auto_columns": null,
            "grid_auto_flow": null,
            "grid_auto_rows": null,
            "grid_column": null,
            "grid_gap": null,
            "grid_row": null,
            "grid_template_areas": null,
            "grid_template_columns": null,
            "grid_template_rows": null,
            "height": null,
            "justify_content": null,
            "justify_items": null,
            "left": null,
            "margin": null,
            "max_height": null,
            "max_width": null,
            "min_height": null,
            "min_width": null,
            "object_fit": null,
            "object_position": null,
            "order": null,
            "overflow": null,
            "overflow_x": null,
            "overflow_y": null,
            "padding": null,
            "right": null,
            "top": null,
            "visibility": null,
            "width": null
          }
        },
        "18ae3cd6e8e44d948ac97ea061967d23": {
          "model_module": "@jupyter-widgets/controls",
          "model_name": "ProgressStyleModel",
          "model_module_version": "1.5.0",
          "state": {
            "_model_module": "@jupyter-widgets/controls",
            "_model_module_version": "1.5.0",
            "_model_name": "ProgressStyleModel",
            "_view_count": null,
            "_view_module": "@jupyter-widgets/base",
            "_view_module_version": "1.2.0",
            "_view_name": "StyleView",
            "bar_color": null,
            "description_width": ""
          }
        },
        "e48446532d244c2f9d8741265f9d41fc": {
          "model_module": "@jupyter-widgets/base",
          "model_name": "LayoutModel",
          "model_module_version": "1.2.0",
          "state": {
            "_model_module": "@jupyter-widgets/base",
            "_model_module_version": "1.2.0",
            "_model_name": "LayoutModel",
            "_view_count": null,
            "_view_module": "@jupyter-widgets/base",
            "_view_module_version": "1.2.0",
            "_view_name": "LayoutView",
            "align_content": null,
            "align_items": null,
            "align_self": null,
            "border": null,
            "bottom": null,
            "display": null,
            "flex": null,
            "flex_flow": null,
            "grid_area": null,
            "grid_auto_columns": null,
            "grid_auto_flow": null,
            "grid_auto_rows": null,
            "grid_column": null,
            "grid_gap": null,
            "grid_row": null,
            "grid_template_areas": null,
            "grid_template_columns": null,
            "grid_template_rows": null,
            "height": null,
            "justify_content": null,
            "justify_items": null,
            "left": null,
            "margin": null,
            "max_height": null,
            "max_width": null,
            "min_height": null,
            "min_width": null,
            "object_fit": null,
            "object_position": null,
            "order": null,
            "overflow": null,
            "overflow_x": null,
            "overflow_y": null,
            "padding": null,
            "right": null,
            "top": null,
            "visibility": null,
            "width": null
          }
        },
        "607a3c6c8a7b4eb2a2b3027c63fffa0c": {
          "model_module": "@jupyter-widgets/controls",
          "model_name": "DescriptionStyleModel",
          "model_module_version": "1.5.0",
          "state": {
            "_model_module": "@jupyter-widgets/controls",
            "_model_module_version": "1.5.0",
            "_model_name": "DescriptionStyleModel",
            "_view_count": null,
            "_view_module": "@jupyter-widgets/base",
            "_view_module_version": "1.2.0",
            "_view_name": "StyleView",
            "description_width": ""
          }
        },
        "3a7227c7e9cd42d998b2e96804d35bcd": {
          "model_module": "@jupyter-widgets/controls",
          "model_name": "HBoxModel",
          "model_module_version": "1.5.0",
          "state": {
            "_dom_classes": [],
            "_model_module": "@jupyter-widgets/controls",
            "_model_module_version": "1.5.0",
            "_model_name": "HBoxModel",
            "_view_count": null,
            "_view_module": "@jupyter-widgets/controls",
            "_view_module_version": "1.5.0",
            "_view_name": "HBoxView",
            "box_style": "",
            "children": [
              "IPY_MODEL_e45e0da6ec1b4e9588427da85e056099",
              "IPY_MODEL_fcbe55b64a9f457689d503b70805d328",
              "IPY_MODEL_dbfc0d64247f42379a2a20f9adeba7f3"
            ],
            "layout": "IPY_MODEL_baad3a5a54a148fba2baca5715235f85"
          }
        },
        "e45e0da6ec1b4e9588427da85e056099": {
          "model_module": "@jupyter-widgets/controls",
          "model_name": "HTMLModel",
          "model_module_version": "1.5.0",
          "state": {
            "_dom_classes": [],
            "_model_module": "@jupyter-widgets/controls",
            "_model_module_version": "1.5.0",
            "_model_name": "HTMLModel",
            "_view_count": null,
            "_view_module": "@jupyter-widgets/controls",
            "_view_module_version": "1.5.0",
            "_view_name": "HTMLView",
            "description": "",
            "description_tooltip": null,
            "layout": "IPY_MODEL_a48ea3207c944cb2b796b14661bd141d",
            "placeholder": "​",
            "style": "IPY_MODEL_3973c595a3c34e6285551b1ff1305662",
            "value": "config.json: 100%"
          }
        },
        "fcbe55b64a9f457689d503b70805d328": {
          "model_module": "@jupyter-widgets/controls",
          "model_name": "FloatProgressModel",
          "model_module_version": "1.5.0",
          "state": {
            "_dom_classes": [],
            "_model_module": "@jupyter-widgets/controls",
            "_model_module_version": "1.5.0",
            "_model_name": "FloatProgressModel",
            "_view_count": null,
            "_view_module": "@jupyter-widgets/controls",
            "_view_module_version": "1.5.0",
            "_view_name": "ProgressView",
            "bar_style": "success",
            "description": "",
            "description_tooltip": null,
            "layout": "IPY_MODEL_5d4d7d06269646ec9c941bfedc277a18",
            "max": 849,
            "min": 0,
            "orientation": "horizontal",
            "style": "IPY_MODEL_b7e31f6e5f614814871b79868fee997a",
            "value": 849
          }
        },
        "dbfc0d64247f42379a2a20f9adeba7f3": {
          "model_module": "@jupyter-widgets/controls",
          "model_name": "HTMLModel",
          "model_module_version": "1.5.0",
          "state": {
            "_dom_classes": [],
            "_model_module": "@jupyter-widgets/controls",
            "_model_module_version": "1.5.0",
            "_model_name": "HTMLModel",
            "_view_count": null,
            "_view_module": "@jupyter-widgets/controls",
            "_view_module_version": "1.5.0",
            "_view_name": "HTMLView",
            "description": "",
            "description_tooltip": null,
            "layout": "IPY_MODEL_9d76f7eaec424593b5c6faebfce935f3",
            "placeholder": "​",
            "style": "IPY_MODEL_984cece49a2c41c6a3874f2bbfdccad8",
            "value": " 849/849 [00:00&lt;00:00, 73.7kB/s]"
          }
        },
        "baad3a5a54a148fba2baca5715235f85": {
          "model_module": "@jupyter-widgets/base",
          "model_name": "LayoutModel",
          "model_module_version": "1.2.0",
          "state": {
            "_model_module": "@jupyter-widgets/base",
            "_model_module_version": "1.2.0",
            "_model_name": "LayoutModel",
            "_view_count": null,
            "_view_module": "@jupyter-widgets/base",
            "_view_module_version": "1.2.0",
            "_view_name": "LayoutView",
            "align_content": null,
            "align_items": null,
            "align_self": null,
            "border": null,
            "bottom": null,
            "display": null,
            "flex": null,
            "flex_flow": null,
            "grid_area": null,
            "grid_auto_columns": null,
            "grid_auto_flow": null,
            "grid_auto_rows": null,
            "grid_column": null,
            "grid_gap": null,
            "grid_row": null,
            "grid_template_areas": null,
            "grid_template_columns": null,
            "grid_template_rows": null,
            "height": null,
            "justify_content": null,
            "justify_items": null,
            "left": null,
            "margin": null,
            "max_height": null,
            "max_width": null,
            "min_height": null,
            "min_width": null,
            "object_fit": null,
            "object_position": null,
            "order": null,
            "overflow": null,
            "overflow_x": null,
            "overflow_y": null,
            "padding": null,
            "right": null,
            "top": null,
            "visibility": null,
            "width": null
          }
        },
        "a48ea3207c944cb2b796b14661bd141d": {
          "model_module": "@jupyter-widgets/base",
          "model_name": "LayoutModel",
          "model_module_version": "1.2.0",
          "state": {
            "_model_module": "@jupyter-widgets/base",
            "_model_module_version": "1.2.0",
            "_model_name": "LayoutModel",
            "_view_count": null,
            "_view_module": "@jupyter-widgets/base",
            "_view_module_version": "1.2.0",
            "_view_name": "LayoutView",
            "align_content": null,
            "align_items": null,
            "align_self": null,
            "border": null,
            "bottom": null,
            "display": null,
            "flex": null,
            "flex_flow": null,
            "grid_area": null,
            "grid_auto_columns": null,
            "grid_auto_flow": null,
            "grid_auto_rows": null,
            "grid_column": null,
            "grid_gap": null,
            "grid_row": null,
            "grid_template_areas": null,
            "grid_template_columns": null,
            "grid_template_rows": null,
            "height": null,
            "justify_content": null,
            "justify_items": null,
            "left": null,
            "margin": null,
            "max_height": null,
            "max_width": null,
            "min_height": null,
            "min_width": null,
            "object_fit": null,
            "object_position": null,
            "order": null,
            "overflow": null,
            "overflow_x": null,
            "overflow_y": null,
            "padding": null,
            "right": null,
            "top": null,
            "visibility": null,
            "width": null
          }
        },
        "3973c595a3c34e6285551b1ff1305662": {
          "model_module": "@jupyter-widgets/controls",
          "model_name": "DescriptionStyleModel",
          "model_module_version": "1.5.0",
          "state": {
            "_model_module": "@jupyter-widgets/controls",
            "_model_module_version": "1.5.0",
            "_model_name": "DescriptionStyleModel",
            "_view_count": null,
            "_view_module": "@jupyter-widgets/base",
            "_view_module_version": "1.2.0",
            "_view_name": "StyleView",
            "description_width": ""
          }
        },
        "5d4d7d06269646ec9c941bfedc277a18": {
          "model_module": "@jupyter-widgets/base",
          "model_name": "LayoutModel",
          "model_module_version": "1.2.0",
          "state": {
            "_model_module": "@jupyter-widgets/base",
            "_model_module_version": "1.2.0",
            "_model_name": "LayoutModel",
            "_view_count": null,
            "_view_module": "@jupyter-widgets/base",
            "_view_module_version": "1.2.0",
            "_view_name": "LayoutView",
            "align_content": null,
            "align_items": null,
            "align_self": null,
            "border": null,
            "bottom": null,
            "display": null,
            "flex": null,
            "flex_flow": null,
            "grid_area": null,
            "grid_auto_columns": null,
            "grid_auto_flow": null,
            "grid_auto_rows": null,
            "grid_column": null,
            "grid_gap": null,
            "grid_row": null,
            "grid_template_areas": null,
            "grid_template_columns": null,
            "grid_template_rows": null,
            "height": null,
            "justify_content": null,
            "justify_items": null,
            "left": null,
            "margin": null,
            "max_height": null,
            "max_width": null,
            "min_height": null,
            "min_width": null,
            "object_fit": null,
            "object_position": null,
            "order": null,
            "overflow": null,
            "overflow_x": null,
            "overflow_y": null,
            "padding": null,
            "right": null,
            "top": null,
            "visibility": null,
            "width": null
          }
        },
        "b7e31f6e5f614814871b79868fee997a": {
          "model_module": "@jupyter-widgets/controls",
          "model_name": "ProgressStyleModel",
          "model_module_version": "1.5.0",
          "state": {
            "_model_module": "@jupyter-widgets/controls",
            "_model_module_version": "1.5.0",
            "_model_name": "ProgressStyleModel",
            "_view_count": null,
            "_view_module": "@jupyter-widgets/base",
            "_view_module_version": "1.2.0",
            "_view_name": "StyleView",
            "bar_color": null,
            "description_width": ""
          }
        },
        "9d76f7eaec424593b5c6faebfce935f3": {
          "model_module": "@jupyter-widgets/base",
          "model_name": "LayoutModel",
          "model_module_version": "1.2.0",
          "state": {
            "_model_module": "@jupyter-widgets/base",
            "_model_module_version": "1.2.0",
            "_model_name": "LayoutModel",
            "_view_count": null,
            "_view_module": "@jupyter-widgets/base",
            "_view_module_version": "1.2.0",
            "_view_name": "LayoutView",
            "align_content": null,
            "align_items": null,
            "align_self": null,
            "border": null,
            "bottom": null,
            "display": null,
            "flex": null,
            "flex_flow": null,
            "grid_area": null,
            "grid_auto_columns": null,
            "grid_auto_flow": null,
            "grid_auto_rows": null,
            "grid_column": null,
            "grid_gap": null,
            "grid_row": null,
            "grid_template_areas": null,
            "grid_template_columns": null,
            "grid_template_rows": null,
            "height": null,
            "justify_content": null,
            "justify_items": null,
            "left": null,
            "margin": null,
            "max_height": null,
            "max_width": null,
            "min_height": null,
            "min_width": null,
            "object_fit": null,
            "object_position": null,
            "order": null,
            "overflow": null,
            "overflow_x": null,
            "overflow_y": null,
            "padding": null,
            "right": null,
            "top": null,
            "visibility": null,
            "width": null
          }
        },
        "984cece49a2c41c6a3874f2bbfdccad8": {
          "model_module": "@jupyter-widgets/controls",
          "model_name": "DescriptionStyleModel",
          "model_module_version": "1.5.0",
          "state": {
            "_model_module": "@jupyter-widgets/controls",
            "_model_module_version": "1.5.0",
            "_model_name": "DescriptionStyleModel",
            "_view_count": null,
            "_view_module": "@jupyter-widgets/base",
            "_view_module_version": "1.2.0",
            "_view_name": "StyleView",
            "description_width": ""
          }
        },
        "a543d1d50f5d4a42a06be92d0f059256": {
          "model_module": "@jupyter-widgets/controls",
          "model_name": "HBoxModel",
          "model_module_version": "1.5.0",
          "state": {
            "_dom_classes": [],
            "_model_module": "@jupyter-widgets/controls",
            "_model_module_version": "1.5.0",
            "_model_name": "HBoxModel",
            "_view_count": null,
            "_view_module": "@jupyter-widgets/controls",
            "_view_module_version": "1.5.0",
            "_view_name": "HBoxView",
            "box_style": "",
            "children": [
              "IPY_MODEL_9e56d9a469c044ba8917dff9904d5736",
              "IPY_MODEL_12fb9600071c40d1be090d85b47200da",
              "IPY_MODEL_50dabbb7ced94251816ebbc81c09980f"
            ],
            "layout": "IPY_MODEL_dec96ceaf76a4d568a6cd97b5dc89807"
          }
        },
        "9e56d9a469c044ba8917dff9904d5736": {
          "model_module": "@jupyter-widgets/controls",
          "model_name": "HTMLModel",
          "model_module_version": "1.5.0",
          "state": {
            "_dom_classes": [],
            "_model_module": "@jupyter-widgets/controls",
            "_model_module_version": "1.5.0",
            "_model_name": "HTMLModel",
            "_view_count": null,
            "_view_module": "@jupyter-widgets/controls",
            "_view_module_version": "1.5.0",
            "_view_name": "HTMLView",
            "description": "",
            "description_tooltip": null,
            "layout": "IPY_MODEL_fb90e00e4e6a47599079daabefd3cc1b",
            "placeholder": "​",
            "style": "IPY_MODEL_24fd9f2ac95943ff80fde9c2ee5da617",
            "value": "pytorch_model.bin: 100%"
          }
        },
        "12fb9600071c40d1be090d85b47200da": {
          "model_module": "@jupyter-widgets/controls",
          "model_name": "FloatProgressModel",
          "model_module_version": "1.5.0",
          "state": {
            "_dom_classes": [],
            "_model_module": "@jupyter-widgets/controls",
            "_model_module_version": "1.5.0",
            "_model_name": "FloatProgressModel",
            "_view_count": null,
            "_view_module": "@jupyter-widgets/controls",
            "_view_module_version": "1.5.0",
            "_view_name": "ProgressView",
            "bar_style": "success",
            "description": "",
            "description_tooltip": null,
            "layout": "IPY_MODEL_6247e3b2eab444dba432758d956b7b6b",
            "max": 7515077421,
            "min": 0,
            "orientation": "horizontal",
            "style": "IPY_MODEL_00cfe8e6000346779801fad44d46f5fe",
            "value": 7515077421
          }
        },
        "50dabbb7ced94251816ebbc81c09980f": {
          "model_module": "@jupyter-widgets/controls",
          "model_name": "HTMLModel",
          "model_module_version": "1.5.0",
          "state": {
            "_dom_classes": [],
            "_model_module": "@jupyter-widgets/controls",
            "_model_module_version": "1.5.0",
            "_model_name": "HTMLModel",
            "_view_count": null,
            "_view_module": "@jupyter-widgets/controls",
            "_view_module_version": "1.5.0",
            "_view_name": "HTMLView",
            "description": "",
            "description_tooltip": null,
            "layout": "IPY_MODEL_d9b6045f568747988d35d98c4958e96b",
            "placeholder": "​",
            "style": "IPY_MODEL_4596ebb310cd4bf6ab8b6e76e97048ef",
            "value": " 7.52G/7.52G [02:30&lt;00:00, 62.2MB/s]"
          }
        },
        "dec96ceaf76a4d568a6cd97b5dc89807": {
          "model_module": "@jupyter-widgets/base",
          "model_name": "LayoutModel",
          "model_module_version": "1.2.0",
          "state": {
            "_model_module": "@jupyter-widgets/base",
            "_model_module_version": "1.2.0",
            "_model_name": "LayoutModel",
            "_view_count": null,
            "_view_module": "@jupyter-widgets/base",
            "_view_module_version": "1.2.0",
            "_view_name": "LayoutView",
            "align_content": null,
            "align_items": null,
            "align_self": null,
            "border": null,
            "bottom": null,
            "display": null,
            "flex": null,
            "flex_flow": null,
            "grid_area": null,
            "grid_auto_columns": null,
            "grid_auto_flow": null,
            "grid_auto_rows": null,
            "grid_column": null,
            "grid_gap": null,
            "grid_row": null,
            "grid_template_areas": null,
            "grid_template_columns": null,
            "grid_template_rows": null,
            "height": null,
            "justify_content": null,
            "justify_items": null,
            "left": null,
            "margin": null,
            "max_height": null,
            "max_width": null,
            "min_height": null,
            "min_width": null,
            "object_fit": null,
            "object_position": null,
            "order": null,
            "overflow": null,
            "overflow_x": null,
            "overflow_y": null,
            "padding": null,
            "right": null,
            "top": null,
            "visibility": null,
            "width": null
          }
        },
        "fb90e00e4e6a47599079daabefd3cc1b": {
          "model_module": "@jupyter-widgets/base",
          "model_name": "LayoutModel",
          "model_module_version": "1.2.0",
          "state": {
            "_model_module": "@jupyter-widgets/base",
            "_model_module_version": "1.2.0",
            "_model_name": "LayoutModel",
            "_view_count": null,
            "_view_module": "@jupyter-widgets/base",
            "_view_module_version": "1.2.0",
            "_view_name": "LayoutView",
            "align_content": null,
            "align_items": null,
            "align_self": null,
            "border": null,
            "bottom": null,
            "display": null,
            "flex": null,
            "flex_flow": null,
            "grid_area": null,
            "grid_auto_columns": null,
            "grid_auto_flow": null,
            "grid_auto_rows": null,
            "grid_column": null,
            "grid_gap": null,
            "grid_row": null,
            "grid_template_areas": null,
            "grid_template_columns": null,
            "grid_template_rows": null,
            "height": null,
            "justify_content": null,
            "justify_items": null,
            "left": null,
            "margin": null,
            "max_height": null,
            "max_width": null,
            "min_height": null,
            "min_width": null,
            "object_fit": null,
            "object_position": null,
            "order": null,
            "overflow": null,
            "overflow_x": null,
            "overflow_y": null,
            "padding": null,
            "right": null,
            "top": null,
            "visibility": null,
            "width": null
          }
        },
        "24fd9f2ac95943ff80fde9c2ee5da617": {
          "model_module": "@jupyter-widgets/controls",
          "model_name": "DescriptionStyleModel",
          "model_module_version": "1.5.0",
          "state": {
            "_model_module": "@jupyter-widgets/controls",
            "_model_module_version": "1.5.0",
            "_model_name": "DescriptionStyleModel",
            "_view_count": null,
            "_view_module": "@jupyter-widgets/base",
            "_view_module_version": "1.2.0",
            "_view_name": "StyleView",
            "description_width": ""
          }
        },
        "6247e3b2eab444dba432758d956b7b6b": {
          "model_module": "@jupyter-widgets/base",
          "model_name": "LayoutModel",
          "model_module_version": "1.2.0",
          "state": {
            "_model_module": "@jupyter-widgets/base",
            "_model_module_version": "1.2.0",
            "_model_name": "LayoutModel",
            "_view_count": null,
            "_view_module": "@jupyter-widgets/base",
            "_view_module_version": "1.2.0",
            "_view_name": "LayoutView",
            "align_content": null,
            "align_items": null,
            "align_self": null,
            "border": null,
            "bottom": null,
            "display": null,
            "flex": null,
            "flex_flow": null,
            "grid_area": null,
            "grid_auto_columns": null,
            "grid_auto_flow": null,
            "grid_auto_rows": null,
            "grid_column": null,
            "grid_gap": null,
            "grid_row": null,
            "grid_template_areas": null,
            "grid_template_columns": null,
            "grid_template_rows": null,
            "height": null,
            "justify_content": null,
            "justify_items": null,
            "left": null,
            "margin": null,
            "max_height": null,
            "max_width": null,
            "min_height": null,
            "min_width": null,
            "object_fit": null,
            "object_position": null,
            "order": null,
            "overflow": null,
            "overflow_x": null,
            "overflow_y": null,
            "padding": null,
            "right": null,
            "top": null,
            "visibility": null,
            "width": null
          }
        },
        "00cfe8e6000346779801fad44d46f5fe": {
          "model_module": "@jupyter-widgets/controls",
          "model_name": "ProgressStyleModel",
          "model_module_version": "1.5.0",
          "state": {
            "_model_module": "@jupyter-widgets/controls",
            "_model_module_version": "1.5.0",
            "_model_name": "ProgressStyleModel",
            "_view_count": null,
            "_view_module": "@jupyter-widgets/base",
            "_view_module_version": "1.2.0",
            "_view_name": "StyleView",
            "bar_color": null,
            "description_width": ""
          }
        },
        "d9b6045f568747988d35d98c4958e96b": {
          "model_module": "@jupyter-widgets/base",
          "model_name": "LayoutModel",
          "model_module_version": "1.2.0",
          "state": {
            "_model_module": "@jupyter-widgets/base",
            "_model_module_version": "1.2.0",
            "_model_name": "LayoutModel",
            "_view_count": null,
            "_view_module": "@jupyter-widgets/base",
            "_view_module_version": "1.2.0",
            "_view_name": "LayoutView",
            "align_content": null,
            "align_items": null,
            "align_self": null,
            "border": null,
            "bottom": null,
            "display": null,
            "flex": null,
            "flex_flow": null,
            "grid_area": null,
            "grid_auto_columns": null,
            "grid_auto_flow": null,
            "grid_auto_rows": null,
            "grid_column": null,
            "grid_gap": null,
            "grid_row": null,
            "grid_template_areas": null,
            "grid_template_columns": null,
            "grid_template_rows": null,
            "height": null,
            "justify_content": null,
            "justify_items": null,
            "left": null,
            "margin": null,
            "max_height": null,
            "max_width": null,
            "min_height": null,
            "min_width": null,
            "object_fit": null,
            "object_position": null,
            "order": null,
            "overflow": null,
            "overflow_x": null,
            "overflow_y": null,
            "padding": null,
            "right": null,
            "top": null,
            "visibility": null,
            "width": null
          }
        },
        "4596ebb310cd4bf6ab8b6e76e97048ef": {
          "model_module": "@jupyter-widgets/controls",
          "model_name": "DescriptionStyleModel",
          "model_module_version": "1.5.0",
          "state": {
            "_model_module": "@jupyter-widgets/controls",
            "_model_module_version": "1.5.0",
            "_model_name": "DescriptionStyleModel",
            "_view_count": null,
            "_view_module": "@jupyter-widgets/base",
            "_view_module_version": "1.2.0",
            "_view_name": "StyleView",
            "description_width": ""
          }
        },
        "6807f58e66e64c239f924ae224ea92e0": {
          "model_module": "@jupyter-widgets/controls",
          "model_name": "HBoxModel",
          "model_module_version": "1.5.0",
          "state": {
            "_dom_classes": [],
            "_model_module": "@jupyter-widgets/controls",
            "_model_module_version": "1.5.0",
            "_model_name": "HBoxModel",
            "_view_count": null,
            "_view_module": "@jupyter-widgets/controls",
            "_view_module_version": "1.5.0",
            "_view_name": "HBoxView",
            "box_style": "",
            "children": [
              "IPY_MODEL_d1e896e897434d5c8f0dc05745489d91",
              "IPY_MODEL_307280f17ece441aa34f4e3543eb3d02",
              "IPY_MODEL_e75c85e88d2b4dcd90311fac58eb46cc"
            ],
            "layout": "IPY_MODEL_e9c2a8352c7a4afbbc2c0f1e485463b4"
          }
        },
        "d1e896e897434d5c8f0dc05745489d91": {
          "model_module": "@jupyter-widgets/controls",
          "model_name": "HTMLModel",
          "model_module_version": "1.5.0",
          "state": {
            "_dom_classes": [],
            "_model_module": "@jupyter-widgets/controls",
            "_model_module_version": "1.5.0",
            "_model_name": "HTMLModel",
            "_view_count": null,
            "_view_module": "@jupyter-widgets/controls",
            "_view_module_version": "1.5.0",
            "_view_name": "HTMLView",
            "description": "",
            "description_tooltip": null,
            "layout": "IPY_MODEL_7112db0146124974868c683827523003",
            "placeholder": "​",
            "style": "IPY_MODEL_fddb0b96506f45a2ab9910aba8fde5dc",
            "value": "100%"
          }
        },
        "307280f17ece441aa34f4e3543eb3d02": {
          "model_module": "@jupyter-widgets/controls",
          "model_name": "FloatProgressModel",
          "model_module_version": "1.5.0",
          "state": {
            "_dom_classes": [],
            "_model_module": "@jupyter-widgets/controls",
            "_model_module_version": "1.5.0",
            "_model_name": "FloatProgressModel",
            "_view_count": null,
            "_view_module": "@jupyter-widgets/controls",
            "_view_module_version": "1.5.0",
            "_view_name": "ProgressView",
            "bar_style": "success",
            "description": "",
            "description_tooltip": null,
            "layout": "IPY_MODEL_e199957f60934e5f84a62704722e3851",
            "max": 5670,
            "min": 0,
            "orientation": "horizontal",
            "style": "IPY_MODEL_e6026b80ae674186b5d21821153fd797",
            "value": 5670
          }
        },
        "e75c85e88d2b4dcd90311fac58eb46cc": {
          "model_module": "@jupyter-widgets/controls",
          "model_name": "HTMLModel",
          "model_module_version": "1.5.0",
          "state": {
            "_dom_classes": [],
            "_model_module": "@jupyter-widgets/controls",
            "_model_module_version": "1.5.0",
            "_model_name": "HTMLModel",
            "_view_count": null,
            "_view_module": "@jupyter-widgets/controls",
            "_view_module_version": "1.5.0",
            "_view_name": "HTMLView",
            "description": "",
            "description_tooltip": null,
            "layout": "IPY_MODEL_2bf38765d3394d0da1b7a58e72f515c7",
            "placeholder": "​",
            "style": "IPY_MODEL_d4cf27704ff94762889b32adab61c124",
            "value": " 5670/5670 [10:34&lt;00:00,  8.85it/s]"
          }
        },
        "e9c2a8352c7a4afbbc2c0f1e485463b4": {
          "model_module": "@jupyter-widgets/base",
          "model_name": "LayoutModel",
          "model_module_version": "1.2.0",
          "state": {
            "_model_module": "@jupyter-widgets/base",
            "_model_module_version": "1.2.0",
            "_model_name": "LayoutModel",
            "_view_count": null,
            "_view_module": "@jupyter-widgets/base",
            "_view_module_version": "1.2.0",
            "_view_name": "LayoutView",
            "align_content": null,
            "align_items": null,
            "align_self": null,
            "border": null,
            "bottom": null,
            "display": null,
            "flex": null,
            "flex_flow": null,
            "grid_area": null,
            "grid_auto_columns": null,
            "grid_auto_flow": null,
            "grid_auto_rows": null,
            "grid_column": null,
            "grid_gap": null,
            "grid_row": null,
            "grid_template_areas": null,
            "grid_template_columns": null,
            "grid_template_rows": null,
            "height": null,
            "justify_content": null,
            "justify_items": null,
            "left": null,
            "margin": null,
            "max_height": null,
            "max_width": null,
            "min_height": null,
            "min_width": null,
            "object_fit": null,
            "object_position": null,
            "order": null,
            "overflow": null,
            "overflow_x": null,
            "overflow_y": null,
            "padding": null,
            "right": null,
            "top": null,
            "visibility": null,
            "width": null
          }
        },
        "7112db0146124974868c683827523003": {
          "model_module": "@jupyter-widgets/base",
          "model_name": "LayoutModel",
          "model_module_version": "1.2.0",
          "state": {
            "_model_module": "@jupyter-widgets/base",
            "_model_module_version": "1.2.0",
            "_model_name": "LayoutModel",
            "_view_count": null,
            "_view_module": "@jupyter-widgets/base",
            "_view_module_version": "1.2.0",
            "_view_name": "LayoutView",
            "align_content": null,
            "align_items": null,
            "align_self": null,
            "border": null,
            "bottom": null,
            "display": null,
            "flex": null,
            "flex_flow": null,
            "grid_area": null,
            "grid_auto_columns": null,
            "grid_auto_flow": null,
            "grid_auto_rows": null,
            "grid_column": null,
            "grid_gap": null,
            "grid_row": null,
            "grid_template_areas": null,
            "grid_template_columns": null,
            "grid_template_rows": null,
            "height": null,
            "justify_content": null,
            "justify_items": null,
            "left": null,
            "margin": null,
            "max_height": null,
            "max_width": null,
            "min_height": null,
            "min_width": null,
            "object_fit": null,
            "object_position": null,
            "order": null,
            "overflow": null,
            "overflow_x": null,
            "overflow_y": null,
            "padding": null,
            "right": null,
            "top": null,
            "visibility": null,
            "width": null
          }
        },
        "fddb0b96506f45a2ab9910aba8fde5dc": {
          "model_module": "@jupyter-widgets/controls",
          "model_name": "DescriptionStyleModel",
          "model_module_version": "1.5.0",
          "state": {
            "_model_module": "@jupyter-widgets/controls",
            "_model_module_version": "1.5.0",
            "_model_name": "DescriptionStyleModel",
            "_view_count": null,
            "_view_module": "@jupyter-widgets/base",
            "_view_module_version": "1.2.0",
            "_view_name": "StyleView",
            "description_width": ""
          }
        },
        "e199957f60934e5f84a62704722e3851": {
          "model_module": "@jupyter-widgets/base",
          "model_name": "LayoutModel",
          "model_module_version": "1.2.0",
          "state": {
            "_model_module": "@jupyter-widgets/base",
            "_model_module_version": "1.2.0",
            "_model_name": "LayoutModel",
            "_view_count": null,
            "_view_module": "@jupyter-widgets/base",
            "_view_module_version": "1.2.0",
            "_view_name": "LayoutView",
            "align_content": null,
            "align_items": null,
            "align_self": null,
            "border": null,
            "bottom": null,
            "display": null,
            "flex": null,
            "flex_flow": null,
            "grid_area": null,
            "grid_auto_columns": null,
            "grid_auto_flow": null,
            "grid_auto_rows": null,
            "grid_column": null,
            "grid_gap": null,
            "grid_row": null,
            "grid_template_areas": null,
            "grid_template_columns": null,
            "grid_template_rows": null,
            "height": null,
            "justify_content": null,
            "justify_items": null,
            "left": null,
            "margin": null,
            "max_height": null,
            "max_width": null,
            "min_height": null,
            "min_width": null,
            "object_fit": null,
            "object_position": null,
            "order": null,
            "overflow": null,
            "overflow_x": null,
            "overflow_y": null,
            "padding": null,
            "right": null,
            "top": null,
            "visibility": null,
            "width": null
          }
        },
        "e6026b80ae674186b5d21821153fd797": {
          "model_module": "@jupyter-widgets/controls",
          "model_name": "ProgressStyleModel",
          "model_module_version": "1.5.0",
          "state": {
            "_model_module": "@jupyter-widgets/controls",
            "_model_module_version": "1.5.0",
            "_model_name": "ProgressStyleModel",
            "_view_count": null,
            "_view_module": "@jupyter-widgets/base",
            "_view_module_version": "1.2.0",
            "_view_name": "StyleView",
            "bar_color": null,
            "description_width": ""
          }
        },
        "2bf38765d3394d0da1b7a58e72f515c7": {
          "model_module": "@jupyter-widgets/base",
          "model_name": "LayoutModel",
          "model_module_version": "1.2.0",
          "state": {
            "_model_module": "@jupyter-widgets/base",
            "_model_module_version": "1.2.0",
            "_model_name": "LayoutModel",
            "_view_count": null,
            "_view_module": "@jupyter-widgets/base",
            "_view_module_version": "1.2.0",
            "_view_name": "LayoutView",
            "align_content": null,
            "align_items": null,
            "align_self": null,
            "border": null,
            "bottom": null,
            "display": null,
            "flex": null,
            "flex_flow": null,
            "grid_area": null,
            "grid_auto_columns": null,
            "grid_auto_flow": null,
            "grid_auto_rows": null,
            "grid_column": null,
            "grid_gap": null,
            "grid_row": null,
            "grid_template_areas": null,
            "grid_template_columns": null,
            "grid_template_rows": null,
            "height": null,
            "justify_content": null,
            "justify_items": null,
            "left": null,
            "margin": null,
            "max_height": null,
            "max_width": null,
            "min_height": null,
            "min_width": null,
            "object_fit": null,
            "object_position": null,
            "order": null,
            "overflow": null,
            "overflow_x": null,
            "overflow_y": null,
            "padding": null,
            "right": null,
            "top": null,
            "visibility": null,
            "width": null
          }
        },
        "d4cf27704ff94762889b32adab61c124": {
          "model_module": "@jupyter-widgets/controls",
          "model_name": "DescriptionStyleModel",
          "model_module_version": "1.5.0",
          "state": {
            "_model_module": "@jupyter-widgets/controls",
            "_model_module_version": "1.5.0",
            "_model_name": "DescriptionStyleModel",
            "_view_count": null,
            "_view_module": "@jupyter-widgets/base",
            "_view_module_version": "1.2.0",
            "_view_name": "StyleView",
            "description_width": ""
          }
        },
        "909bfefc3d2d4d539af126fdbb1fa931": {
          "model_module": "@jupyter-widgets/controls",
          "model_name": "HBoxModel",
          "model_module_version": "1.5.0",
          "state": {
            "_dom_classes": [],
            "_model_module": "@jupyter-widgets/controls",
            "_model_module_version": "1.5.0",
            "_model_name": "HBoxModel",
            "_view_count": null,
            "_view_module": "@jupyter-widgets/controls",
            "_view_module_version": "1.5.0",
            "_view_name": "HBoxView",
            "box_style": "",
            "children": [
              "IPY_MODEL_0a19159783ee4896a14cfafe7f9d353f",
              "IPY_MODEL_cc7a9fa6d3d04c669a2e33c13565c485",
              "IPY_MODEL_5dfee50174b644db8a1d993a70d7da7a"
            ],
            "layout": "IPY_MODEL_1e8f1a59c7684c53ad2063fd1bcd2eb1"
          }
        },
        "0a19159783ee4896a14cfafe7f9d353f": {
          "model_module": "@jupyter-widgets/controls",
          "model_name": "HTMLModel",
          "model_module_version": "1.5.0",
          "state": {
            "_dom_classes": [],
            "_model_module": "@jupyter-widgets/controls",
            "_model_module_version": "1.5.0",
            "_model_name": "HTMLModel",
            "_view_count": null,
            "_view_module": "@jupyter-widgets/controls",
            "_view_module_version": "1.5.0",
            "_view_name": "HTMLView",
            "description": "",
            "description_tooltip": null,
            "layout": "IPY_MODEL_bb8ff7d045544b93af7b389f4838a094",
            "placeholder": "​",
            "style": "IPY_MODEL_723795e184ef476ba82c39a17e40c8ef",
            "value": "100%"
          }
        },
        "cc7a9fa6d3d04c669a2e33c13565c485": {
          "model_module": "@jupyter-widgets/controls",
          "model_name": "FloatProgressModel",
          "model_module_version": "1.5.0",
          "state": {
            "_dom_classes": [],
            "_model_module": "@jupyter-widgets/controls",
            "_model_module_version": "1.5.0",
            "_model_name": "FloatProgressModel",
            "_view_count": null,
            "_view_module": "@jupyter-widgets/controls",
            "_view_module_version": "1.5.0",
            "_view_name": "ProgressView",
            "bar_style": "success",
            "description": "",
            "description_tooltip": null,
            "layout": "IPY_MODEL_503dc6c2bc6343edaa57532f4a0aa92d",
            "max": 1356,
            "min": 0,
            "orientation": "horizontal",
            "style": "IPY_MODEL_e3208c1a598c484a8942508956d8596a",
            "value": 1356
          }
        },
        "5dfee50174b644db8a1d993a70d7da7a": {
          "model_module": "@jupyter-widgets/controls",
          "model_name": "HTMLModel",
          "model_module_version": "1.5.0",
          "state": {
            "_dom_classes": [],
            "_model_module": "@jupyter-widgets/controls",
            "_model_module_version": "1.5.0",
            "_model_name": "HTMLModel",
            "_view_count": null,
            "_view_module": "@jupyter-widgets/controls",
            "_view_module_version": "1.5.0",
            "_view_name": "HTMLView",
            "description": "",
            "description_tooltip": null,
            "layout": "IPY_MODEL_3c224faef4f84ef5953ceb87b83dcb78",
            "placeholder": "​",
            "style": "IPY_MODEL_5bfaed4fd07a43ec9578d83d5da5bfc0",
            "value": " 1356/1356 [02:31&lt;00:00,  9.22it/s]"
          }
        },
        "1e8f1a59c7684c53ad2063fd1bcd2eb1": {
          "model_module": "@jupyter-widgets/base",
          "model_name": "LayoutModel",
          "model_module_version": "1.2.0",
          "state": {
            "_model_module": "@jupyter-widgets/base",
            "_model_module_version": "1.2.0",
            "_model_name": "LayoutModel",
            "_view_count": null,
            "_view_module": "@jupyter-widgets/base",
            "_view_module_version": "1.2.0",
            "_view_name": "LayoutView",
            "align_content": null,
            "align_items": null,
            "align_self": null,
            "border": null,
            "bottom": null,
            "display": null,
            "flex": null,
            "flex_flow": null,
            "grid_area": null,
            "grid_auto_columns": null,
            "grid_auto_flow": null,
            "grid_auto_rows": null,
            "grid_column": null,
            "grid_gap": null,
            "grid_row": null,
            "grid_template_areas": null,
            "grid_template_columns": null,
            "grid_template_rows": null,
            "height": null,
            "justify_content": null,
            "justify_items": null,
            "left": null,
            "margin": null,
            "max_height": null,
            "max_width": null,
            "min_height": null,
            "min_width": null,
            "object_fit": null,
            "object_position": null,
            "order": null,
            "overflow": null,
            "overflow_x": null,
            "overflow_y": null,
            "padding": null,
            "right": null,
            "top": null,
            "visibility": null,
            "width": null
          }
        },
        "bb8ff7d045544b93af7b389f4838a094": {
          "model_module": "@jupyter-widgets/base",
          "model_name": "LayoutModel",
          "model_module_version": "1.2.0",
          "state": {
            "_model_module": "@jupyter-widgets/base",
            "_model_module_version": "1.2.0",
            "_model_name": "LayoutModel",
            "_view_count": null,
            "_view_module": "@jupyter-widgets/base",
            "_view_module_version": "1.2.0",
            "_view_name": "LayoutView",
            "align_content": null,
            "align_items": null,
            "align_self": null,
            "border": null,
            "bottom": null,
            "display": null,
            "flex": null,
            "flex_flow": null,
            "grid_area": null,
            "grid_auto_columns": null,
            "grid_auto_flow": null,
            "grid_auto_rows": null,
            "grid_column": null,
            "grid_gap": null,
            "grid_row": null,
            "grid_template_areas": null,
            "grid_template_columns": null,
            "grid_template_rows": null,
            "height": null,
            "justify_content": null,
            "justify_items": null,
            "left": null,
            "margin": null,
            "max_height": null,
            "max_width": null,
            "min_height": null,
            "min_width": null,
            "object_fit": null,
            "object_position": null,
            "order": null,
            "overflow": null,
            "overflow_x": null,
            "overflow_y": null,
            "padding": null,
            "right": null,
            "top": null,
            "visibility": null,
            "width": null
          }
        },
        "723795e184ef476ba82c39a17e40c8ef": {
          "model_module": "@jupyter-widgets/controls",
          "model_name": "DescriptionStyleModel",
          "model_module_version": "1.5.0",
          "state": {
            "_model_module": "@jupyter-widgets/controls",
            "_model_module_version": "1.5.0",
            "_model_name": "DescriptionStyleModel",
            "_view_count": null,
            "_view_module": "@jupyter-widgets/base",
            "_view_module_version": "1.2.0",
            "_view_name": "StyleView",
            "description_width": ""
          }
        },
        "503dc6c2bc6343edaa57532f4a0aa92d": {
          "model_module": "@jupyter-widgets/base",
          "model_name": "LayoutModel",
          "model_module_version": "1.2.0",
          "state": {
            "_model_module": "@jupyter-widgets/base",
            "_model_module_version": "1.2.0",
            "_model_name": "LayoutModel",
            "_view_count": null,
            "_view_module": "@jupyter-widgets/base",
            "_view_module_version": "1.2.0",
            "_view_name": "LayoutView",
            "align_content": null,
            "align_items": null,
            "align_self": null,
            "border": null,
            "bottom": null,
            "display": null,
            "flex": null,
            "flex_flow": null,
            "grid_area": null,
            "grid_auto_columns": null,
            "grid_auto_flow": null,
            "grid_auto_rows": null,
            "grid_column": null,
            "grid_gap": null,
            "grid_row": null,
            "grid_template_areas": null,
            "grid_template_columns": null,
            "grid_template_rows": null,
            "height": null,
            "justify_content": null,
            "justify_items": null,
            "left": null,
            "margin": null,
            "max_height": null,
            "max_width": null,
            "min_height": null,
            "min_width": null,
            "object_fit": null,
            "object_position": null,
            "order": null,
            "overflow": null,
            "overflow_x": null,
            "overflow_y": null,
            "padding": null,
            "right": null,
            "top": null,
            "visibility": null,
            "width": null
          }
        },
        "e3208c1a598c484a8942508956d8596a": {
          "model_module": "@jupyter-widgets/controls",
          "model_name": "ProgressStyleModel",
          "model_module_version": "1.5.0",
          "state": {
            "_model_module": "@jupyter-widgets/controls",
            "_model_module_version": "1.5.0",
            "_model_name": "ProgressStyleModel",
            "_view_count": null,
            "_view_module": "@jupyter-widgets/base",
            "_view_module_version": "1.2.0",
            "_view_name": "StyleView",
            "bar_color": null,
            "description_width": ""
          }
        },
        "3c224faef4f84ef5953ceb87b83dcb78": {
          "model_module": "@jupyter-widgets/base",
          "model_name": "LayoutModel",
          "model_module_version": "1.2.0",
          "state": {
            "_model_module": "@jupyter-widgets/base",
            "_model_module_version": "1.2.0",
            "_model_name": "LayoutModel",
            "_view_count": null,
            "_view_module": "@jupyter-widgets/base",
            "_view_module_version": "1.2.0",
            "_view_name": "LayoutView",
            "align_content": null,
            "align_items": null,
            "align_self": null,
            "border": null,
            "bottom": null,
            "display": null,
            "flex": null,
            "flex_flow": null,
            "grid_area": null,
            "grid_auto_columns": null,
            "grid_auto_flow": null,
            "grid_auto_rows": null,
            "grid_column": null,
            "grid_gap": null,
            "grid_row": null,
            "grid_template_areas": null,
            "grid_template_columns": null,
            "grid_template_rows": null,
            "height": null,
            "justify_content": null,
            "justify_items": null,
            "left": null,
            "margin": null,
            "max_height": null,
            "max_width": null,
            "min_height": null,
            "min_width": null,
            "object_fit": null,
            "object_position": null,
            "order": null,
            "overflow": null,
            "overflow_x": null,
            "overflow_y": null,
            "padding": null,
            "right": null,
            "top": null,
            "visibility": null,
            "width": null
          }
        },
        "5bfaed4fd07a43ec9578d83d5da5bfc0": {
          "model_module": "@jupyter-widgets/controls",
          "model_name": "DescriptionStyleModel",
          "model_module_version": "1.5.0",
          "state": {
            "_model_module": "@jupyter-widgets/controls",
            "_model_module_version": "1.5.0",
            "_model_name": "DescriptionStyleModel",
            "_view_count": null,
            "_view_module": "@jupyter-widgets/base",
            "_view_module_version": "1.2.0",
            "_view_name": "StyleView",
            "description_width": ""
          }
        }
      }
    }
  },
  "nbformat": 4,
  "nbformat_minor": 5
}